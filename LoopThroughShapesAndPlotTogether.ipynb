{
 "cells": [
  {
   "cell_type": "code",
   "execution_count": 1,
   "metadata": {},
   "outputs": [
    {
     "name": "stdout",
     "output_type": "stream",
     "text": [
      "3.3.1\n"
     ]
    }
   ],
   "source": [
    "import pandas as pd\n",
    "import glob\n",
    "import matplotlib.pyplot as plt\n",
    "import cv2\n",
    "print(cv2.__version__)\n",
    "import numpy as np"
   ]
  },
  {
   "cell_type": "code",
   "execution_count": 2,
   "metadata": {},
   "outputs": [
    {
     "data": {
      "text/html": [
       "<div>\n",
       "<style scoped>\n",
       "    .dataframe tbody tr th:only-of-type {\n",
       "        vertical-align: middle;\n",
       "    }\n",
       "\n",
       "    .dataframe tbody tr th {\n",
       "        vertical-align: top;\n",
       "    }\n",
       "\n",
       "    .dataframe thead th {\n",
       "        text-align: right;\n",
       "    }\n",
       "</style>\n",
       "<table border=\"1\" class=\"dataframe\">\n",
       "  <thead>\n",
       "    <tr style=\"text-align: right;\">\n",
       "      <th></th>\n",
       "      <th>Name</th>\n",
       "      <th>Date</th>\n",
       "      <th>trial</th>\n",
       "      <th>Start</th>\n",
       "      <th>Frame Start</th>\n",
       "      <th>Digitized Start</th>\n",
       "      <th>Stop</th>\n",
       "      <th>Frame Stop</th>\n",
       "      <th>Digitized Stop</th>\n",
       "    </tr>\n",
       "  </thead>\n",
       "  <tbody>\n",
       "    <tr>\n",
       "      <th>0</th>\n",
       "      <td>c-1_m13</td>\n",
       "      <td>2018-03-13</td>\n",
       "      <td>0</td>\n",
       "      <td>11:15:00</td>\n",
       "      <td>20070</td>\n",
       "      <td>20455</td>\n",
       "      <td>12:00:00</td>\n",
       "      <td>21600</td>\n",
       "      <td>21200</td>\n",
       "    </tr>\n",
       "    <tr>\n",
       "      <th>1</th>\n",
       "      <td>c-1_m13</td>\n",
       "      <td>2018-03-13</td>\n",
       "      <td>last</td>\n",
       "      <td>1900-01-01 16:25:00</td>\n",
       "      <td>72450</td>\n",
       "      <td>72930</td>\n",
       "      <td>1900-01-01 17:09:00</td>\n",
       "      <td>73962</td>\n",
       "      <td>73020</td>\n",
       "    </tr>\n",
       "    <tr>\n",
       "      <th>2</th>\n",
       "      <td>c-2_m5</td>\n",
       "      <td>2018-02-20</td>\n",
       "      <td>0</td>\n",
       "      <td>12:40:00</td>\n",
       "      <td>22320</td>\n",
       "      <td>22910</td>\n",
       "      <td>13:34:00</td>\n",
       "      <td>24012</td>\n",
       "      <td>23660</td>\n",
       "    </tr>\n",
       "    <tr>\n",
       "      <th>3</th>\n",
       "      <td>c-2_m5</td>\n",
       "      <td>2018-02-20</td>\n",
       "      <td>last</td>\n",
       "      <td>1900-01-01 11:10:00</td>\n",
       "      <td>63180</td>\n",
       "      <td>63540</td>\n",
       "      <td>1900-01-01 11:42:00</td>\n",
       "      <td>63756</td>\n",
       "      <td>63630</td>\n",
       "    </tr>\n",
       "    <tr>\n",
       "      <th>4</th>\n",
       "      <td>c-3_m10</td>\n",
       "      <td>2018-03-01</td>\n",
       "      <td>0</td>\n",
       "      <td>11:15:00</td>\n",
       "      <td>20070</td>\n",
       "      <td>20390</td>\n",
       "      <td>12:02:00</td>\n",
       "      <td>21636</td>\n",
       "      <td>21150</td>\n",
       "    </tr>\n",
       "  </tbody>\n",
       "</table>\n",
       "</div>"
      ],
      "text/plain": [
       "      Name       Date trial                Start  Frame Start  \\\n",
       "0  c-1_m13 2018-03-13     0             11:15:00        20070   \n",
       "1  c-1_m13 2018-03-13  last  1900-01-01 16:25:00        72450   \n",
       "2   c-2_m5 2018-02-20     0             12:40:00        22320   \n",
       "3   c-2_m5 2018-02-20  last  1900-01-01 11:10:00        63180   \n",
       "4  c-3_m10 2018-03-01     0             11:15:00        20070   \n",
       "\n",
       "   Digitized Start                 Stop  Frame Stop  Digitized Stop  \n",
       "0            20455             12:00:00       21600           21200  \n",
       "1            72930  1900-01-01 17:09:00       73962           73020  \n",
       "2            22910             13:34:00       24012           23660  \n",
       "3            63540  1900-01-01 11:42:00       63756           63630  \n",
       "4            20390             12:02:00       21636           21150  "
      ]
     },
     "execution_count": 2,
     "metadata": {},
     "output_type": "execute_result"
    }
   ],
   "source": [
    "path = \"D:\\Moth Learning Project\\Flower shape Experiment Data\\TipManualDigitization\"\n",
    "trackframe_filename = 'ManualTipTRacking_DigitizingChart.xlsx'\n",
    "frameInfo = pd.read_excel(path + \"\\\\\" + trackframe_filename)\n",
    "frameInfo.head()"
   ]
  },
  {
   "cell_type": "code",
   "execution_count": 3,
   "metadata": {},
   "outputs": [
    {
     "data": {
      "text/plain": [
       "array(['c-1_m13', 'c-2_m5', 'c-3_m10', 'c-10_m11'], dtype=object)"
      ]
     },
     "execution_count": 3,
     "metadata": {},
     "output_type": "execute_result"
    }
   ],
   "source": [
    "frameInfo.Name.unique()"
   ]
  },
  {
   "cell_type": "code",
   "execution_count": null,
   "metadata": {},
   "outputs": [],
   "source": []
  }
 ],
 "metadata": {
  "kernelspec": {
   "display_name": "Python 3",
   "language": "python",
   "name": "python3"
  },
  "language_info": {
   "codemirror_mode": {
    "name": "ipython",
    "version": 3
   },
   "file_extension": ".py",
   "mimetype": "text/x-python",
   "name": "python",
   "nbconvert_exporter": "python",
   "pygments_lexer": "ipython3",
   "version": "3.6.5"
  }
 },
 "nbformat": 4,
 "nbformat_minor": 2
}
