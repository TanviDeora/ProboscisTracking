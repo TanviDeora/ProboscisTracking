{
 "cells": [
  {
   "cell_type": "code",
   "execution_count": 1,
   "metadata": {},
   "outputs": [
    {
     "name": "stdout",
     "output_type": "stream",
     "text": [
      "3.3.1\n"
     ]
    }
   ],
   "source": [
    "import pandas as pd\n",
    "import glob\n",
    "import matplotlib.pyplot as plt\n",
    "import cv2\n",
    "print(cv2.__version__)\n",
    "import numpy as np\n",
    "from moviepy.editor import *"
   ]
  },
  {
   "cell_type": "code",
   "execution_count": 2,
   "metadata": {},
   "outputs": [
    {
     "data": {
      "text/html": [
       "<div>\n",
       "<style scoped>\n",
       "    .dataframe tbody tr th:only-of-type {\n",
       "        vertical-align: middle;\n",
       "    }\n",
       "\n",
       "    .dataframe tbody tr th {\n",
       "        vertical-align: top;\n",
       "    }\n",
       "\n",
       "    .dataframe thead th {\n",
       "        text-align: right;\n",
       "    }\n",
       "</style>\n",
       "<table border=\"1\" class=\"dataframe\">\n",
       "  <thead>\n",
       "    <tr style=\"text-align: right;\">\n",
       "      <th></th>\n",
       "      <th>Name</th>\n",
       "      <th>Date</th>\n",
       "      <th>trial</th>\n",
       "      <th>Start</th>\n",
       "      <th>Frame Start</th>\n",
       "      <th>Digitized Start</th>\n",
       "      <th>Stop</th>\n",
       "      <th>Frame Stop</th>\n",
       "      <th>Digitized Stop</th>\n",
       "    </tr>\n",
       "  </thead>\n",
       "  <tbody>\n",
       "    <tr>\n",
       "      <th>0</th>\n",
       "      <td>c-1_m13</td>\n",
       "      <td>2018-03-13</td>\n",
       "      <td>0</td>\n",
       "      <td>11:15:00</td>\n",
       "      <td>20070</td>\n",
       "      <td>20455</td>\n",
       "      <td>12:00:00</td>\n",
       "      <td>21600.0</td>\n",
       "      <td>21200</td>\n",
       "    </tr>\n",
       "    <tr>\n",
       "      <th>1</th>\n",
       "      <td>c-1_m13</td>\n",
       "      <td>2018-03-13</td>\n",
       "      <td>last</td>\n",
       "      <td>1900-01-01 16:25:00</td>\n",
       "      <td>72450</td>\n",
       "      <td>72930</td>\n",
       "      <td>1900-01-01 17:09:00</td>\n",
       "      <td>73962.0</td>\n",
       "      <td>73020</td>\n",
       "    </tr>\n",
       "    <tr>\n",
       "      <th>2</th>\n",
       "      <td>c-2_m5</td>\n",
       "      <td>2018-02-20</td>\n",
       "      <td>0</td>\n",
       "      <td>12:40:00</td>\n",
       "      <td>22320</td>\n",
       "      <td>22910</td>\n",
       "      <td>13:34:00</td>\n",
       "      <td>24012.0</td>\n",
       "      <td>23660</td>\n",
       "    </tr>\n",
       "    <tr>\n",
       "      <th>3</th>\n",
       "      <td>c-2_m5</td>\n",
       "      <td>2018-02-20</td>\n",
       "      <td>last</td>\n",
       "      <td>1900-01-01 11:10:00</td>\n",
       "      <td>63180</td>\n",
       "      <td>63540</td>\n",
       "      <td>1900-01-01 11:42:00</td>\n",
       "      <td>63756.0</td>\n",
       "      <td>63630</td>\n",
       "    </tr>\n",
       "    <tr>\n",
       "      <th>4</th>\n",
       "      <td>c-3_m10</td>\n",
       "      <td>2018-03-01</td>\n",
       "      <td>0</td>\n",
       "      <td>11:15:00</td>\n",
       "      <td>20070</td>\n",
       "      <td>20390</td>\n",
       "      <td>12:02:00</td>\n",
       "      <td>21636.0</td>\n",
       "      <td>21150</td>\n",
       "    </tr>\n",
       "  </tbody>\n",
       "</table>\n",
       "</div>"
      ],
      "text/plain": [
       "      Name       Date trial                Start  Frame Start  \\\n",
       "0  c-1_m13 2018-03-13     0             11:15:00        20070   \n",
       "1  c-1_m13 2018-03-13  last  1900-01-01 16:25:00        72450   \n",
       "2   c-2_m5 2018-02-20     0             12:40:00        22320   \n",
       "3   c-2_m5 2018-02-20  last  1900-01-01 11:10:00        63180   \n",
       "4  c-3_m10 2018-03-01     0             11:15:00        20070   \n",
       "\n",
       "   Digitized Start                 Stop  Frame Stop  Digitized Stop  \n",
       "0            20455             12:00:00     21600.0           21200  \n",
       "1            72930  1900-01-01 17:09:00     73962.0           73020  \n",
       "2            22910             13:34:00     24012.0           23660  \n",
       "3            63540  1900-01-01 11:42:00     63756.0           63630  \n",
       "4            20390             12:02:00     21636.0           21150  "
      ]
     },
     "execution_count": 2,
     "metadata": {},
     "output_type": "execute_result"
    }
   ],
   "source": [
    "path = \"G:\\My Drive\\Tom-Tanvi\\Shared With Bing,Tom and Tanvi\\Moth Annotations\\Tip Manual Digitization\"\n",
    "trackframe_filename = 'ManualTipTracking_DigitizingChart.xlsx'\n",
    "frameInfo = pd.read_excel(path + \"\\\\\" + trackframe_filename)\n",
    "frameInfo.head()"
   ]
  },
  {
   "cell_type": "code",
   "execution_count": 3,
   "metadata": {},
   "outputs": [],
   "source": [
    "export_vid_path = \"../dataFolders/ManuallyAnnotatedVideos/\""
   ]
  },
  {
   "cell_type": "code",
   "execution_count": 4,
   "metadata": {},
   "outputs": [
    {
     "data": {
      "text/plain": [
       "array(['c-1_m13', 'c-2_m5', 'c-3_m10', 'c-10_m11', 'c-1_m2', 'c-1_m6',\n",
       "       'c-2_m1', 'c-2_m11', 'c-3_m1', 'c-3_m6', 'c-10_m3', 'c-10_m6'],\n",
       "      dtype=object)"
      ]
     },
     "execution_count": 4,
     "metadata": {},
     "output_type": "execute_result"
    }
   ],
   "source": [
    "frameInfo.Name.unique()"
   ]
  },
  {
   "cell_type": "code",
   "execution_count": 5,
   "metadata": {},
   "outputs": [],
   "source": [
    "# get the videos\n",
    "\n",
    "pathForVideo = \"G:\\My Drive\\Flower shape Experiment Data\\RawVideoData\""
   ]
  },
  {
   "cell_type": "code",
   "execution_count": 6,
   "metadata": {},
   "outputs": [
    {
     "name": "stdout",
     "output_type": "stream",
     "text": [
      "[MoviePy] >>>> Building video ../dataFolders/ManuallyAnnotatedVideos/c-1_m13_first_trial.mp4\n",
      "[MoviePy] Writing video ../dataFolders/ManuallyAnnotatedVideos/c-1_m13_first_trial.mp4\n"
     ]
    },
    {
     "name": "stderr",
     "output_type": "stream",
     "text": [
      "100%|███████████████████████████████████████████████████████████████████████████████| 745/745 [00:05<00:00, 148.30it/s]\n"
     ]
    },
    {
     "name": "stdout",
     "output_type": "stream",
     "text": [
      "[MoviePy] Done.\n",
      "[MoviePy] >>>> Video ready: ../dataFolders/ManuallyAnnotatedVideos/c-1_m13_first_trial.mp4 \n",
      "\n",
      "[MoviePy] >>>> Building video ../dataFolders/ManuallyAnnotatedVideos/c-1_m13_last_trial.mp4\n",
      "[MoviePy] Writing video ../dataFolders/ManuallyAnnotatedVideos/c-1_m13_last_trial.mp4\n"
     ]
    },
    {
     "name": "stderr",
     "output_type": "stream",
     "text": [
      " 99%|█████████████████████████████████████████████████████████████████████████████████ | 90/91 [00:00<00:00, 91.65it/s]\n"
     ]
    },
    {
     "name": "stdout",
     "output_type": "stream",
     "text": [
      "[MoviePy] Done.\n",
      "[MoviePy] >>>> Video ready: ../dataFolders/ManuallyAnnotatedVideos/c-1_m13_last_trial.mp4 \n",
      "\n",
      "[MoviePy] >>>> Building video ../dataFolders/ManuallyAnnotatedVideos/c-2_m5_first_trial.mp4\n",
      "[MoviePy] Writing video ../dataFolders/ManuallyAnnotatedVideos/c-2_m5_first_trial.mp4\n"
     ]
    },
    {
     "name": "stderr",
     "output_type": "stream",
     "text": [
      "100%|██████████████████████████████████████████████████████████████████████████████▉| 750/751 [00:05<00:00, 126.52it/s]\n"
     ]
    },
    {
     "name": "stdout",
     "output_type": "stream",
     "text": [
      "[MoviePy] Done.\n",
      "[MoviePy] >>>> Video ready: ../dataFolders/ManuallyAnnotatedVideos/c-2_m5_first_trial.mp4 \n",
      "\n",
      "[MoviePy] >>>> Building video ../dataFolders/ManuallyAnnotatedVideos/c-2_m5_last_trial.mp4\n",
      "[MoviePy] Writing video ../dataFolders/ManuallyAnnotatedVideos/c-2_m5_last_trial.mp4\n"
     ]
    },
    {
     "name": "stderr",
     "output_type": "stream",
     "text": [
      " 99%|████████████████████████████████████████████████████████████████████████████████ | 90/91 [00:00<00:00, 174.38it/s]\n"
     ]
    },
    {
     "name": "stdout",
     "output_type": "stream",
     "text": [
      "[MoviePy] Done.\n",
      "[MoviePy] >>>> Video ready: ../dataFolders/ManuallyAnnotatedVideos/c-2_m5_last_trial.mp4 \n",
      "\n",
      "[MoviePy] >>>> Building video ../dataFolders/ManuallyAnnotatedVideos/c-3_m10_first_trial.mp4\n",
      "[MoviePy] Writing video ../dataFolders/ManuallyAnnotatedVideos/c-3_m10_first_trial.mp4\n"
     ]
    },
    {
     "name": "stderr",
     "output_type": "stream",
     "text": [
      "100%|███████████████████████████████████████████████████████████████████████████████| 761/761 [00:05<00:00, 151.35it/s]\n"
     ]
    },
    {
     "name": "stdout",
     "output_type": "stream",
     "text": [
      "[MoviePy] Done.\n",
      "[MoviePy] >>>> Video ready: ../dataFolders/ManuallyAnnotatedVideos/c-3_m10_first_trial.mp4 \n",
      "\n",
      "[MoviePy] >>>> Building video ../dataFolders/ManuallyAnnotatedVideos/c-3_m10_last_trial.mp4\n",
      "[MoviePy] Writing video ../dataFolders/ManuallyAnnotatedVideos/c-3_m10_last_trial.mp4\n"
     ]
    },
    {
     "name": "stderr",
     "output_type": "stream",
     "text": [
      "100%|███████████████████████████████████████████████████████████████████████████████| 101/101 [00:01<00:00, 100.72it/s]\n"
     ]
    },
    {
     "name": "stdout",
     "output_type": "stream",
     "text": [
      "[MoviePy] Done.\n",
      "[MoviePy] >>>> Video ready: ../dataFolders/ManuallyAnnotatedVideos/c-3_m10_last_trial.mp4 \n",
      "\n",
      "[MoviePy] >>>> Building video ../dataFolders/ManuallyAnnotatedVideos/c-10_m11_first_trial.mp4\n",
      "[MoviePy] Writing video ../dataFolders/ManuallyAnnotatedVideos/c-10_m11_first_trial.mp4\n"
     ]
    },
    {
     "name": "stderr",
     "output_type": "stream",
     "text": [
      "100%|█████████████████████████████████████████████████████████████████████████████| 1420/1420 [00:09<00:00, 145.22it/s]\n"
     ]
    },
    {
     "name": "stdout",
     "output_type": "stream",
     "text": [
      "[MoviePy] Done.\n",
      "[MoviePy] >>>> Video ready: ../dataFolders/ManuallyAnnotatedVideos/c-10_m11_first_trial.mp4 \n",
      "\n",
      "[MoviePy] >>>> Building video ../dataFolders/ManuallyAnnotatedVideos/c-10_m11_last_trial.mp4\n",
      "[MoviePy] Writing video ../dataFolders/ManuallyAnnotatedVideos/c-10_m11_last_trial.mp4\n"
     ]
    },
    {
     "name": "stderr",
     "output_type": "stream",
     "text": [
      "100%|██████████████████████████████████████████████████████████████████████████████▉| 660/661 [00:04<00:00, 141.14it/s]\n"
     ]
    },
    {
     "name": "stdout",
     "output_type": "stream",
     "text": [
      "[MoviePy] Done.\n",
      "[MoviePy] >>>> Video ready: ../dataFolders/ManuallyAnnotatedVideos/c-10_m11_last_trial.mp4 \n",
      "\n",
      "[MoviePy] >>>> Building video ../dataFolders/ManuallyAnnotatedVideos/c-1_m2_first_trial.mp4\n",
      "[MoviePy] Writing video ../dataFolders/ManuallyAnnotatedVideos/c-1_m2_first_trial.mp4\n"
     ]
    },
    {
     "name": "stderr",
     "output_type": "stream",
     "text": [
      "100%|█████████████████████████████████████████████████████████████████████████████████| 81/81 [00:00<00:00, 177.72it/s]\n"
     ]
    },
    {
     "name": "stdout",
     "output_type": "stream",
     "text": [
      "[MoviePy] Done.\n",
      "[MoviePy] >>>> Video ready: ../dataFolders/ManuallyAnnotatedVideos/c-1_m2_first_trial.mp4 \n",
      "\n",
      "[MoviePy] >>>> Building video ../dataFolders/ManuallyAnnotatedVideos/c-1_m2_last_trial.mp4\n",
      "[MoviePy] Writing video ../dataFolders/ManuallyAnnotatedVideos/c-1_m2_last_trial.mp4\n"
     ]
    },
    {
     "name": "stderr",
     "output_type": "stream",
     "text": [
      "100%|███████████████████████████████████████████████████████████████████████████████| 101/101 [00:00<00:00, 102.54it/s]\n"
     ]
    },
    {
     "name": "stdout",
     "output_type": "stream",
     "text": [
      "[MoviePy] Done.\n",
      "[MoviePy] >>>> Video ready: ../dataFolders/ManuallyAnnotatedVideos/c-1_m2_last_trial.mp4 \n",
      "\n",
      "[MoviePy] >>>> Building video ../dataFolders/ManuallyAnnotatedVideos/c-1_m6_first_trial.mp4\n",
      "[MoviePy] Writing video ../dataFolders/ManuallyAnnotatedVideos/c-1_m6_first_trial.mp4\n"
     ]
    },
    {
     "name": "stderr",
     "output_type": "stream",
     "text": [
      "100%|███████████████████████████████████████████████████████████████████████████████| 280/280 [00:02<00:00, 137.50it/s]\n"
     ]
    },
    {
     "name": "stdout",
     "output_type": "stream",
     "text": [
      "[MoviePy] Done.\n",
      "[MoviePy] >>>> Video ready: ../dataFolders/ManuallyAnnotatedVideos/c-1_m6_first_trial.mp4 \n",
      "\n",
      "[MoviePy] >>>> Building video ../dataFolders/ManuallyAnnotatedVideos/c-1_m6_last_trial.mp4\n",
      "[MoviePy] Writing video ../dataFolders/ManuallyAnnotatedVideos/c-1_m6_last_trial.mp4\n"
     ]
    },
    {
     "name": "stderr",
     "output_type": "stream",
     "text": [
      "100%|█████████████████████████████████████████████████████████████████████████████████| 70/70 [00:00<00:00, 111.40it/s]\n"
     ]
    },
    {
     "name": "stdout",
     "output_type": "stream",
     "text": [
      "[MoviePy] Done.\n",
      "[MoviePy] >>>> Video ready: ../dataFolders/ManuallyAnnotatedVideos/c-1_m6_last_trial.mp4 \n",
      "\n",
      "[MoviePy] >>>> Building video ../dataFolders/ManuallyAnnotatedVideos/c-2_m1_first_trial.mp4\n",
      "[MoviePy] Writing video ../dataFolders/ManuallyAnnotatedVideos/c-2_m1_first_trial.mp4\n"
     ]
    },
    {
     "name": "stderr",
     "output_type": "stream",
     "text": [
      "100%|███████████████████████████████████████████████████████████████████████████████| 191/191 [00:01<00:00, 157.42it/s]\n"
     ]
    },
    {
     "name": "stdout",
     "output_type": "stream",
     "text": [
      "[MoviePy] Done.\n",
      "[MoviePy] >>>> Video ready: ../dataFolders/ManuallyAnnotatedVideos/c-2_m1_first_trial.mp4 \n",
      "\n",
      "[MoviePy] >>>> Building video ../dataFolders/ManuallyAnnotatedVideos/c-2_m1_last_trial.mp4\n",
      "[MoviePy] Writing video ../dataFolders/ManuallyAnnotatedVideos/c-2_m1_last_trial.mp4\n"
     ]
    },
    {
     "name": "stderr",
     "output_type": "stream",
     "text": [
      "100%|█████████████████████████████████████████████████████████████████████████████████| 80/80 [00:00<00:00, 125.23it/s]\n"
     ]
    },
    {
     "name": "stdout",
     "output_type": "stream",
     "text": [
      "[MoviePy] Done.\n",
      "[MoviePy] >>>> Video ready: ../dataFolders/ManuallyAnnotatedVideos/c-2_m1_last_trial.mp4 \n",
      "\n",
      "[MoviePy] >>>> Building video ../dataFolders/ManuallyAnnotatedVideos/c-2_m11_first_trial.mp4\n",
      "[MoviePy] Writing video ../dataFolders/ManuallyAnnotatedVideos/c-2_m11_first_trial.mp4\n"
     ]
    },
    {
     "name": "stderr",
     "output_type": "stream",
     "text": [
      "100%|██████████████████████████████████████████████████████████████████████████████▊| 510/511 [00:03<00:00, 134.01it/s]\n"
     ]
    },
    {
     "name": "stdout",
     "output_type": "stream",
     "text": [
      "[MoviePy] Done.\n",
      "[MoviePy] >>>> Video ready: ../dataFolders/ManuallyAnnotatedVideos/c-2_m11_first_trial.mp4 \n",
      "\n",
      "[MoviePy] >>>> Building video ../dataFolders/ManuallyAnnotatedVideos/c-2_m11_last_trial.mp4\n",
      "[MoviePy] Writing video ../dataFolders/ManuallyAnnotatedVideos/c-2_m11_last_trial.mp4\n"
     ]
    },
    {
     "name": "stderr",
     "output_type": "stream",
     "text": [
      "100%|███████████████████████████████████████████████████████████████████████████████| 101/101 [00:00<00:00, 112.89it/s]\n"
     ]
    },
    {
     "name": "stdout",
     "output_type": "stream",
     "text": [
      "[MoviePy] Done.\n",
      "[MoviePy] >>>> Video ready: ../dataFolders/ManuallyAnnotatedVideos/c-2_m11_last_trial.mp4 \n",
      "\n",
      "[MoviePy] >>>> Building video ../dataFolders/ManuallyAnnotatedVideos/c-3_m1_first_trial.mp4\n",
      "[MoviePy] Writing video ../dataFolders/ManuallyAnnotatedVideos/c-3_m1_first_trial.mp4\n"
     ]
    },
    {
     "name": "stderr",
     "output_type": "stream",
     "text": [
      "100%|███████████████████████████████████████████████████████████████████████████████| 101/101 [00:00<00:00, 145.29it/s]\n"
     ]
    },
    {
     "name": "stdout",
     "output_type": "stream",
     "text": [
      "[MoviePy] Done.\n",
      "[MoviePy] >>>> Video ready: ../dataFolders/ManuallyAnnotatedVideos/c-3_m1_first_trial.mp4 \n",
      "\n",
      "[MoviePy] >>>> Building video ../dataFolders/ManuallyAnnotatedVideos/c-3_m1_last_trial.mp4\n",
      "[MoviePy] Writing video ../dataFolders/ManuallyAnnotatedVideos/c-3_m1_last_trial.mp4\n"
     ]
    },
    {
     "name": "stderr",
     "output_type": "stream",
     "text": [
      "100%|█████████████████████████████████████████████████████████████████████████████████| 86/86 [00:00<00:00, 165.97it/s]\n"
     ]
    },
    {
     "name": "stdout",
     "output_type": "stream",
     "text": [
      "[MoviePy] Done.\n",
      "[MoviePy] >>>> Video ready: ../dataFolders/ManuallyAnnotatedVideos/c-3_m1_last_trial.mp4 \n",
      "\n",
      "[MoviePy] >>>> Building video ../dataFolders/ManuallyAnnotatedVideos/c-3_m6_first_trial.mp4\n",
      "[MoviePy] Writing video ../dataFolders/ManuallyAnnotatedVideos/c-3_m6_first_trial.mp4\n"
     ]
    },
    {
     "name": "stderr",
     "output_type": "stream",
     "text": [
      "100%|██████████████████████████████████████████████████████████████████████████████▊| 510/511 [00:03<00:00, 155.26it/s]\n"
     ]
    },
    {
     "name": "stdout",
     "output_type": "stream",
     "text": [
      "[MoviePy] Done.\n",
      "[MoviePy] >>>> Video ready: ../dataFolders/ManuallyAnnotatedVideos/c-3_m6_first_trial.mp4 \n",
      "\n",
      "[MoviePy] >>>> Building video ../dataFolders/ManuallyAnnotatedVideos/c-3_m6_last_trial.mp4\n",
      "[MoviePy] Writing video ../dataFolders/ManuallyAnnotatedVideos/c-3_m6_last_trial.mp4\n"
     ]
    },
    {
     "name": "stderr",
     "output_type": "stream",
     "text": [
      "100%|███████████████████████████████████████████████████████████████████████████████| 145/145 [00:01<00:00, 137.28it/s]\n"
     ]
    },
    {
     "name": "stdout",
     "output_type": "stream",
     "text": [
      "[MoviePy] Done.\n",
      "[MoviePy] >>>> Video ready: ../dataFolders/ManuallyAnnotatedVideos/c-3_m6_last_trial.mp4 \n",
      "\n",
      "[MoviePy] >>>> Building video ../dataFolders/ManuallyAnnotatedVideos/c-10_m3_first_trial.mp4\n",
      "[MoviePy] Writing video ../dataFolders/ManuallyAnnotatedVideos/c-10_m3_first_trial.mp4\n"
     ]
    },
    {
     "name": "stderr",
     "output_type": "stream",
     "text": [
      "100%|█████████████████████████████████████████████████████████████████████████████| 1610/1610 [00:12<00:00, 133.04it/s]\n"
     ]
    },
    {
     "name": "stdout",
     "output_type": "stream",
     "text": [
      "[MoviePy] Done.\n",
      "[MoviePy] >>>> Video ready: ../dataFolders/ManuallyAnnotatedVideos/c-10_m3_first_trial.mp4 \n",
      "\n",
      "[MoviePy] >>>> Building video ../dataFolders/ManuallyAnnotatedVideos/c-10_m3_last_trial.mp4\n",
      "[MoviePy] Writing video ../dataFolders/ManuallyAnnotatedVideos/c-10_m3_last_trial.mp4\n"
     ]
    },
    {
     "name": "stderr",
     "output_type": "stream",
     "text": [
      "100%|███████████████████████████████████████████████████████████████████████████████| 865/865 [00:07<00:00, 122.54it/s]\n"
     ]
    },
    {
     "name": "stdout",
     "output_type": "stream",
     "text": [
      "[MoviePy] Done.\n",
      "[MoviePy] >>>> Video ready: ../dataFolders/ManuallyAnnotatedVideos/c-10_m3_last_trial.mp4 \n",
      "\n",
      "[MoviePy] >>>> Building video ../dataFolders/ManuallyAnnotatedVideos/c-10_m6_first_trial.mp4\n",
      "[MoviePy] Writing video ../dataFolders/ManuallyAnnotatedVideos/c-10_m6_first_trial.mp4\n"
     ]
    },
    {
     "name": "stderr",
     "output_type": "stream",
     "text": [
      "100%|███████████████████████████████████████████████████████████████████████████████| 126/126 [00:00<00:00, 149.69it/s]\n"
     ]
    },
    {
     "name": "stdout",
     "output_type": "stream",
     "text": [
      "[MoviePy] Done.\n",
      "[MoviePy] >>>> Video ready: ../dataFolders/ManuallyAnnotatedVideos/c-10_m6_first_trial.mp4 \n",
      "\n",
      "[MoviePy] >>>> Building video ../dataFolders/ManuallyAnnotatedVideos/c-10_m6_last_trial.mp4\n",
      "[MoviePy] Writing video ../dataFolders/ManuallyAnnotatedVideos/c-10_m6_last_trial.mp4\n"
     ]
    },
    {
     "name": "stderr",
     "output_type": "stream",
     "text": [
      "100%|███████████████████████████████████████████████████████████████████████████████| 821/821 [00:07<00:00, 113.16it/s]\n"
     ]
    },
    {
     "name": "stdout",
     "output_type": "stream",
     "text": [
      "[MoviePy] Done.\n",
      "[MoviePy] >>>> Video ready: ../dataFolders/ManuallyAnnotatedVideos/c-10_m6_last_trial.mp4 \n",
      "\n"
     ]
    }
   ],
   "source": [
    "for name in frameInfo.Name.unique():\n",
    "    videopath = glob.glob(pathForVideo + \"\\**\\\\\" + name + \".mp4\", recursive=True)\n",
    "    myvid = VideoFileClip(videopath[0])\n",
    "    \n",
    "    relevant_df = frameInfo[frameInfo.Name == name]\n",
    "    section = relevant_df.trial\n",
    "    \n",
    "    for ss in section:\n",
    "    #     print(section)\n",
    "        if ss == 0:\n",
    "            vidName = 'first_trial'\n",
    "        else:\n",
    "            vidName = 'last_trial'\n",
    "\n",
    "        frameStart = relevant_df.loc[relevant_df.trial == ss, 'Digitized Start'].values[0]\n",
    "        frameStop = relevant_df.loc[relevant_df.trial == ss, 'Digitized Stop'].values[0]\n",
    "\n",
    "        tstart = float(frameStart/30) \n",
    "        tend = float(frameStop/30)\n",
    "        \n",
    "        clippedVideo = myvid.subclip(tstart, tend)\n",
    "\n",
    "        newName = name + '_' + vidName \n",
    "        clippedVideo.write_videofile(export_vid_path + newName + '.mp4', codec = 'libx264') \n",
    "\n",
    "        del clippedVideo\n",
    "        \n",
    "    del myvid.reader\n",
    "    del myvid"
   ]
  },
  {
   "cell_type": "code",
   "execution_count": null,
   "metadata": {},
   "outputs": [],
   "source": []
  }
 ],
 "metadata": {
  "kernelspec": {
   "display_name": "Python 3",
   "language": "python",
   "name": "python3"
  },
  "language_info": {
   "codemirror_mode": {
    "name": "ipython",
    "version": 3
   },
   "file_extension": ".py",
   "mimetype": "text/x-python",
   "name": "python",
   "nbconvert_exporter": "python",
   "pygments_lexer": "ipython3",
   "version": "3.6.5"
  }
 },
 "nbformat": 4,
 "nbformat_minor": 2
}
