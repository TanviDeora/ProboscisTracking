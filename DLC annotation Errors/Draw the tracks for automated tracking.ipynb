{
 "cells": [
  {
   "cell_type": "code",
   "execution_count": 1,
   "metadata": {},
   "outputs": [],
   "source": [
    "import numpy as np\n",
    "import pandas as pd\n",
    "import glob\n",
    "import os\n",
    "import matplotlib.pyplot as plt"
   ]
  },
  {
   "cell_type": "code",
   "execution_count": 2,
   "metadata": {},
   "outputs": [],
   "source": [
    "datalist = glob.glob('../dataFolders/Tracking Errors/**.csv', recursive=True)"
   ]
  },
  {
   "cell_type": "code",
   "execution_count": 9,
   "metadata": {},
   "outputs": [],
   "source": [
    "namelist = []\n",
    "for data in datalist:\n",
    "    _, tail = os.path.split(data)\n",
    "    namelist.append(tail[:-4])"
   ]
  },
  {
   "cell_type": "code",
   "execution_count": 14,
   "metadata": {},
   "outputs": [
    {
     "data": {
      "text/html": [
       "<div>\n",
       "<style scoped>\n",
       "    .dataframe tbody tr th:only-of-type {\n",
       "        vertical-align: middle;\n",
       "    }\n",
       "\n",
       "    .dataframe tbody tr th {\n",
       "        vertical-align: top;\n",
       "    }\n",
       "\n",
       "    .dataframe thead th {\n",
       "        text-align: right;\n",
       "    }\n",
       "</style>\n",
       "<table border=\"1\" class=\"dataframe\">\n",
       "  <thead>\n",
       "    <tr style=\"text-align: right;\">\n",
       "      <th></th>\n",
       "      <th>Unnamed: 0</th>\n",
       "      <th>name</th>\n",
       "      <th>circ_x</th>\n",
       "      <th>circ_y</th>\n",
       "      <th>circ_radii</th>\n",
       "    </tr>\n",
       "  </thead>\n",
       "  <tbody>\n",
       "    <tr>\n",
       "      <th>0</th>\n",
       "      <td>0</td>\n",
       "      <td>c-1_m13</td>\n",
       "      <td>308</td>\n",
       "      <td>240</td>\n",
       "      <td>76</td>\n",
       "    </tr>\n",
       "    <tr>\n",
       "      <th>1</th>\n",
       "      <td>1</td>\n",
       "      <td>c-2_m5</td>\n",
       "      <td>309</td>\n",
       "      <td>238</td>\n",
       "      <td>74</td>\n",
       "    </tr>\n",
       "    <tr>\n",
       "      <th>2</th>\n",
       "      <td>2</td>\n",
       "      <td>c-3_m10</td>\n",
       "      <td>308</td>\n",
       "      <td>239</td>\n",
       "      <td>74</td>\n",
       "    </tr>\n",
       "    <tr>\n",
       "      <th>3</th>\n",
       "      <td>3</td>\n",
       "      <td>c-10_m11</td>\n",
       "      <td>307</td>\n",
       "      <td>239</td>\n",
       "      <td>74</td>\n",
       "    </tr>\n",
       "    <tr>\n",
       "      <th>4</th>\n",
       "      <td>4</td>\n",
       "      <td>c-1_m2</td>\n",
       "      <td>310</td>\n",
       "      <td>241</td>\n",
       "      <td>75</td>\n",
       "    </tr>\n",
       "  </tbody>\n",
       "</table>\n",
       "</div>"
      ],
      "text/plain": [
       "   Unnamed: 0      name  circ_x  circ_y  circ_radii\n",
       "0           0   c-1_m13     308     240          76\n",
       "1           1    c-2_m5     309     238          74\n",
       "2           2   c-3_m10     308     239          74\n",
       "3           3  c-10_m11     307     239          74\n",
       "4           4    c-1_m2     310     241          75"
      ]
     },
     "execution_count": 14,
     "metadata": {},
     "output_type": "execute_result"
    }
   ],
   "source": [
    "circle_params = pd.read_csv('../dataFolders/circle_parameters.csv')\n",
    "circle_params.head()"
   ]
  },
  {
   "cell_type": "code",
   "execution_count": 11,
   "metadata": {},
   "outputs": [],
   "source": []
  },
  {
   "cell_type": "code",
   "execution_count": 65,
   "metadata": {},
   "outputs": [
    {
     "data": {
      "image/png": "[encoded data removed]",
      "text/plain": [
       "<Figure size 720x432 with 2 Axes>"
      ]
     },
     "metadata": {},
     "output_type": "display_data"
    }
   ],
   "source": [
    "num = 16\n",
    "file = pd.read_csv(datalist[num])\n",
    "\n",
    "x = file.dlc_x\n",
    "y = file.dlc_y\n",
    "\n",
    "manual_x = file.manual_x\n",
    "manual_y = file.manual_y\n",
    "\n",
    "for i in np.arange(len(circle_params)):\n",
    "    if circle_params.name[i] in namelist[num]:\n",
    "        circ_deet = circle_params.loc[i,:].copy()\n",
    "\n",
    "cent_x = circ_deet.circ_x\n",
    "cent_y = circ_deet.circ_y\n",
    "circ_radius = circ_deet.circ_radii\n",
    "\n",
    "centered_x = x - cent_x\n",
    "centered_y = y - cent_y\n",
    "r = np.linalg.norm([centered_x, centered_y], axis = 0)\n",
    "radius = r/circ_radius\n",
    "\n",
    "manual_centered_x = manual_x - cent_x\n",
    "manual_centered_y = manual_y - cent_y\n",
    "manual_r = np.linalg.norm([manual_centered_x, manual_centered_y], axis = 0)\n",
    "manual_radius = manual_r/circ_radius\n",
    "\n",
    "fig, ax = plt.subplots(1,2, figsize = (10,6), sharex = True, sharey = True)\n",
    "t0 = np.arange(len(r))*1/100\n",
    "ax[0].plot(t0, radius, color = 'indianred' , label = 'dlc')\n",
    "ax[0].legend()\n",
    "ax[1].plot(t0, manual_radius, color = 'slateblue' , label = 'manual')\n",
    "ax[1].legend()\n",
    "\n",
    "plt.savefig('../dataFolders/Figures/Tracking Errors/sample_radiusOverTime.png')"
   ]
  },
  {
   "cell_type": "code",
   "execution_count": null,
   "metadata": {},
   "outputs": [],
   "source": []
  },
  {
   "cell_type": "code",
   "execution_count": null,
   "metadata": {},
   "outputs": [],
   "source": []
  },
  {
   "cell_type": "code",
   "execution_count": null,
   "metadata": {},
   "outputs": [],
   "source": []
  },
  {
   "cell_type": "code",
   "execution_count": null,
   "metadata": {},
   "outputs": [],
   "source": []
  },
  {
   "cell_type": "code",
   "execution_count": null,
   "metadata": {},
   "outputs": [],
   "source": []
  },
  {
   "cell_type": "code",
   "execution_count": null,
   "metadata": {},
   "outputs": [],
   "source": [
    "# import cmocean\n",
    "plt.style.use('ggplot')\n",
    "from cycler import cycler\n",
    "# import matplotlib.cm as cm\n",
    "import matplotlib as mpl\n",
    "\n",
    "fig, ax = plt.subplots(2,4, sharex = True, sharey = True, figsize = (30,10))\n",
    "\n",
    "uber_df = pd.read_csv('./dataFolders/compiledTrackData.csv')\n",
    "circle_params = pd.read_csv('./dataFolders/circle_parameters.csv')\n",
    "\n",
    "shapes = ['c-1_', 'c-2_', 'c-3_', 'c-10_']\n",
    "\n",
    "# colors = cm.tab10(np.linspace(0, 1, len(namelist)))\n",
    "# print(colors)\n",
    "i = 0 # to align to correct subplot\n",
    "cc = 0 # iterate through colors\n",
    "\n",
    "\n",
    "for flower in shapes:\n",
    "    moths = [name for name in namelist if flower in name]\n",
    "    n = len(moths)\n",
    "    # Change default color cycle for each shape\n",
    "    # loop though colors for all moths in a shape\n",
    "    mpl.rcParams['axes.prop_cycle']= cycler(color = 'brg') #cycle_cmap(n, cmap = 'brg')  \n",
    "    \n",
    "    for name in moths:\n",
    "                \n",
    "        # get the radius and theta tracks\n",
    "        radius_first = uber_df[(uber_df.name == name) & (uber_df.trial == '0')].radius.values\n",
    "        theta_first = uber_df[(uber_df.name == name) & (uber_df.trial == '0')].theta.values\n",
    "\n",
    "        radius_last = uber_df[(uber_df.name == name) & (uber_df.trial == 'last')].radius.values\n",
    "        theta_last = uber_df[(uber_df.name == name) & (uber_df.trial == 'last')].theta.values\n",
    "\n",
    "        radius = circle_params[circle_params.name == name].circ_radii.values[0]\n",
    "\n",
    "        # draw it NOW! :D (hehehehahahaha!!! :D )\n",
    "\n",
    "        t0 = np.arange(len(radius_first))*1/100\n",
    "#         f0 = ax[0, i].scatter(t0, radius_first/radius, s = 8, \n",
    "#                               label = name)\n",
    "        f0 = ax[0, i].plot(t0, radius_first/radius, \n",
    "                              label = name)\n",
    "\n",
    "        ax[0, i].set_title(name + ' first trial')\n",
    "        ax[0, i].legend()\n",
    "        \n",
    "        tlast = np.arange(len(radius_last))*1/100\n",
    "#         f1 = ax[1, i].scatter(tlast, radius_last/radius, s = 8)\n",
    "        f1 = ax[1, i].plot(tlast, radius_last/radius)\n",
    "\n",
    "        ax[1, i].set_title(name + ' last trial')\n",
    "\n",
    "        ax[0, i].set_yticks(np.arange(5))\n",
    "        ax[0, i].set_yticklabels(['0', 'r', '2r', '3r', '4r'])\n",
    "        ax[0, i].tick_params('both', labelsize = 20)\n",
    "        ax[1, i].tick_params('both', labelsize = 20)\n",
    "#         print(colors[cc])\n",
    "        cc+=1\n",
    "        \n",
    "    \n",
    "    i+=1\n",
    "    fig.text(0.0, 0.5, 'Radial distance (normalized to flower radius)',\n",
    "             ha='center', va='center', rotation='vertical', fontsize = '20')\n",
    "    fig.text(0.5, 0.0, 'Time (seconds)',\n",
    "             ha='center', va='center', rotation='horizontal', fontsize = '20')\n",
    "\n",
    "plt.tight_layout()\n",
    "plt.savefig('./dataFolders/Figures/AllData_RadialDistOverTime_lineplot.png', bbox_inches=\"tight\")"
   ]
  },
  {
   "cell_type": "code",
   "execution_count": null,
   "metadata": {},
   "outputs": [],
   "source": []
  },
  {
   "cell_type": "code",
   "execution_count": null,
   "metadata": {},
   "outputs": [],
   "source": []
  },
  {
   "cell_type": "code",
   "execution_count": null,
   "metadata": {},
   "outputs": [],
   "source": []
  }
 ],
 "metadata": {
  "kernelspec": {
   "display_name": "Python 3",
   "language": "python",
   "name": "python3"
  },
  "language_info": {
   "codemirror_mode": {
    "name": "ipython",
    "version": 3
   },
   "file_extension": ".py",
   "mimetype": "text/x-python",
   "name": "python",
   "nbconvert_exporter": "python",
   "pygments_lexer": "ipython3",
   "version": "3.6.5"
  }
 },
 "nbformat": 4,
 "nbformat_minor": 2
}
