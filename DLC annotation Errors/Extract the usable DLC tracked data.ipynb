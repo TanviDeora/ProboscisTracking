{
 "cells": [
  {
   "cell_type": "code",
   "execution_count": 1,
   "metadata": {},
   "outputs": [],
   "source": [
    "import numpy as np\n",
    "import pandas as pd\n",
    "import glob\n",
    "import os\n",
    "import matplotlib.pyplot as plt"
   ]
  },
  {
   "cell_type": "code",
   "execution_count": 2,
   "metadata": {},
   "outputs": [],
   "source": [
    "def GetRMSE(dlc_x, dlc_y, manual_x, manual_y):\n",
    "    from scipy.spatial.distance import pdist\n",
    "\n",
    "    er = []\n",
    "    for idx in range(len(dlc_x)):\n",
    "        X = np.asarray([[manual_x[idx], manual_y[idx]], \n",
    "                         [dlc_x[idx], dlc_y[idx]]])\n",
    "        temp_er = pdist(X,metric = 'euclidean')\n",
    "        er.append(temp_er[0])\n",
    "    er = np.asarray(er)\n",
    "    return(er)"
   ]
  },
  {
   "cell_type": "code",
   "execution_count": 3,
   "metadata": {},
   "outputs": [],
   "source": [
    "outpath = '../dataFolders/Final Tracking xypts/filteredUsingThreshold/'"
   ]
  },
  {
   "cell_type": "code",
   "execution_count": 4,
   "metadata": {},
   "outputs": [],
   "source": [
    "datalist = glob.glob('../dataFolders/Tracking Errors/version2-usingSuccessiveFrames/**.csv', recursive=True)"
   ]
  },
  {
   "cell_type": "code",
   "execution_count": 5,
   "metadata": {},
   "outputs": [],
   "source": [
    "namelist = []\n",
    "for data in datalist:\n",
    "    _, tail = os.path.split(data)\n",
    "    namelist.append(tail[:-4])"
   ]
  },
  {
   "cell_type": "markdown",
   "metadata": {},
   "source": [
    "## version 0"
   ]
  },
  {
   "cell_type": "code",
   "execution_count": 6,
   "metadata": {},
   "outputs": [
    {
     "data": {
      "text/plain": [
       "10308"
      ]
     },
     "execution_count": 6,
     "metadata": {},
     "output_type": "execute_result"
    }
   ],
   "source": [
    "# calculate the threshold to use as true data cutoff\n",
    "\n",
    "uber_error = np.asarray([np.nan])\n",
    "for data in datalist:\n",
    "    file = pd.read_csv(data)\n",
    "    error = file.loc[:, 'rmse'].values\n",
    "#     error = file.loc[:,'rmse'].values\n",
    "    uber_error = np.concatenate([uber_error, error])\n",
    "uber_error = uber_error[1:]\n",
    "len(uber_error)"
   ]
  },
  {
   "cell_type": "code",
   "execution_count": 7,
   "metadata": {},
   "outputs": [
    {
     "name": "stdout",
     "output_type": "stream",
     "text": [
      "../dataFolders/Tracking Errors\\c-3_m6_last.csv\n"
     ]
    },
    {
     "data": {
      "text/html": [
       "<div>\n",
       "<style scoped>\n",
       "    .dataframe tbody tr th:only-of-type {\n",
       "        vertical-align: middle;\n",
       "    }\n",
       "\n",
       "    .dataframe tbody tr th {\n",
       "        vertical-align: top;\n",
       "    }\n",
       "\n",
       "    .dataframe thead th {\n",
       "        text-align: right;\n",
       "    }\n",
       "</style>\n",
       "<table border=\"1\" class=\"dataframe\">\n",
       "  <thead>\n",
       "    <tr style=\"text-align: right;\">\n",
       "      <th></th>\n",
       "      <th>level_0</th>\n",
       "      <th>index</th>\n",
       "      <th>manual_x</th>\n",
       "      <th>manual_y</th>\n",
       "      <th>dlc_x</th>\n",
       "      <th>dlc_y</th>\n",
       "      <th>dlc_likelihood</th>\n",
       "      <th>rmse</th>\n",
       "      <th>zscore</th>\n",
       "    </tr>\n",
       "  </thead>\n",
       "  <tbody>\n",
       "    <tr>\n",
       "      <th>0</th>\n",
       "      <td>0</td>\n",
       "      <td>0</td>\n",
       "      <td>303.878213</td>\n",
       "      <td>467.202655</td>\n",
       "      <td>301.871070</td>\n",
       "      <td>446.815884</td>\n",
       "      <td>0.999995</td>\n",
       "      <td>20.485338</td>\n",
       "      <td>2.514855</td>\n",
       "    </tr>\n",
       "    <tr>\n",
       "      <th>1</th>\n",
       "      <td>1</td>\n",
       "      <td>1</td>\n",
       "      <td>299.119339</td>\n",
       "      <td>466.338938</td>\n",
       "      <td>300.806893</td>\n",
       "      <td>442.983627</td>\n",
       "      <td>1.000000</td>\n",
       "      <td>23.416200</td>\n",
       "      <td>3.090140</td>\n",
       "    </tr>\n",
       "    <tr>\n",
       "      <th>2</th>\n",
       "      <td>2</td>\n",
       "      <td>2</td>\n",
       "      <td>299.119339</td>\n",
       "      <td>456.838053</td>\n",
       "      <td>298.052695</td>\n",
       "      <td>441.044231</td>\n",
       "      <td>1.000000</td>\n",
       "      <td>15.829799</td>\n",
       "      <td>1.601041</td>\n",
       "    </tr>\n",
       "    <tr>\n",
       "      <th>3</th>\n",
       "      <td>3</td>\n",
       "      <td>3</td>\n",
       "      <td>295.946756</td>\n",
       "      <td>449.064602</td>\n",
       "      <td>294.531591</td>\n",
       "      <td>438.369887</td>\n",
       "      <td>1.000000</td>\n",
       "      <td>10.787939</td>\n",
       "      <td>0.611397</td>\n",
       "    </tr>\n",
       "    <tr>\n",
       "      <th>4</th>\n",
       "      <td>4</td>\n",
       "      <td>4</td>\n",
       "      <td>299.119339</td>\n",
       "      <td>457.701770</td>\n",
       "      <td>295.734209</td>\n",
       "      <td>437.002952</td>\n",
       "      <td>1.000000</td>\n",
       "      <td>20.973797</td>\n",
       "      <td>2.610732</td>\n",
       "    </tr>\n",
       "  </tbody>\n",
       "</table>\n",
       "</div>"
      ],
      "text/plain": [
       "   level_0  index    manual_x    manual_y       dlc_x       dlc_y  \\\n",
       "0        0      0  303.878213  467.202655  301.871070  446.815884   \n",
       "1        1      1  299.119339  466.338938  300.806893  442.983627   \n",
       "2        2      2  299.119339  456.838053  298.052695  441.044231   \n",
       "3        3      3  295.946756  449.064602  294.531591  438.369887   \n",
       "4        4      4  299.119339  457.701770  295.734209  437.002952   \n",
       "\n",
       "   dlc_likelihood       rmse    zscore  \n",
       "0        0.999995  20.485338  2.514855  \n",
       "1        1.000000  23.416200  3.090140  \n",
       "2        1.000000  15.829799  1.601041  \n",
       "3        1.000000  10.787939  0.611397  \n",
       "4        1.000000  20.973797  2.610732  "
      ]
     },
     "execution_count": 7,
     "metadata": {},
     "output_type": "execute_result"
    }
   ],
   "source": [
    "print(data)\n",
    "file.head()"
   ]
  },
  {
   "cell_type": "code",
   "execution_count": 8,
   "metadata": {},
   "outputs": [],
   "source": [
    "df = pd.DataFrame(data = uber_error, columns = ['rmse'])\n",
    "df['zscore'] = (df.rmse - df.rmse.mean())/df.rmse.std(ddof = 0)"
   ]
  },
  {
   "cell_type": "code",
   "execution_count": 9,
   "metadata": {},
   "outputs": [
    {
     "name": "stdout",
     "output_type": "stream",
     "text": [
      "mean: 14.68, median: 6.61,\n",
      "0.5std: 26.61,\n"
     ]
    }
   ],
   "source": [
    "print('mean: %0.2f,' %df.rmse.mean(), 'median: %0.2f,' %df.rmse.median())\n",
    "print('0.5std: %0.2f,' %(df.rmse.mean() + 0.5*df.rmse.std()))"
   ]
  },
  {
   "cell_type": "code",
   "execution_count": 10,
   "metadata": {},
   "outputs": [],
   "source": [
    "# save results as a parameters file\n",
    "Parameters_DICT = {\n",
    "    'mean': df.rmse.mean(),\n",
    "    'median' : df.rmse.median() ,\n",
    "    'std': df.rmse.std(),\n",
    "    'threshold used': '0.5 std',\n",
    "    'threshold value' : df.rmse.mean() + 0.5*df.rmse.std()\n",
    "}\n",
    "\n",
    "f = open(outpath + \"parameters_for_threshold.txt\",\"w\")\n",
    "f.write( str(Parameters_DICT) )\n",
    "f.close()"
   ]
  },
  {
   "cell_type": "code",
   "execution_count": 11,
   "metadata": {},
   "outputs": [],
   "source": [
    "cutoff_thresh = df.rmse.mean() + 0.5*df.rmse.std()\n",
    "\n",
    "for data, name in zip(datalist, namelist):\n",
    "    file = pd.read_csv(data)\n",
    "    x = file.dlc_x.values\n",
    "    y = file.dlc_y.values\n",
    "    \n",
    "    # get rmse values for subsequent frames\n",
    "    rmse = GetRMSE(x[1:], y[1:], x[:-1], y[:-1])\n",
    "    \n",
    "    filtered_x = np.copy(x[1:])\n",
    "    filtered_y = np.copy(y[1:])\n",
    "    filtered_x[rmse > cutoff_thresh] = np.nan\n",
    "    filtered_y[rmse > cutoff_thresh] = np.nan\n",
    "\n",
    "    new_xypts = pd.DataFrame({'tracked_x': filtered_x, 'tracked_y': filtered_y, 'rmse': rmse})\n",
    "    new_xypts.to_csv(outpath + '/' + name + '.csv')"
   ]
  },
  {
   "cell_type": "markdown",
   "metadata": {},
   "source": [
    "## version 1 - using successive frames to figure out cutoff"
   ]
  },
  {
   "cell_type": "code",
   "execution_count": 19,
   "metadata": {},
   "outputs": [
    {
     "name": "stdout",
     "output_type": "stream",
     "text": [
      "oops\n",
      "oops\n",
      "oops\n",
      "oops\n",
      "oops\n",
      "oops\n",
      "oops\n",
      "oops\n",
      "oops\n",
      "oops\n",
      "oops\n",
      "oops\n",
      "oops\n",
      "oops\n",
      "oops\n",
      "oops\n",
      "oops\n",
      "oops\n",
      "oops\n",
      "oops\n",
      "oops\n",
      "oops\n",
      "oops\n",
      "oops\n",
      "oops\n",
      "oops\n",
      "oops\n",
      "oops\n",
      "oops\n",
      "oops\n",
      "oops\n",
      "oops\n",
      "oops\n",
      "oops\n",
      "oops\n",
      "oops\n",
      "oops\n",
      "oops\n",
      "oops\n",
      "oops\n",
      "oops\n",
      "oops\n",
      "oops\n",
      "oops\n",
      "oops\n",
      "oops\n"
     ]
    }
   ],
   "source": [
    "cutoff_thresh = [24, 20]\n",
    "\n",
    "for data, name in zip(datalist, namelist):\n",
    "    file = pd.read_csv(data)\n",
    "    x = file.dlc_x.values\n",
    "    y = file.dlc_y.values\n",
    "    \n",
    "    # get rmse values for subsequent frames\n",
    "    rmse = GetRMSE(x[1:], y[1:], x[:-1], y[:-1])\n",
    "    \n",
    "    filtered_x = np.copy(x[1:])\n",
    "    filtered_y = np.copy(y[1:])\n",
    "    for cutoff in cutoff_thresh:\n",
    "            filtered_x[rmse > cutoff] = np.nan\n",
    "            filtered_y[rmse > cutoff] = np.nan\n",
    "            \n",
    "            new_path = '../dataFolders/FinalTracking_xypts/filteredUsingThreshold/v1/cutoff' + str(cutoff)\n",
    "            \n",
    "            try:\n",
    "                os.mkdir(new_path)\n",
    "            except OSError:\n",
    "                print('oops')\n",
    "            \n",
    "            new_xypts = pd.DataFrame({'tracked_x': filtered_x, 'tracked_y': filtered_y, 'rmse': rmse})\n",
    "            new_xypts.to_csv(new_path + '/' + name + '.csv')"
   ]
  },
  {
   "cell_type": "code",
   "execution_count": null,
   "metadata": {},
   "outputs": [],
   "source": []
  },
  {
   "cell_type": "markdown",
   "metadata": {},
   "source": [
    "## plot and test if things look right!"
   ]
  },
  {
   "cell_type": "code",
   "execution_count": null,
   "metadata": {},
   "outputs": [],
   "source": [
    "[name for name in namelist if 'c-1_m13' in name]"
   ]
  },
  {
   "cell_type": "code",
   "execution_count": null,
   "metadata": {},
   "outputs": [],
   "source": [
    "# fig = plt.subplots(figsize = (10,6))\n",
    "plt.plot(x, 'o')\n",
    "plt.plot(np.hstack([np.nan, tracked_x]), 'o')\n",
    "plt.show()\n",
    "\n",
    "plt.plot(y, 'o')\n",
    "plt.plot(np.hstack([np.nan, tracked_y]), 'o')\n",
    "plt.show()\n",
    "\n",
    "# plt.plot(x[np.hstack([False, np.isnan(tracked_x)])], 'or')"
   ]
  },
  {
   "cell_type": "code",
   "execution_count": null,
   "metadata": {},
   "outputs": [],
   "source": [
    "circle_params = pd.read_csv('../dataFolders/circle_parameters.csv')\n",
    "circle_params.head()"
   ]
  },
  {
   "cell_type": "code",
   "execution_count": null,
   "metadata": {},
   "outputs": [],
   "source": [
    "mname = [name for name in circle_params.name if name in data][0]\n",
    "\n",
    "cent_x = circle_params.loc[circle_params.name == mname, 'circ_x'].values\n",
    "cent_y = circle_params.loc[circle_params.name == mname, 'circ_y'].values\n",
    "circ_radius = circle_params.loc[circle_params.name == mname, 'circ_radii'].values\n",
    "\n",
    "centered_x_dlc = file.dlc_x - cent_x\n",
    "centered_y_dlc = file.dlc_y - cent_y\n",
    "r_dlc = np.linalg.norm([centered_x_dlc, centered_y_dlc], axis = 0)\n",
    "radius_dlc = r_dlc/circ_radius\n",
    "\n",
    "centered_x = tracked_x - cent_x\n",
    "centered_y = tracked_y - cent_y\n",
    "r = np.linalg.norm([centered_x, centered_y], axis = 0)\n",
    "radius = r/circ_radius\n",
    "\n",
    "\n",
    "centered_x_manual = file.manual_x - cent_x\n",
    "centered_y_manual = file.manual_y - cent_y\n",
    "r_manual = np.linalg.norm([centered_x_manual, centered_y_manual], axis = 0)\n",
    "radius_manual = r_manual/circ_radius"
   ]
  },
  {
   "cell_type": "code",
   "execution_count": null,
   "metadata": {},
   "outputs": [],
   "source": [
    "fig = plt.subplots(figsize = (20,6))\n",
    "# plt.plot(radius_dlc)\n",
    "plt.plot(radius[200:500])\n",
    "plt.plot(radius_manual[201:501])"
   ]
  },
  {
   "cell_type": "code",
   "execution_count": null,
   "metadata": {},
   "outputs": [],
   "source": []
  }
 ],
 "metadata": {
  "kernelspec": {
   "display_name": "Python 3",
   "language": "python",
   "name": "python3"
  },
  "language_info": {
   "codemirror_mode": {
    "name": "ipython",
    "version": 3
   },
   "file_extension": ".py",
   "mimetype": "text/x-python",
   "name": "python",
   "nbconvert_exporter": "python",
   "pygments_lexer": "ipython3",
   "version": "3.6.5"
  }
 },
 "nbformat": 4,
 "nbformat_minor": 2
}
