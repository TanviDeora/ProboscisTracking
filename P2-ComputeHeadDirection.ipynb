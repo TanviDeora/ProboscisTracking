{
 "cells": [
  {
   "cell_type": "code",
   "execution_count": 6,
   "metadata": {},
   "outputs": [],
   "source": [
    "import matplotlib.pyplot as plt\n",
    "import pandas as pd\n",
    "import os"
   ]
  },
  {
   "cell_type": "code",
   "execution_count": 2,
   "metadata": {},
   "outputs": [],
   "source": [
    "def DropPerpenToLine(pt1, pt2, headJt):\n",
    "    # find the slope of line joining left and right antennae\n",
    "\n",
    "    m1 = (pt2[1] - pt1[1])/ (pt2[0] - pt1[0])\n",
    "\n",
    "    # use the slope and write another equation of line using lt antennae\n",
    "    # newpt[1] = m1*(newpt[0] - pt1[0]) + pt1[1]\n",
    "\n",
    "    # use the slope and headJt to form a equation of the line\n",
    "\n",
    "    m2 = -1/m1\n",
    "    # newpt[1] = m2*(newpt[0] - headJt[0]) + headJt[1]\n",
    "\n",
    "    # equate both sides to solve for newpt x\n",
    "    newpt_x =  (-m2*headJt[0] + m1*pt1[0] + headJt[1] - pt1[1])/(m1 - m2)\n",
    "    #use in eq 2 to solve for newpt y\n",
    "    newpt_y = m2*(newpt_x - headJt[0]) + headJt[1]\n",
    "    return(newpt_x, newpt_y)"
   ]
  },
  {
   "cell_type": "code",
   "execution_count": null,
   "metadata": {},
   "outputs": [],
   "source": [
    "# pt1 = [4,3]\n",
    "# pt2 = [-2, 0]\n",
    "\n",
    "# headJt = [3,10]"
   ]
  },
  {
   "cell_type": "code",
   "execution_count": null,
   "metadata": {},
   "outputs": [],
   "source": [
    "# a = [0,0]\n",
    "# # a = pt1\n",
    "# b = [1,1]\n",
    "# # b = pt2\n",
    "# c = [3,3]\n",
    "# # c = headJt\n",
    "# new = DropPerpenToLine(b, a, c)"
   ]
  },
  {
   "cell_type": "code",
   "execution_count": null,
   "metadata": {},
   "outputs": [],
   "source": [
    "# plt.plot([a[0], b[0]], [a[1], b[1]])\n",
    "# plt.plot(c[0],c[1], 'ok')\n",
    "# plt.plot(new[0], new[1], 'or')\n",
    "# plt.axis('equal')"
   ]
  },
  {
   "cell_type": "code",
   "execution_count": 10,
   "metadata": {},
   "outputs": [],
   "source": [
    "# first = ['c-1_m13', 'c-2_m20','c-3_m10', 'c-10_m11']\n",
    "first = ['c-3_m7', 'c-10_m20' , 'c-10_m21', 'c-10_m22']\n",
    "direc = r'./dataFolders/PaperPipelineOutput/v3/OtherBodyParts/FirstVisit/' "
   ]
  },
  {
   "cell_type": "code",
   "execution_count": 11,
   "metadata": {},
   "outputs": [],
   "source": [
    "for mothID in first:\n",
    "    if not os.path.exists(direc + mothID + '_probHeadAntennae.csv'):\n",
    "        mothID = mothID + '_cropped'\n",
    "    \n",
    "    df = pd.read_csv(direc + mothID + '_ProbHeadAntennae.csv')\n",
    "    c_x = []\n",
    "    c_y = []\n",
    "    for index in df.index:\n",
    "        lA = [df.loc[index, 'LAnt_x'], df.loc[index, 'LAnt_y']]\n",
    "        rA = [df.loc[index, 'RAnt_x'], df.loc[index, 'RAnt_y']]\n",
    "        \n",
    "        h = [df.loc[index, 'head_x'], df.loc[index, 'head_y']]\n",
    "        head_dir = DropPerpenToLine(lA, rA, h)\n",
    "        c_x.append(head_dir[0])\n",
    "        c_y.append(head_dir[1])\n",
    "    df['head_dir_x'] = c_x\n",
    "    df['head_dir_y'] = c_y\n",
    "    \n",
    "    df.to_csv(direc + mothID + '_ProbHeadAntennae.csv')"
   ]
  },
  {
   "cell_type": "code",
   "execution_count": null,
   "metadata": {},
   "outputs": [],
   "source": []
  }
 ],
 "metadata": {
  "kernelspec": {
   "display_name": "Python 3",
   "language": "python",
   "name": "python3"
  },
  "language_info": {
   "codemirror_mode": {
    "name": "ipython",
    "version": 3
   },
   "file_extension": ".py",
   "mimetype": "text/x-python",
   "name": "python",
   "nbconvert_exporter": "python",
   "pygments_lexer": "ipython3",
   "version": "3.6.5"
  }
 },
 "nbformat": 4,
 "nbformat_minor": 2
}
