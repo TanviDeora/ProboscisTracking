{
 "cells": [
  {
   "cell_type": "code",
   "execution_count": 1,
   "metadata": {},
   "outputs": [],
   "source": [
    "import numpy as np\n",
    "import pandas as pd\n",
    "import glob\n",
    "import os\n",
    "import matplotlib.pyplot as plt"
   ]
  },
  {
   "cell_type": "code",
   "execution_count": 19,
   "metadata": {},
   "outputs": [],
   "source": [
    "from scipy import signal\n",
    "def smooth(Pixels):\n",
    "    win_gauss = signal.gaussian(10,3)\n",
    "    smooth_Pixels = signal.convolve(Pixels, win_gauss, mode='same', method = 'direct') / win_gauss.sum()\n",
    "    return(smooth_Pixels)"
   ]
  },
  {
   "cell_type": "code",
   "execution_count": 20,
   "metadata": {},
   "outputs": [],
   "source": [
    "def FlowerCenteredTracks(track):\n",
    "    \n",
    "    strt = track.first_valid_index()\n",
    "    stop = track.last_valid_index()\n",
    "\n",
    "    x = track.loc[strt:stop, 'x'].values\n",
    "    y = track.loc[strt:stop, 'y'].values\n",
    "\n",
    "    name = [n for n in circ_parameters.name if n == mothID][0]\n",
    "\n",
    "    circ_x = circ_parameters.loc[circ_parameters.name == name, 'circ_x'].values\n",
    "    circ_y = circ_parameters.loc[circ_parameters.name == name, 'circ_y'].values\n",
    "    circ_radii = circ_parameters.loc[circ_parameters.name == name, 'circ_radii'].values\n",
    "\n",
    "    filtered_x = x \n",
    "    filtered_y = y \n",
    "    filtered_r = np.linalg.norm([filtered_x-circ_x, filtered_y-circ_y], axis = 0)\n",
    "    filtered_r = filtered_r/circ_radii\n",
    "    trajectory = pd.DataFrame([filtered_x, filtered_y, filtered_r]).T\n",
    "    trajectory.columns = ['x', 'y', 'r']\n",
    "    return(trajectory)"
   ]
  },
  {
   "cell_type": "code",
   "execution_count": 13,
   "metadata": {},
   "outputs": [],
   "source": [
    "# use the list of final proboscis tracks as starting point to get the corresponding head and thorax data\n",
    "\n",
    "visitnum = 0\n",
    "direc = r\"./dataFolders/PaperPipelineOutput/v3/FilteredTracks/FinalCompiledTracks/FirstVisit/\"\n",
    "prob_track_list = glob.glob(direc + '*.csv')"
   ]
  },
  {
   "cell_type": "code",
   "execution_count": 56,
   "metadata": {},
   "outputs": [],
   "source": [
    "# get all the relevant paths and list of files\n",
    "\n",
    "path_for_DLCAnnotation = r\"G:\\My Drive\\Tom-Tanvi\\Shared With Bing,Tom and Tanvi\\Video Analysis\\DeepLabCut-ImageAnalysis\\take5\\outputFromDLC\\VideoResults\\EntireDataSet/\"\n",
    "dlc_files = glob.glob(path_for_DLCAnnotation +  '*DeepCut_' +  '*.h5')\n",
    "\n",
    "path_for_visit_frames = r\"../MothLearning/dataFolders/Output/Step5_FilesWith_TrueTrialAnd_ProboscisDetect_v2/\"\n",
    "\n",
    "# Get moth tracking data\n",
    "mothTrackPath = r\"../MothLearning/dataFolders/Output/Step1_MotionDetection/\"\n",
    "mothTracks = glob.glob(mothTrackPath + \"*.csv\")\n",
    "\n",
    "# get all the circle parameters\n",
    "circ_parameters_path = glob.glob('./dataFolders/PaperPipelineOutput/CircleParameters/' + '*.csv')\n",
    "circ_parameters = pd.read_csv(circ_parameters_path[0])"
   ]
  },
  {
   "cell_type": "code",
   "execution_count": 67,
   "metadata": {},
   "outputs": [
    {
     "data": {
      "text/plain": [
       "29"
      ]
     },
     "execution_count": 67,
     "metadata": {},
     "output_type": "execute_result"
    }
   ],
   "source": [
    "len('RawDataForExplorationTime.csv')"
   ]
  },
  {
   "cell_type": "code",
   "execution_count": 85,
   "metadata": {},
   "outputs": [],
   "source": [
    "output_fig_path = r\"./dataFolders/PaperPipelineOutput/Figures/v3/OtherBodyPartTracks/FirstVisit/\"\n",
    "output_data = r'./dataFolders/PaperPipelineOutput/v3/OtherBodyParts/FirstVisit/' "
   ]
  },
  {
   "cell_type": "code",
   "execution_count": 86,
   "metadata": {},
   "outputs": [],
   "source": [
    "for ff in prob_track_list:\n",
    "    \n",
    "    a, b, _ = os.path.basename(ff).split('_')\n",
    "    mothID = a + '_' + b\n",
    "\n",
    "    # read in head data\n",
    "    prob = pd.read_csv(ff)\n",
    "    prob_track = prob.loc[:,'x':'y'].copy()\n",
    "\n",
    "    # read the head data\n",
    "    if not [f for f in dlc_files if mothID + 'DeepCut_' in f]:\n",
    "        mothID = mothID + '_cropped'\n",
    "        \n",
    "    DLC_track = [f for f in dlc_files if mothID + 'DeepCut_' in f][0]\n",
    "    temp = pd.read_hdf(DLC_track)\n",
    "\n",
    "    head = temp.loc[slice(None),(slice(None),'head')]\n",
    "\n",
    "    path_frame_Reference = glob.glob(path_for_visit_frames + mothID + '_RawDataForExplorationTime.csv')\n",
    "    Visit_info_f = pd.read_csv(path_frame_Reference[0])\n",
    "    Visit_info = Visit_info_f[['MothIN', 'MothOut','ProboscisDetect']]\n",
    "\n",
    "    fin = Visit_info.iloc[visitnum, 0]\n",
    "    fout = Visit_info.iloc[visitnum, 2]\n",
    "    if np.isnan(fout):\n",
    "        fout = Visit_info.iloc[visitnum, 1]\n",
    "\n",
    "    fin = int(fin)\n",
    "    fout = int(fout)\n",
    "#     print(fin, fout)\n",
    "\n",
    "    head_track = head[fin:fout].copy()\n",
    "    head_track = head_track.droplevel(level = [0,1], axis = 1)\n",
    "\n",
    "\n",
    "    # get tracks for moth for that mothID\n",
    "\n",
    "    specificMothTracks = [f for f in mothTracks if mothID + '.csv' in f][0]\n",
    "\n",
    "    mothTrack = pd.read_csv(specificMothTracks)\n",
    "    moth_x = mothTrack.Centroid_hull_x.values[fin:fout]\n",
    "    moth_y = mothTrack.Centroid_hull_y.values[fin:fout]\n",
    "\n",
    "    filt_moth_x = smooth(moth_x)\n",
    "    filt_moth_y = smooth(moth_y)\n",
    "    moth_center = pd.DataFrame({'x': filt_moth_x, 'y' : filt_moth_y})\n",
    "\n",
    "    # convert all the data to flower centric data\n",
    "    proboscis = FlowerCenteredTracks(prob_track)\n",
    "    headJoint = FlowerCenteredTracks(head_track)\n",
    "    mothCenter = FlowerCenteredTracks(moth_center)\n",
    "    \n",
    "    \n",
    "    f = plt.figure(figsize = (15,6))\n",
    "    ax0 = f.add_subplot(131)\n",
    "    ax1 = f.add_subplot(132)\n",
    "    ax2 = f.add_subplot(133)\n",
    "    \n",
    "    ax0.plot(proboscis.r, 'm')\n",
    "    ax0.plot(headJoint.r, 'b')\n",
    "    ax0.plot(mothCenter.r, 'k')\n",
    "    ax0.set_title('Relative Radial Position')\n",
    "    ax0.set_ylabel('Relative Radial Position')\n",
    "\n",
    "    ax1.plot(proboscis.x, 'm')\n",
    "    ax1.plot(headJoint.x, 'b')\n",
    "    ax1.plot(mothCenter.x, 'k')\n",
    "    ax1.set_title('x position')\n",
    "    ax1.set_ylabel('pixels')\n",
    "\n",
    "    ax2.plot(proboscis.y, 'm', label = 'proboscisTip')\n",
    "    ax2.plot(headJoint.y, 'b', label = 'Head-Proboscis Joint')\n",
    "    ax2.plot(mothCenter.y, 'k', label = 'Moth Center of mass')\n",
    "    ax2.set_title('y position')\n",
    "    ax2.set_ylabel('pixels')\n",
    "    ax2.legend()\n",
    "\n",
    "    ax1.text(0.5, - 0.15, 'Frame Number (@100fps)', horizontalalignment='center',\n",
    "             verticalalignment='bottom', transform=ax1.transAxes)\n",
    "\n",
    "\n",
    "    plt.savefig(output_fig_path + mothID + '_FirstVisit.pdf')\n",
    "    plt.close('all')\n",
    "    \n",
    "    proboscis.to_csv(output_data + mothID + '_proboscis.csv')\n",
    "    headJoint.to_csv(output_data + mothID + '_HeadprobJoint.csv')\n",
    "    mothCenter.to_csv(output_data + mothID + '_MothCOM.csv')"
   ]
  },
  {
   "cell_type": "code",
   "execution_count": null,
   "metadata": {},
   "outputs": [],
   "source": [
    "# prob = temp.loc[slice(None),(slice(None),'proboscisTip')]\n",
    "\n",
    "# prob_track = prob[fin:fout].copy()\n",
    "# prob_track = prob_track.droplevel(level = [0,1], axis = 1)"
   ]
  },
  {
   "cell_type": "code",
   "execution_count": null,
   "metadata": {},
   "outputs": [],
   "source": []
  }
 ],
 "metadata": {
  "kernelspec": {
   "display_name": "Python 3",
   "language": "python",
   "name": "python3"
  },
  "language_info": {
   "codemirror_mode": {
    "name": "ipython",
    "version": 3
   },
   "file_extension": ".py",
   "mimetype": "text/x-python",
   "name": "python",
   "nbconvert_exporter": "python",
   "pygments_lexer": "ipython3",
   "version": "3.6.5"
  }
 },
 "nbformat": 4,
 "nbformat_minor": 2
}
