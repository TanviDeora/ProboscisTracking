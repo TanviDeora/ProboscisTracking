{
 "cells": [
  {
   "cell_type": "code",
   "execution_count": 1,
   "metadata": {},
   "outputs": [],
   "source": [
    "import numpy as np\n",
    "import pandas as pd\n",
    "import os"
   ]
  },
  {
   "cell_type": "code",
   "execution_count": 2,
   "metadata": {},
   "outputs": [],
   "source": [
    "def getProbBodyAngle(vector_1, vector_2):\n",
    "    if np.isnan(np.asarray([vector_1, vector_2])).any():\n",
    "        angle = np.nan\n",
    "    else:\n",
    "#         unit_vector_1 = vector_1 / np.linalg.norm(vector_1)\n",
    "#         unit_vector_2 = vector_2 / np.linalg.norm(vector_2)\n",
    "#         dot_product = np.dot(unit_vector_1, unit_vector_2)\n",
    "#         angle = np.arccos(dot_product)\n",
    "        \n",
    "        cross_prod = np.cross(vector_1, vector_2)\n",
    "        dot_product = np.dot(vector_1, vector_2)\n",
    "        \n",
    "        angle = np.arctan2(cross_prod, dot_product) \n",
    "#         angle = angle*(180/np.pi)\n",
    "    return(angle)"
   ]
  },
  {
   "cell_type": "code",
   "execution_count": 7,
   "metadata": {},
   "outputs": [],
   "source": [
    "# first = ['c-1_m13', 'c-2_m20','c-3_m10', 'c-10_m11']\n",
    "first = ['c-3_m7', 'c-10_m20' , 'c-10_m21', 'c-10_m22']\n",
    "direc = r'./dataFolders/PaperPipelineOutput/v3/OtherBodyParts/FirstVisit/' "
   ]
  },
  {
   "cell_type": "code",
   "execution_count": 8,
   "metadata": {},
   "outputs": [
    {
     "name": "stdout",
     "output_type": "stream",
     "text": [
      "c-3_m7\n",
      "c-10_m20\n",
      "c-10_m21\n",
      "c-10_m22\n"
     ]
    }
   ],
   "source": [
    "for mothID in first:\n",
    "    print(mothID)\n",
    "    \n",
    "    if not os.path.exists(direc + mothID + '_probHeadAntennae.csv'):\n",
    "        mothID = mothID + '_cropped'\n",
    "    df = pd.read_csv(direc + mothID + '_ProbHeadAntennae.csv')\n",
    "    \n",
    "    angle = []\n",
    "    lengthProb = []\n",
    "    lengthHeadvector = []\n",
    "\n",
    "    for idx in df.index:\n",
    "        p0 = [df.loc[idx,'probocis_x'], df.loc[idx,'probocis_y']]\n",
    "        \n",
    "        p1 = [df.loc[idx, 'head_x'], df.loc[idx, 'head_y']]\n",
    "        p2 = [df.loc[idx, 'head_dir_x'], df.loc[idx, 'head_dir_y']]\n",
    "        \n",
    "        v0 = np.array(p0) - np.array(p1)\n",
    "        v1 = np.array(p2) - np.array(p1)\n",
    "\n",
    "        a = getProbBodyAngle(v1, v0)\n",
    "        l0 = np.linalg.norm(v0)\n",
    "        l1 = np.linalg.norm(v1)\n",
    "\n",
    "        angle.append(a)\n",
    "        lengthProb.append(l0)\n",
    "        lengthHeadvector.append(l1)\n",
    "    \n",
    "    angleDeets = pd.DataFrame({'ProbAngle': angle, 'ProbLength': lengthProb, 'HeadDirLength': lengthHeadvector })\n",
    "    angleDeets.to_csv(direc + mothID + '_probHeadAngle.csv')"
   ]
  },
  {
   "cell_type": "code",
   "execution_count": null,
   "metadata": {},
   "outputs": [],
   "source": [
    "    "
   ]
  }
 ],
 "metadata": {
  "kernelspec": {
   "display_name": "Python 3",
   "language": "python",
   "name": "python3"
  },
  "language_info": {
   "codemirror_mode": {
    "name": "ipython",
    "version": 3
   },
   "file_extension": ".py",
   "mimetype": "text/x-python",
   "name": "python",
   "nbconvert_exporter": "python",
   "pygments_lexer": "ipython3",
   "version": "3.6.5"
  }
 },
 "nbformat": 4,
 "nbformat_minor": 2
}
