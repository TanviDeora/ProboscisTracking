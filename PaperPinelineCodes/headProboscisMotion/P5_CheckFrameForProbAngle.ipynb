{
 "cells": [
  {
   "cell_type": "code",
   "execution_count": 7,
   "metadata": {},
   "outputs": [],
   "source": [
    "import numpy as np\n",
    "import pandas as pd\n",
    "import glob\n",
    "import os\n",
    "import matplotlib.pyplot as plt\n",
    "import cv2"
   ]
  },
  {
   "cell_type": "code",
   "execution_count": 8,
   "metadata": {},
   "outputs": [],
   "source": [
    "def load_imgs(vidPath, firstFrame, lastFrame):\n",
    "    '''\n",
    "    Reads frames from video and stores as a list\n",
    "    \n",
    "    Parameters: \n",
    "    vidPath (string): Path to video\n",
    "    \n",
    "    Returns: \n",
    "    list of images\n",
    "    '''\n",
    "    \n",
    "    cap = cv2.VideoCapture(vidPath)\n",
    "    length = np.arange(firstFrame, lastFrame)\n",
    "    print(len(length)) \n",
    "    imgs = []\n",
    "    for ff in length:\n",
    "        cap.set(1,ff)\n",
    "        ret, frame = cap.read()\n",
    "        if np.mod(ff, 100) == 0:\n",
    "            print(ff) # prints progress in 50 frames\n",
    "\n",
    "            # convert to grey\n",
    "            #img = cv2.cvtColor(frame, cv2.COLOR_BGR2GRAY)\n",
    "        imgs.append(frame)\n",
    "#         print(\"length of imgs: %s\" % len(imgs))\n",
    "            \n",
    "    cap.release()\n",
    "    return imgs"
   ]
  },
  {
   "cell_type": "code",
   "execution_count": 9,
   "metadata": {},
   "outputs": [],
   "source": [
    "# adjust gamma, if your vid is too dark\n",
    "def adjust_gamma(image, gamma=1.0):\n",
    "    # build a lookup table mapping the pixel values [0, 255] to\n",
    "    # their adjusted gamma values\n",
    "    invGamma = 1.0 / gamma\n",
    "    table = np.array([((i / 255.0) ** invGamma) * 255\n",
    "        for i in np.arange(0, 256)]).astype(\"uint8\")\n",
    " \n",
    "    # apply gamma correction using the lookup table\n",
    "    return cv2.LUT(image, table)"
   ]
  },
  {
   "cell_type": "code",
   "execution_count": 10,
   "metadata": {},
   "outputs": [],
   "source": [
    "# first = ['c-1_m13', 'c-2_m20','c-3_m10', 'c-10_m11']\n",
    "first = ['c-10_m20']\n",
    "direc = r'./dataFolders/PaperPipelineOutput/v3/OtherBodyParts/FirstVisit/' "
   ]
  },
  {
   "cell_type": "code",
   "execution_count": 11,
   "metadata": {},
   "outputs": [],
   "source": [
    "# use the list of final proboscis tracks as starting point to get the corresponding head and thorax data\n",
    "visitnum = 0\n",
    "path_for_visit_frames = r\"../MothLearning/dataFolders/Output/Step5_FilesWith_TrueTrialAnd_ProboscisDetect_v2/\"\n",
    "\n",
    "#get path for videos\n",
    "pathForVideo = r\"G:\\My Drive\\Tom-Tanvi\\Moth Learning Project\\AllVideosForAnalysis\\CompliedDataForAnalysis\"\n",
    "ourVideoPath = glob.glob(pathForVideo + \"\\**\\\\*.mp4\", recursive = True)"
   ]
  },
  {
   "cell_type": "code",
   "execution_count": 12,
   "metadata": {},
   "outputs": [],
   "source": [
    "# category = ['acute', 'obtuse']"
   ]
  },
  {
   "cell_type": "code",
   "execution_count": 15,
   "metadata": {},
   "outputs": [
    {
     "name": "stdout",
     "output_type": "stream",
     "text": [
      "711\n",
      "48100\n",
      "48200\n",
      "48300\n",
      "48400\n",
      "48500\n",
      "48600\n",
      "48700\n"
     ]
    },
    {
     "data": {
      "image/png": "[encoded data removed]",
      "text/plain": [
       "<Figure size 432x288 with 1 Axes>"
      ]
     },
     "metadata": {
      "needs_background": "light"
     },
     "output_type": "display_data"
    }
   ],
   "source": [
    "for mothID in first[0:1]:\n",
    "    if not os.path.exists(direc + mothID + '_probHeadAngle.csv'):\n",
    "        mothID = mothID + '_cropped'\n",
    "    df = pd.read_csv(direc + mothID + '_ProbHeadAntennae.csv')\n",
    "    df_angle = pd.read_csv(direc + mothID + '_probHeadAngle.csv')\n",
    "\n",
    "#     proboscis = pd.read_csv(direc + mothID + '_proboscis_notCentered.csv')\n",
    "#     headJoint = pd.read_csv(direc + mothID + '_HeadprobJoint_notCentered.csv')\n",
    "#     mothCenter = pd.read_csv(direc + mothID + '_MothCOM_notCentered.csv')\n",
    "    \n",
    "    LfAntennae = df.loc[:, 'LAnt_x' : 'LAnt_y']\n",
    "    RtAntennae = df.loc[:, 'RAnt_x': 'RAnt_y']\n",
    "    head_dir = df.loc[:, 'head_dir_x':'head_dir_y']\n",
    "    head = df.loc[:, 'head_x':'head_y']\n",
    "    proboscis = df.loc[:, 'probocis_x':'probocis_y']\n",
    "\n",
    "    tracks = [LfAntennae, RtAntennae, head_dir, head, proboscis]\n",
    "    for tt in tracks:\n",
    "        tt.columns = ['x', 'y']    \n",
    "    \n",
    "    path_frame_Reference = glob.glob(path_for_visit_frames + mothID + '_RawDataForExplorationTime.csv')\n",
    "    Visit_info_f = pd.read_csv(path_frame_Reference[0])\n",
    "    Visit_info = Visit_info_f[['MothIN', 'MothOut','ProboscisDetect']]\n",
    "\n",
    "    fin = Visit_info.iloc[visitnum, 0]\n",
    "    fout = Visit_info.iloc[visitnum, 2]\n",
    "    if np.isnan(fout):\n",
    "        fout = Visit_info.iloc[visitnum, 1]\n",
    "\n",
    "    fin = int(fin)\n",
    "    fout = int(fout)\n",
    "\n",
    "    SpecificVideoPath = [f for f in ourVideoPath if mothID + '.mp4' in f][0]\n",
    "    # load images\n",
    "    imList = load_imgs(SpecificVideoPath, fin, fout)\n",
    "    \n",
    "#     for cat in category:\n",
    "        \n",
    "#         if cat == 'obtuse':\n",
    "#             subset = df[(df.ProbAngle > np.pi/2) | (df.ProbAngle < -np.pi/2)]\n",
    "#         else:\n",
    "#             subset = df[(df.ProbAngle < np.pi/2) | (df.ProbAngle > -np.pi/2)]\n",
    "#         len(df), len(subset)\n",
    "   \n",
    "    # make directory to store images\n",
    "    string = mothID + '_checkHeadDirection'\n",
    "    tempImgDirectory = os.path.join(os.path.dirname(r\"./dataFolders/PaperPipelineOutput/Figures/v3/OtherBodyPartTracks/VideoCheck/temp/\"), string)\n",
    "    if not os.path.exists(tempImgDirectory):\n",
    "        os.mkdir(tempImgDirectory)\n",
    "\n",
    "    fig = plt.figure()\n",
    "    for idx in df.index:\n",
    "        # adjust gamma\n",
    "        image = adjust_gamma(imList[idx], 1.5)\n",
    "        plt.imshow(image)\n",
    "\n",
    "        prob = proboscis.x[idx], proboscis.y[idx]\n",
    "        hJ = head.x[idx], head.y[idx]\n",
    "        hdir = head_dir.x[idx], head_dir.y[idx]\n",
    "\n",
    "        hJ2prob_x_values = [hJ[0], prob[0]]\n",
    "        hJ2prob_y_values = [hJ[1], prob[1]]\n",
    "        plt.plot(hJ2prob_x_values, hJ2prob_y_values, 'm')\n",
    "\n",
    "        body_x_values = [hJ[0], hdir[0]]\n",
    "        body_y_values = [hJ[1], hdir[1]]\n",
    "        plt.plot(body_x_values, body_y_values, 'y')\n",
    "\n",
    "        plt.plot(hJ[0], hJ[1], 'o', color = 'orange')\n",
    "        plt.plot(hdir[0], hdir[1], 'o', color = 'green')\n",
    "\n",
    "        aa = df_angle.ProbAngle[idx]*180/np.pi\n",
    "\n",
    "        s = 'angle = %0.3f' %aa\n",
    "    #     s = 'test'\n",
    "        plt.text(400, 50, s, fontsize=12, c = 'white')\n",
    "\n",
    "        plt.savefig(tempImgDirectory + '/' + str(idx).zfill(4) + '.png')\n",
    "        plt.cla()"
   ]
  },
  {
   "cell_type": "code",
   "execution_count": null,
   "metadata": {},
   "outputs": [],
   "source": []
  }
 ],
 "metadata": {
  "kernelspec": {
   "display_name": "Python 3",
   "language": "python",
   "name": "python3"
  },
  "language_info": {
   "codemirror_mode": {
    "name": "ipython",
    "version": 3
   },
   "file_extension": ".py",
   "mimetype": "text/x-python",
   "name": "python",
   "nbconvert_exporter": "python",
   "pygments_lexer": "ipython3",
   "version": "3.6.5"
  }
 },
 "nbformat": 4,
 "nbformat_minor": 2
}
