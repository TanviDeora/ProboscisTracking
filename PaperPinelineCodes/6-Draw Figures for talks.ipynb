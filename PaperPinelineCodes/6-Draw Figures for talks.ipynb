{
 "cells": [
  {
   "cell_type": "code",
   "execution_count": 1,
   "metadata": {},
   "outputs": [],
   "source": [
    "import numpy as np\n",
    "import pandas as pd\n",
    "import glob\n",
    "import os\n",
    "import matplotlib.pyplot as plt\n",
    "import sys"
   ]
  },
  {
   "cell_type": "code",
   "execution_count": 58,
   "metadata": {},
   "outputs": [],
   "source": [
    "import matplotlib\n",
    "matplotlib.rcParams['pdf.fonttype'] = 42\n",
    "matplotlib.rcParams['ps.fonttype'] = 42\n",
    "\n",
    "\n",
    "from matplotlib import rc\n",
    "rc('font',**{'family':'sans-serif','sans-serif':['Arial']})\n",
    "matplotlib.rc('pdf', fonttype=42)"
   ]
  },
  {
   "cell_type": "code",
   "execution_count": 2,
   "metadata": {},
   "outputs": [],
   "source": [
    "visitnum = ['FirstVisit/', 'LaterVisit/']\n",
    "\n",
    "for visit in visitnum[-1:]:\n",
    "    direc1 = os.path.join(r\"../dataFolders/PaperPipelineOutput/FilteredTracks_v2/\", visit)\n",
    "    direc2 = os.path.join(r\"../dataFolders/PaperPipelineOutput/RadiusAndAngle_v2/\", visit)\n",
    "    files1 = glob.glob(direc1 + 'c*.csv')\n",
    "    files2 = glob.glob(direc2 + 'c*.csv')\n",
    "\n",
    "outpathfig = os.path.join(r\"../dataFolders/PaperPipelineOutput/Figures/v2/radialDistanceOverTime/\", visit)"
   ]
  },
  {
   "cell_type": "code",
   "execution_count": 3,
   "metadata": {},
   "outputs": [
    {
     "data": {
      "text/html": [
       "<div>\n",
       "<style scoped>\n",
       "    .dataframe tbody tr th:only-of-type {\n",
       "        vertical-align: middle;\n",
       "    }\n",
       "\n",
       "    .dataframe tbody tr th {\n",
       "        vertical-align: top;\n",
       "    }\n",
       "\n",
       "    .dataframe thead th {\n",
       "        text-align: right;\n",
       "    }\n",
       "</style>\n",
       "<table border=\"1\" class=\"dataframe\">\n",
       "  <thead>\n",
       "    <tr style=\"text-align: right;\">\n",
       "      <th></th>\n",
       "      <th>x_centered</th>\n",
       "      <th>y_centered</th>\n",
       "      <th>radial_distance_normalized</th>\n",
       "      <th>angle</th>\n",
       "    </tr>\n",
       "  </thead>\n",
       "  <tbody>\n",
       "    <tr>\n",
       "      <td>0</td>\n",
       "      <td>-211.286962</td>\n",
       "      <td>-2.022963</td>\n",
       "      <td>2.855360</td>\n",
       "      <td>7.546547</td>\n",
       "    </tr>\n",
       "    <tr>\n",
       "      <td>1</td>\n",
       "      <td>-194.495344</td>\n",
       "      <td>0.365375</td>\n",
       "      <td>2.628320</td>\n",
       "      <td>8.427820</td>\n",
       "    </tr>\n",
       "    <tr>\n",
       "      <td>2</td>\n",
       "      <td>-181.990256</td>\n",
       "      <td>2.261506</td>\n",
       "      <td>2.459518</td>\n",
       "      <td>9.415801</td>\n",
       "    </tr>\n",
       "    <tr>\n",
       "      <td>3</td>\n",
       "      <td>-173.071306</td>\n",
       "      <td>3.645187</td>\n",
       "      <td>2.339320</td>\n",
       "      <td>9.706789</td>\n",
       "    </tr>\n",
       "    <tr>\n",
       "      <td>4</td>\n",
       "      <td>-167.038100</td>\n",
       "      <td>4.496178</td>\n",
       "      <td>2.258089</td>\n",
       "      <td>8.174898</td>\n",
       "    </tr>\n",
       "  </tbody>\n",
       "</table>\n",
       "</div>"
      ],
      "text/plain": [
       "   x_centered  y_centered  radial_distance_normalized     angle\n",
       "0 -211.286962   -2.022963                    2.855360  7.546547\n",
       "1 -194.495344    0.365375                    2.628320  8.427820\n",
       "2 -181.990256    2.261506                    2.459518  9.415801\n",
       "3 -173.071306    3.645187                    2.339320  9.706789\n",
       "4 -167.038100    4.496178                    2.258089  8.174898"
      ]
     },
     "execution_count": 3,
     "metadata": {},
     "output_type": "execute_result"
    }
   ],
   "source": [
    "trajectory = pd.read_csv(files2[0])\n",
    "trajectory.head()"
   ]
  },
  {
   "cell_type": "code",
   "execution_count": 55,
   "metadata": {},
   "outputs": [],
   "source": [
    "# half_width = 3.42\n",
    "full_width = 4.49\n",
    "height = full_width"
   ]
  },
  {
   "cell_type": "code",
   "execution_count": 59,
   "metadata": {},
   "outputs": [
    {
     "data": {
      "image/png": "[encoded data removed]",
      "text/plain": [
       "<Figure size 288x144 with 8 Axes>"
      ]
     },
     "metadata": {
      "needs_background": "light"
     },
     "output_type": "display_data"
    }
   ],
   "source": [
    "# draw colored sweeps\n",
    "f1, ax = plt.subplots(2,4, figsize = (4,2), sharex = True, sharey = True)\n",
    "ax = ax.ravel()\n",
    "\n",
    "names_first = ['c-1_m17', 'c-2_m23', 'c-3_m10', 'c-10_m11']\n",
    "names_last = ['c-1_m14', 'c-2_m12', 'c-3_m10', 'c-10_m11']\n",
    "names = [names_first, names_last]\n",
    "\n",
    "visitnum = ['FirstVisit/', 'LaterVisit/']\n",
    "\n",
    "ii = 0\n",
    "for visit, names in zip(visitnum, names):\n",
    "#     direc1 = os.path.join(r\"../dataFolders/PaperPipelineOutput/FilteredTracks_v2/\", visit)\n",
    "    direc2 = os.path.join(r\"../dataFolders/PaperPipelineOutput/RadiusAndAngle_v2/\", visit)\n",
    "#     files1 = glob.glob(direc1 + 'c*.csv')\n",
    "    files2 = glob.glob(direc2 + 'c*.csv')\n",
    "\n",
    "    for name in names:\n",
    "        data = [f for f in files2 if name in f][0]\n",
    "        trajectory = pd.read_csv(data)\n",
    "\n",
    "        r = trajectory.radial_distance_normalized.values\n",
    "        ax[ii].plot(np.arange(len(r))*1/100, r, color = 'k',\n",
    "                   linewidth = 0.5)\n",
    "#         ax[ii].legend()\n",
    "        ii+=1\n",
    "    plt.xlabel('Time (second)')\n",
    "    plt.ylabel('Radial Distance')\n",
    "    plt.ylim(-0.2, 3)\n",
    "    plt.savefig('../dataFolders/PaperPipelineOutput/Figures/v2/sweeps_forTalk.svg')"
   ]
  },
  {
   "cell_type": "code",
   "execution_count": 30,
   "metadata": {},
   "outputs": [
    {
     "data": {
      "text/html": [
       "<div>\n",
       "<style scoped>\n",
       "    .dataframe tbody tr th:only-of-type {\n",
       "        vertical-align: middle;\n",
       "    }\n",
       "\n",
       "    .dataframe tbody tr th {\n",
       "        vertical-align: top;\n",
       "    }\n",
       "\n",
       "    .dataframe thead th {\n",
       "        text-align: right;\n",
       "    }\n",
       "</style>\n",
       "<table border=\"1\" class=\"dataframe\">\n",
       "  <thead>\n",
       "    <tr style=\"text-align: right;\">\n",
       "      <th></th>\n",
       "      <th>x_centered</th>\n",
       "      <th>y_centered</th>\n",
       "      <th>radial_distance_normalized</th>\n",
       "      <th>angle</th>\n",
       "    </tr>\n",
       "  </thead>\n",
       "  <tbody>\n",
       "    <tr>\n",
       "      <td>0</td>\n",
       "      <td>-308.492698</td>\n",
       "      <td>36.799064</td>\n",
       "      <td>4.142397</td>\n",
       "      <td>8.547231</td>\n",
       "    </tr>\n",
       "    <tr>\n",
       "      <td>1</td>\n",
       "      <td>-298.527306</td>\n",
       "      <td>37.102620</td>\n",
       "      <td>4.010988</td>\n",
       "      <td>10.303627</td>\n",
       "    </tr>\n",
       "    <tr>\n",
       "      <td>2</td>\n",
       "      <td>-291.068573</td>\n",
       "      <td>37.778996</td>\n",
       "      <td>3.913468</td>\n",
       "      <td>14.066831</td>\n",
       "    </tr>\n",
       "    <tr>\n",
       "      <td>3</td>\n",
       "      <td>-285.755112</td>\n",
       "      <td>38.596572</td>\n",
       "      <td>3.844666</td>\n",
       "      <td>17.600982</td>\n",
       "    </tr>\n",
       "    <tr>\n",
       "      <td>4</td>\n",
       "      <td>-282.225535</td>\n",
       "      <td>39.323732</td>\n",
       "      <td>3.799359</td>\n",
       "      <td>19.290548</td>\n",
       "    </tr>\n",
       "  </tbody>\n",
       "</table>\n",
       "</div>"
      ],
      "text/plain": [
       "   x_centered  y_centered  radial_distance_normalized      angle\n",
       "0 -308.492698   36.799064                    4.142397   8.547231\n",
       "1 -298.527306   37.102620                    4.010988  10.303627\n",
       "2 -291.068573   37.778996                    3.913468  14.066831\n",
       "3 -285.755112   38.596572                    3.844666  17.600982\n",
       "4 -282.225535   39.323732                    3.799359  19.290548"
      ]
     },
     "execution_count": 30,
     "metadata": {},
     "output_type": "execute_result"
    }
   ],
   "source": [
    "trajectory.head()"
   ]
  },
  {
   "cell_type": "code",
   "execution_count": null,
   "metadata": {},
   "outputs": [],
   "source": [
    "# draw colored radius\n",
    "\n",
    "names_first = ['c-1_m17', 'c-2_m23', 'c-3_m10', 'c-10_m11']\n",
    "names_last = ['c-1_m14', 'c-2_m12', 'c-3_m10', 'c-10_m11']\n",
    "\n",
    "f1, ax = plt.subplots(1,4, figsize = (15,4), sharex = True, sharey = True)\n",
    "ax = ax.ravel()\n",
    "\n",
    "ii = 0\n",
    "for name in names:\n",
    "    data = [f for f in files if name in f][0]\n",
    "    trajectory = pd.read_csv(data)\n",
    "    ax[ii].plot(np.arange(len(trajectory.r))*1/100, trajectory.r, label = name)\n",
    "    ax[ii].legend()\n",
    "    ii+=1\n",
    "\n",
    "plt.ylim(-0.2, 4)\n",
    "plt.savefig('../dataFolders/PaperPipelineOutput/Figures/v2/sweeps_forTalk.png')\n"
   ]
  }
 ],
 "metadata": {
  "kernelspec": {
   "display_name": "Python 3",
   "language": "python",
   "name": "python3"
  },
  "language_info": {
   "codemirror_mode": {
    "name": "ipython",
    "version": 3
   },
   "file_extension": ".py",
   "mimetype": "text/x-python",
   "name": "python",
   "nbconvert_exporter": "python",
   "pygments_lexer": "ipython3",
   "version": "3.6.5"
  }
 },
 "nbformat": 4,
 "nbformat_minor": 2
}
