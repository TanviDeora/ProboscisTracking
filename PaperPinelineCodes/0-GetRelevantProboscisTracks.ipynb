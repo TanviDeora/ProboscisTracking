{
 "cells": [
  {
   "cell_type": "code",
   "execution_count": 1,
   "metadata": {},
   "outputs": [],
   "source": [
    "import numpy as np\n",
    "import pandas as pd\n",
    "import glob\n",
    "import os\n",
    "import matplotlib.pyplot as plt"
   ]
  },
  {
   "cell_type": "code",
   "execution_count": 2,
   "metadata": {},
   "outputs": [],
   "source": [
    "def GetRelevantTrackingData(fname):\n",
    "    DLC_track = glob.glob(path_for_DLCAnnotation + '\\\\'+ fname + 'DeepCut_' +  '*.h5')[0]\n",
    "    temp = pd.read_hdf(DLC_track)\n",
    "    DLC = temp.loc[slice(None),(slice(None),'proboscisTip')]\n",
    "    DLC = DLC.droplevel(level = [0,1], axis = 1)\n",
    "    return(DLC)  "
   ]
  },
  {
   "cell_type": "code",
   "execution_count": 3,
   "metadata": {},
   "outputs": [],
   "source": [
    "# use step 5 in moth learning as starting point to read out all the data that is included\n",
    "\n",
    "direc = r\"../../MothLearning/dataFolders/Output/Step5_FilesWith_TrueTrialAnd_ProboscisDetect_v2/\"\n",
    "mothlist = glob.glob(direc + '*.csv')"
   ]
  },
  {
   "cell_type": "code",
   "execution_count": 4,
   "metadata": {},
   "outputs": [],
   "source": [
    "path_for_DLCAnnotation = r\"G:\\My Drive\\Tom-Tanvi\\Shared With Bing,Tom and Tanvi\\Video Analysis\\DeepLabCut-ImageAnalysis\\take5\\outputFromDLC\\VideoResults\\EntireDataSet\"\n",
    "path_for_visit_frames = r\"../../MothLearning/dataFolders/Output/Step5_FilesWith_TrueTrialAnd_ProboscisDetect_v2/\""
   ]
  },
  {
   "cell_type": "code",
   "execution_count": 5,
   "metadata": {},
   "outputs": [],
   "source": [
    "# parameters used\n",
    "visits = ['FirstVisit/', 'Later7thVisit/' ,'LaterVisit/', 'LastVisit/']\n",
    "visit_num = [0, 6 ,19, -1]"
   ]
  },
  {
   "cell_type": "code",
   "execution_count": 6,
   "metadata": {},
   "outputs": [
    {
     "name": "stdout",
     "output_type": "stream",
     "text": [
      "(6, 'Later7thVisit/')\n"
     ]
    }
   ],
   "source": [
    "# which visit number do you want to analyse\n",
    "\n",
    "vstrt=1\n",
    "vstop=2\n",
    "for i in list(zip(visit_num, visits))[1:2]:\n",
    "    print(i)    "
   ]
  },
  {
   "cell_type": "code",
   "execution_count": 13,
   "metadata": {},
   "outputs": [
    {
     "name": "stdout",
     "output_type": "stream",
     "text": [
      "../../MothLearning/dataFolders/Output/Step5_FilesWith_TrueTrialAnd_ProboscisDetect_v2\\c-2_m2_RawDataForExplorationTime.csv\n"
     ]
    }
   ],
   "source": [
    "for ii in mothlist[55:56]:\n",
    "    print(ii)"
   ]
  },
  {
   "cell_type": "code",
   "execution_count": 14,
   "metadata": {},
   "outputs": [
    {
     "name": "stdout",
     "output_type": "stream",
     "text": [
      "c-2_m2\n",
      "55398_56349\n"
     ]
    }
   ],
   "source": [
    "tracks = pd.DataFrame()\n",
    "for file in mothlist[55:56]:\n",
    "    mothID = os.path.basename(file)[:-30]\n",
    "    print(mothID)\n",
    "    dlc = GetRelevantTrackingData(mothID)\n",
    "\n",
    "    path_frame_Reference = glob.glob(path_for_visit_frames + mothID + '_*RawDataForExplorationTime.csv')\n",
    "    Visit_info = pd.read_csv(path_frame_Reference[0])\n",
    "#     Visit_info = Visit_info[['MothIN', 'MothOut']]\n",
    "    Visit_info = Visit_info[['MothIN', 'MothOut','ProboscisDetect']]\n",
    "    \n",
    "\n",
    "    for visitnum, direc in list(zip(visit_num, visits))[vstrt:vstop]:\n",
    "        outpath = os.path.join(r\"../dataFolders/PaperPipelineOutput/RawTracks/\" + direc)\n",
    "        \n",
    "        if not os.path.exists(outpath):\n",
    "            try:\n",
    "                os.mkdir(outpath)\n",
    "            except OSError:\n",
    "                print (\"Creation of the directory %s failed\" % path)\n",
    "\n",
    "        # for later visit - uncomment\n",
    "#         if visitnum >= len(Visit_info):\n",
    "#             print(mothID + ' had no later visits')\n",
    "#             continue\n",
    "        if len(Visit_info) <= 7:\n",
    "            print(mothID + 'has less than 7 visits')\n",
    "            continue\n",
    "        \n",
    "          \n",
    "        fin = Visit_info.iloc[visitnum, 0]\n",
    "        fout = Visit_info.iloc[visitnum, 2]\n",
    "        if np.isnan(fout):\n",
    "            fout = Visit_info.iloc[visitnum, 1]\n",
    "        print(str(int(fin)) + '_' + str(int(fout)))\n",
    "        tracks = dlc[int(fin):int(fout)].copy()\n",
    "        tracks.to_csv(outpath + mothID + '_visit_' + str(visitnum) + '.csv')\n",
    "        \n",
    "        del dlc"
   ]
  },
  {
   "cell_type": "markdown",
   "metadata": {},
   "source": [
    "When considering later than 20th visit:\n",
    "c-1 - 10, \n",
    "c-2 - 13, \n",
    "c-3 - 13, and\n",
    "c-10 - 9 moths have no later visit"
   ]
  },
  {
   "cell_type": "markdown",
   "metadata": {},
   "source": [
    "When considering last visits: \n",
    "c-1 has 4, \n",
    "c-2 has 4 , \n",
    "c-3 has 5 and \n",
    "c-10 has 4 less than 7 visits"
   ]
  },
  {
   "cell_type": "code",
   "execution_count": 19,
   "metadata": {},
   "outputs": [
    {
     "data": {
      "text/plain": [
       "'c-2_m2'"
      ]
     },
     "execution_count": 19,
     "metadata": {},
     "output_type": "execute_result"
    }
   ],
   "source": [
    "mothID"
   ]
  },
  {
   "cell_type": "code",
   "execution_count": 18,
   "metadata": {},
   "outputs": [
    {
     "data": {
      "text/plain": [
       "['../../MothLearning/dataFolders/Output/Step5_FilesWith_TrueTrialAnd_ProboscisDetect_v2\\\\c-2_m20_RawDataForExplorationTime.csv',\n",
       " '../../MothLearning/dataFolders/Output/Step5_FilesWith_TrueTrialAnd_ProboscisDetect_v2\\\\c-2_m21_cropped_RawDataForExplorationTime.csv',\n",
       " '../../MothLearning/dataFolders/Output/Step5_FilesWith_TrueTrialAnd_ProboscisDetect_v2\\\\c-2_m22_RawDataForExplorationTime.csv',\n",
       " '../../MothLearning/dataFolders/Output/Step5_FilesWith_TrueTrialAnd_ProboscisDetect_v2\\\\c-2_m23_RawDataForExplorationTime.csv',\n",
       " '../../MothLearning/dataFolders/Output/Step5_FilesWith_TrueTrialAnd_ProboscisDetect_v2\\\\c-2_m2_RawDataForExplorationTime.csv']"
      ]
     },
     "execution_count": 18,
     "metadata": {},
     "output_type": "execute_result"
    }
   ],
   "source": [
    "path_frame_Reference"
   ]
  },
  {
   "cell_type": "code",
   "execution_count": null,
   "metadata": {},
   "outputs": [],
   "source": []
  }
 ],
 "metadata": {
  "kernelspec": {
   "display_name": "Python 3",
   "language": "python",
   "name": "python3"
  },
  "language_info": {
   "codemirror_mode": {
    "name": "ipython",
    "version": 3
   },
   "file_extension": ".py",
   "mimetype": "text/x-python",
   "name": "python",
   "nbconvert_exporter": "python",
   "pygments_lexer": "ipython3",
   "version": "3.6.5"
  }
 },
 "nbformat": 4,
 "nbformat_minor": 2
}
