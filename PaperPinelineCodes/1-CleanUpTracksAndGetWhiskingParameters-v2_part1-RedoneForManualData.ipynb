{
 "cells": [
  {
   "cell_type": "code",
   "execution_count": 8,
   "metadata": {},
   "outputs": [],
   "source": [
    "import numpy as np\n",
    "import pandas as pd\n",
    "import glob\n",
    "import os\n",
    "import matplotlib.pyplot as plt\n",
    "from scipy import signal\n",
    "import sys"
   ]
  },
  {
   "cell_type": "code",
   "execution_count": 9,
   "metadata": {},
   "outputs": [],
   "source": [
    "def GetRMSE(x2, y2, x1, y1):\n",
    "    from scipy.spatial.distance import pdist\n",
    "\n",
    "    er = []\n",
    "    for idx in range(len(x2)):\n",
    "        X = np.asarray([[x1[idx], y1[idx]], \n",
    "                         [x2[idx], y2[idx]]])\n",
    "        temp_er = pdist(X,metric = 'euclidean')\n",
    "        er.append(temp_er[0])\n",
    "    er = np.asarray(er)\n",
    "    return(er)"
   ]
  },
  {
   "cell_type": "code",
   "execution_count": 10,
   "metadata": {},
   "outputs": [],
   "source": [
    "# parameters used to filter data\n",
    "\n",
    "cutoff = 24\n",
    "\n",
    "interpol_order = 3 # order for polynomial interpolation\n",
    "\n",
    "# win_gauss = signal.gaussian(10,3) # gaussian kernal for smoothening interpolated data\n",
    "\n",
    "# parameters for the savitzky-golay filter\n",
    "savgol_win = 11\n",
    "savgol_polyorder = 3\n",
    "\n",
    "# window_length=7, polyorder=2,\n",
    "\n",
    "# ROLLING_WINDOW = [11, 21, 31][0]"
   ]
  },
  {
   "cell_type": "markdown",
   "metadata": {},
   "source": [
    "### get the r from the manually tracked data"
   ]
  },
  {
   "cell_type": "code",
   "execution_count": 11,
   "metadata": {},
   "outputs": [],
   "source": [
    "direc = r\"../dataFolders/PaperPipelineOutput/FilteredTracks_v2/ManualCleanup/CleanedUp/\"\n",
    "visitnum = ['FirstVisit/', 'Later7thVisit/','LaterVisit/', 'LastVisit/']\n",
    "\n",
    "for visit in visitnum[0:1]:\n",
    "    path = os.path.join(direc, visit)\n",
    "    trackslist = glob.glob(path + '*.csv')\n",
    "    \n",
    "#     pathFrame = os.path.join('../dataFolders/PaperPipelineOutput/FilteredTracks_v2/ManualCleanup/',\n",
    "#                             visit)\n",
    "#     frameReference = pd.read_csv(pathFrame + \"frameNumberReference.csv\")"
   ]
  },
  {
   "cell_type": "code",
   "execution_count": 12,
   "metadata": {},
   "outputs": [],
   "source": [
    "circ_parameters_path = glob.glob('../dataFolders/PaperPipelineOutput/CircleParameters/' + '*.csv')\n",
    "circ_parameters = pd.read_csv(circ_parameters_path[0])"
   ]
  },
  {
   "cell_type": "code",
   "execution_count": 13,
   "metadata": {},
   "outputs": [
    {
     "name": "stdout",
     "output_type": "stream",
     "text": [
      "../dataFolders/PaperPipelineOutput/FilteredTracks_v2/ManualCleanup/FinalTracks/FirstVisit/\n"
     ]
    }
   ],
   "source": [
    "outpath = os.path.join('../dataFolders/PaperPipelineOutput/FilteredTracks_v2/ManualCleanup/FinalTracks/', visit)\n",
    "print(outpath)\n",
    "\n",
    "if not os.path.exists(outpath):\n",
    "    os.mkdir(outpath)"
   ]
  },
  {
   "cell_type": "code",
   "execution_count": 14,
   "metadata": {
    "scrolled": true
   },
   "outputs": [
    {
     "name": "stdout",
     "output_type": "stream",
     "text": [
      "working on c-10_m11_FirstVisit_Edited_xypts\n",
      "working on c-10_m13_FirstVisit_Edited_xypts\n",
      "working on c-10_m15_FirstVisit_Edited_xypts\n",
      "working on c-1_m13_FirstVisit_Edited_xypts\n",
      "working on c-1_m14_FirstVisit_Edited_xypts\n",
      "working on c-1_m17_FirstVisit_Edited_xypts\n",
      "working on c-2_m20_FirstVisit_Edited_xypts\n",
      "working on c-2_m23_FirstVisit_Edited_xypts\n",
      "working on c-3_m10_FirstVisit_Edited_xypts\n"
     ]
    }
   ],
   "source": [
    "for data in trackslist:\n",
    "#     data = trackslist[0]\n",
    "    name = os.path.basename(data)[:-4]\n",
    "    print('working on ' + name)\n",
    "          \n",
    "    file = pd.read_csv(data)\n",
    "    \n",
    "    # get the frameNum that is relevant\n",
    "    segments = name.split(\"_\")\n",
    "    moth = segments[0] + '_' + segments[1]\n",
    "    \n",
    "    \n",
    "    strt = file.first_valid_index()\n",
    "    stop = file.last_valid_index()\n",
    "    \n",
    "    x = file[strt:stop].pt1_cam1_X.values\n",
    "    y = file[strt:stop].pt1_cam1_Y.values\n",
    "    \n",
    "    name = [n for n in circ_parameters.name if n + '_' in data][0]\n",
    "\n",
    "    circ_x = circ_parameters.loc[circ_parameters.name == name, 'circ_x'].values\n",
    "    circ_y = circ_parameters.loc[circ_parameters.name == name, 'circ_y'].values\n",
    "    circ_radii = circ_parameters.loc[circ_parameters.name == name, 'circ_radii'].values\n",
    "    \n",
    "    filtered_x = x \n",
    "    filtered_y = y \n",
    "    filtered_r = np.linalg.norm([filtered_x-circ_x, filtered_y-circ_y], axis = 0)\n",
    "    filtered_r = filtered_r/circ_radii\n",
    "    trajectory = pd.DataFrame([filtered_x, filtered_y, filtered_r]).T\n",
    "    trajectory.columns = ['x', 'y', 'r']\n",
    "    \n",
    "    trajectory.to_csv(outpath + name + '_' + visit[:-1] + '.csv')"
   ]
  },
  {
   "cell_type": "code",
   "execution_count": null,
   "metadata": {},
   "outputs": [],
   "source": []
  }
 ],
 "metadata": {
  "kernelspec": {
   "display_name": "Python 3",
   "language": "python",
   "name": "python3"
  },
  "language_info": {
   "codemirror_mode": {
    "name": "ipython",
    "version": 3
   },
   "file_extension": ".py",
   "mimetype": "text/x-python",
   "name": "python",
   "nbconvert_exporter": "python",
   "pygments_lexer": "ipython3",
   "version": "3.6.5"
  }
 },
 "nbformat": 4,
 "nbformat_minor": 2
}
