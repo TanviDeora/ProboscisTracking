{
 "cells": [
  {
   "cell_type": "code",
   "execution_count": 15,
   "metadata": {},
   "outputs": [],
   "source": [
    "import pandas as pd\n",
    "import glob\n",
    "import matplotlib.pyplot as plt\n",
    "import numpy as np\n",
    "import os\n",
    "\n",
    "from scipy import signal"
   ]
  },
  {
   "cell_type": "code",
   "execution_count": 2,
   "metadata": {},
   "outputs": [],
   "source": [
    "# use fft to pull out frequency\n",
    "def returnFFT(array, Fs):\n",
    "    from scipy.fftpack import fft\n",
    "    \n",
    "    meanx = np.mean(array)\n",
    "    fftr = fft(array - meanx)\n",
    "        \n",
    "    Nsamples = len(r) # number of points\n",
    "    Nf = Nsamples # max Nyquist frequency is Nf/2\n",
    "    \n",
    "    TT = 1/Fs # resolution of frequency\n",
    "\n",
    "    xf = np.linspace(0.0, 1.0/(2.0*TT), round(Nf/(2)))\n",
    "    \n",
    "    return(xf, fftr)"
   ]
  },
  {
   "cell_type": "code",
   "execution_count": 4,
   "metadata": {},
   "outputs": [],
   "source": [
    "# AllData = pd.read_csv('./dataFolders/compiledTrackData.csv')\n",
    "# circ_params = pd.read_csv('./dataFolders/circle_parameters.csv')\n",
    "# outfig = './dataFolders/Figures/'"
   ]
  },
  {
   "cell_type": "code",
   "execution_count": 41,
   "metadata": {},
   "outputs": [],
   "source": [
    "Allpath = glob.glob('../dataFolders/PaperPipelineOutput/RadiusAndAngle_v2/' + 'c*.csv')\n",
    "\n",
    "guide = pd.read_csv(\"../dataFolders/PaperPipelineOutput/FilteredTracks_v2/AllVideoNames.csv\")\n",
    "# print(guide.head())\n",
    "filesToRead = guide[guide.AutomatatedTracking != \"TRUE\"]"
   ]
  },
  {
   "cell_type": "code",
   "execution_count": 33,
   "metadata": {},
   "outputs": [],
   "source": [
    "name = os.path.basename(Allpath[0])[:-19]"
   ]
  },
  {
   "cell_type": "code",
   "execution_count": 34,
   "metadata": {},
   "outputs": [
    {
     "data": {
      "text/plain": [
       "True"
      ]
     },
     "execution_count": 34,
     "metadata": {},
     "output_type": "execute_result"
    }
   ],
   "source": [
    "np.any(filesToRead.names.str.contains(name))"
   ]
  },
  {
   "cell_type": "code",
   "execution_count": 98,
   "metadata": {},
   "outputs": [
    {
     "name": "stderr",
     "output_type": "stream",
     "text": [
      "C:\\Users\\Tanvi\\AppData\\Local\\Continuum\\anaconda3\\lib\\site-packages\\ipykernel_launcher.py:14: RuntimeWarning: invalid value encountered in greater\n",
      "  \n",
      "C:\\Users\\Tanvi\\AppData\\Local\\Continuum\\anaconda3\\lib\\site-packages\\ipykernel_launcher.py:14: RuntimeWarning: invalid value encountered in greater\n",
      "  \n",
      "C:\\Users\\Tanvi\\AppData\\Local\\Continuum\\anaconda3\\lib\\site-packages\\ipykernel_launcher.py:14: RuntimeWarning: invalid value encountered in greater\n",
      "  \n",
      "C:\\Users\\Tanvi\\AppData\\Local\\Continuum\\anaconda3\\lib\\site-packages\\ipykernel_launcher.py:14: RuntimeWarning: invalid value encountered in greater\n",
      "  \n",
      "C:\\Users\\Tanvi\\AppData\\Local\\Continuum\\anaconda3\\lib\\site-packages\\ipykernel_launcher.py:14: RuntimeWarning: invalid value encountered in greater\n",
      "  \n",
      "C:\\Users\\Tanvi\\AppData\\Local\\Continuum\\anaconda3\\lib\\site-packages\\ipykernel_launcher.py:14: RuntimeWarning: invalid value encountered in greater\n",
      "  \n",
      "C:\\Users\\Tanvi\\AppData\\Local\\Continuum\\anaconda3\\lib\\site-packages\\ipykernel_launcher.py:14: RuntimeWarning: invalid value encountered in greater\n",
      "  \n",
      "C:\\Users\\Tanvi\\AppData\\Local\\Continuum\\anaconda3\\lib\\site-packages\\ipykernel_launcher.py:14: RuntimeWarning: invalid value encountered in greater\n",
      "  \n",
      "C:\\Users\\Tanvi\\AppData\\Local\\Continuum\\anaconda3\\lib\\site-packages\\ipykernel_launcher.py:14: RuntimeWarning: invalid value encountered in greater\n",
      "  \n",
      "C:\\Users\\Tanvi\\AppData\\Local\\Continuum\\anaconda3\\lib\\site-packages\\ipykernel_launcher.py:14: RuntimeWarning: invalid value encountered in greater\n",
      "  \n",
      "C:\\Users\\Tanvi\\AppData\\Local\\Continuum\\anaconda3\\lib\\site-packages\\ipykernel_launcher.py:14: RuntimeWarning: invalid value encountered in greater\n",
      "  \n",
      "C:\\Users\\Tanvi\\AppData\\Local\\Continuum\\anaconda3\\lib\\site-packages\\ipykernel_launcher.py:14: RuntimeWarning: invalid value encountered in greater\n",
      "  \n",
      "C:\\Users\\Tanvi\\AppData\\Local\\Continuum\\anaconda3\\lib\\site-packages\\ipykernel_launcher.py:14: RuntimeWarning: invalid value encountered in greater\n",
      "  \n",
      "C:\\Users\\Tanvi\\AppData\\Local\\Continuum\\anaconda3\\lib\\site-packages\\ipykernel_launcher.py:14: RuntimeWarning: invalid value encountered in greater\n",
      "  \n",
      "C:\\Users\\Tanvi\\AppData\\Local\\Continuum\\anaconda3\\lib\\site-packages\\ipykernel_launcher.py:14: RuntimeWarning: invalid value encountered in greater\n",
      "  \n",
      "C:\\Users\\Tanvi\\AppData\\Local\\Continuum\\anaconda3\\lib\\site-packages\\ipykernel_launcher.py:14: RuntimeWarning: invalid value encountered in greater\n",
      "  \n"
     ]
    }
   ],
   "source": [
    "n = []\n",
    "peaks = []\n",
    "freq = []\n",
    "for path in Allpath:\n",
    "    name = os.path.basename(path)[:-19]\n",
    "#     name =  'c-1_m19'\n",
    "#     path = [p for p in Allpath if name in p][0]\n",
    "    if np.any(filesToRead.names.str.contains(name)):\n",
    "        continue\n",
    "#     path = [data for data in Allpath if name in data]\n",
    "    dataExamples = pd.read_csv(path)\n",
    "    \n",
    "    r = dataExamples.radial_distance_normalized.values\n",
    "    r[r > 2.5] = np.nan\n",
    "    \n",
    "    # get the number of peaks\n",
    "    ind, _ = signal.find_peaks(r, prominence=(0.5, ) )\n",
    "    plt.plot(r)\n",
    "    plt.plot(ind, r[ind], 'o')\n",
    "    plt.savefig('../dataFolders/PaperPipelineOutput/Figures/v2/Dynamics-Rythmicity/' + name + '_peaks.pdf')\n",
    "    plt.close()\n",
    "    \n",
    "    \n",
    "    # testing the Welch method\n",
    "    s = np.split(r, np.where(np.isnan(r))[0]+1)\n",
    "    nanFreeSeg = max(s, key = len)\n",
    "    f, Pxx = signal.welch(x= nanFreeSeg, \n",
    "                          fs=100.0, \n",
    "                          window='hanning',\n",
    "                          nperseg = round(len(r)/5),\n",
    "                          return_onesided=True, scaling='density')\n",
    "    plt.plot(f, Pxx)\n",
    "    plt.savefig('../dataFolders/PaperPipelineOutput/Figures/v2/Dynamics-Rythmicity/' + name + '_welchFFT.pdf')\n",
    "    plt.close()\n",
    "    \n",
    "    max_f = f[np.argmax(Pxx)]\n",
    "\n",
    "#     print('max freq for %s is: %.2f Hz' % (name, f[np.argmax(Pxx)]))\n",
    "        \n",
    "    n.append(name)\n",
    "    peaks.append(len(ind))\n",
    "    freq.append(max_f)"
   ]
  },
  {
   "cell_type": "code",
   "execution_count": 99,
   "metadata": {},
   "outputs": [],
   "source": [
    "SweepDynamics = pd.DataFrame([n, peaks, freq]).T\n",
    "SweepDynamics.to_csv(r'../dataFolders/PaperPipelineOutput/RadiusAndAngle_v2/SweepDynamics.csv')"
   ]
  },
  {
   "cell_type": "code",
   "execution_count": 100,
   "metadata": {},
   "outputs": [],
   "source": [
    "# save this data as a csv\n",
    "SweepDynamics = pd.DataFrame([n, peaks, freq]).T\n",
    "SweepDynamics.columns = ['names', 'numPeaks', 'freq']\n",
    "SweepDynamics.to_csv(r'../dataFolders/PaperPipelineOutput/RadiusAndAngle_v2/SweepDynamics.csv')"
   ]
  },
  {
   "cell_type": "code",
   "execution_count": 168,
   "metadata": {},
   "outputs": [
    {
     "data": {
      "text/html": [
       "<div>\n",
       "<style scoped>\n",
       "    .dataframe tbody tr th:only-of-type {\n",
       "        vertical-align: middle;\n",
       "    }\n",
       "\n",
       "    .dataframe tbody tr th {\n",
       "        vertical-align: top;\n",
       "    }\n",
       "\n",
       "    .dataframe thead th {\n",
       "        text-align: right;\n",
       "    }\n",
       "</style>\n",
       "<table border=\"1\" class=\"dataframe\">\n",
       "  <thead>\n",
       "    <tr style=\"text-align: right;\">\n",
       "      <th></th>\n",
       "      <th>names</th>\n",
       "      <th>numPeaks</th>\n",
       "      <th>freq</th>\n",
       "      <th>flower</th>\n",
       "      <th>mothname</th>\n",
       "    </tr>\n",
       "  </thead>\n",
       "  <tbody>\n",
       "    <tr>\n",
       "      <td>0</td>\n",
       "      <td>c-10_m10</td>\n",
       "      <td>2</td>\n",
       "      <td>1.923077</td>\n",
       "      <td>c-10</td>\n",
       "      <td>m10</td>\n",
       "    </tr>\n",
       "    <tr>\n",
       "      <td>1</td>\n",
       "      <td>c-10_m11</td>\n",
       "      <td>14</td>\n",
       "      <td>1.438849</td>\n",
       "      <td>c-10</td>\n",
       "      <td>m11</td>\n",
       "    </tr>\n",
       "    <tr>\n",
       "      <td>2</td>\n",
       "      <td>c-10_m12</td>\n",
       "      <td>40</td>\n",
       "      <td>0.129702</td>\n",
       "      <td>c-10</td>\n",
       "      <td>m12</td>\n",
       "    </tr>\n",
       "    <tr>\n",
       "      <td>3</td>\n",
       "      <td>c-10_m16</td>\n",
       "      <td>1</td>\n",
       "      <td>2.857143</td>\n",
       "      <td>c-10</td>\n",
       "      <td>m16</td>\n",
       "    </tr>\n",
       "    <tr>\n",
       "      <td>4</td>\n",
       "      <td>c-10_m17</td>\n",
       "      <td>3</td>\n",
       "      <td>1.000000</td>\n",
       "      <td>c-10</td>\n",
       "      <td>m17</td>\n",
       "    </tr>\n",
       "  </tbody>\n",
       "</table>\n",
       "</div>"
      ],
      "text/plain": [
       "      names  numPeaks      freq flower mothname\n",
       "0  c-10_m10         2  1.923077   c-10      m10\n",
       "1  c-10_m11        14  1.438849   c-10      m11\n",
       "2  c-10_m12        40  0.129702   c-10      m12\n",
       "3  c-10_m16         1  2.857143   c-10      m16\n",
       "4  c-10_m17         3  1.000000   c-10      m17"
      ]
     },
     "execution_count": 168,
     "metadata": {},
     "output_type": "execute_result"
    }
   ],
   "source": [
    "# plot the results\n",
    "\n",
    "SweepDynamics[['flower', 'mothname']] = SweepDynamics.names.str.split(pat = '_', n = 2, expand = True)\n",
    "SweepDynamics[\"numPeaks\"] = pd.to_numeric(SweepDynamics[\"numPeaks\"])\n",
    "SweepDynamics[\"freq\"] = pd.to_numeric(SweepDynamics[\"freq\"])\n",
    "SweepDynamics.head()"
   ]
  },
  {
   "cell_type": "code",
   "execution_count": 146,
   "metadata": {},
   "outputs": [
    {
     "data": {
      "text/plain": [
       "(-5, 100)"
      ]
     },
     "execution_count": 146,
     "metadata": {},
     "output_type": "execute_result"
    },
    {
     "data": {
      "image/png": "[encoded data removed]",
      "text/plain": [
       "<Figure size 432x288 with 1 Axes>"
      ]
     },
     "metadata": {
      "needs_background": "light"
     },
     "output_type": "display_data"
    }
   ],
   "source": [
    "import seaborn as sns\n",
    "\n",
    "f = sns.swarmplot(x = 'flower', y = 'numPeaks', \n",
    "                  order = [\"c-1\" ,\"c-2\", \"c-3\", \"c-10\"],\n",
    "                 data = SweepDynamics, )\n",
    "sns.pointplot(x=\"flower\", y=\"numPeaks\", estimator = np.median, data=SweepDynamics, \n",
    "#               ci = 'sd',\n",
    "              color = 'k')\n",
    "plt.setp(f.lines,linewidth=1) \n",
    "ax = f.axes\n",
    "ax.set_ylim(-5,100)"
   ]
  },
  {
   "cell_type": "code",
   "execution_count": 126,
   "metadata": {},
   "outputs": [
    {
     "data": {
      "text/plain": [
       "flower\n",
       "c-1     1.5\n",
       "c-10    9.0\n",
       "c-2     2.5\n",
       "c-3     5.0\n",
       "Name: numPeaks, dtype: float64"
      ]
     },
     "execution_count": 126,
     "metadata": {},
     "output_type": "execute_result"
    }
   ],
   "source": [
    "m = SweepDynamics.groupby('flower')['numPeaks'].apply(np.median)\n",
    "m"
   ]
  },
  {
   "cell_type": "code",
   "execution_count": 103,
   "metadata": {},
   "outputs": [
    {
     "data": {
      "text/plain": [
       "<matplotlib.axes._subplots.AxesSubplot at 0x1666c286320>"
      ]
     },
     "execution_count": 103,
     "metadata": {},
     "output_type": "execute_result"
    },
    {
     "data": {
      "image/png": "[encoded data removed]",
      "text/plain": [
       "<Figure size 432x288 with 1 Axes>"
      ]
     },
     "metadata": {
      "needs_background": "light"
     },
     "output_type": "display_data"
    }
   ],
   "source": [
    "sns.swarmplot(x = 'flower', y = 'freq', data = SweepDynamics)"
   ]
  },
  {
   "cell_type": "code",
   "execution_count": null,
   "metadata": {},
   "outputs": [],
   "source": [
    "from scipy import stats"
   ]
  },
  {
   "cell_type": "code",
   "execution_count": 155,
   "metadata": {},
   "outputs": [
    {
     "name": "stdout",
     "output_type": "stream",
     "text": [
      "c-1 has 22.18 stats and 0.000015257558347 p value\n",
      "c-1 is not normally distributed\n",
      "c-10 has 14.82 stats and 0.000604337238112 p value\n",
      "c-10 is not normally distributed\n",
      "c-2 has 30.55 stats and 0.000000232781806 p value\n",
      "c-2 is not normally distributed\n",
      "c-3 has 48.42 stats and 0.000000000030670 p value\n",
      "c-3 is not normally distributed\n"
     ]
    }
   ],
   "source": [
    "for name, grp in SweepDynamics.groupby('flower'):\n",
    "    f,p = stats.normaltest(grp['numPeaks'])\n",
    "    print('%s has %.2f stats and %.15f p value' %(name,f,p))\n",
    "    if p < 0.5:\n",
    "        print('%s is not normally distributed' %name)\n",
    "    else:\n",
    "        print('%s is normally distributed' %name)"
   ]
  },
  {
   "cell_type": "code",
   "execution_count": 184,
   "metadata": {},
   "outputs": [
    {
     "data": {
      "text/plain": [
       "KruskalResult(statistic=7.119147437022804, pvalue=0.06819555617185072)"
      ]
     },
     "execution_count": 184,
     "metadata": {},
     "output_type": "execute_result"
    }
   ],
   "source": [
    "c1 = SweepDynamics.loc[SweepDynamics.flower == 'c-1', 'numPeaks'].values\n",
    "c2 = SweepDynamics.loc[SweepDynamics.flower == 'c-2', 'numPeaks'].values\n",
    "c3 = SweepDynamics.loc[SweepDynamics.flower == 'c-3', 'numPeaks'].values\n",
    "c10 = SweepDynamics.loc[SweepDynamics.flower == 'c-10', 'numPeaks'].values\n",
    "stats.kruskal(list(c1), list(c2), list(c3), list(c10))"
   ]
  },
  {
   "cell_type": "code",
   "execution_count": 185,
   "metadata": {},
   "outputs": [
    {
     "name": "stdout",
     "output_type": "stream",
     "text": [
      "c-1 has 3.98 stats and 0.136845431749035 p value\n",
      "c-1 is not normally distributed\n",
      "c-10 has 2.20 stats and 0.333277248555266 p value\n",
      "c-10 is not normally distributed\n",
      "c-2 has 18.15 stats and 0.000114216761620 p value\n",
      "c-2 is not normally distributed\n",
      "c-3 has 2.70 stats and 0.258709026727708 p value\n",
      "c-3 is not normally distributed\n"
     ]
    },
    {
     "name": "stderr",
     "output_type": "stream",
     "text": [
      "C:\\Users\\Tanvi\\AppData\\Local\\Continuum\\anaconda3\\lib\\site-packages\\scipy\\stats\\stats.py:1450: UserWarning: kurtosistest only valid for n>=20 ... continuing anyway, n=12\n",
      "  \"anyway, n=%i\" % int(n))\n",
      "C:\\Users\\Tanvi\\AppData\\Local\\Continuum\\anaconda3\\lib\\site-packages\\scipy\\stats\\stats.py:1450: UserWarning: kurtosistest only valid for n>=20 ... continuing anyway, n=16\n",
      "  \"anyway, n=%i\" % int(n))\n",
      "C:\\Users\\Tanvi\\AppData\\Local\\Continuum\\anaconda3\\lib\\site-packages\\scipy\\stats\\stats.py:1450: UserWarning: kurtosistest only valid for n>=20 ... continuing anyway, n=19\n",
      "  \"anyway, n=%i\" % int(n))\n"
     ]
    }
   ],
   "source": [
    "for name, grp in SweepDynamics.groupby('flower'):\n",
    "    f,p = stats.normaltest(grp['freq'])\n",
    "    print('%s has %.2f stats and %.15f p value' %(name,f,p))\n",
    "    if p < 0.5:\n",
    "        print('%s is not normally distributed' %name)\n",
    "    else:\n",
    "        print('%s is normally distributed' %name)"
   ]
  },
  {
   "cell_type": "code",
   "execution_count": 186,
   "metadata": {},
   "outputs": [
    {
     "data": {
      "text/plain": [
       "KruskalResult(statistic=1.1880937408272674, pvalue=0.7558613180939323)"
      ]
     },
     "execution_count": 186,
     "metadata": {},
     "output_type": "execute_result"
    }
   ],
   "source": [
    "c1 = SweepDynamics.loc[SweepDynamics.flower == 'c-1', 'freq'].values\n",
    "c2 = SweepDynamics.loc[SweepDynamics.flower == 'c-2', 'freq'].values\n",
    "c3 = SweepDynamics.loc[SweepDynamics.flower == 'c-3', 'freq'].values\n",
    "c10 = SweepDynamics.loc[SweepDynamics.flower == 'c-10', 'freq'].values\n",
    "stats.kruskal(list(c1), list(c2), list(c3), list(c10))"
   ]
  },
  {
   "cell_type": "code",
   "execution_count": null,
   "metadata": {},
   "outputs": [],
   "source": []
  }
 ],
 "metadata": {
  "kernelspec": {
   "display_name": "Python 3",
   "language": "python",
   "name": "python3"
  },
  "language_info": {
   "codemirror_mode": {
    "name": "ipython",
    "version": 3
   },
   "file_extension": ".py",
   "mimetype": "text/x-python",
   "name": "python",
   "nbconvert_exporter": "python",
   "pygments_lexer": "ipython3",
   "version": "3.6.5"
  }
 },
 "nbformat": 4,
 "nbformat_minor": 2
}
