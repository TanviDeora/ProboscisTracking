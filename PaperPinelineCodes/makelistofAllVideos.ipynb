{
 "cells": [
  {
   "cell_type": "code",
   "execution_count": 1,
   "metadata": {},
   "outputs": [],
   "source": [
    "import os\n",
    "import glob\n",
    "import pandas as pd"
   ]
  },
  {
   "cell_type": "code",
   "execution_count": 4,
   "metadata": {},
   "outputs": [],
   "source": [
    "visitnum = ['FirstVisit/','Later7thVisit/', 'Later20thVisit/']\n",
    "\n",
    "for visit in visitnum:\n",
    "    path = os.path.join(r\"../dataFolders/PaperPipelineOutput/v3/FilteredTracks/\", visit)\n",
    "    files = glob.glob(path + \"c*.csv\")\n",
    "    \n",
    "    n = []\n",
    "    for f in files:\n",
    "        basename = os.path.basename(f)\n",
    "        segments = basename.split('_')\n",
    "        name = segments[0]+ \"_\" + segments[1]\n",
    "        n.extend([name])\n",
    "    df = pd.DataFrame({'names': n})\n",
    "    df.to_csv(path + 'AllVideoNames.csv')"
   ]
  },
  {
   "cell_type": "code",
   "execution_count": null,
   "metadata": {},
   "outputs": [],
   "source": []
  }
 ],
 "metadata": {
  "kernelspec": {
   "display_name": "Python 3",
   "language": "python",
   "name": "python3"
  },
  "language_info": {
   "codemirror_mode": {
    "name": "ipython",
    "version": 3
   },
   "file_extension": ".py",
   "mimetype": "text/x-python",
   "name": "python",
   "nbconvert_exporter": "python",
   "pygments_lexer": "ipython3",
   "version": "3.6.5"
  }
 },
 "nbformat": 4,
 "nbformat_minor": 2
}
