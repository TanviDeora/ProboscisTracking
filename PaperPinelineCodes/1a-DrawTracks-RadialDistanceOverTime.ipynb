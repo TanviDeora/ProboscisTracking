{
 "cells": [
  {
   "cell_type": "code",
   "execution_count": 1,
   "metadata": {},
   "outputs": [],
   "source": [
    "import numpy as np\n",
    "import pandas as pd\n",
    "import glob\n",
    "import os\n",
    "import matplotlib.pyplot as plt\n",
    "# from scipy import signal\n",
    "import sys"
   ]
  },
  {
   "cell_type": "code",
   "execution_count": 2,
   "metadata": {},
   "outputs": [],
   "source": [
    "visitnum = ['FirstVisit/', 'Later7thVisit/' ,'Later20thVisit/'\n",
    "            , 'LastVisit/']"
   ]
  },
  {
   "cell_type": "code",
   "execution_count": 3,
   "metadata": {},
   "outputs": [],
   "source": [
    "for visit in visitnum:\n",
    "#     direc = os.path.join(r\"../dataFolders/PaperPipelineOutput/v3/FilteredTracks/\", visit)\n",
    "    direc = os.path.join(r\"../dataFolders/PaperPipelineOutput/v3/RadiusAndAngle/\", visit)\n",
    "    files = glob.glob(direc + 'c*.csv')\n",
    "    \n",
    "    outpathfig = os.path.join(r\"../dataFolders/PaperPipelineOutput/Figures/v3/radialDistanceOverTime/FinalCompiledTracks/\", visit)\n",
    "    if not os.path.exists(outpathfig):\n",
    "        try:\n",
    "            os.mkdir(outpathfig)\n",
    "        except OSError:\n",
    "            print (\"Creation of the directory %s failed\" % outpathfig)\n",
    "    \n",
    "    for f in files:\n",
    "        trajectory = pd.read_csv(f)\n",
    "        name = os.path.basename(f)[:-14]\n",
    "#         plt.plot(trajectory.r, label = name)\n",
    "        plt.plot(trajectory.radial_distance_normalized, label = name)\n",
    "        plt.legend()\n",
    "        plt.ylim(-0.2, 5)\n",
    "        plt.savefig(outpathfig + name + '.pdf')\n",
    "        plt.close()"
   ]
  },
  {
   "cell_type": "markdown",
   "metadata": {},
   "source": [
    "## draw for handpicked cases"
   ]
  },
  {
   "cell_type": "code",
   "execution_count": null,
   "metadata": {},
   "outputs": [],
   "source": [
    "names = ['c-1_m17', 'c-2_m23', 'c-3_m10', 'c-10_m11']\n",
    "\n",
    "fig, ax = plt.subplots(1,4, figsize = (15,4), sharex = True, sharey = True)\n",
    "ax = ax.ravel()\n",
    "\n",
    "ii = 0\n",
    "for name in names:\n",
    "    data = [f for f in files if name in f][0]\n",
    "    trajectory = pd.read_csv(data)\n",
    "    ax[ii].plot(np.arange(len(trajectory.r))*1/100, trajectory.r, label = name)\n",
    "    ax[ii].legend()\n",
    "    ii+=1\n",
    "\n",
    "plt.ylim(-0.2, 4)\n",
    "plt.savefig('../dataFolders/PaperPipelineOutput/Figures/v2/sweeps.png')"
   ]
  },
  {
   "cell_type": "code",
   "execution_count": null,
   "metadata": {},
   "outputs": [],
   "source": []
  }
 ],
 "metadata": {
  "kernelspec": {
   "display_name": "Python 3",
   "language": "python",
   "name": "python3"
  },
  "language_info": {
   "codemirror_mode": {
    "name": "ipython",
    "version": 3
   },
   "file_extension": ".py",
   "mimetype": "text/x-python",
   "name": "python",
   "nbconvert_exporter": "python",
   "pygments_lexer": "ipython3",
   "version": "3.6.5"
  }
 },
 "nbformat": 4,
 "nbformat_minor": 2
}
