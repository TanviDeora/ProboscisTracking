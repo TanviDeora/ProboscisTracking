{
 "cells": [
  {
   "cell_type": "code",
   "execution_count": 80,
   "metadata": {},
   "outputs": [],
   "source": [
    "import numpy as np\n",
    "import pandas as pd\n",
    "import glob\n",
    "import os\n",
    "import matplotlib.pyplot as plt\n",
    "from scipy import signal\n",
    "import sys"
   ]
  },
  {
   "cell_type": "code",
   "execution_count": 81,
   "metadata": {},
   "outputs": [],
   "source": [
    "direc = r\"../dataFolders/PaperPipelineOutput/RawTracks/\"\n",
    "visitnum = 'FirstVisit/'\n",
    "# for visitnum in ['FirstVisit/', 'LastVisit/']:\n",
    "    \n",
    "path = os.path.join(direc, visitnum)\n",
    "trackslist = glob.glob(path + '*.csv')"
   ]
  },
  {
   "cell_type": "code",
   "execution_count": 111,
   "metadata": {},
   "outputs": [
    {
     "name": "stdout",
     "output_type": "stream",
     "text": [
      "1.0\n",
      "0.9999996423721312\n",
      "1.0\n",
      "0.9999997615814208\n",
      "0.9999996423721312\n",
      "0.9999986886978149\n",
      "0.9999989867210388\n",
      "0.9999998807907104\n",
      "0.999966561794281\n",
      "0.2260289341211319\n",
      "0.9999972581863404\n",
      "0.9882550239562988\n",
      "1.0\n",
      "1.0\n",
      "0.9742170870304108\n",
      "0.7947573065757751\n",
      "0.9998925924301147\n",
      "0.9621650576591492\n",
      "0.9999952912330627\n",
      "0.9991669356822968\n",
      "1.0\n",
      "0.9999998807907104\n",
      "0.9999998807907104\n",
      "1.0\n",
      "0.9999998807907104\n",
      "1.0\n",
      "0.5190941989421844\n",
      "0.9999982714653016\n",
      "0.9999997615814208\n",
      "1.0\n",
      "0.0019181178649887445\n",
      "0.9812124371528625\n",
      "0.8034960925579071\n",
      "1.0\n",
      "0.9999983906745911\n",
      "0.9998894929885864\n",
      "0.0016827045474201439\n",
      "0.999998927116394\n",
      "0.9999988079071044\n",
      "0.9999998807907104\n",
      "1.0\n",
      "0.8692727386951447\n",
      "1.0\n",
      "0.9999995231628418\n",
      "1.0\n",
      "0.9999998807907104\n",
      "1.0\n",
      "1.0\n",
      "1.0\n",
      "0.48041647672653204\n",
      "7.055455171212088e-06\n",
      "1.0\n",
      "0.9999976754188538\n",
      "0.9985016584396362\n",
      "0.9995132684707642\n",
      "1.1115050710941432e-05\n",
      "0.9999913573265076\n",
      "0.9982278048992157\n",
      "0.9999995231628418\n",
      "0.9999997615814208\n",
      "1.0\n",
      "1.0\n",
      "0.9999998807907104\n",
      "0.9999934434890748\n",
      "1.0\n",
      "1.0\n",
      "0.9999994039535522\n",
      "1.0\n",
      "1.0\n",
      "0.9999958872795104\n",
      "0.9999997615814208\n",
      "0.3184134364128113\n",
      "1.0\n",
      "0.9999998807907104\n",
      "1.0\n",
      "0.9998022317886353\n",
      "1.0\n",
      "0.9999937415122986\n",
      "0.00046978289901744574\n",
      "0.5632616281509399\n",
      "0.9999945163726808\n",
      "0.02695474959909916\n",
      "0.9999998807907104\n",
      "1.0\n",
      "1.0\n",
      "0.9999974370002747\n"
     ]
    }
   ],
   "source": [
    "name = []\n",
    "likelihood = []\n",
    "maximum = []\n",
    "for data in trackslist:\n",
    "    \n",
    "#     data = trackslist[0]\n",
    "    n = os.path.basename(data)[:-4]\n",
    "\n",
    "    file = pd.read_csv(data)\n",
    "    x = file.x.values\n",
    "    y = file.y.values\n",
    "    \n",
    "    if x.size == 0 & y.size == 0:\n",
    "        print(n + 'has empty tracks')\n",
    "        continue\n",
    "\n",
    "    x_notinView = x <=5\n",
    "    y_notinView = y <=5\n",
    "\n",
    "    x[x_notinView & y_notinView]=np.nan\n",
    "    y[x_notinView & y_notinView]=np.nan\n",
    "    \n",
    "    file = file.drop(file.index[x_notinView & y_notinView])\n",
    "    \n",
    "    if file.size == 0:\n",
    "        print(n + 'has effective empty tracks')\n",
    "        continue\n",
    "\n",
    "    val = np.nanmedian(file.likelihood)\n",
    "    print(val)\n",
    "    m = np.nanmax(file.likelihood)\n",
    "    \n",
    "    name.append(n)\n",
    "    likelihood.append(val)\n",
    "    maximum.append(m)"
   ]
  },
  {
   "cell_type": "code",
   "execution_count": 114,
   "metadata": {},
   "outputs": [],
   "source": [
    "df = pd.DataFrame({'name': name, 'Med_likelihood': likelihood, 'max_likelihood': maximum})"
   ]
  },
  {
   "cell_type": "code",
   "execution_count": 115,
   "metadata": {},
   "outputs": [
    {
     "data": {
      "text/html": [
       "<div>\n",
       "<style scoped>\n",
       "    .dataframe tbody tr th:only-of-type {\n",
       "        vertical-align: middle;\n",
       "    }\n",
       "\n",
       "    .dataframe tbody tr th {\n",
       "        vertical-align: top;\n",
       "    }\n",
       "\n",
       "    .dataframe thead th {\n",
       "        text-align: right;\n",
       "    }\n",
       "</style>\n",
       "<table border=\"1\" class=\"dataframe\">\n",
       "  <thead>\n",
       "    <tr style=\"text-align: right;\">\n",
       "      <th></th>\n",
       "      <th>name</th>\n",
       "      <th>Med_likelihood</th>\n",
       "      <th>max_likelihood</th>\n",
       "    </tr>\n",
       "  </thead>\n",
       "  <tbody>\n",
       "    <tr>\n",
       "      <td>0</td>\n",
       "      <td>c-10_m10_visit_0</td>\n",
       "      <td>1.000000</td>\n",
       "      <td>1.0</td>\n",
       "    </tr>\n",
       "    <tr>\n",
       "      <td>1</td>\n",
       "      <td>c-10_m11_visit_0</td>\n",
       "      <td>1.000000</td>\n",
       "      <td>1.0</td>\n",
       "    </tr>\n",
       "    <tr>\n",
       "      <td>2</td>\n",
       "      <td>c-10_m12_visit_0</td>\n",
       "      <td>1.000000</td>\n",
       "      <td>1.0</td>\n",
       "    </tr>\n",
       "    <tr>\n",
       "      <td>3</td>\n",
       "      <td>c-10_m13_visit_0</td>\n",
       "      <td>1.000000</td>\n",
       "      <td>1.0</td>\n",
       "    </tr>\n",
       "    <tr>\n",
       "      <td>4</td>\n",
       "      <td>c-10_m15_visit_0</td>\n",
       "      <td>1.000000</td>\n",
       "      <td>1.0</td>\n",
       "    </tr>\n",
       "    <tr>\n",
       "      <td>...</td>\n",
       "      <td>...</td>\n",
       "      <td>...</td>\n",
       "      <td>...</td>\n",
       "    </tr>\n",
       "    <tr>\n",
       "      <td>81</td>\n",
       "      <td>c-3_m5_visit_0</td>\n",
       "      <td>0.026955</td>\n",
       "      <td>1.0</td>\n",
       "    </tr>\n",
       "    <tr>\n",
       "      <td>82</td>\n",
       "      <td>c-3_m6_visit_0</td>\n",
       "      <td>1.000000</td>\n",
       "      <td>1.0</td>\n",
       "    </tr>\n",
       "    <tr>\n",
       "      <td>83</td>\n",
       "      <td>c-3_m7_visit_0</td>\n",
       "      <td>1.000000</td>\n",
       "      <td>1.0</td>\n",
       "    </tr>\n",
       "    <tr>\n",
       "      <td>84</td>\n",
       "      <td>c-3_m8_visit_0</td>\n",
       "      <td>1.000000</td>\n",
       "      <td>1.0</td>\n",
       "    </tr>\n",
       "    <tr>\n",
       "      <td>85</td>\n",
       "      <td>c-3_m9_visit_0</td>\n",
       "      <td>0.999997</td>\n",
       "      <td>1.0</td>\n",
       "    </tr>\n",
       "  </tbody>\n",
       "</table>\n",
       "<p>86 rows × 3 columns</p>\n",
       "</div>"
      ],
      "text/plain": [
       "                name  Med_likelihood  max_likelihood\n",
       "0   c-10_m10_visit_0        1.000000             1.0\n",
       "1   c-10_m11_visit_0        1.000000             1.0\n",
       "2   c-10_m12_visit_0        1.000000             1.0\n",
       "3   c-10_m13_visit_0        1.000000             1.0\n",
       "4   c-10_m15_visit_0        1.000000             1.0\n",
       "..               ...             ...             ...\n",
       "81    c-3_m5_visit_0        0.026955             1.0\n",
       "82    c-3_m6_visit_0        1.000000             1.0\n",
       "83    c-3_m7_visit_0        1.000000             1.0\n",
       "84    c-3_m8_visit_0        1.000000             1.0\n",
       "85    c-3_m9_visit_0        0.999997             1.0\n",
       "\n",
       "[86 rows x 3 columns]"
      ]
     },
     "execution_count": 115,
     "metadata": {},
     "output_type": "execute_result"
    }
   ],
   "source": [
    "df"
   ]
  },
  {
   "cell_type": "code",
   "execution_count": 117,
   "metadata": {},
   "outputs": [
    {
     "data": {
      "text/plain": [
       "[<matplotlib.lines.Line2D at 0x2f2cd489cf8>]"
      ]
     },
     "execution_count": 117,
     "metadata": {},
     "output_type": "execute_result"
    },
    {
     "data": {
      "image/png": "[encoded data removed]",
      "text/plain": [
       "<Figure size 432x288 with 1 Axes>"
      ]
     },
     "metadata": {
      "needs_background": "light"
     },
     "output_type": "display_data"
    }
   ],
   "source": [
    "plt.plot(df.Med_likelihood, 'o')"
   ]
  },
  {
   "cell_type": "code",
   "execution_count": 118,
   "metadata": {},
   "outputs": [
    {
     "data": {
      "text/plain": [
       "[<matplotlib.lines.Line2D at 0x2f2d0957278>]"
      ]
     },
     "execution_count": 118,
     "metadata": {},
     "output_type": "execute_result"
    },
    {
     "data": {
      "image/png": "[encoded data removed]",
      "text/plain": [
       "<Figure size 432x288 with 1 Axes>"
      ]
     },
     "metadata": {
      "needs_background": "light"
     },
     "output_type": "display_data"
    }
   ],
   "source": [
    "plt.plot(df.max_likelihood, 'o')"
   ]
  },
  {
   "cell_type": "markdown",
   "metadata": {},
   "source": [
    "## read Data to figure out reading frame problems"
   ]
  },
  {
   "cell_type": "code",
   "execution_count": 87,
   "metadata": {},
   "outputs": [],
   "source": [
    "name = 'c-10_m11'\n",
    "\n",
    "direc = r\"../../MothLearning/dataFolders/Output/Step5_FilesWith_TrueTrialAnd_ProboscisDetect_v2/\"\n",
    "mothlist = glob.glob(direc + '*.csv')\n",
    "\n",
    "datafile = [f for f in mothlist if name in f]"
   ]
  },
  {
   "cell_type": "code",
   "execution_count": 88,
   "metadata": {},
   "outputs": [
    {
     "data": {
      "text/html": [
       "<div>\n",
       "<style scoped>\n",
       "    .dataframe tbody tr th:only-of-type {\n",
       "        vertical-align: middle;\n",
       "    }\n",
       "\n",
       "    .dataframe tbody tr th {\n",
       "        vertical-align: top;\n",
       "    }\n",
       "\n",
       "    .dataframe thead th {\n",
       "        text-align: right;\n",
       "    }\n",
       "</style>\n",
       "<table border=\"1\" class=\"dataframe\">\n",
       "  <thead>\n",
       "    <tr style=\"text-align: right;\">\n",
       "      <th></th>\n",
       "      <th>Unnamed: 0</th>\n",
       "      <th>MothIN</th>\n",
       "      <th>MothOut</th>\n",
       "      <th>ProboscisDetect</th>\n",
       "      <th>DiscoveryTime</th>\n",
       "    </tr>\n",
       "  </thead>\n",
       "  <tbody>\n",
       "    <tr>\n",
       "      <td>0</td>\n",
       "      <td>0</td>\n",
       "      <td>9915</td>\n",
       "      <td>17575</td>\n",
       "      <td>11650.0</td>\n",
       "      <td>1735.0</td>\n",
       "    </tr>\n",
       "    <tr>\n",
       "      <td>1</td>\n",
       "      <td>1</td>\n",
       "      <td>18227</td>\n",
       "      <td>22763</td>\n",
       "      <td>20271.0</td>\n",
       "      <td>2044.0</td>\n",
       "    </tr>\n",
       "    <tr>\n",
       "      <td>2</td>\n",
       "      <td>2</td>\n",
       "      <td>23984</td>\n",
       "      <td>25286</td>\n",
       "      <td>NaN</td>\n",
       "      <td>NaN</td>\n",
       "    </tr>\n",
       "    <tr>\n",
       "      <td>3</td>\n",
       "      <td>3</td>\n",
       "      <td>26840</td>\n",
       "      <td>27401</td>\n",
       "      <td>NaN</td>\n",
       "      <td>NaN</td>\n",
       "    </tr>\n",
       "    <tr>\n",
       "      <td>4</td>\n",
       "      <td>4</td>\n",
       "      <td>28618</td>\n",
       "      <td>28977</td>\n",
       "      <td>NaN</td>\n",
       "      <td>NaN</td>\n",
       "    </tr>\n",
       "  </tbody>\n",
       "</table>\n",
       "</div>"
      ],
      "text/plain": [
       "   Unnamed: 0  MothIN  MothOut  ProboscisDetect  DiscoveryTime\n",
       "0           0    9915    17575          11650.0         1735.0\n",
       "1           1   18227    22763          20271.0         2044.0\n",
       "2           2   23984    25286              NaN            NaN\n",
       "3           3   26840    27401              NaN            NaN\n",
       "4           4   28618    28977              NaN            NaN"
      ]
     },
     "execution_count": 88,
     "metadata": {},
     "output_type": "execute_result"
    }
   ],
   "source": [
    "data = pd.read_csv(datafile[0])\n",
    "data.head()"
   ]
  },
  {
   "cell_type": "code",
   "execution_count": 89,
   "metadata": {},
   "outputs": [
    {
     "data": {
      "text/plain": [
       "(9915, 11650)"
      ]
     },
     "execution_count": 89,
     "metadata": {},
     "output_type": "execute_result"
    }
   ],
   "source": [
    "fin = int(data.loc[0,'MothIN'])\n",
    "fout = int(data.loc[0, 'ProboscisDetect'])\n",
    "fin, fout"
   ]
  },
  {
   "cell_type": "code",
   "execution_count": 90,
   "metadata": {},
   "outputs": [],
   "source": [
    "path_for_DLCAnnotation = r\"G:\\My Drive\\Tom-Tanvi\\Shared With Bing,Tom and Tanvi\\Video Analysis\\DeepLabCut-ImageAnalysis\\take5\\outputFromDLC\\VideoResults\\EntireDataSet\""
   ]
  },
  {
   "cell_type": "code",
   "execution_count": 91,
   "metadata": {},
   "outputs": [],
   "source": [
    "DLC_track = glob.glob(path_for_DLCAnnotation + '\\\\'+ name + 'DeepCut_' +  '*.h5')[0]\n",
    "# dlc = GetRelevantTrackingData(mothID)"
   ]
  },
  {
   "cell_type": "code",
   "execution_count": 92,
   "metadata": {},
   "outputs": [],
   "source": [
    "temp = pd.read_hdf(DLC_track)"
   ]
  },
  {
   "cell_type": "code",
   "execution_count": 93,
   "metadata": {},
   "outputs": [],
   "source": [
    "DLC = temp.loc[slice(None),(slice(None),'proboscisTip')]\n",
    "DLC = DLC.droplevel(level = [0,1], axis = 1)"
   ]
  },
  {
   "cell_type": "code",
   "execution_count": 94,
   "metadata": {},
   "outputs": [],
   "source": [
    "tracks = DLC[int(fin):int(fout)].copy()"
   ]
  },
  {
   "cell_type": "code",
   "execution_count": 95,
   "metadata": {},
   "outputs": [
    {
     "data": {
      "text/html": [
       "<div>\n",
       "<style scoped>\n",
       "    .dataframe tbody tr th:only-of-type {\n",
       "        vertical-align: middle;\n",
       "    }\n",
       "\n",
       "    .dataframe tbody tr th {\n",
       "        vertical-align: top;\n",
       "    }\n",
       "\n",
       "    .dataframe thead th {\n",
       "        text-align: right;\n",
       "    }\n",
       "</style>\n",
       "<table border=\"1\" class=\"dataframe\">\n",
       "  <thead>\n",
       "    <tr style=\"text-align: right;\">\n",
       "      <th>coords</th>\n",
       "      <th>x</th>\n",
       "      <th>y</th>\n",
       "      <th>likelihood</th>\n",
       "    </tr>\n",
       "  </thead>\n",
       "  <tbody>\n",
       "    <tr>\n",
       "      <td>9915</td>\n",
       "      <td>324.051880</td>\n",
       "      <td>307.737408</td>\n",
       "      <td>1.0</td>\n",
       "    </tr>\n",
       "    <tr>\n",
       "      <td>9916</td>\n",
       "      <td>325.515245</td>\n",
       "      <td>282.587957</td>\n",
       "      <td>1.0</td>\n",
       "    </tr>\n",
       "    <tr>\n",
       "      <td>9917</td>\n",
       "      <td>311.666234</td>\n",
       "      <td>293.706818</td>\n",
       "      <td>1.0</td>\n",
       "    </tr>\n",
       "    <tr>\n",
       "      <td>9918</td>\n",
       "      <td>308.019510</td>\n",
       "      <td>295.416531</td>\n",
       "      <td>1.0</td>\n",
       "    </tr>\n",
       "    <tr>\n",
       "      <td>9919</td>\n",
       "      <td>306.412357</td>\n",
       "      <td>316.172175</td>\n",
       "      <td>1.0</td>\n",
       "    </tr>\n",
       "  </tbody>\n",
       "</table>\n",
       "</div>"
      ],
      "text/plain": [
       "coords           x           y  likelihood\n",
       "9915    324.051880  307.737408         1.0\n",
       "9916    325.515245  282.587957         1.0\n",
       "9917    311.666234  293.706818         1.0\n",
       "9918    308.019510  295.416531         1.0\n",
       "9919    306.412357  316.172175         1.0"
      ]
     },
     "execution_count": 95,
     "metadata": {},
     "output_type": "execute_result"
    }
   ],
   "source": [
    "tracks.head()"
   ]
  },
  {
   "cell_type": "code",
   "execution_count": 96,
   "metadata": {},
   "outputs": [
    {
     "name": "stdout",
     "output_type": "stream",
     "text": [
      "../dataFolders/PaperPipelineOutput/RawTracks/FirstVisit\\c-10_m11_visit_0.csv\n"
     ]
    }
   ],
   "source": [
    "data = [f for f in trackslist if 'c-10_m11' in f][0]\n",
    "print(data)\n",
    "\n",
    "file = pd.read_csv(data)\n",
    "x = file.x.values\n",
    "y = file.y.values\n",
    "\n",
    "# if x.size == 0 & y.size == 0:\n",
    "#     print(n + 'has empty tracks')\n",
    "#     continue\n",
    "\n",
    "# x_notinView = x <=5\n",
    "# y_notinView = y <=5\n",
    "\n",
    "# x[x_notinView & y_notinView]=np.nan\n",
    "# y[x_notinView & y_notinView]=np.nan\n",
    "\n",
    "# if file[x_notinView & y_notinView].size == 0:\n",
    "#     print(n + 'has effective empty tracks')\n",
    "#     continue"
   ]
  },
  {
   "cell_type": "code",
   "execution_count": 97,
   "metadata": {},
   "outputs": [
    {
     "data": {
      "image/png": "[encoded data removed]",
      "text/plain": [
       "<Figure size 432x288 with 1 Axes>"
      ]
     },
     "metadata": {
      "needs_background": "light"
     },
     "output_type": "display_data"
    },
    {
     "data": {
      "image/png": "[encoded data removed]",
      "text/plain": [
       "<Figure size 432x288 with 1 Axes>"
      ]
     },
     "metadata": {
      "needs_background": "light"
     },
     "output_type": "display_data"
    }
   ],
   "source": [
    "plt.plot(tracks.x.values, tracks.y.values)\n",
    "plt.show()\n",
    "plt.plot(file.x.values, file.y.values)\n",
    "plt.show()"
   ]
  },
  {
   "cell_type": "code",
   "execution_count": null,
   "metadata": {},
   "outputs": [],
   "source": []
  }
 ],
 "metadata": {
  "kernelspec": {
   "display_name": "Python 3",
   "language": "python",
   "name": "python3"
  },
  "language_info": {
   "codemirror_mode": {
    "name": "ipython",
    "version": 3
   },
   "file_extension": ".py",
   "mimetype": "text/x-python",
   "name": "python",
   "nbconvert_exporter": "python",
   "pygments_lexer": "ipython3",
   "version": "3.6.5"
  }
 },
 "nbformat": 4,
 "nbformat_minor": 2
}
