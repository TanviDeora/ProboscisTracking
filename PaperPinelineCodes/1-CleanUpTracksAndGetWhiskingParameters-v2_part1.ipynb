{
 "cells": [
  {
   "cell_type": "code",
   "execution_count": 1,
   "metadata": {},
   "outputs": [],
   "source": [
    "import numpy as np\n",
    "import pandas as pd\n",
    "import glob\n",
    "import os\n",
    "import matplotlib.pyplot as plt\n",
    "from scipy import signal\n",
    "import sys"
   ]
  },
  {
   "cell_type": "code",
   "execution_count": 2,
   "metadata": {},
   "outputs": [],
   "source": [
    "def GetRMSE(x2, y2, x1, y1):\n",
    "    from scipy.spatial.distance import pdist\n",
    "\n",
    "    er = []\n",
    "    for idx in range(len(x2)):\n",
    "        X = np.asarray([[x1[idx], y1[idx]], \n",
    "                         [x2[idx], y2[idx]]])\n",
    "        temp_er = pdist(X,metric = 'euclidean')\n",
    "        er.append(temp_er[0])\n",
    "    er = np.asarray(er)\n",
    "    return(er)"
   ]
  },
  {
   "cell_type": "code",
   "execution_count": 3,
   "metadata": {},
   "outputs": [],
   "source": [
    "# parameters used to filter data\n",
    "\n",
    "cutoff = 24\n",
    "\n",
    "interpol_order = 3 # order for polynomial interpolation\n",
    "\n",
    "# win_gauss = signal.gaussian(10,3) # gaussian kernal for smoothening interpolated data\n",
    "\n",
    "# parameters for the savitzky-golay filter\n",
    "savgol_win = 11\n",
    "savgol_polyorder = 3\n",
    "\n",
    "# window_length=7, polyorder=2,\n",
    "\n",
    "# ROLLING_WINDOW = [11, 21, 31][0]"
   ]
  },
  {
   "cell_type": "markdown",
   "metadata": {},
   "source": [
    "### remove x y points based on threshold ( of rmse distance from previous frame ) "
   ]
  },
  {
   "cell_type": "code",
   "execution_count": 4,
   "metadata": {},
   "outputs": [],
   "source": [
    "direc = r\"../dataFolders/PaperPipelineOutput/RawTracks/\"\n",
    "visitnum = ['FirstVisit/', 'Later7thVisit/','LaterVisit/', 'LastVisit/']\n",
    "\n",
    "for visit in visitnum[1:2]:\n",
    "    path = os.path.join(direc, visit)\n",
    "    trackslist = glob.glob(path + '*.csv')"
   ]
  },
  {
   "cell_type": "code",
   "execution_count": 5,
   "metadata": {},
   "outputs": [],
   "source": [
    "circ_parameters_path = glob.glob('../dataFolders/PaperPipelineOutput/CircleParameters/' + '*.csv')\n",
    "circ_parameters = pd.read_csv(circ_parameters_path[0])"
   ]
  },
  {
   "cell_type": "code",
   "execution_count": 6,
   "metadata": {},
   "outputs": [
    {
     "name": "stdout",
     "output_type": "stream",
     "text": [
      "../dataFolders/PaperPipelineOutput/FilteredTracks_v2/Later7thVisit/\n",
      "../dataFolders/PaperPipelineOutput/Figures/v2/FilteredTracks/Later7thVisit/\n"
     ]
    }
   ],
   "source": [
    "outpath = os.path.join('../dataFolders/PaperPipelineOutput/FilteredTracks_v2/', visit)\n",
    "print(outpath)\n",
    "\n",
    "outpathfig = os.path.join('../dataFolders/PaperPipelineOutput/Figures/v2/FilteredTracks/', visit)\n",
    "print(outpathfig)"
   ]
  },
  {
   "cell_type": "code",
   "execution_count": null,
   "metadata": {
    "scrolled": true
   },
   "outputs": [
    {
     "name": "stdout",
     "output_type": "stream",
     "text": [
      "working on c-10_m11_visit_6\n",
      "(299, 3)\n"
     ]
    },
    {
     "name": "stderr",
     "output_type": "stream",
     "text": [
      "C:\\Users\\Tanvi\\AppData\\Local\\Continuum\\anaconda3\\lib\\site-packages\\ipykernel_launcher.py:49: RuntimeWarning: invalid value encountered in greater\n",
      "C:\\Users\\Tanvi\\AppData\\Local\\Continuum\\anaconda3\\lib\\site-packages\\ipykernel_launcher.py:50: RuntimeWarning: invalid value encountered in greater\n"
     ]
    },
    {
     "name": "stdout",
     "output_type": "stream",
     "text": [
      "working on c-10_m12_visit_6\n",
      "(1087, 3)\n"
     ]
    },
    {
     "name": "stderr",
     "output_type": "stream",
     "text": [
      "C:\\Users\\Tanvi\\AppData\\Local\\Continuum\\anaconda3\\lib\\site-packages\\ipykernel_launcher.py:49: RuntimeWarning: invalid value encountered in greater\n",
      "C:\\Users\\Tanvi\\AppData\\Local\\Continuum\\anaconda3\\lib\\site-packages\\ipykernel_launcher.py:50: RuntimeWarning: invalid value encountered in greater\n"
     ]
    },
    {
     "name": "stdout",
     "output_type": "stream",
     "text": [
      "working on c-10_m13_visit_6\n",
      "(278, 3)\n"
     ]
    },
    {
     "name": "stderr",
     "output_type": "stream",
     "text": [
      "C:\\Users\\Tanvi\\AppData\\Local\\Continuum\\anaconda3\\lib\\site-packages\\ipykernel_launcher.py:49: RuntimeWarning: invalid value encountered in greater\n",
      "C:\\Users\\Tanvi\\AppData\\Local\\Continuum\\anaconda3\\lib\\site-packages\\ipykernel_launcher.py:50: RuntimeWarning: invalid value encountered in greater\n"
     ]
    },
    {
     "name": "stdout",
     "output_type": "stream",
     "text": [
      "working on c-10_m15_visit_6\n",
      "(972, 3)\n"
     ]
    },
    {
     "name": "stderr",
     "output_type": "stream",
     "text": [
      "C:\\Users\\Tanvi\\AppData\\Local\\Continuum\\anaconda3\\lib\\site-packages\\ipykernel_launcher.py:49: RuntimeWarning: invalid value encountered in greater\n",
      "C:\\Users\\Tanvi\\AppData\\Local\\Continuum\\anaconda3\\lib\\site-packages\\ipykernel_launcher.py:50: RuntimeWarning: invalid value encountered in greater\n"
     ]
    },
    {
     "name": "stdout",
     "output_type": "stream",
     "text": [
      "working on c-10_m16_cropped_visit_6\n",
      "(1960, 3)\n"
     ]
    },
    {
     "name": "stderr",
     "output_type": "stream",
     "text": [
      "C:\\Users\\Tanvi\\AppData\\Local\\Continuum\\anaconda3\\lib\\site-packages\\ipykernel_launcher.py:49: RuntimeWarning: invalid value encountered in greater\n",
      "C:\\Users\\Tanvi\\AppData\\Local\\Continuum\\anaconda3\\lib\\site-packages\\ipykernel_launcher.py:50: RuntimeWarning: invalid value encountered in greater\n"
     ]
    },
    {
     "name": "stdout",
     "output_type": "stream",
     "text": [
      "working on c-10_m17_cropped_visit_6\n"
     ]
    }
   ],
   "source": [
    "for data in trackslist:\n",
    "#     data = trackslist[0]\n",
    "    name = os.path.basename(data)[:-4]\n",
    "    print('working on ' + name)\n",
    "    \n",
    "    # remove problem cases\n",
    "    # for LaterVisit/\n",
    "#     if name in ['c-1_m1_visit_19', 'c-2_m2_visit_19']:\n",
    "    # for LastVisit/\n",
    "#     if name in ['c-10_m1_visit_-1', 'c-1_m2_visit_-1', 'c-2_m2_visit_-1', 'c-3_m21_cropped_visit_-1']:\n",
    "#         continue\n",
    "    # for Later7thVisit/\n",
    "    if name in ['c-10_m2_visit_6', 'c-1_m1_visit_6']:\n",
    "        continue\n",
    "        \n",
    "    file = pd.read_csv(data)\n",
    "    x = file.x.values\n",
    "    y = file.y.values\n",
    "    p = file.likelihood\n",
    "\n",
    "    x_notinView = x <=5\n",
    "    y_notinView = y <=5\n",
    "\n",
    "    x[x_notinView & y_notinView]=np.nan\n",
    "    y[x_notinView & y_notinView]=np.nan\n",
    "\n",
    "\n",
    "    # add filter for DLC likelihood\n",
    "    med = file['likelihood'].rolling(11).median()\n",
    "    x[med < 0.6] = np.nan\n",
    "    y[med < 0.6] = np.nan\n",
    "\n",
    "    if x.size == 0 or y.size == 0:\n",
    "        print(name + 'has emtpy x y tracks')\n",
    "        continue\n",
    "    \n",
    "    name = [n for n in circ_parameters.name if n + '_' in data][0]\n",
    "\n",
    "    circ_x = circ_parameters.loc[circ_parameters.name == name, 'circ_x'].values\n",
    "    circ_y = circ_parameters.loc[circ_parameters.name == name, 'circ_y'].values\n",
    "    circ_radii = circ_parameters.loc[circ_parameters.name == name, 'circ_radii'].values\n",
    "    \n",
    "    # get rmse values for subsequent frames\n",
    "    rmse = GetRMSE(x[1:], y[1:], x[:-1], y[:-1])\n",
    "\n",
    "    filtered_x = np.copy(x[1:])\n",
    "    filtered_y = np.copy(y[1:])\n",
    "\n",
    "    filtered_x[(rmse > cutoff) | (rmse == np.nan)] = np.nan\n",
    "    filtered_y[(rmse > cutoff) | (rmse == np.nan)] = np.nan\n",
    "\n",
    "    filtered_r = np.linalg.norm([filtered_x - circ_x, filtered_y - circ_y], axis = 0)\n",
    "    filtered_r = filtered_r/circ_radii\n",
    "    filt_trajectory = pd.DataFrame([filtered_x, filtered_y, filtered_r]).T\n",
    "    filt_trajectory.columns = ['x', 'y', 'r']\n",
    "    \n",
    "    t = (pd.Series(filtered_x).rolling(30).median(center=True))\n",
    "    t_reverse = t[::-1]\n",
    "    t_reverse\n",
    "    s = np.argmax([ ~np.isnan(t) for t in t_reverse ] )\n",
    "    trim = len(t)-s\n",
    "    \n",
    "    # Apply filters\n",
    "\n",
    "    trajectory = filt_trajectory.copy()\n",
    "    trajectory = trajectory.loc[0:trim, :]\n",
    "    print(trajectory.shape)\n",
    "\n",
    "    for colname in trajectory.columns:\n",
    "#         print(colname)\n",
    "        trajectory.loc[:, colname] = signal.medfilt(trajectory.loc[:, colname], kernel_size=11)\n",
    "        trajectory.loc[:, colname] = trajectory.loc[:, colname].interpolate(method = 'polynomial', order = 3, limit = 40)\n",
    "        \n",
    "        nans = trajectory.loc[:,colname].isnull()\n",
    "        trajectory.loc[:,colname] = trajectory.loc[:,colname].interpolate(method = 'pad')\n",
    "        trajectory.loc[:, colname] = signal.savgol_filter(trajectory.loc[:, colname],\n",
    "                                                          window_length=savgol_win,\n",
    "                                                          polyorder=savgol_polyorder,\n",
    "                                                          axis=0)\n",
    "        trajectory.loc[nans, colname]= np.nan\n",
    "        \n",
    "    trajectory_r = np.linalg.norm([trajectory.loc[:,'x'].values - circ_x, trajectory.loc[:,'y'].values - circ_y], axis = 0)\n",
    "    trajectory['r'] = trajectory_r/circ_radii\n",
    "    \n",
    "#     fig = plt.figure()\n",
    "    axes = pd.concat([filt_trajectory, trajectory], axis = 1).plot(subplots = True, figsize = (15,8))\n",
    "    fig = plt.gcf()\n",
    "#     .get_figure()\n",
    "    fig.savefig(outpathfig + name + '_' + visit[:-1] + '.pdf')\n",
    "    plt.close() \n",
    "        \n",
    "    trajectory.to_csv(outpath + name + '_' + visit[:-1] + '.csv')"
   ]
  },
  {
   "cell_type": "code",
   "execution_count": null,
   "metadata": {},
   "outputs": [],
   "source": []
  }
 ],
 "metadata": {
  "kernelspec": {
   "display_name": "Python 3",
   "language": "python",
   "name": "python3"
  },
  "language_info": {
   "codemirror_mode": {
    "name": "ipython",
    "version": 3
   },
   "file_extension": ".py",
   "mimetype": "text/x-python",
   "name": "python",
   "nbconvert_exporter": "python",
   "pygments_lexer": "ipython3",
   "version": "3.6.5"
  }
 },
 "nbformat": 4,
 "nbformat_minor": 2
}
