{
 "cells": [
  {
   "cell_type": "code",
   "execution_count": 1,
   "metadata": {},
   "outputs": [],
   "source": [
    "import numpy as np\n",
    "import pandas as pd\n",
    "import glob\n",
    "import os\n",
    "import matplotlib.pyplot as plt\n",
    "from scipy import signal\n",
    "import sys"
   ]
  },
  {
   "cell_type": "code",
   "execution_count": 2,
   "metadata": {},
   "outputs": [],
   "source": [
    "circ_parameters_path = glob.glob('../dataFolders/PaperPipelineOutput/CircleParameters/' + '*.csv')\n",
    "circ_parameters = pd.read_csv(circ_parameters_path[0])"
   ]
  },
  {
   "cell_type": "code",
   "execution_count": 3,
   "metadata": {},
   "outputs": [],
   "source": [
    "direc = r\"../dataFolders/PaperPipelineOutput/v3/RawTracks/\"\n",
    "direc1 = r\"../dataFolders/PaperPipelineOutput/v3/FilteredTracks/\"\n",
    "direc2 = r\"../dataFolders/PaperPipelineOutput/v3/FilteredTracks/ManuallyTracked/\"\n",
    "outdirec = r\"../dataFolders/PaperPipelineOutput/v3/FilteredTracks/FinalCompiledTracks/\"\n",
    "visitnum = ['FirstVisit/', 'Later7thVisit/','Later20thVisit/', 'LastVisit/']\n",
    "\n",
    "videoAnnotation = \"AllVideoNames*.csv\"\n",
    "frameRef = \"frameNumberReference.csv\""
   ]
  },
  {
   "cell_type": "code",
   "execution_count": 4,
   "metadata": {},
   "outputs": [
    {
     "name": "stdout",
     "output_type": "stream",
     "text": [
      "../dataFolders/PaperPipelineOutput/v3/FilteredTracks/FinalCompiledTracks/FirstVisit/\n",
      "../dataFolders/PaperPipelineOutput/v3/FilteredTracks/FinalCompiledTracks/Later7thVisit/\n",
      "../dataFolders/PaperPipelineOutput/v3/FilteredTracks/FinalCompiledTracks/Later20thVisit/\n",
      "../dataFolders/PaperPipelineOutput/v3/FilteredTracks/FinalCompiledTracks/LastVisit/\n"
     ]
    }
   ],
   "source": [
    "for visit in visitnum:\n",
    "    outpath = os.path.join('../dataFolders/PaperPipelineOutput/v3/FilteredTracks/FinalCompiledTracks/', visit)\n",
    "    print(outpath)\n",
    "    if not os.path.exists(outpath):\n",
    "        try:\n",
    "            os.mkdir(outpath)\n",
    "        except OSError:\n",
    "            print (\"Creation of the directory %s failed\" % outpath)"
   ]
  },
  {
   "cell_type": "code",
   "execution_count": 5,
   "metadata": {},
   "outputs": [],
   "source": [
    "for visit in visitnum:\n",
    "    path = os.path.join(direc1, visit)\n",
    "    trackslist = glob.glob(path + 'c*.csv')\n",
    "    \n",
    "    f = glob.glob(os.path.join(direc2, visit) + videoAnnotation)\n",
    "    VidAnnotation = pd.read_csv(f[0])\n",
    "        \n",
    "    automated = VidAnnotation.loc[VidAnnotation.AutomatedTracking == 'TRUE', 'names'].values\n",
    "    manually = VidAnnotation.loc[VidAnnotation.Manual == 'Done', 'names'].values\n",
    "    frameRead = pd.read_csv(glob.glob(os.path.join(direc2, visit) + frameRef)[0])\n",
    "    \n",
    "    for data in trackslist:\n",
    "        name = os.path.basename(data)\n",
    "        name = name.split('_')[0] + \"_\" + name.split('_')[1]\n",
    "        \n",
    "        df = pd.read_csv(data)\n",
    "        \n",
    "        if name in automated:  \n",
    "            df.to_csv(outdirec + visit + name + '_' + visit[:-1] + '.csv')\n",
    "        elif name in manually:\n",
    "            newpath = os.path.join(direc2, visit)\n",
    "            newlist = glob.glob(newpath + '*/' + name + '_*xypts.csv', recursive=True)[0]\n",
    "            df = pd.read_csv(newlist)\n",
    "            \n",
    "            strt = frameRead[frameRead.mothID == name].startFrame.values[0]\n",
    "            stp = frameRead[frameRead.mothID == name].StopFrame.values[0]\n",
    "            \n",
    "            df = df[strt:stp].reset_index(drop = True)\n",
    "            df.columns = ['x', 'y']\n",
    "            df.to_csv(outdirec + visit + name + '_' + visit[:-1] + '.csv')"
   ]
  },
  {
   "cell_type": "code",
   "execution_count": null,
   "metadata": {},
   "outputs": [],
   "source": []
  }
 ],
 "metadata": {
  "kernelspec": {
   "display_name": "Python 3",
   "language": "python",
   "name": "python3"
  },
  "language_info": {
   "codemirror_mode": {
    "name": "ipython",
    "version": 3
   },
   "file_extension": ".py",
   "mimetype": "text/x-python",
   "name": "python",
   "nbconvert_exporter": "python",
   "pygments_lexer": "ipython3",
   "version": "3.6.5"
  }
 },
 "nbformat": 4,
 "nbformat_minor": 2
}
