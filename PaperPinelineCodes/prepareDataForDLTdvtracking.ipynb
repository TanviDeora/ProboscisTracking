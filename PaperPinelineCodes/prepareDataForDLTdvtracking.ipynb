{
 "cells": [
  {
   "cell_type": "code",
   "execution_count": 1,
   "metadata": {},
   "outputs": [],
   "source": [
    "import numpy as np\n",
    "import pandas as pd\n",
    "import glob\n",
    "import os\n",
    "\n",
    "import sys"
   ]
  },
  {
   "cell_type": "code",
   "execution_count": 2,
   "metadata": {},
   "outputs": [
    {
     "data": {
      "text/plain": [
       "'3.3.1'"
      ]
     },
     "execution_count": 2,
     "metadata": {},
     "output_type": "execute_result"
    }
   ],
   "source": [
    "import cv2 as cv\n",
    "cv.__version__"
   ]
  },
  {
   "cell_type": "code",
   "execution_count": 25,
   "metadata": {},
   "outputs": [],
   "source": [
    "# direc = r\"../dataFolders/PaperPipelineOutput/RawTracks/\"\n",
    "visitnum = ['FirstVisit/', 'LaterVisit/', 'LastVisit/']\n",
    "for visit in visitnum[1:2]:\n",
    "    visit = visit"
   ]
  },
  {
   "cell_type": "code",
   "execution_count": 34,
   "metadata": {},
   "outputs": [
    {
     "name": "stdout",
     "output_type": "stream",
     "text": [
      "../dataFolders/PaperPipelineOutput/FilteredTracks_v2/ManualCleanup/LaterVisit/\n"
     ]
    }
   ],
   "source": [
    "path = os.path.join('../dataFolders/PaperPipelineOutput/FilteredTracks_v2/ManualCleanup/', visit)\n",
    "print(path)"
   ]
  },
  {
   "cell_type": "code",
   "execution_count": 35,
   "metadata": {},
   "outputs": [
    {
     "name": "stdout",
     "output_type": "stream",
     "text": [
      "../dataFolders/PaperPipelineOutput/FilteredTracks_v2/ManualCleanup/LaterVisit/\n"
     ]
    }
   ],
   "source": [
    "outpath = os.path.join('../dataFolders/PaperPipelineOutput/FilteredTracks_v2/ManualCleanup/', visit)\n",
    "print(outpath)\n",
    "\n",
    "if not os.path.exists(outpath):\n",
    "    os.mkdir(outpath[:-1])"
   ]
  },
  {
   "cell_type": "code",
   "execution_count": 36,
   "metadata": {},
   "outputs": [],
   "source": [
    "# use step 5 in moth learning to read frame IN and OUT for moths tracks\n",
    "\n",
    "direc = r\"../../MothLearning/dataFolders/Output/Step5_FilesWith_TrueTrialAnd_ProboscisDetect_v2/\"\n",
    "mothlist = glob.glob(direc + '*.csv')\n",
    "\n",
    "# read video \n",
    "\n",
    "direc = r\"G:\\My Drive\\Tom-Tanvi\\Moth Learning Project\\AllVideosForAnalysis\\CompliedDataForAnalysis/\"\n",
    "videolist = glob.glob(direc + '**\\*.mp4', recursive = True)"
   ]
  },
  {
   "cell_type": "code",
   "execution_count": 40,
   "metadata": {},
   "outputs": [
    {
     "name": "stdout",
     "output_type": "stream",
     "text": [
      "7659\n",
      "282\n"
     ]
    },
    {
     "name": "stderr",
     "output_type": "stream",
     "text": [
      "C:\\Users\\Tanvi\\AppData\\Local\\Continuum\\anaconda3\\lib\\site-packages\\ipykernel_launcher.py:14: UserWarning: Pandas doesn't allow columns to be created via a new attribute name - see https://pandas.pydata.org/pandas-docs/stable/indexing.html#attribute-access\n",
      "  \n"
     ]
    }
   ],
   "source": [
    "# invert y axis for Matlab\n",
    "\n",
    "filelist = glob.glob(path + 'c*.csv', recursive= True)\n",
    "\n",
    "mothID = []\n",
    "startF = []\n",
    "stopF = []\n",
    "for file in filelist:\n",
    "    path_for_file, name = os.path.split(file)\n",
    "\n",
    "    df = pd.read_csv(file)\n",
    "    new_y = 488 - df.y\n",
    "    new_y[new_y == 488] = 0\n",
    "    df.Y = new_y\n",
    "    \n",
    "#     df =df.drop(columns = ['Unnamed: 0', 'r'])\n",
    "#     df.columns = ['pt1_cam1_x', 'pt1_cam1_y']\n",
    "    \n",
    "#     # create all the files for dltdv\n",
    "#     v = [v for v in videolist if name[:-15] in v][0]\n",
    "#     vid = cv.VideoCapture(v)\n",
    "#     totalFrames = int(vid.get(cv.CAP_PROP_FRAME_COUNT))\n",
    "#     totalFrames\n",
    "\n",
    "#     xyfile = pd.DataFrame(np.nan, index = np.arange(2,totalFrames+2), \n",
    "#                           columns = ['pt1_cam1_X', 'pt1_cam1_Y'], dtype = 'object')\n",
    "#     xyzfile = pd.DataFrame(np.nan, index = np.arange(2,totalFrames+2), \n",
    "#                            columns = ['pt1_X', 'pt1_Y', 'pt1_Z'], dtype = 'object')\n",
    "#     xyzres = pd.DataFrame(np.nan, index = np.arange(2,totalFrames+2), \n",
    "#                           columns = ['pt1_dltres'], dtype = 'object')\n",
    "#     offsetfile = pd.DataFrame(np.nan, index = np.arange(2,totalFrames+2), \n",
    "#                             columns = ['cam1_offset'], dtype = 'object')\n",
    "\n",
    "#     # insert our annotations at the right location in the dltdv files\n",
    "#     m = [f for f in mothlist if name[:-15] in f][0]\n",
    "#     frameInfo = pd.read_csv(m)\n",
    "\n",
    "    start = frameInfo.MothIN[0] +1\n",
    "    stop = frameInfo.MothOut[0]\n",
    "    print(stop-start) \n",
    "    print(len(df))\n",
    "\n",
    "#     xyfile.iloc[start-2:stop-2, 0] = df.pt1_cam1_x.values\n",
    "#     xyfile.iloc[start-2:stop-2, 1] = df.pt1_cam1_y.values\n",
    "\n",
    "#     xyfile.to_csv(outpath + name[:-4] + '_xypts.csv',index=False)\n",
    "#     xyzfile.to_csv(outpath + name[:-4] + '_xyzpts.csv',index=False)\n",
    "#     xyzres.to_csv(outpath + name[:-4] + '_xyzres.csv',index=False)\n",
    "#     offsetfile.to_csv(outpath + name[:-4] + '_offsets.csv',index=False)\n",
    "    mothID.append(name[:-15])\n",
    "    startF.append(start)\n",
    "    stopF.append(stop)\n",
    "    \n",
    "bla = pd.DataFrame([mothID, startF, stopF]).T\n",
    "# bla.to_csv(outpath + 'frameInfo.csv')    "
   ]
  },
  {
   "cell_type": "code",
   "execution_count": 41,
   "metadata": {},
   "outputs": [
    {
     "data": {
      "text/html": [
       "<div>\n",
       "<style scoped>\n",
       "    .dataframe tbody tr th:only-of-type {\n",
       "        vertical-align: middle;\n",
       "    }\n",
       "\n",
       "    .dataframe tbody tr th {\n",
       "        vertical-align: top;\n",
       "    }\n",
       "\n",
       "    .dataframe thead th {\n",
       "        text-align: right;\n",
       "    }\n",
       "</style>\n",
       "<table border=\"1\" class=\"dataframe\">\n",
       "  <thead>\n",
       "    <tr style=\"text-align: right;\">\n",
       "      <th></th>\n",
       "      <th>0</th>\n",
       "      <th>1</th>\n",
       "      <th>2</th>\n",
       "    </tr>\n",
       "  </thead>\n",
       "  <tbody>\n",
       "    <tr>\n",
       "      <td>0</td>\n",
       "      <td>c-10_m11</td>\n",
       "      <td>9916</td>\n",
       "      <td>17575</td>\n",
       "    </tr>\n",
       "  </tbody>\n",
       "</table>\n",
       "</div>"
      ],
      "text/plain": [
       "          0     1      2\n",
       "0  c-10_m11  9916  17575"
      ]
     },
     "execution_count": 41,
     "metadata": {},
     "output_type": "execute_result"
    }
   ],
   "source": [
    "bla"
   ]
  },
  {
   "cell_type": "code",
   "execution_count": 42,
   "metadata": {},
   "outputs": [
    {
     "data": {
      "text/plain": [
       "['../dataFolders/PaperPipelineOutput/FilteredTracks_v2/ManualCleanup/LaterVisit\\\\c-10_m11_LaterVisit.csv',\n",
       " '../dataFolders/PaperPipelineOutput/FilteredTracks_v2/ManualCleanup/LaterVisit\\\\c-10_m12_LaterVisit.csv',\n",
       " '../dataFolders/PaperPipelineOutput/FilteredTracks_v2/ManualCleanup/LaterVisit\\\\c-10_m15_LaterVisit.csv',\n",
       " '../dataFolders/PaperPipelineOutput/FilteredTracks_v2/ManualCleanup/LaterVisit\\\\c-10_m16_cropped_LaterVisit.csv',\n",
       " '../dataFolders/PaperPipelineOutput/FilteredTracks_v2/ManualCleanup/LaterVisit\\\\c-10_m17_cropped_LaterVisit.csv',\n",
       " '../dataFolders/PaperPipelineOutput/FilteredTracks_v2/ManualCleanup/LaterVisit\\\\c-10_m19_cropped_LaterVisit.csv',\n",
       " '../dataFolders/PaperPipelineOutput/FilteredTracks_v2/ManualCleanup/LaterVisit\\\\c-10_m22_cropped_LaterVisit.csv',\n",
       " '../dataFolders/PaperPipelineOutput/FilteredTracks_v2/ManualCleanup/LaterVisit\\\\c-10_m23_cropped_LaterVisit.csv',\n",
       " '../dataFolders/PaperPipelineOutput/FilteredTracks_v2/ManualCleanup/LaterVisit\\\\c-10_m24_cropped_LaterVisit.csv',\n",
       " '../dataFolders/PaperPipelineOutput/FilteredTracks_v2/ManualCleanup/LaterVisit\\\\c-10_m25_LaterVisit.csv',\n",
       " '../dataFolders/PaperPipelineOutput/FilteredTracks_v2/ManualCleanup/LaterVisit\\\\c-10_m3_LaterVisit.csv',\n",
       " '../dataFolders/PaperPipelineOutput/FilteredTracks_v2/ManualCleanup/LaterVisit\\\\c-10_m6_LaterVisit.csv',\n",
       " '../dataFolders/PaperPipelineOutput/FilteredTracks_v2/ManualCleanup/LaterVisit\\\\c-10_m8_LaterVisit.csv',\n",
       " '../dataFolders/PaperPipelineOutput/FilteredTracks_v2/ManualCleanup/LaterVisit\\\\c-1_m10_LaterVisit.csv',\n",
       " '../dataFolders/PaperPipelineOutput/FilteredTracks_v2/ManualCleanup/LaterVisit\\\\c-1_m11_LaterVisit.csv',\n",
       " '../dataFolders/PaperPipelineOutput/FilteredTracks_v2/ManualCleanup/LaterVisit\\\\c-1_m14_LaterVisit.csv',\n",
       " '../dataFolders/PaperPipelineOutput/FilteredTracks_v2/ManualCleanup/LaterVisit\\\\c-1_m17_LaterVisit.csv',\n",
       " '../dataFolders/PaperPipelineOutput/FilteredTracks_v2/ManualCleanup/LaterVisit\\\\c-1_m18_cropped_LaterVisit.csv',\n",
       " '../dataFolders/PaperPipelineOutput/FilteredTracks_v2/ManualCleanup/LaterVisit\\\\c-1_m24_cropped_LaterVisit.csv',\n",
       " '../dataFolders/PaperPipelineOutput/FilteredTracks_v2/ManualCleanup/LaterVisit\\\\c-1_m6_LaterVisit.csv',\n",
       " '../dataFolders/PaperPipelineOutput/FilteredTracks_v2/ManualCleanup/LaterVisit\\\\c-1_m8_LaterVisit.csv',\n",
       " '../dataFolders/PaperPipelineOutput/FilteredTracks_v2/ManualCleanup/LaterVisit\\\\c-2_m11_LaterVisit.csv',\n",
       " '../dataFolders/PaperPipelineOutput/FilteredTracks_v2/ManualCleanup/LaterVisit\\\\c-2_m12_LaterVisit.csv',\n",
       " '../dataFolders/PaperPipelineOutput/FilteredTracks_v2/ManualCleanup/LaterVisit\\\\c-2_m20_LaterVisit.csv',\n",
       " '../dataFolders/PaperPipelineOutput/FilteredTracks_v2/ManualCleanup/LaterVisit\\\\c-2_m21_cropped_LaterVisit.csv',\n",
       " '../dataFolders/PaperPipelineOutput/FilteredTracks_v2/ManualCleanup/LaterVisit\\\\c-2_m3_LaterVisit.csv',\n",
       " '../dataFolders/PaperPipelineOutput/FilteredTracks_v2/ManualCleanup/LaterVisit\\\\c-2_m4_LaterVisit.csv',\n",
       " '../dataFolders/PaperPipelineOutput/FilteredTracks_v2/ManualCleanup/LaterVisit\\\\c-2_m7_LaterVisit.csv',\n",
       " '../dataFolders/PaperPipelineOutput/FilteredTracks_v2/ManualCleanup/LaterVisit\\\\c-3_m10_LaterVisit.csv',\n",
       " '../dataFolders/PaperPipelineOutput/FilteredTracks_v2/ManualCleanup/LaterVisit\\\\c-3_m11_LaterVisit.csv',\n",
       " '../dataFolders/PaperPipelineOutput/FilteredTracks_v2/ManualCleanup/LaterVisit\\\\c-3_m13_LaterVisit.csv',\n",
       " '../dataFolders/PaperPipelineOutput/FilteredTracks_v2/ManualCleanup/LaterVisit\\\\c-3_m1_LaterVisit.csv',\n",
       " '../dataFolders/PaperPipelineOutput/FilteredTracks_v2/ManualCleanup/LaterVisit\\\\c-3_m21_cropped_LaterVisit.csv',\n",
       " '../dataFolders/PaperPipelineOutput/FilteredTracks_v2/ManualCleanup/LaterVisit\\\\c-3_m22_LaterVisit.csv',\n",
       " '../dataFolders/PaperPipelineOutput/FilteredTracks_v2/ManualCleanup/LaterVisit\\\\c-3_m23_cropped_LaterVisit.csv',\n",
       " '../dataFolders/PaperPipelineOutput/FilteredTracks_v2/ManualCleanup/LaterVisit\\\\c-3_m24_LaterVisit.csv',\n",
       " '../dataFolders/PaperPipelineOutput/FilteredTracks_v2/ManualCleanup/LaterVisit\\\\c-3_m25_LaterVisit.csv',\n",
       " '../dataFolders/PaperPipelineOutput/FilteredTracks_v2/ManualCleanup/LaterVisit\\\\c-3_m3_LaterVisit.csv',\n",
       " '../dataFolders/PaperPipelineOutput/FilteredTracks_v2/ManualCleanup/LaterVisit\\\\c-3_m8_LaterVisit.csv']"
      ]
     },
     "execution_count": 42,
     "metadata": {},
     "output_type": "execute_result"
    }
   ],
   "source": [
    "filelist"
   ]
  },
  {
   "cell_type": "code",
   "execution_count": null,
   "metadata": {},
   "outputs": [],
   "source": []
  }
 ],
 "metadata": {
  "kernelspec": {
   "display_name": "Python 3",
   "language": "python",
   "name": "python3"
  },
  "language_info": {
   "codemirror_mode": {
    "name": "ipython",
    "version": 3
   },
   "file_extension": ".py",
   "mimetype": "text/x-python",
   "name": "python",
   "nbconvert_exporter": "python",
   "pygments_lexer": "ipython3",
   "version": "3.6.5"
  }
 },
 "nbformat": 4,
 "nbformat_minor": 2
}
