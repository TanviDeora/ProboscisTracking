{
 "cells": [
  {
   "cell_type": "code",
   "execution_count": 1,
   "metadata": {},
   "outputs": [],
   "source": [
    "import pandas as pd\n",
    "import numpy as np\n",
    "from scipy import signal\n",
    "import matplotlib.pyplot as plt\n",
    "import matplotlib as mpl\n",
    "import glob, os"
   ]
  },
  {
   "cell_type": "code",
   "execution_count": 20,
   "metadata": {},
   "outputs": [],
   "source": [
    "def angleCorloredTrajectory(x_gauss, y_gauss, circ_r, angle):\n",
    "    \n",
    "    plt.style.use('default')\n",
    "    \n",
    "    \n",
    "    fig = plt.figure()\n",
    "    ax = plt.gca()\n",
    "    ax.set_facecolor('black')\n",
    "\n",
    "    c1 = plt.Circle((0, 0), circ_r, facecolor='linen', alpha = 0.7, \n",
    "                    edgecolor='none', zorder = -3)\n",
    "    ax.add_artist(c1)\n",
    "\n",
    "    plt.scatter(x_gauss, y_gauss, s=7 , c = angle, cmap = plt.cm.cool, \n",
    "               zorder = 1)\n",
    "    ax.set_aspect('equal', adjustable = 'datalim')\n",
    "    ax.tick_params(axis = 'both',\n",
    "                which = 'both',\n",
    "                bottom = False,\n",
    "                left = False,\n",
    "                labelbottom = False,\n",
    "                  labelleft = False)\n",
    "\n",
    "    cbar = plt.colorbar()\n",
    "    \n",
    "    return(fig)\n",
    "\n",
    "def angleColoredSweepCurves(r_gauss, circ_r, angle):\n",
    "    fig = plt.figure(figsize = (5,5))\n",
    "    ax = plt.gca()\n",
    "    t0 = np.arange(len(r_gauss))*1/100\n",
    "    plt.scatter(t0, r_gauss, s = 10,\n",
    "                c = angle, cmap = plt.cm.jet)\n",
    "    cbar = plt.colorbar()\n",
    "    return(fig)"
   ]
  },
  {
   "cell_type": "code",
   "execution_count": 23,
   "metadata": {},
   "outputs": [],
   "source": [
    "# visit = 'FirstVisit/'\n",
    "# direc = os.path.join('../dataFolders/PaperPipelineOutput/RadiusAndAngle/' + visit)\n",
    "# datalist = glob.glob(direc + '*.csv')\n",
    "visit = 'FirstVisit/'\n",
    "direc = r\"../dataFolders/PaperPipelineOutput/RadiusAndAngle_v2/\"\n",
    "datalist = glob.glob(direc + '*.csv')"
   ]
  },
  {
   "cell_type": "code",
   "execution_count": 5,
   "metadata": {},
   "outputs": [],
   "source": [
    "outpath = '../dataFolders/PaperPipelineOutput/Figures/v2/AngleAndRadius/'\n",
    "try:\n",
    "    os.mkdir(outpath)\n",
    "except OSError:\n",
    "    print('oops')"
   ]
  },
  {
   "cell_type": "code",
   "execution_count": 88,
   "metadata": {},
   "outputs": [],
   "source": [
    "circ_parameters_path = glob.glob('../dataFolders/PaperPipelineOutput/CircleParameters/' + '*.csv')\n",
    "circ_parameters = pd.read_csv(circ_parameters_path[0])\n",
    "full_name = circ_parameters.name.str.split('_', expand = True)\n",
    "circ_parameters['mothID'] = full_name[0] + '_' + full_name[1]"
   ]
  },
  {
   "cell_type": "code",
   "execution_count": 90,
   "metadata": {},
   "outputs": [],
   "source": [
    "for file in datalist:\n",
    "    _,moth = os.path.split(file)\n",
    "    name = moth[:-19]\n",
    "    \n",
    "#     matched = [n for n in circ_parameters.name if name in n]\n",
    "    circ_r = circ_parameters.loc[circ_parameters.mothID == name, 'circ_radii'].values\n",
    "\n",
    "    df = pd.read_csv(file)\n",
    "\n",
    "    x = df.loc[:, 'x_centered'].values\n",
    "    y = df.loc[:, 'y_centered'].values\n",
    "    r = df.loc[:,'radial_distance_normalized']\n",
    "    angle = df.loc[:,'angle'].values\n",
    "\n",
    "    f1 = angleCorloredTrajectory(x, y, circ_r, angle)\n",
    "    f2 = angleColoredSweepCurves(r, circ_r, angle)\n",
    "\n",
    "    f1.savefig(outpath + name + '_AngleColoredTrajectory_' + visit[:-1] + '.png')\n",
    "    f2.savefig(outpath + name + '_AngleColoredRadialDistance_' + visit[:-1] + '.png')\n",
    "    plt.close('all')"
   ]
  },
  {
   "cell_type": "code",
   "execution_count": null,
   "metadata": {},
   "outputs": [],
   "source": []
  }
 ],
 "metadata": {
  "kernelspec": {
   "display_name": "Python 3",
   "language": "python",
   "name": "python3"
  },
  "language_info": {
   "codemirror_mode": {
    "name": "ipython",
    "version": 3
   },
   "file_extension": ".py",
   "mimetype": "text/x-python",
   "name": "python",
   "nbconvert_exporter": "python",
   "pygments_lexer": "ipython3",
   "version": "3.6.5"
  }
 },
 "nbformat": 4,
 "nbformat_minor": 2
}
