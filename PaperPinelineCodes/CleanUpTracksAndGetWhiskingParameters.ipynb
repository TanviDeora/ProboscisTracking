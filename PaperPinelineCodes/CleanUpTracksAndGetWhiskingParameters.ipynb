{
 "cells": [
  {
   "cell_type": "code",
   "execution_count": 1,
   "metadata": {},
   "outputs": [],
   "source": [
    "import numpy as np\n",
    "import pandas as pd\n",
    "import glob\n",
    "import os\n",
    "import matplotlib.pyplot as plt\n",
    "from scipy import signal\n",
    "import sys"
   ]
  },
  {
   "cell_type": "code",
   "execution_count": 2,
   "metadata": {},
   "outputs": [],
   "source": [
    "def GetRMSE(x2, y2, x1, y1):\n",
    "    from scipy.spatial.distance import pdist\n",
    "\n",
    "    er = []\n",
    "    for idx in range(len(x2)):\n",
    "        X = np.asarray([[x1[idx], y1[idx]], \n",
    "                         [x2[idx], y2[idx]]])\n",
    "        temp_er = pdist(X,metric = 'euclidean')\n",
    "        er.append(temp_er[0])\n",
    "    er = np.asarray(er)\n",
    "    return(er)"
   ]
  },
  {
   "cell_type": "code",
   "execution_count": 3,
   "metadata": {},
   "outputs": [],
   "source": [
    "# parameters used to filter data\n",
    "\n",
    "cutoff = 24\n",
    "\n",
    "interpol_order = 3 # order for polynomial interpolation\n",
    "\n",
    "# win_gauss = signal.gaussian(10,3) # gaussian kernal for smoothening interpolated data\n",
    "\n",
    "# parameters for the savitzky-golay filter\n",
    "savgol_win = 15\n",
    "savgol_polyorder = 3"
   ]
  },
  {
   "cell_type": "markdown",
   "metadata": {},
   "source": [
    "## remove x y location of points based on distance from previous frame threshold "
   ]
  },
  {
   "cell_type": "code",
   "execution_count": 4,
   "metadata": {},
   "outputs": [
    {
     "name": "stdout",
     "output_type": "stream",
     "text": [
      "oops\n"
     ]
    },
    {
     "name": "stderr",
     "output_type": "stream",
     "text": [
      "C:\\Users\\Tanvi\\AppData\\Local\\Continuum\\anaconda3\\lib\\site-packages\\ipykernel_launcher.py:30: RuntimeWarning: invalid value encountered in greater\n",
      "C:\\Users\\Tanvi\\AppData\\Local\\Continuum\\anaconda3\\lib\\site-packages\\ipykernel_launcher.py:31: RuntimeWarning: invalid value encountered in greater\n"
     ]
    },
    {
     "name": "stdout",
     "output_type": "stream",
     "text": [
      "oops\n"
     ]
    }
   ],
   "source": [
    "direc = r\"../dataFolders/PaperPipelineOutput/RawTracks/\"\n",
    "for visitnum in ['FirstVisit/', 'LastVisit/']:\n",
    "    \n",
    "    # get all the data for that visit num\n",
    "    path = os.path.join(direc, visitnum)\n",
    "    trackslist = glob.glob(path + '*.csv')\n",
    "    \n",
    "    new_path = os.path.join(r\"../dataFolders/PaperPipelineOutput/FilteredTracks/\", visitnum)\n",
    "    try:\n",
    "        os.mkdir(new_path)\n",
    "    except OSError:\n",
    "        print('oops')\n",
    "    \n",
    "    # loop through all the moths in the list\n",
    "    for data in trackslist:\n",
    "        name = os.path.basename(data)[:-4]\n",
    "        file = pd.read_csv(data)\n",
    "        x = file.x.values\n",
    "        y = file.y.values\n",
    "        \n",
    "        x[x<=5] = np.nan\n",
    "        y[y<=5] = np.nan\n",
    "\n",
    "        # get rmse values for subsequent frames\n",
    "        rmse = GetRMSE(x[1:], y[1:], x[:-1], y[:-1])\n",
    "\n",
    "        filtered_x = np.copy(x[1:])\n",
    "        filtered_y = np.copy(y[1:])\n",
    "\n",
    "        filtered_x[rmse > cutoff] = np.nan\n",
    "        filtered_y[rmse > cutoff] = np.nan\n",
    "\n",
    "        new_xypts = pd.DataFrame({'filtered_x': filtered_x, 'filtered_y': filtered_y, 'rmse': rmse})\n",
    "        new_xypts.to_csv(new_path + '/' + name + '.csv')"
   ]
  },
  {
   "cell_type": "markdown",
   "metadata": {},
   "source": [
    "## get angle and magnitude"
   ]
  },
  {
   "cell_type": "code",
   "execution_count": 5,
   "metadata": {},
   "outputs": [],
   "source": [
    "def Unitvector(x_gauss, y_gauss):\n",
    "    from sklearn import preprocessing\n",
    "    \n",
    "    # get the slope of the tangent\n",
    "    trajectory = np.asarray([x_gauss, y_gauss])\n",
    "    m = np.gradient(trajectory, axis = 1)\n",
    "    m_atx = m[1]/m[0]\n",
    "    \n",
    "    # get the tangent vector at x = x0 + 1\n",
    "    tangent_x = x_gauss+1\n",
    "    tangent_y = m_atx + y_gauss\n",
    "    \n",
    "    # get the unit tangent vector\n",
    "    u_x = []\n",
    "    u_y = []\n",
    "\n",
    "    for x,y,x0,y0 in zip(tangent_x, tangent_y, x_gauss, y_gauss):\n",
    "        if np.any(np.isnan([x, y])) or np.any(np.isinf([x, y])):\n",
    "            unit_x = np.nan\n",
    "            unit_y = np.nan\n",
    "        else:\n",
    "            vector = np.asarray([x-x0, y-y0]).reshape(1,-1)\n",
    "            [unit_x, unit_y] = preprocessing.normalize(vector, norm = 'l2')[0]\n",
    "        u_x.append(unit_x)\n",
    "        u_y.append(unit_y)\n",
    "    u_x = np.asarray(u_x)\n",
    "    u_y = np.asarray(u_y)\n",
    "    return(u_x, u_y)\n",
    "\n",
    "def getAngle(loc, tangent):\n",
    "    cross = np.cross(tangent, loc)\n",
    "    dot = np.dot(tangent, loc)\n",
    "    angle = np.arctan2(cross, dot)*180/np.pi\n",
    "    return(angle)\n",
    "\n",
    "def wrapAngle(angle):\n",
    "    angle = np.absolute(angle)\n",
    "    for i,a in enumerate(angle):\n",
    "        if a > 90:\n",
    "            a = 180 - a\n",
    "            angle[i] = a\n",
    "    return(angle)"
   ]
  },
  {
   "cell_type": "code",
   "execution_count": 7,
   "metadata": {},
   "outputs": [],
   "source": [
    "circ_parameters_path = glob.glob('../dataFolders/PaperPipelineOutput/CircleParameters/' + '*.csv')\n",
    "circ_parameters = pd.read_csv(circ_parameters_path[0])"
   ]
  },
  {
   "cell_type": "code",
   "execution_count": 6,
   "metadata": {},
   "outputs": [],
   "source": [
    "visit = 'FirstVisit/'\n",
    "direc = os.path.join('../dataFolders/PaperPipelineOutput/FilteredTracks/', visit)\n",
    "datalist = glob.glob(direc + '*.csv')"
   ]
  },
  {
   "cell_type": "code",
   "execution_count": 8,
   "metadata": {},
   "outputs": [
    {
     "name": "stdout",
     "output_type": "stream",
     "text": [
      "oops\n"
     ]
    }
   ],
   "source": [
    "newpath = os.path.join('../dataFolders/PaperPipelineOutput/RadiusAndAngle/', visit)\n",
    "try:\n",
    "    os.mkdir(newpath)\n",
    "except OSError:\n",
    "    print('oops')"
   ]
  },
  {
   "cell_type": "code",
   "execution_count": 9,
   "metadata": {},
   "outputs": [
    {
     "name": "stderr",
     "output_type": "stream",
     "text": [
      "C:\\Users\\Tanvi\\AppData\\Local\\Continuum\\anaconda3\\lib\\site-packages\\ipykernel_launcher.py:7: RuntimeWarning: divide by zero encountered in true_divide\n",
      "  import sys\n",
      "C:\\Users\\Tanvi\\AppData\\Local\\Continuum\\anaconda3\\lib\\site-packages\\ipykernel_launcher.py:7: RuntimeWarning: invalid value encountered in true_divide\n",
      "  import sys\n"
     ]
    },
    {
     "ename": "AttributeError",
     "evalue": "'Series' object has no attribute 'conjugate'",
     "output_type": "error",
     "traceback": [
      "\u001b[1;31m---------------------------------------------------------------------------\u001b[0m",
      "\u001b[1;31mAttributeError\u001b[0m                            Traceback (most recent call last)",
      "\u001b[1;32m<ipython-input-9-cd3e49332a4c>\u001b[0m in \u001b[0;36m<module>\u001b[1;34m\u001b[0m\n\u001b[0;32m     24\u001b[0m         \u001b[0my_interpl\u001b[0m\u001b[1;33m=\u001b[0m \u001b[0my_interpl\u001b[0m\u001b[1;33m[\u001b[0m\u001b[1;33m~\u001b[0m\u001b[0mnp\u001b[0m\u001b[1;33m.\u001b[0m\u001b[0misnan\u001b[0m\u001b[1;33m(\u001b[0m\u001b[0my_interpl\u001b[0m\u001b[1;33m)\u001b[0m\u001b[1;33m]\u001b[0m\u001b[1;33m\u001b[0m\u001b[0m\n\u001b[0;32m     25\u001b[0m \u001b[1;33m\u001b[0m\u001b[0m\n\u001b[1;32m---> 26\u001b[1;33m         \u001b[0mr\u001b[0m \u001b[1;33m=\u001b[0m \u001b[0mnp\u001b[0m\u001b[1;33m.\u001b[0m\u001b[0mlinalg\u001b[0m\u001b[1;33m.\u001b[0m\u001b[0mnorm\u001b[0m\u001b[1;33m(\u001b[0m\u001b[1;33m[\u001b[0m\u001b[0mx_interpl\u001b[0m\u001b[1;33m,\u001b[0m \u001b[0my_interpl\u001b[0m\u001b[1;33m]\u001b[0m\u001b[1;33m,\u001b[0m \u001b[0maxis\u001b[0m \u001b[1;33m=\u001b[0m \u001b[1;36m0\u001b[0m\u001b[1;33m)\u001b[0m\u001b[1;33m\u001b[0m\u001b[0m\n\u001b[0m\u001b[0;32m     27\u001b[0m         \u001b[0mr\u001b[0m \u001b[1;33m=\u001b[0m \u001b[0mr\u001b[0m\u001b[1;33m/\u001b[0m\u001b[0mcirc_radii\u001b[0m\u001b[1;33m\u001b[0m\u001b[0m\n\u001b[0;32m     28\u001b[0m \u001b[1;33m\u001b[0m\u001b[0m\n",
      "\u001b[1;32m~\\AppData\\Local\\Continuum\\anaconda3\\lib\\site-packages\\numpy\\linalg\\linalg.py\u001b[0m in \u001b[0;36mnorm\u001b[1;34m(x, ord, axis, keepdims)\u001b[0m\n\u001b[0;32m   2478\u001b[0m         \u001b[1;32melif\u001b[0m \u001b[0mord\u001b[0m \u001b[1;32mis\u001b[0m \u001b[1;32mNone\u001b[0m \u001b[1;32mor\u001b[0m \u001b[0mord\u001b[0m \u001b[1;33m==\u001b[0m \u001b[1;36m2\u001b[0m\u001b[1;33m:\u001b[0m\u001b[1;33m\u001b[0m\u001b[0m\n\u001b[0;32m   2479\u001b[0m             \u001b[1;31m# special case for speedup\u001b[0m\u001b[1;33m\u001b[0m\u001b[1;33m\u001b[0m\u001b[0m\n\u001b[1;32m-> 2480\u001b[1;33m             \u001b[0ms\u001b[0m \u001b[1;33m=\u001b[0m \u001b[1;33m(\u001b[0m\u001b[0mx\u001b[0m\u001b[1;33m.\u001b[0m\u001b[0mconj\u001b[0m\u001b[1;33m(\u001b[0m\u001b[1;33m)\u001b[0m \u001b[1;33m*\u001b[0m \u001b[0mx\u001b[0m\u001b[1;33m)\u001b[0m\u001b[1;33m.\u001b[0m\u001b[0mreal\u001b[0m\u001b[1;33m\u001b[0m\u001b[0m\n\u001b[0m\u001b[0;32m   2481\u001b[0m             \u001b[1;32mreturn\u001b[0m \u001b[0msqrt\u001b[0m\u001b[1;33m(\u001b[0m\u001b[0madd\u001b[0m\u001b[1;33m.\u001b[0m\u001b[0mreduce\u001b[0m\u001b[1;33m(\u001b[0m\u001b[0ms\u001b[0m\u001b[1;33m,\u001b[0m \u001b[0maxis\u001b[0m\u001b[1;33m=\u001b[0m\u001b[0maxis\u001b[0m\u001b[1;33m,\u001b[0m \u001b[0mkeepdims\u001b[0m\u001b[1;33m=\u001b[0m\u001b[0mkeepdims\u001b[0m\u001b[1;33m)\u001b[0m\u001b[1;33m)\u001b[0m\u001b[1;33m\u001b[0m\u001b[0m\n\u001b[0;32m   2482\u001b[0m         \u001b[1;32melse\u001b[0m\u001b[1;33m:\u001b[0m\u001b[1;33m\u001b[0m\u001b[0m\n",
      "\u001b[1;32m~\\AppData\\Local\\Continuum\\anaconda3\\lib\\site-packages\\pandas\\core\\generic.py\u001b[0m in \u001b[0;36m__getattr__\u001b[1;34m(self, name)\u001b[0m\n\u001b[0;32m   5177\u001b[0m             \u001b[1;32mif\u001b[0m \u001b[0mself\u001b[0m\u001b[1;33m.\u001b[0m\u001b[0m_info_axis\u001b[0m\u001b[1;33m.\u001b[0m\u001b[0m_can_hold_identifiers_and_holds_name\u001b[0m\u001b[1;33m(\u001b[0m\u001b[0mname\u001b[0m\u001b[1;33m)\u001b[0m\u001b[1;33m:\u001b[0m\u001b[1;33m\u001b[0m\u001b[0m\n\u001b[0;32m   5178\u001b[0m                 \u001b[1;32mreturn\u001b[0m \u001b[0mself\u001b[0m\u001b[1;33m[\u001b[0m\u001b[0mname\u001b[0m\u001b[1;33m]\u001b[0m\u001b[1;33m\u001b[0m\u001b[0m\n\u001b[1;32m-> 5179\u001b[1;33m             \u001b[1;32mreturn\u001b[0m \u001b[0mobject\u001b[0m\u001b[1;33m.\u001b[0m\u001b[0m__getattribute__\u001b[0m\u001b[1;33m(\u001b[0m\u001b[0mself\u001b[0m\u001b[1;33m,\u001b[0m \u001b[0mname\u001b[0m\u001b[1;33m)\u001b[0m\u001b[1;33m\u001b[0m\u001b[0m\n\u001b[0m\u001b[0;32m   5180\u001b[0m \u001b[1;33m\u001b[0m\u001b[0m\n\u001b[0;32m   5181\u001b[0m     \u001b[1;32mdef\u001b[0m \u001b[0m__setattr__\u001b[0m\u001b[1;33m(\u001b[0m\u001b[0mself\u001b[0m\u001b[1;33m,\u001b[0m \u001b[0mname\u001b[0m\u001b[1;33m,\u001b[0m \u001b[0mvalue\u001b[0m\u001b[1;33m)\u001b[0m\u001b[1;33m:\u001b[0m\u001b[1;33m\u001b[0m\u001b[0m\n",
      "\u001b[1;31mAttributeError\u001b[0m: 'Series' object has no attribute 'conjugate'"
     ]
    }
   ],
   "source": [
    "for path in datalist:\n",
    "        \n",
    "        file = pd.read_csv(path)\n",
    "        x = file.filtered_x\n",
    "        y = file.filtered_y\n",
    "\n",
    "        name = [n for n in circ_parameters.name if n in path][0]\n",
    "        \n",
    "        if x.size == 0 or y.size == 0:\n",
    "            print(name + 'has emtpy x y tracks')\n",
    "            continue\n",
    "\n",
    "        circ_x = circ_parameters.loc[circ_parameters.name == name, 'circ_x'].values\n",
    "        circ_y = circ_parameters.loc[circ_parameters.name == name, 'circ_y'].values\n",
    "        circ_radii = circ_parameters.loc[circ_parameters.name == name, 'circ_radii'].values\n",
    "\n",
    "        cent_x = x - circ_x\n",
    "        cent_y = y - circ_y\n",
    "\n",
    "        x_interpl = cent_x.interpolate(method='polynomial', order=interpol_order)\n",
    "        y_interpl = cent_y.interpolate(method='polynomial', order=interpol_order)\n",
    "        \n",
    "        x_interpl = x_interpl[~np.isnan(x_interpl)]\n",
    "        y_interpl= y_interpl[~np.isnan(y_interpl)]\n",
    "\n",
    "        r = np.linalg.norm([x_interpl, y_interpl], axis = 0)\n",
    "        r = r/circ_radii\n",
    "        \n",
    "        # savitzky-golay method\n",
    "        x_savgol = signal.savgol_filter(x_interpl, savgol_win, savgol_polyorder)\n",
    "        y_savgol = signal.savgol_filter(y_interpl, savgol_win, savgol_polyorder)\n",
    "        r_savgol = np.linalg.norm([x_savgol, y_savgol], axis = 0)\n",
    "        r_savgol_norm = r_savgol/circ_radii\n",
    "\n",
    "        # save all usable variables as series\n",
    "\n",
    "        df1 = pd.Series(data = x_savgol, name = 'x_savgol')\n",
    "        df2 = pd.Series(data = y_savgol, name = 'y_savgol')\n",
    "        df3 = pd.Series(data = r_savgol_norm, name = 'radial distance savgol')\n",
    "\n",
    "        \n",
    "        #calculate the unit tangent vectors - savitzky-golay vector\n",
    "        u_x, u_y = Unitvector(x_savgol, y_savgol)\n",
    "\n",
    "        angle_savgol = []\n",
    "        for x0, y0, x, y in zip(x_savgol, y_savgol, u_x, u_y):\n",
    "            loc = [x0, y0]\n",
    "            tangent = [x, y]\n",
    "            a = getAngle(loc, tangent)\n",
    "            angle_savgol.append(a)\n",
    "            \n",
    "        angle_savgol = wrapAngle(angle_savgol)\n",
    "\n",
    "        df4 = pd.Series(data = angle_savgol, name = 'angle_savgol')\n",
    "       \n",
    "        new_file = pd.concat([file, df1, df2, df3, df4], axis = 1)\n",
    "        new_file.to_csv(newpath + name + 'RadiusAndAngle.csv', index_label = False)"
   ]
  },
  {
   "cell_type": "markdown",
   "metadata": {},
   "source": [
    "## check where are we getting NaN's in the interpolated data"
   ]
  },
  {
   "cell_type": "code",
   "execution_count": 11,
   "metadata": {},
   "outputs": [
    {
     "name": "stdout",
     "output_type": "stream",
     "text": [
      "c-10_m10(array([], dtype=int64),)\n",
      "c-10_m10(array([], dtype=int64),)\n",
      "c-10_m10(array([], dtype=int64),)\n",
      "c-10_m10(array([], dtype=int64),)\n",
      "c-10_m10(array([], dtype=int64),)\n",
      "c-10_m10(array([], dtype=int64),)\n"
     ]
    },
    {
     "ename": "ValueError",
     "evalue": "Index column must be numeric or datetime type when using polynomial method other than linear. Try setting a numeric or datetime index column before interpolating.",
     "output_type": "error",
     "traceback": [
      "\u001b[1;31m---------------------------------------------------------------------------\u001b[0m",
      "\u001b[1;31mValueError\u001b[0m                                Traceback (most recent call last)",
      "\u001b[1;32m<ipython-input-11-1115cd918357>\u001b[0m in \u001b[0;36m<module>\u001b[1;34m\u001b[0m\n\u001b[0;32m     14\u001b[0m         \u001b[0mcent_y\u001b[0m \u001b[1;33m=\u001b[0m \u001b[0my\u001b[0m \u001b[1;33m-\u001b[0m \u001b[0mcirc_y\u001b[0m\u001b[1;33m\u001b[0m\u001b[0m\n\u001b[0;32m     15\u001b[0m \u001b[1;33m\u001b[0m\u001b[0m\n\u001b[1;32m---> 16\u001b[1;33m         \u001b[0mx_interpl\u001b[0m \u001b[1;33m=\u001b[0m \u001b[0mcent_x\u001b[0m\u001b[1;33m.\u001b[0m\u001b[0minterpolate\u001b[0m\u001b[1;33m(\u001b[0m\u001b[0mmethod\u001b[0m\u001b[1;33m=\u001b[0m\u001b[1;34m'polynomial'\u001b[0m\u001b[1;33m,\u001b[0m \u001b[0morder\u001b[0m\u001b[1;33m=\u001b[0m\u001b[0minterpol_order\u001b[0m\u001b[1;33m)\u001b[0m\u001b[1;33m\u001b[0m\u001b[0m\n\u001b[0m\u001b[0;32m     17\u001b[0m         \u001b[0my_interpl\u001b[0m \u001b[1;33m=\u001b[0m \u001b[0mcent_y\u001b[0m\u001b[1;33m.\u001b[0m\u001b[0minterpolate\u001b[0m\u001b[1;33m(\u001b[0m\u001b[0mmethod\u001b[0m\u001b[1;33m=\u001b[0m\u001b[1;34m'polynomial'\u001b[0m\u001b[1;33m,\u001b[0m \u001b[0morder\u001b[0m\u001b[1;33m=\u001b[0m\u001b[0minterpol_order\u001b[0m\u001b[1;33m)\u001b[0m\u001b[1;33m\u001b[0m\u001b[0m\n\u001b[0;32m     18\u001b[0m \u001b[1;33m\u001b[0m\u001b[0m\n",
      "\u001b[1;32m~\\AppData\\Local\\Continuum\\anaconda3\\lib\\site-packages\\pandas\\core\\generic.py\u001b[0m in \u001b[0;36minterpolate\u001b[1;34m(self, method, axis, limit, inplace, limit_direction, limit_area, downcast, **kwargs)\u001b[0m\n\u001b[0;32m   7042\u001b[0m                     \u001b[1;34m\"using {method} method other than linear. \"\u001b[0m\u001b[1;33m\u001b[0m\u001b[0m\n\u001b[0;32m   7043\u001b[0m                     \u001b[1;34m\"Try setting a numeric or datetime index column before \"\u001b[0m\u001b[1;33m\u001b[0m\u001b[0m\n\u001b[1;32m-> 7044\u001b[1;33m                     \u001b[1;34m\"interpolating.\"\u001b[0m\u001b[1;33m.\u001b[0m\u001b[0mformat\u001b[0m\u001b[1;33m(\u001b[0m\u001b[0mmethod\u001b[0m\u001b[1;33m=\u001b[0m\u001b[0mmethod\u001b[0m\u001b[1;33m)\u001b[0m\u001b[1;33m\u001b[0m\u001b[0m\n\u001b[0m\u001b[0;32m   7045\u001b[0m                 )\n\u001b[0;32m   7046\u001b[0m \u001b[1;33m\u001b[0m\u001b[0m\n",
      "\u001b[1;31mValueError\u001b[0m: Index column must be numeric or datetime type when using polynomial method other than linear. Try setting a numeric or datetime index column before interpolating."
     ]
    }
   ],
   "source": [
    "for path in datalist:\n",
    "        \n",
    "        file = pd.read_csv(path)\n",
    "        x = file.filtered_x\n",
    "        y = file.filtered_y\n",
    "\n",
    "        name = [n for n in circ_parameters.name if n in path][0]        \n",
    "        \n",
    "        circ_x = circ_parameters.loc[circ_parameters.name == name, 'circ_x'].values\n",
    "        circ_y = circ_parameters.loc[circ_parameters.name == name, 'circ_y'].values\n",
    "        circ_radii = circ_parameters.loc[circ_parameters.name == name, 'circ_radii'].values\n",
    "\n",
    "        cent_x = x - circ_x\n",
    "        cent_y = y - circ_y\n",
    "\n",
    "        x_interpl = cent_x.interpolate(method='polynomial', order=interpol_order)\n",
    "        y_interpl = cent_y.interpolate(method='polynomial', order=interpol_order)\n",
    "        \n",
    "        print(name + str(np.where(np.isnan(x_interpl))))\n",
    "        print(name + str(np.where(np.isnan(y_interpl))))"
   ]
  },
  {
   "cell_type": "code",
   "execution_count": null,
   "metadata": {},
   "outputs": [],
   "source": []
  }
 ],
 "metadata": {
  "kernelspec": {
   "display_name": "Python 3",
   "language": "python",
   "name": "python3"
  },
  "language_info": {
   "codemirror_mode": {
    "name": "ipython",
    "version": 3
   },
   "file_extension": ".py",
   "mimetype": "text/x-python",
   "name": "python",
   "nbconvert_exporter": "python",
   "pygments_lexer": "ipython3",
   "version": "3.6.5"
  }
 },
 "nbformat": 4,
 "nbformat_minor": 2
}
