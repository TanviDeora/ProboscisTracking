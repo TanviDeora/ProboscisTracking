{
 "cells": [
  {
   "cell_type": "code",
   "execution_count": 1,
   "metadata": {},
   "outputs": [],
   "source": [
    "import pandas as pd\n",
    "import numpy as np\n",
    "import glob\n",
    "import os\n",
    "from scipy import signal\n",
    "from scipy.stats import gaussian_kde\n",
    "\n",
    "import matplotlib.pyplot as plt\n",
    "import matplotlib as mpl\n",
    "\n",
    "import seaborn as sns"
   ]
  },
  {
   "cell_type": "code",
   "execution_count": 2,
   "metadata": {},
   "outputs": [],
   "source": [
    "mpl.rcParams['axes.linewidth'] = 0.5 #set the value globally\n",
    "mpl.rcParams['xtick.major.width'] = 0.5\n",
    "mpl.rcParams['ytick.major.width'] = 0.5\n",
    "mpl.rcParams['axes.titlesize'] = 10\n",
    "mpl.rcParams['axes.labelsize'] = 8\n",
    "mpl.rcParams[\"lines.linewidth\"] = 0.5\n",
    "\n",
    "mpl.rc('font',**{'family':'sans-serif','serif':['Arial']})\n",
    "mpl.rcParams['pdf.fonttype'] = 42"
   ]
  },
  {
   "cell_type": "code",
   "execution_count": 3,
   "metadata": {},
   "outputs": [],
   "source": [
    "def GetAllUsableData(data, v):\n",
    "    visit = v\n",
    "    df = pd.DataFrame([])\n",
    "    for eachfile in data:\n",
    "        tail = os.path.basename(eachfile)\n",
    "        n = segments = tail.split(\"_\")\n",
    "        name = n[0] + '_' + n[1]\n",
    "        \n",
    "        temp = pd.read_csv(eachfile)\n",
    "\n",
    "#         if np.any(subset.names == name):\n",
    "        p1 = pd.Series(data = [name] * len(temp), name = 'name')\n",
    "        p2 = pd.Series(data = [visit] * len(temp), name = 'visit')\n",
    "\n",
    "        temp1 = pd.concat([temp, p1, p2], axis = 1)\n",
    "\n",
    "        df = df.append(temp1)\n",
    "        df = df[(df.radial_distance_normalized.notnull()) & (df.angle.notnull())]\n",
    "    return(df)"
   ]
  },
  {
   "cell_type": "code",
   "execution_count": 4,
   "metadata": {},
   "outputs": [],
   "source": [
    "def FitGaussainKde(radialDist, RRO):\n",
    "        m1 = radialDist\n",
    "        m2 = RRO\n",
    "        xmin = m1.min()\n",
    "        xmax = m1.max()\n",
    "        ymin = m2.min()\n",
    "        ymax = m2.max()\n",
    "        X, Y = np.mgrid[xmin:xmax:100j, ymin:ymax:100j]\n",
    "\n",
    "        values = np.vstack([m1, m2])\n",
    "        kernel = gaussian_kde(values)\n",
    "        \n",
    "        return(X,Y,kernel)"
   ]
  },
  {
   "cell_type": "code",
   "execution_count": 5,
   "metadata": {},
   "outputs": [],
   "source": [
    "def getFlowerCurvature(curve, x):\n",
    "    \n",
    "    r = 1\n",
    "    R = 25\n",
    "    L = 15\n",
    "    y = L*(((x - r)/R) ** np.exp(curve))\n",
    "    return y"
   ]
  },
  {
   "cell_type": "markdown",
   "metadata": {},
   "source": [
    "## draw the radial and angle distribution together"
   ]
  },
  {
   "cell_type": "markdown",
   "metadata": {},
   "source": [
    "## plot each data axes separately"
   ]
  },
  {
   "cell_type": "code",
   "execution_count": 6,
   "metadata": {},
   "outputs": [],
   "source": [
    "def accesorise(axes, tickY, tickX):\n",
    "    axes.spines['left'].set_visible(True)\n",
    "    axes.spines['bottom'].set_visible(True)\n",
    "    axes.spines['right'].set_visible(False)\n",
    "    axes.spines['top'].set_visible(False)\n",
    "    \n",
    "    axes.spines['left'].set_smart_bounds(True)\n",
    "    axes.spines['bottom'].set_smart_bounds(True)\n",
    "\n",
    "    if tickY:\n",
    "        axes.set_yticks([0, 45, 90])\n",
    "        axes.set_yticklabels([0, 45, 90])\n",
    "    else:\n",
    "        axes.set_yticks([])\n",
    "        \n",
    "    if tickX:\n",
    "        axes.set_xticks([0, 1])\n",
    "        axes.set_xticklabels([0, 1])\n",
    "    else:\n",
    "        axes.set_xticks([])"
   ]
  },
  {
   "cell_type": "code",
   "execution_count": 7,
   "metadata": {},
   "outputs": [
    {
     "data": {
      "image/png": "[encoded data removed]",
      "text/plain": [
       "<Figure size 63x63 with 1 Axes>"
      ]
     },
     "metadata": {
      "needs_background": "light"
     },
     "output_type": "display_data"
    },
    {
     "data": {
      "image/png": "[encoded data removed]",
      "text/plain": [
       "<Figure size 63x63 with 1 Axes>"
      ]
     },
     "metadata": {
      "needs_background": "light"
     },
     "output_type": "display_data"
    }
   ],
   "source": [
    "w = (3.5/4) # square-ish figure: 4 rows 4 columns - one column width for paper\n",
    "f1, ax1 = plt.subplots(figsize = (w,w), num = 'hexbin')\n",
    "f2, ax2 = plt.subplots(figsize = (w,w), num = 'pde')"
   ]
  },
  {
   "cell_type": "code",
   "execution_count": 8,
   "metadata": {},
   "outputs": [],
   "source": [
    "outpath = r\"../dataFolders/PaperPipelineOutput/Figures/v3/Paper/\"\n",
    "shapes = ['c-1_', 'c-2_', 'c-3_', 'c-10_']\n",
    "visitnum = ['FirstVisit/','Later7thVisit/' , 'Later20thVisit/']"
   ]
  },
  {
   "cell_type": "code",
   "execution_count": 19,
   "metadata": {},
   "outputs": [
    {
     "name": "stdout",
     "output_type": "stream",
     "text": [
      "FirstVisit/\n",
      "c-1_\n",
      "num of frames: 6796\n",
      "num of moths: 16\n"
     ]
    },
    {
     "name": "stderr",
     "output_type": "stream",
     "text": [
      "C:\\Users\\Tanvi\\AppData\\Local\\Continuum\\anaconda3\\lib\\site-packages\\ipykernel_launcher.py:49: UserWarning: The following kwargs were not used by contour: 'linewidth'\n"
     ]
    },
    {
     "name": "stdout",
     "output_type": "stream",
     "text": [
      "c-2_\n",
      "num of frames: 10086\n",
      "num of moths: 17\n",
      "c-3_\n",
      "num of frames: 10214\n",
      "num of moths: 22\n",
      "c-10_\n",
      "num of frames: 25729\n",
      "num of moths: 20\n",
      "Later7thVisit/\n",
      "c-1_\n",
      "num of frames: 2278\n",
      "num of moths: 13\n",
      "c-2_\n",
      "num of frames: 2979\n",
      "num of moths: 16\n",
      "c-3_\n",
      "num of frames: 2535\n",
      "num of moths: 20\n",
      "c-10_\n",
      "num of frames: 6729\n",
      "num of moths: 17\n",
      "Later20thVisit/\n",
      "c-1_\n",
      "num of frames: 1727\n",
      "num of moths: 8\n",
      "c-2_\n",
      "num of frames: 535\n",
      "num of moths: 5\n",
      "c-3_\n",
      "num of frames: 1429\n",
      "num of moths: 9\n",
      "c-10_\n",
      "num of frames: 5526\n",
      "num of moths: 13\n"
     ]
    }
   ],
   "source": [
    "for vv, visit in enumerate(visitnum):\n",
    "    data_path = os.path.join(r\"../dataFolders/PaperPipelineOutput/v3/RadiusAndAngle/\", visit)\n",
    "    data = glob.glob(data_path +'*.csv')\n",
    "    \n",
    "#     videoselection = pd.read_csv(os.path.join(r\"../dataFolders/PaperPipelineOutput/FilteredTracks/\",visit) + \n",
    "#                                           \"AllVideoNames.csv\")\n",
    "#     subset = videoselection.loc[videoselection.AutomatatedTracking == 'TRUE', :]\n",
    "    \n",
    "#     df = GetAllUsableData(data, subset, visit)\n",
    "    df = GetAllUsableData(data, visit)\n",
    "    \n",
    "    # remove anything greater than 1.5 and less than 0.1\n",
    "    df = df[(df.radial_distance_normalized < 1.5)\n",
    "        & (df.radial_distance_normalized > 0.06)]\n",
    "    \n",
    "    # print stats of numbers for paper\n",
    "    print(visit)\n",
    "    \n",
    "    for ss, shape in enumerate(shapes):\n",
    "        r = df.loc[(df.name.str.contains(shape)) & \n",
    "                             (df.visit == visit), 'radial_distance_normalized']\n",
    "        angle = df.loc[(df.name.str.contains(shape)) & \n",
    "                             (df.visit == visit), 'angle']\n",
    "        \n",
    "        # print stats for paper\n",
    "        print(shape)\n",
    "        print('num of frames: {:d}'.format(len(r)))\n",
    "        numMoths = len(df[(df.name.str.contains(shape)) & (df.visit == visit)].name.unique())\n",
    "        print('num of moths: {:d}'.format(numMoths))\n",
    "        \n",
    "#         ax1.hexbin(r, angle)\n",
    "#         ax1.axvline(x = 1.0, ls = '--', linewidth = 1, color = 'fuchsia')\n",
    "#         plt.savefig(outpath + 'test.pdf')\n",
    "        \n",
    "\n",
    "        # perform a kernel density estimation\n",
    "        X,Y,kernel = FitGaussainKde(r, angle)\n",
    "        #reset the kernel bandwidth to make it smaller\n",
    "        kernel.set_bandwidth(bw_method=kernel.factor / 1.5)\n",
    "        \n",
    "        positions = np.vstack([X.ravel(), Y.ravel()])\n",
    "        Z = np.reshape(kernel(positions).T, X.shape)\n",
    "        \n",
    "        tt = ax2.pcolormesh(X, Y, Z.reshape(X.shape)\n",
    "                            , cmap=plt.cm.cividis\n",
    "                            , shading = 'gouraud')\n",
    "        ax2.contour(X, Y, Z.reshape(X.shape), levels = 4 \n",
    "                    ,cmap = plt.cm.Purples_r\n",
    "                    , linewidth = 0.5)\n",
    "        ax2.axvline(x = 1.0, ls = '--', linewidth = 1, color = 'fuchsia')\n",
    "        ax2.set_xlim(0, 1.5)\n",
    "                 \n",
    "        # set up variables to accesorize\n",
    "        if vv == 2:\n",
    "            tickX = True\n",
    "        else:\n",
    "            tickX = False\n",
    "            \n",
    "        if ss == 0:\n",
    "            tickY = True\n",
    "        else:\n",
    "            tickY = False\n",
    "        \n",
    "        accesorise(ax1, tickY, tickX)\n",
    "        accesorise(ax2, tickY, tickX)\n",
    "        \n",
    "        figname = shape + visit[:-1]\n",
    "#         f1.savefig(outpath + 'hexbin_' + figname + '.pdf')\n",
    "#         ax1.clear()\n",
    "        f2.savefig(outpath + 'pde_' + figname + '_Sub3_cividis.pdf')\n",
    "        ax2.clear()"
   ]
  },
  {
   "cell_type": "code",
   "execution_count": 34,
   "metadata": {
    "scrolled": true
   },
   "outputs": [
    {
     "name": "stderr",
     "output_type": "stream",
     "text": [
      "C:\\Users\\Tanvi\\AppData\\Local\\Continuum\\anaconda3\\lib\\site-packages\\ipykernel_launcher.py:6: RuntimeWarning: invalid value encountered in power\n",
      "  \n"
     ]
    },
    {
     "data": {
      "image/png": "[encoded data removed]",
      "text/plain": [
       "<Figure size 63x63 with 1 Axes>"
      ]
     },
     "metadata": {
      "needs_background": "light"
     },
     "output_type": "display_data"
    }
   ],
   "source": [
    "# draw the curvatures\n",
    "f3, ax3 = plt.subplots(figsize = (w,w))\n",
    "\n",
    "curvatures = [-1, -2, -3, -10]\n",
    "x = np.arange(0, 25, 0.1)\n",
    "\n",
    "for i, c in enumerate(curvatures):\n",
    "    y = getFlowerCurvature(c, x)\n",
    "    ax3.plot(x/np.max(x), y, color = 'k', linewidth = 1.0)\n",
    "    ax3.set_ylim(0, 16)\n",
    "    ax3.set_xlim(0,1.5)\n",
    "    f3.savefig(outpath + 'profile_c' + str(c) + '.pdf')\n",
    "    ax3.clear()"
   ]
  },
  {
   "cell_type": "markdown",
   "metadata": {},
   "source": [
    "## plot the raw data for the same graph as a separate figure"
   ]
  },
  {
   "cell_type": "code",
   "execution_count": 91,
   "metadata": {},
   "outputs": [],
   "source": [
    "for axes in first + later7 + later:\n",
    "    axes.clear()"
   ]
  },
  {
   "cell_type": "code",
   "execution_count": 92,
   "metadata": {},
   "outputs": [],
   "source": [
    "for visit, axes in zip(visitnum, [first, later7, later]):\n",
    "    data_path = os.path.join(r\"../dataFolders/PaperPipelineOutput/RadiusAndAngle_v2/\", visit)\n",
    "    data = glob.glob(data_path +'*.csv')\n",
    "    \n",
    "    videoselection = pd.read_csv(os.path.join(r\"../dataFolders/PaperPipelineOutput/FilteredTracks_v2/\",visit) + \n",
    "                                          \"AllVideoNames.csv\")\n",
    "    subset = videoselection.loc[videoselection.AutomatatedTracking == 'TRUE', :]\n",
    "    \n",
    "    df = GetAllUsableData(data, subset)\n",
    "    \n",
    "    # remove anything greater than 1.5 and less than 0.1\n",
    "    df = df[(df.radial_distance_normalized < 1.5)\n",
    "        & (df.radial_distance_normalized > 0.06) ]\n",
    "\n",
    "    for i, shape in enumerate(shapes):\n",
    "        r = df.loc[(df.name.str.contains(shape)) & \n",
    "                             (df.visit == visit), 'radial_distance_normalized']\n",
    "        angle = df.loc[(df.name.str.contains(shape)) & \n",
    "                             (df.visit == visit), 'angle']\n",
    "\n",
    "        axes[i].hexbin(r, angle)\n",
    "        axes[i].axvline(x = 1.0, ls = '--', linewidth = 0.5, color = 'silver')\n",
    "        axes[i].set_xlim(0, 1.5)\n",
    "        i+=1"
   ]
  },
  {
   "cell_type": "code",
   "execution_count": 93,
   "metadata": {},
   "outputs": [],
   "source": [
    "# accesorize\n",
    "\n",
    "for axes in first + later7 + later:\n",
    "    axes.spines['left'].set_visible(True)\n",
    "    axes.spines['bottom'].set_visible(True)\n",
    "    axes.spines['right'].set_visible(False)\n",
    "    axes.spines['top'].set_visible(False)\n",
    "    \n",
    "    axes.spines['left'].set_smart_bounds(True)\n",
    "    axes.spines['bottom'].set_smart_bounds(True)\n",
    "\n",
    "# for axes in [ax30, ax31]:\n",
    "for axes in [first[0], later7[0], later[0]]:\n",
    "    axes.set_yticks([0, 45, 90])\n",
    "    axes.set_yticklabels([0, 45, 90])\n",
    "    \n",
    "for axes in later:\n",
    "    axes.set_xticks([0, 1])\n",
    "    axes.set_xticklabels([0, 1])\n",
    "    \n",
    "for axes in first + later7 + profiles:\n",
    "    axes.set_xticks([])\n",
    "    \n",
    "for axes in first[1:] + later7[1:] + later[1:] + profiles[1:]: \n",
    "    axes.set_yticks([])"
   ]
  },
  {
   "cell_type": "code",
   "execution_count": 20,
   "metadata": {},
   "outputs": [
    {
     "name": "stderr",
     "output_type": "stream",
     "text": [
      "C:\\Users\\Tanvi\\AppData\\Local\\Continuum\\anaconda3\\lib\\site-packages\\ipykernel_launcher.py:21: UserWarning: Matplotlib is currently using module://ipykernel.pylab.backend_inline, which is a non-GUI backend, so cannot show the figure.\n"
     ]
    },
    {
     "data": {
      "image/png": "[encoded data removed]",
      "text/plain": [
       "<Figure size 31.5x6.3 with 1 Axes>"
      ]
     },
     "metadata": {
      "needs_background": "light"
     },
     "output_type": "display_data"
    }
   ],
   "source": [
    "# colorbars\n",
    "\n",
    "import matplotlib as mpl\n",
    "from matplotlib import cm\n",
    "import matplotlib.pyplot as plt\n",
    "\n",
    "points = 100 \n",
    "cmap_hexbin = cm.get_cmap('viridis')\n",
    "cmap_pdf = cm.get_cmap('Greens')\n",
    "\n",
    "fig, ax = plt.subplots(figsize=(w/2, w/10))\n",
    "# fig.subplots_adjust(bottom=0.5)\n",
    "\n",
    "cmap = cmap_hexbin\n",
    "# norm = mpl.colors.Normalize(vmin=(framestrt - lagPoints)/100, vmax= framestrt/100)\n",
    "\n",
    "cb1 = mpl.colorbar.ColorbarBase(ax, cmap=cmap,\n",
    "#                                 norm=norm,\n",
    "                                orientation='horizontal')\n",
    "cb1.set_label('Normalized count')\n",
    "fig.show()\n",
    "plt.savefig('../dataFolders/PaperPipelineOutput/Figures/v3/Paper/colorbar_hexbin-v1.pdf')\n",
    "\n",
    "cmap = cmap_pdf\n",
    "cb2 = mpl.colorbar.ColorbarBase(ax, cmap=cmap,\n",
    "#                                norm=norm,\n",
    "                               orientation='horizontal')\n",
    "cb2.set_label('Probability Density')\n",
    "plt.savefig('../dataFolders/PaperPipelineOutput/Figures/v3/Paper/colorbar_2Dpdf-v1.pdf')"
   ]
  },
  {
   "cell_type": "code",
   "execution_count": 131,
   "metadata": {},
   "outputs": [],
   "source": [
    "# # accesorize\n",
    "\n",
    "# for axes in first + later:\n",
    "#     axes.spines['left'].set_visible(True)\n",
    "#     axes.spines['bottom'].set_visible(True)\n",
    "#     axes.spines['right'].set_visible(False)\n",
    "#     axes.spines['top'].set_visible(False)\n",
    "    \n",
    "#     axes.spines['left'].set_smart_bounds(True)\n",
    "#     axes.spines['bottom'].set_smart_bounds(True)\n",
    "\n",
    "# for axes in [ax30, ax31]:\n",
    "#     axes.set_xticks([0, 45, 90])\n",
    "#     axes.set_xticklabels([0, 45, 90])\n",
    "    \n",
    "# for axes in first:\n",
    "#     axes.set_yticks([0, 1])\n",
    "#     axes.set_yticklabels([0, 1])\n",
    "    \n",
    "# for axes in first[:-1] + later[:-1] + profiles[:-1]:\n",
    "#     axes.set_xticks([])\n",
    "    \n",
    "# for axes in later + profiles: \n",
    "#     axes.set_yticks([])"
   ]
  },
  {
   "cell_type": "code",
   "execution_count": 94,
   "metadata": {},
   "outputs": [
    {
     "data": {
      "image/png": "[encoded data removed]",
      "text/plain": [
       "<Figure size 252x252 with 16 Axes>"
      ]
     },
     "execution_count": 94,
     "metadata": {},
     "output_type": "execute_result"
    }
   ],
   "source": [
    "f"
   ]
  },
  {
   "cell_type": "code",
   "execution_count": 95,
   "metadata": {},
   "outputs": [],
   "source": [
    "f.savefig(r\"../dataFolders/PaperPipelineOutput/Figures/v2/Paper/Figure4-angleVsRRO_rawDatav0-3.pdf\")"
   ]
  },
  {
   "cell_type": "code",
   "execution_count": null,
   "metadata": {},
   "outputs": [],
   "source": []
  },
  {
   "cell_type": "code",
   "execution_count": 6,
   "metadata": {},
   "outputs": [],
   "source": [
    "# ## draw Fig3 in its entirity - vertical aligned for shape\n",
    "\n",
    "# shapes = ['c-1', 'c-2','c-3', 'c-10']\n",
    "# w = 3.5 # half width \n",
    "# h = 4.67 # square-ish figure\n",
    "\n",
    "# # gridspec inside gridspec\n",
    "# f = plt.figure(figsize = (w,h))\n",
    "\n",
    "# gs0 = plt.GridSpec(4, 5, figure=f, hspace = 0.05, wspace=0.05)\n",
    "\n",
    "# ax00 = f.add_subplot(gs0[0,0:2])\n",
    "# ax10 = f.add_subplot(gs0[1,0:2])\n",
    "# ax20 = f.add_subplot(gs0[2,0:2])\n",
    "# ax30 = f.add_subplot(gs0[3,0:2])\n",
    "\n",
    "# ax01 = f.add_subplot(gs0[0,2:4])\n",
    "# ax11 = f.add_subplot(gs0[1,2:4])\n",
    "# ax21 = f.add_subplot(gs0[2,2:4])\n",
    "# ax31 = f.add_subplot(gs0[3,2:4])\n",
    "\n",
    "# ax02 = f.add_subplot(gs0[0,4])\n",
    "# ax12 = f.add_subplot(gs0[1,4])\n",
    "# ax22 = f.add_subplot(gs0[2,4])\n",
    "# ax32 = f.add_subplot(gs0[3,4])"
   ]
  },
  {
   "cell_type": "code",
   "execution_count": 7,
   "metadata": {},
   "outputs": [],
   "source": [
    "# ## draw Fig3 in its entirity - horizontally aligned for shape\n",
    "\n",
    "# shapes = ['c-1', 'c-2','c-3', 'c-10']\n",
    "# w = 3.5 # half width \n",
    "# h = (3.5/4)*4 # square-ish figure\n",
    "\n",
    "# # gridspec inside gridspec\n",
    "# f = plt.figure(figsize = (w,h))\n",
    "\n",
    "# gs0 = plt.GridSpec(4, 4, figure=f, hspace = 0.05, wspace=0.05)\n",
    "\n",
    "# axf0 = f.add_subplot(gs0[0,0])\n",
    "# axf1 = f.add_subplot(gs0[0,1])\n",
    "# axf2 = f.add_subplot(gs0[0,2])\n",
    "# axf3 = f.add_subplot(gs0[0,3])\n",
    "\n",
    "# axv00 = f.add_subplot(gs0[1,0])\n",
    "# axv01 = f.add_subplot(gs0[1,1])\n",
    "# axv02 = f.add_subplot(gs0[1,2])\n",
    "# axv03 = f.add_subplot(gs0[1,3])\n",
    "\n",
    "# axv10 = f.add_subplot(gs0[2,0])\n",
    "# axv11 = f.add_subplot(gs0[2,1])\n",
    "# axv12 = f.add_subplot(gs0[2,2])\n",
    "# axv13 = f.add_subplot(gs0[2,3])\n",
    "\n",
    "# axv20 = f.add_subplot(gs0[3,0])\n",
    "# axv21 = f.add_subplot(gs0[3,1])\n",
    "# axv22 = f.add_subplot(gs0[3,2])\n",
    "# axv23 = f.add_subplot(gs0[3,3])"
   ]
  },
  {
   "cell_type": "code",
   "execution_count": 8,
   "metadata": {},
   "outputs": [],
   "source": [
    "# first = [axv00, axv01, axv02, axv03]\n",
    "# later7 = [axv10, axv11, axv12, axv13]\n",
    "# later = [axv20, axv21, axv22, axv23]\n",
    "# profiles = [axf0, axf1, axf2, axf3]"
   ]
  },
  {
   "cell_type": "code",
   "execution_count": 86,
   "metadata": {},
   "outputs": [
    {
     "name": "stderr",
     "output_type": "stream",
     "text": [
      "C:\\Users\\Tanvi\\AppData\\Local\\Continuum\\anaconda3\\lib\\site-packages\\ipykernel_launcher.py:41: UserWarning: The following kwargs were not used by contour: 'linewidth'\n"
     ]
    }
   ],
   "source": [
    "# shapes = ['c-1_', 'c-2_', 'c-3_', 'c-10_']\n",
    "\n",
    "# visitnum = ['FirstVisit/','Later7thVisit/' , 'LaterVisit/']\n",
    "\n",
    "# for visit, axes in zip(visitnum, [first, later7, later]):\n",
    "#     data_path = os.path.join(r\"../dataFolders/PaperPipelineOutput/RadiusAndAngle_v2/\", visit)\n",
    "#     data = glob.glob(data_path +'*.csv')\n",
    "    \n",
    "#     videoselection = pd.read_csv(os.path.join(r\"../dataFolders/PaperPipelineOutput/FilteredTracks_v2/\",visit) + \n",
    "#                                           \"AllVideoNames.csv\")\n",
    "#     subset = videoselection.loc[videoselection.AutomatatedTracking == 'TRUE', :]\n",
    "    \n",
    "#     df = GetAllUsableData(data, subset)\n",
    "    \n",
    "#     # remove anything greater than 1.5 and less than 0.1\n",
    "#     df = df[(df.radial_distance_normalized < 1.5)\n",
    "#         & (df.radial_distance_normalized > 0.06)]\n",
    "\n",
    "#     for i, shape in enumerate(shapes):\n",
    "#         r = df.loc[(df.name.str.contains(shape)) & \n",
    "#                              (df.visit == visit), 'radial_distance_normalized']\n",
    "#         angle = df.loc[(df.name.str.contains(shape)) & \n",
    "#                              (df.visit == visit), 'angle']\n",
    "\n",
    "# #         ax[i].hexbin(r, angle)\n",
    "# #         ax[i].set_title(shape + 'radial Dist vs angle')\n",
    "\n",
    "#         # perform a kernel density estimation\n",
    "#         X,Y,kernel = FitGaussainKde(r, angle)\n",
    "#         #reset the kernel bandwidth to make it smaller\n",
    "#         kernel.set_bandwidth(bw_method=kernel.factor / 1.5)\n",
    "        \n",
    "#         positions = np.vstack([X.ravel(), Y.ravel()])\n",
    "#         Z = np.reshape(kernel(positions).T, X.shape)\n",
    "\n",
    "#         tt = axes[i].pcolormesh(X, Y, Z.reshape(X.shape), cmap=plt.cm.BuGn_r)\n",
    "        \n",
    "# #         # get colorbar\n",
    "        \n",
    "# #         cbar = fig.colorbar(tt, ax=ax0)\n",
    "#         axes[i].contour(X, Y, Z.reshape(X.shape), levels = 4, linewidth = 0.5)\n",
    "#         axes[i].axvline(x = 1.0, ls = '--', linewidth = 0.5, color = 'fuchsia')\n",
    "#         axes[i].set_xlim(0, 1.5)\n",
    "#         i+=1"
   ]
  },
  {
   "cell_type": "code",
   "execution_count": 7,
   "metadata": {},
   "outputs": [],
   "source": [
    "# curvatures = [-1, -2, -3, -10]\n",
    "# x = np.arange(0, 25, 0.1)\n",
    "\n",
    "# for i, c in enumerate(curvatures):\n",
    "#     y = getFlowerCurvature(c, x)\n",
    "#     profiles[i].plot(x/np.max(x), y, color = 'k', linewidth = 1.0)\n",
    "#     profiles[i].set_ylim(0, 16)\n",
    "#     profiles[i].set_xlim(0,1.5)"
   ]
  },
  {
   "cell_type": "code",
   "execution_count": 8,
   "metadata": {},
   "outputs": [],
   "source": [
    "# # accesorize\n",
    "\n",
    "# for axes in first + later7 + later:\n",
    "#     axes.spines['left'].set_visible(True)\n",
    "#     axes.spines['bottom'].set_visible(True)\n",
    "#     axes.spines['right'].set_visible(False)\n",
    "#     axes.spines['top'].set_visible(False)\n",
    "    \n",
    "#     axes.spines['left'].set_smart_bounds(True)\n",
    "#     axes.spines['bottom'].set_smart_bounds(True)\n",
    "\n",
    "# # for axes in [ax30, ax31]:\n",
    "# for axes in [first[0], later7[0], later[0]]:\n",
    "#     axes.set_yticks([0, 45, 90])\n",
    "#     axes.set_yticklabels([0, 45, 90])\n",
    "    \n",
    "# for axes in later:\n",
    "#     axes.set_xticks([0, 1])\n",
    "#     axes.set_xticklabels([0, 1])\n",
    "    \n",
    "# for axes in first + later7 + profiles:\n",
    "#     axes.set_xticks([])\n",
    "    \n",
    "# for axes in first[1:] + later7[1:] + later[1:] + profiles[1:]: \n",
    "#     axes.set_yticks([])"
   ]
  },
  {
   "cell_type": "code",
   "execution_count": 9,
   "metadata": {},
   "outputs": [],
   "source": [
    "# f"
   ]
  },
  {
   "cell_type": "code",
   "execution_count": 10,
   "metadata": {},
   "outputs": [],
   "source": [
    "# f.savefig(r\"../dataFolders/PaperPipelineOutput/Figures/v2/Paper/Figure4-angleVsRRO_v0-3.pdf\")"
   ]
  }
 ],
 "metadata": {
  "kernelspec": {
   "display_name": "Python 3",
   "language": "python",
   "name": "python3"
  },
  "language_info": {
   "codemirror_mode": {
    "name": "ipython",
    "version": 3
   },
   "file_extension": ".py",
   "mimetype": "text/x-python",
   "name": "python",
   "nbconvert_exporter": "python",
   "pygments_lexer": "ipython3",
   "version": "3.6.5"
  }
 },
 "nbformat": 4,
 "nbformat_minor": 2
}
