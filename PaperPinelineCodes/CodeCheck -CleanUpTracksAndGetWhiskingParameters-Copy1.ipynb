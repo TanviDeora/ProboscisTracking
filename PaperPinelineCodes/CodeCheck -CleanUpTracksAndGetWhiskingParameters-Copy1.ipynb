{
 "cells": [
  {
   "cell_type": "code",
   "execution_count": null,
   "metadata": {},
   "outputs": [],
   "source": [
    "import numpy as np\n",
    "import pandas as pd\n",
    "import glob\n",
    "import os\n",
    "import matplotlib.pyplot as plt\n",
    "from scipy import signal\n",
    "import sys"
   ]
  },
  {
   "cell_type": "code",
   "execution_count": null,
   "metadata": {},
   "outputs": [],
   "source": [
    "def GetRMSE(x2, y2, x1, y1):\n",
    "    from scipy.spatial.distance import pdist\n",
    "\n",
    "    er = []\n",
    "    for idx in range(len(x2)):\n",
    "        X = np.asarray([[x1[idx], y1[idx]], \n",
    "                         [x2[idx], y2[idx]]])\n",
    "        temp_er = pdist(X,metric = 'euclidean')\n",
    "        er.append(temp_er[0])\n",
    "    er = np.asarray(er)\n",
    "    return(er)"
   ]
  },
  {
   "cell_type": "code",
   "execution_count": 3,
   "metadata": {},
   "outputs": [],
   "source": [
    "# parameters used to filter data\n",
    "\n",
    "cutoff = 24\n",
    "\n",
    "interpol_order = 3 # order for polynomial interpolation\n",
    "\n",
    "# win_gauss = signal.gaussian(10,3) # gaussian kernal for smoothening interpolated data\n",
    "\n",
    "# parameters for the savitzky-golay filter\n",
    "savgol_win = 15\n",
    "savgol_polyorder = 3"
   ]
  },
  {
   "cell_type": "markdown",
   "metadata": {},
   "source": [
    "## remove x y location of points based on distance from previous frame threshold "
   ]
  },
  {
   "cell_type": "code",
   "execution_count": 4,
   "metadata": {},
   "outputs": [],
   "source": [
    "direc = r\"../dataFolders/PaperPipelineOutput/RawTracks/\"\n",
    "visitnum = 'FirstVisit/'\n",
    "# for visitnum in ['FirstVisit/', 'LastVisit/']:\n",
    "    \n",
    "    # get all the data for that visit num\n",
    "path = os.path.join(direc, visitnum)\n",
    "trackslist = glob.glob(path + '*.csv')\n",
    "    \n",
    "#     new_path = os.path.join(r\"../dataFolders/PaperPipelineOutput/FilteredTracks/\", visitnum)\n",
    "#     try:\n",
    "#         os.mkdir(new_path)\n",
    "#     except OSError:\n",
    "#         print('oops')"
   ]
  },
  {
   "cell_type": "code",
   "execution_count": 5,
   "metadata": {},
   "outputs": [
    {
     "data": {
      "text/plain": [
       "['../dataFolders/PaperPipelineOutput/RawTracks/FirstVisit\\\\c-10_m11_visit_0.csv']"
      ]
     },
     "execution_count": 5,
     "metadata": {},
     "output_type": "execute_result"
    }
   ],
   "source": [
    "f = [file for file in trackslist if 'c-10_m11' in file]\n",
    "f"
   ]
  },
  {
   "cell_type": "code",
   "execution_count": 6,
   "metadata": {},
   "outputs": [],
   "source": [
    "circ_parameters_path = glob.glob('../dataFolders/PaperPipelineOutput/CircleParameters/' + '*.csv')\n",
    "circ_parameters = pd.read_csv(circ_parameters_path[0])"
   ]
  },
  {
   "cell_type": "code",
   "execution_count": null,
   "metadata": {},
   "outputs": [],
   "source": [
    "# visit = 'FirstVisit/'\n",
    "# direc = os.path.join('../dataFolders/PaperPipelineOutput/FilteredTracks/', visit)\n",
    "# datalist = glob.glob(direc + '*.csv')"
   ]
  },
  {
   "cell_type": "code",
   "execution_count": null,
   "metadata": {
    "scrolled": true
   },
   "outputs": [],
   "source": [
    "# newpath = os.path.join('../dataFolders/PaperPipelineOutput/RadiusAndAngle/', visit)\n",
    "# try:\n",
    "#     os.mkdir(newpath)\n",
    "# except OSError:\n",
    "#     print('oops')"
   ]
  },
  {
   "cell_type": "code",
   "execution_count": 8,
   "metadata": {},
   "outputs": [],
   "source": [
    "# for path in datalist:\n",
    "\n",
    "# file = pd.read_csv(path)\n",
    "name = [n for n in circ_parameters.name if n + '_' in f[0]][0]\n",
    "\n",
    "# if x.size == 0 or y.size == 0:\n",
    "#     print(name + 'has emtpy x y tracks')\n",
    "#     continue\n",
    "\n",
    "circ_x = circ_parameters.loc[circ_parameters.name == name, 'circ_x'].values\n",
    "circ_y = circ_parameters.loc[circ_parameters.name == name, 'circ_y'].values\n",
    "circ_radii = circ_parameters.loc[circ_parameters.name == name, 'circ_radii'].values"
   ]
  },
  {
   "cell_type": "code",
   "execution_count": 32,
   "metadata": {},
   "outputs": [],
   "source": [
    "# loop through all the moths in the list\n",
    "# for data in trackslist:\n",
    "data = f[0]\n",
    "name = os.path.basename(data)[:-4]\n",
    "file = pd.read_csv(data)\n",
    "x = file.x.values\n",
    "y = file.y.values"
   ]
  },
  {
   "cell_type": "code",
   "execution_count": 34,
   "metadata": {},
   "outputs": [
    {
     "data": {
      "image/png": "[encoded data removed]",
      "text/plain": [
       "<Figure size 432x288 with 1 Axes>"
      ]
     },
     "metadata": {
      "needs_background": "light"
     },
     "output_type": "display_data"
    }
   ],
   "source": [
    "plt.plot(x,y, 'o-')\n",
    "plt.xlim(0, 648)\n",
    "plt.ylim(0,488)\n",
    "plt.show()"
   ]
  },
  {
   "cell_type": "code",
   "execution_count": 22,
   "metadata": {},
   "outputs": [
    {
     "data": {
      "text/plain": [
       "[<matplotlib.lines.Line2D at 0x2a2a5f4cc88>]"
      ]
     },
     "execution_count": 22,
     "metadata": {},
     "output_type": "execute_result"
    },
    {
     "data": {
      "image/png": "[encoded data removed]",
      "text/plain": [
       "<Figure size 432x288 with 1 Axes>"
      ]
     },
     "metadata": {
      "needs_background": "light"
     },
     "output_type": "display_data"
    }
   ],
   "source": [
    "cent_x = x - circ_x\n",
    "cent_y = y - circ_y\n",
    "\n",
    "r = np.linalg.norm([cent_x, cent_y], axis = 0)\n",
    "r = r/circ_radii\n",
    "\n",
    "plt.plot(r, 'o')"
   ]
  },
  {
   "cell_type": "code",
   "execution_count": 23,
   "metadata": {},
   "outputs": [],
   "source": [
    "# get rmse values for subsequent frames\n",
    "rmse = GetRMSE(x[1:], y[1:], x[:-1], y[:-1])\n",
    "\n",
    "filtered_x = np.copy(x[1:])\n",
    "filtered_y = np.copy(y[1:])\n",
    "\n",
    "filtered_x[rmse > cutoff] = np.nan\n",
    "filtered_y[rmse > cutoff] = np.nan\n",
    "\n",
    "filtered_x[rmse == np.nan] = np.nan\n",
    "filtered_y[rmse == np.nan] = np.nan\n",
    "# new_xypts = pd.DataFrame({'filtered_x': filtered_x, 'filtered_y': filtered_y, 'rmse': rmse})\n",
    "# new_xypts.to_csv(new_path + '/' + name + '.csv')"
   ]
  },
  {
   "cell_type": "code",
   "execution_count": 24,
   "metadata": {},
   "outputs": [
    {
     "data": {
      "text/plain": [
       "[<matplotlib.lines.Line2D at 0x2a2a5fafe10>]"
      ]
     },
     "execution_count": 24,
     "metadata": {},
     "output_type": "execute_result"
    },
    {
     "data": {
      "image/png": "[encoded data removed]",
      "text/plain": [
       "<Figure size 432x288 with 1 Axes>"
      ]
     },
     "metadata": {
      "needs_background": "light"
     },
     "output_type": "display_data"
    }
   ],
   "source": [
    "plt.plot(filtered_x, filtered_y, 'o-')"
   ]
  },
  {
   "cell_type": "code",
   "execution_count": 25,
   "metadata": {},
   "outputs": [],
   "source": [
    "x = pd.Series(filtered_x)\n",
    "y = pd.Series(filtered_y)\n",
    "\n",
    "x_interpl = x.interpolate(method='polynomial', order=interpol_order)\n",
    "y_interpl = y.interpolate(method='polynomial', order=interpol_order)\n",
    "\n",
    "x_interpl = x_interpl[~np.isnan(x_interpl)]\n",
    "y_interpl= y_interpl[~np.isnan(y_interpl)]"
   ]
  },
  {
   "cell_type": "code",
   "execution_count": 27,
   "metadata": {},
   "outputs": [
    {
     "data": {
      "image/png": "[encoded data removed]",
      "text/plain": [
       "<Figure size 432x288 with 1 Axes>"
      ]
     },
     "metadata": {
      "needs_background": "light"
     },
     "output_type": "display_data"
    },
    {
     "data": {
      "image/png": "[encoded data removed]",
      "text/plain": [
       "<Figure size 432x288 with 1 Axes>"
      ]
     },
     "metadata": {
      "needs_background": "light"
     },
     "output_type": "display_data"
    },
    {
     "data": {
      "text/plain": [
       "[<matplotlib.lines.Line2D at 0x2a2a60f8eb8>]"
      ]
     },
     "execution_count": 27,
     "metadata": {},
     "output_type": "execute_result"
    },
    {
     "data": {
      "image/png": "[encoded data removed]",
      "text/plain": [
       "<Figure size 432x288 with 1 Axes>"
      ]
     },
     "metadata": {
      "needs_background": "light"
     },
     "output_type": "display_data"
    }
   ],
   "source": [
    "plt.plot(x_interpl, 'o')\n",
    "plt.show()\n",
    "plt.plot(y_interpl, 'o')\n",
    "plt.show()\n",
    "plt.plot(x_interpl, y_interpl, 'o-')"
   ]
  },
  {
   "cell_type": "markdown",
   "metadata": {},
   "source": [
    "## Solution 1:  remove effective NaN - (0-5)"
   ]
  },
  {
   "cell_type": "code",
   "execution_count": 35,
   "metadata": {},
   "outputs": [
    {
     "data": {
      "text/plain": [
       "[<matplotlib.lines.Line2D at 0x2a2a73ca1d0>]"
      ]
     },
     "execution_count": 35,
     "metadata": {},
     "output_type": "execute_result"
    },
    {
     "data": {
      "image/png": "[encoded data removed]",
      "text/plain": [
       "<Figure size 432x288 with 1 Axes>"
      ]
     },
     "metadata": {
      "needs_background": "light"
     },
     "output_type": "display_data"
    }
   ],
   "source": [
    "x = file.x.values\n",
    "y = file.y.values\n",
    "\n",
    "x_notinView = x <=5\n",
    "y_notinView = y <=5\n",
    "\n",
    "x[x_notinView & y_notinView]=np.nan\n",
    "y[x_notinView & y_notinView]=np.nan\n",
    "\n",
    "plt.plot(x,y, 'o-')"
   ]
  },
  {
   "cell_type": "code",
   "execution_count": 36,
   "metadata": {},
   "outputs": [
    {
     "data": {
      "text/plain": [
       "[<matplotlib.lines.Line2D at 0x2a2a741cbe0>]"
      ]
     },
     "execution_count": 36,
     "metadata": {},
     "output_type": "execute_result"
    },
    {
     "data": {
      "image/png": "[encoded data removed]",
      "text/plain": [
       "<Figure size 432x288 with 1 Axes>"
      ]
     },
     "metadata": {
      "needs_background": "light"
     },
     "output_type": "display_data"
    }
   ],
   "source": [
    "cent_x = x - circ_x\n",
    "cent_y = y - circ_y\n",
    "\n",
    "r = np.linalg.norm([cent_x, cent_y], axis = 0)\n",
    "r = r/circ_radii\n",
    "\n",
    "plt.plot(r, 'o')"
   ]
  },
  {
   "cell_type": "code",
   "execution_count": 37,
   "metadata": {},
   "outputs": [
    {
     "name": "stderr",
     "output_type": "stream",
     "text": [
      "C:\\Users\\Tanvi\\AppData\\Local\\Continuum\\anaconda3\\lib\\site-packages\\ipykernel_launcher.py:7: RuntimeWarning: invalid value encountered in greater\n",
      "  import sys\n",
      "C:\\Users\\Tanvi\\AppData\\Local\\Continuum\\anaconda3\\lib\\site-packages\\ipykernel_launcher.py:8: RuntimeWarning: invalid value encountered in greater\n",
      "  \n"
     ]
    }
   ],
   "source": [
    "# get rmse values for subsequent frames\n",
    "rmse = GetRMSE(x[1:], y[1:], x[:-1], y[:-1])\n",
    "\n",
    "filtered_x = np.copy(x[1:])\n",
    "filtered_y = np.copy(y[1:])\n",
    "\n",
    "filtered_x[rmse > cutoff] = np.nan\n",
    "filtered_y[rmse > cutoff] = np.nan\n",
    "\n",
    "filtered_x[rmse == np.nan] = np.nan\n",
    "filtered_y[rmse == np.nan] = np.nan"
   ]
  },
  {
   "cell_type": "code",
   "execution_count": 38,
   "metadata": {},
   "outputs": [
    {
     "data": {
      "text/plain": [
       "[<matplotlib.lines.Line2D at 0x2a2a739e2b0>]"
      ]
     },
     "execution_count": 38,
     "metadata": {},
     "output_type": "execute_result"
    },
    {
     "data": {
      "image/png": "[encoded data removed]",
      "text/plain": [
       "<Figure size 432x288 with 1 Axes>"
      ]
     },
     "metadata": {
      "needs_background": "light"
     },
     "output_type": "display_data"
    }
   ],
   "source": [
    "plt.plot(filtered_x, filtered_y, 'o-')"
   ]
  },
  {
   "cell_type": "markdown",
   "metadata": {},
   "source": [
    "## Possible solution - use DLC likehood and remove points less than 0.4"
   ]
  },
  {
   "cell_type": "code",
   "execution_count": 39,
   "metadata": {},
   "outputs": [],
   "source": [
    "x = pd.Series(filtered_x)\n",
    "y = pd.Series(filtered_y)\n",
    "\n",
    "x_interpl = x.interpolate(method='polynomial', order=interpol_order)\n",
    "y_interpl = y.interpolate(method='polynomial', order=interpol_order)\n",
    "\n",
    "x_interpl = x_interpl[~np.isnan(x_interpl)]\n",
    "y_interpl= y_interpl[~np.isnan(y_interpl)]"
   ]
  },
  {
   "cell_type": "code",
   "execution_count": 41,
   "metadata": {},
   "outputs": [
    {
     "data": {
      "text/plain": [
       "[<matplotlib.lines.Line2D at 0x2a2a8a8d0f0>]"
      ]
     },
     "execution_count": 41,
     "metadata": {},
     "output_type": "execute_result"
    },
    {
     "data": {
      "image/png": "[encoded data removed]",
      "text/plain": [
       "<Figure size 432x288 with 1 Axes>"
      ]
     },
     "metadata": {
      "needs_background": "light"
     },
     "output_type": "display_data"
    }
   ],
   "source": [
    "plt.plot(x_interpl, y_interpl, 'o-')"
   ]
  },
  {
   "cell_type": "markdown",
   "metadata": {},
   "source": [
    "## OHHH FUCK! \n",
    "### Should be using 2D interpolation, shouldn't I?"
   ]
  },
  {
   "cell_type": "code",
   "execution_count": 44,
   "metadata": {},
   "outputs": [
    {
     "data": {
      "text/plain": [
       "<matplotlib.colorbar.Colorbar at 0x2a2a8826588>"
      ]
     },
     "execution_count": 44,
     "metadata": {},
     "output_type": "execute_result"
    },
    {
     "data": {
      "image/png": "[encoded data removed]",
      "text/plain": [
       "<Figure size 432x288 with 2 Axes>"
      ]
     },
     "metadata": {
      "needs_background": "light"
     },
     "output_type": "display_data"
    }
   ],
   "source": [
    "# lets first look at DLC likelihood\n",
    "\n",
    "# plt.scatter(np.arange(len(filtered_x)),filtered_x, c = file.likelihood[1:], cmap = plt.cm.cool)\n",
    "# plt.show()\n",
    "\n",
    "plt.scatter(filtered_x, filtered_y, c = file.likelihood[1:], cmap = plt.cm.cool)\n",
    "plt.colorbar()"
   ]
  },
  {
   "cell_type": "code",
   "execution_count": 47,
   "metadata": {},
   "outputs": [
    {
     "data": {
      "text/plain": [
       "1.3641649729834169e-06"
      ]
     },
     "execution_count": 47,
     "metadata": {},
     "output_type": "execute_result"
    }
   ],
   "source": [
    "np.median(file[x_notinView & y_notinView].likelihood)"
   ]
  },
  {
   "cell_type": "code",
   "execution_count": null,
   "metadata": {},
   "outputs": [],
   "source": []
  },
  {
   "cell_type": "code",
   "execution_count": null,
   "metadata": {},
   "outputs": [],
   "source": []
  },
  {
   "cell_type": "markdown",
   "metadata": {},
   "source": [
    "## get angle and magnitude"
   ]
  },
  {
   "cell_type": "code",
   "execution_count": null,
   "metadata": {},
   "outputs": [],
   "source": [
    "def Unitvector(x_gauss, y_gauss):\n",
    "    from sklearn import preprocessing\n",
    "    \n",
    "    # get the slope of the tangent\n",
    "    trajectory = np.asarray([x_gauss, y_gauss])\n",
    "    m = np.gradient(trajectory, axis = 1)\n",
    "    m_atx = m[1]/m[0]\n",
    "    \n",
    "    # get the tangent vector at x = x0 + 1\n",
    "    tangent_x = x_gauss+1\n",
    "    tangent_y = m_atx + y_gauss\n",
    "    \n",
    "    # get the unit tangent vector\n",
    "    u_x = []\n",
    "    u_y = []\n",
    "\n",
    "    for x,y,x0,y0 in zip(tangent_x, tangent_y, x_gauss, y_gauss):\n",
    "        if np.any(np.isnan([x, y])) or np.any(np.isinf([x, y])):\n",
    "            unit_x = np.nan\n",
    "            unit_y = np.nan\n",
    "        else:\n",
    "            vector = np.asarray([x-x0, y-y0]).reshape(1,-1)\n",
    "            [unit_x, unit_y] = preprocessing.normalize(vector, norm = 'l2')[0]\n",
    "        u_x.append(unit_x)\n",
    "        u_y.append(unit_y)\n",
    "    u_x = np.asarray(u_x)\n",
    "    u_y = np.asarray(u_y)\n",
    "    return(u_x, u_y)\n",
    "\n",
    "def getAngle(loc, tangent):\n",
    "    cross = np.cross(tangent, loc)\n",
    "    dot = np.dot(tangent, loc)\n",
    "    angle = np.arctan2(cross, dot)*180/np.pi\n",
    "    return(angle)\n",
    "\n",
    "def wrapAngle(angle):\n",
    "    angle = np.absolute(angle)\n",
    "    for i,a in enumerate(angle):\n",
    "        if a > 90:\n",
    "            a = 180 - a\n",
    "            angle[i] = a\n",
    "    return(angle)"
   ]
  },
  {
   "cell_type": "code",
   "execution_count": null,
   "metadata": {},
   "outputs": [],
   "source": []
  },
  {
   "cell_type": "code",
   "execution_count": null,
   "metadata": {},
   "outputs": [],
   "source": [
    "r = np.linalg.norm([x_interpl, y_interpl], axis = 0)\n",
    "r = r/circ_radii\n",
    "\n",
    "# savitzky-golay method\n",
    "x_savgol = signal.savgol_filter(x_interpl, savgol_win, savgol_polyorder)\n",
    "y_savgol = signal.savgol_filter(y_interpl, savgol_win, savgol_polyorder)\n",
    "r_savgol = np.linalg.norm([x_savgol, y_savgol], axis = 0)\n",
    "r_savgol_norm = r_savgol/circ_radii\n",
    "\n",
    "# save all usable variables as series\n",
    "\n",
    "df1 = pd.Series(data = x_savgol, name = 'x_savgol')\n",
    "df2 = pd.Series(data = y_savgol, name = 'y_savgol')\n",
    "df3 = pd.Series(data = r_savgol_norm, name = 'radial distance savgol')\n",
    "\n",
    "\n",
    "#calculate the unit tangent vectors - savitzky-golay vector\n",
    "u_x, u_y = Unitvector(x_savgol, y_savgol)\n",
    "\n",
    "angle_savgol = []\n",
    "for x0, y0, x, y in zip(x_savgol, y_savgol, u_x, u_y):\n",
    "    loc = [x0, y0]\n",
    "    tangent = [x, y]\n",
    "    a = getAngle(loc, tangent)\n",
    "    angle_savgol.append(a)\n",
    "\n",
    "angle_savgol = wrapAngle(angle_savgol)\n",
    "\n",
    "df4 = pd.Series(data = angle_savgol, name = 'angle_savgol')\n",
    "       \n",
    "#         new_file = pd.concat([file, df1, df2, df3, df4], axis = 1)\n",
    "#         new_file.to_csv(newpath + name + 'RadiusAndAngle.csv', index_label = False)"
   ]
  },
  {
   "cell_type": "code",
   "execution_count": null,
   "metadata": {},
   "outputs": [],
   "source": []
  }
 ],
 "metadata": {
  "kernelspec": {
   "display_name": "Python 3",
   "language": "python",
   "name": "python3"
  },
  "language_info": {
   "codemirror_mode": {
    "name": "ipython",
    "version": 3
   },
   "file_extension": ".py",
   "mimetype": "text/x-python",
   "name": "python",
   "nbconvert_exporter": "python",
   "pygments_lexer": "ipython3",
   "version": "3.6.5"
  }
 },
 "nbformat": 4,
 "nbformat_minor": 2
}
