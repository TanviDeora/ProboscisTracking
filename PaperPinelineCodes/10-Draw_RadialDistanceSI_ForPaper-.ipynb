{
 "cells": [
  {
   "cell_type": "code",
   "execution_count": 1,
   "metadata": {},
   "outputs": [],
   "source": [
    "import pandas as pd\n",
    "import numpy as np\n",
    "import glob\n",
    "import os\n",
    "from scipy import signal\n",
    "from scipy.stats import gaussian_kde\n",
    "\n",
    "import matplotlib.pyplot as plt\n",
    "import matplotlib as mpl\n",
    "\n",
    "import seaborn as sns"
   ]
  },
  {
   "cell_type": "code",
   "execution_count": 2,
   "metadata": {},
   "outputs": [],
   "source": [
    "mpl.rcParams['axes.linewidth'] = 0.5 #set the value globally\n",
    "mpl.rcParams['xtick.major.width'] = 0.5\n",
    "mpl.rcParams['ytick.major.width'] = 0.5\n",
    "mpl.rcParams['axes.titlesize'] = 10\n",
    "mpl.rcParams['axes.labelsize'] = 8\n",
    "mpl.rcParams[\"lines.linewidth\"] = 0.5\n",
    "\n",
    "mpl.rc('font',**{'family':'sans-serif','serif':['Arial']})\n",
    "mpl.rcParams['pdf.fonttype'] = 42"
   ]
  },
  {
   "cell_type": "code",
   "execution_count": 3,
   "metadata": {},
   "outputs": [],
   "source": [
    "def GetAllUsableData(data, subset, v):\n",
    "    visit = v\n",
    "    df = pd.DataFrame([])\n",
    "    for eachfile in data:\n",
    "        _, tail = os.path.split(eachfile)\n",
    "        name = tail[:-19]\n",
    "        \n",
    "        temp = pd.read_csv(eachfile)\n",
    "\n",
    "        if np.any(subset.names == name):\n",
    "            p1 = pd.Series(data = [name] * len(temp), name = 'name')\n",
    "            p2 = pd.Series(data = [visit] * len(temp), name = 'visit')\n",
    "\n",
    "            temp1 = pd.concat([temp, p1, p2], axis = 1)\n",
    "\n",
    "            df = df.append(temp1)\n",
    "            df = df[(df.radial_distance_normalized.notnull()) & (df.angle.notnull())]\n",
    "    return(df)"
   ]
  },
  {
   "cell_type": "code",
   "execution_count": 4,
   "metadata": {},
   "outputs": [],
   "source": [
    "def FitGaussainKde(radialDist, RRO):\n",
    "        m1 = radialDist\n",
    "        m2 = RRO\n",
    "        xmin = m1.min()\n",
    "        xmax = m1.max()\n",
    "        ymin = m2.min()\n",
    "        ymax = m2.max()\n",
    "        X, Y = np.mgrid[xmin:xmax:100j, ymin:ymax:100j]\n",
    "\n",
    "        values = np.vstack([m1, m2])\n",
    "        kernel = gaussian_kde(values)\n",
    "        \n",
    "        return(X,Y,kernel)"
   ]
  },
  {
   "cell_type": "markdown",
   "metadata": {},
   "source": [
    "## plot the figure in its entirety"
   ]
  },
  {
   "cell_type": "code",
   "execution_count": 5,
   "metadata": {},
   "outputs": [],
   "source": [
    "def accesorise(axes, tickY, tickX):\n",
    "    axes.spines['left'].set_visible(True)\n",
    "    axes.spines['bottom'].set_visible(True)\n",
    "    axes.spines['right'].set_visible(True)\n",
    "    axes.spines['top'].set_visible(True)\n",
    "\n",
    "    if tickY:\n",
    "        axes.set_yticks([0, 5, 10])\n",
    "        axes.set_yticklabels([0, 5, 10])\n",
    "    else:\n",
    "        axes.set_yticks([])\n",
    "        \n",
    "    if tickX:\n",
    "        axes.set_xticks([0, 1])\n",
    "        axes.set_xticklabels([0, 1])\n",
    "    else:\n",
    "        axes.set_xticks([])"
   ]
  },
  {
   "cell_type": "code",
   "execution_count": 46,
   "metadata": {},
   "outputs": [
    {
     "data": {
      "image/png": "[encoded data removed]",
      "text/plain": [
       "<Figure size 504x504 with 12 Axes>"
      ]
     },
     "metadata": {
      "needs_background": "light"
     },
     "output_type": "display_data"
    }
   ],
   "source": [
    "w = (7) # square-ish figure: 4 rows 4 columns - one column width for paper\n",
    "# f1, ax1 = plt.subplots(3,4, figsize = (w,w), num = 'firstVisit')\n",
    "\n",
    "# gridspec inside gridspec\n",
    "f = plt.figure(figsize = (w,w))\n",
    "gs0 = plt.GridSpec(3,4, figure=f, hspace = 0.05, wspace=0.05)\n",
    "\n",
    "ax00 = f.add_subplot(gs0[0,0])\n",
    "ax01 = f.add_subplot(gs0[0,1]\n",
    "                     , sharex = ax00, sharey = ax00)\n",
    "ax02 = f.add_subplot(gs0[0,2]\n",
    "                     , sharex = ax00, sharey = ax00)\n",
    "ax03 = f.add_subplot(gs0[0,3]\n",
    "                     , sharex = ax00, sharey = ax00)\n",
    "\n",
    "ax10 = f.add_subplot(gs0[1,0]\n",
    "                     , sharex = ax00, sharey = ax00)\n",
    "ax11 = f.add_subplot(gs0[1,1]\n",
    "                     , sharex = ax00, sharey = ax10)\n",
    "ax12 = f.add_subplot(gs0[1,2]\n",
    "                     , sharex = ax00, sharey = ax10)\n",
    "ax13 = f.add_subplot(gs0[1,3]\n",
    "                     , sharex = ax00, sharey = ax10)\n",
    "\n",
    "ax20 = f.add_subplot(gs0[2,0]\n",
    "                     , sharex = ax00, sharey = ax00)\n",
    "ax21 = f.add_subplot(gs0[2,1]\n",
    "                     , sharex = ax00, sharey = ax20)\n",
    "ax22 = f.add_subplot(gs0[2,2]\n",
    "                     , sharex = ax00, sharey = ax20)\n",
    "ax23 = f.add_subplot(gs0[2,3]\n",
    "                     , sharex = ax00, sharey = ax20)\n",
    "\n",
    "firstVisit = [ax00, ax01, ax02, ax03]\n",
    "sevenVisit = [ax10, ax11, ax12, ax13]\n",
    "twentyVisit = [ax20, ax21, ax22, ax23]"
   ]
  },
  {
   "cell_type": "code",
   "execution_count": 47,
   "metadata": {},
   "outputs": [],
   "source": [
    "outpath = r\"../dataFolders/PaperPipelineOutput/Figures/v2/Paper/\"\n",
    "shapes = ['c-1_', 'c-2_', 'c-3_', 'c-10_']\n",
    "visitnum = ['FirstVisit/','Later7thVisit/' , 'LaterVisit/']\n",
    "axes = [firstVisit, sevenVisit, twentyVisit]\n",
    "color = ['#f79869','#acc568','#7bc368']"
   ]
  },
  {
   "cell_type": "code",
   "execution_count": 48,
   "metadata": {},
   "outputs": [],
   "source": [
    "cc = 0\n",
    "for ax, visit in zip(axes, visitnum):\n",
    "    data_path = os.path.join(r\"../dataFolders/PaperPipelineOutput/RadiusAndAngle_v2/\", visit)\n",
    "    data = glob.glob(data_path +'*.csv')\n",
    "    \n",
    "    videoselection = pd.read_csv(os.path.join(r\"../dataFolders/PaperPipelineOutput/FilteredTracks_v2/\",visit) + \n",
    "                                          \"AllVideoNames.csv\")\n",
    "    subset = videoselection.loc[videoselection.AutomatatedTracking == 'TRUE', :]\n",
    "    \n",
    "    df = GetAllUsableData(data, subset, visit)\n",
    "    \n",
    "    # remove anything greater than 1.5 and less than 0.1\n",
    "    df = df[(df.radial_distance_normalized < 1.5)]\n",
    "    for ss, shape in enumerate(shapes):\n",
    "        r = df.loc[(df.name.str.contains(shape)) & \n",
    "                             (df.visit == visit), 'radial_distance_normalized']\n",
    "#         ax[ss].clear()\n",
    "        ax[ss].hist(r, bins = 30, color = color[cc], density = True)\n",
    "        \n",
    "        # set up variables to accesorize\n",
    "        if cc == 2:\n",
    "            tickX = True\n",
    "        else:\n",
    "            tickX = False\n",
    "            \n",
    "        if ss == 0:\n",
    "            tickY = True\n",
    "        else:\n",
    "            tickY = False\n",
    "#         accesorise(ax[ss], tickY, tickX)\n",
    "    \n",
    "    cc+=1"
   ]
  },
  {
   "cell_type": "code",
   "execution_count": 49,
   "metadata": {},
   "outputs": [
    {
     "data": {
      "image/png": "[encoded data removed]",
      "text/plain": [
       "<Figure size 504x504 with 12 Axes>"
      ]
     },
     "execution_count": 49,
     "metadata": {},
     "output_type": "execute_result"
    }
   ],
   "source": [
    "f"
   ]
  },
  {
   "cell_type": "code",
   "execution_count": 50,
   "metadata": {},
   "outputs": [],
   "source": [
    "f.savefig(outpath + 'radialDistanceDistribution.pdf')"
   ]
  }
 ],
 "metadata": {
  "kernelspec": {
   "display_name": "Python 3",
   "language": "python",
   "name": "python3"
  },
  "language_info": {
   "codemirror_mode": {
    "name": "ipython",
    "version": 3
   },
   "file_extension": ".py",
   "mimetype": "text/x-python",
   "name": "python",
   "nbconvert_exporter": "python",
   "pygments_lexer": "ipython3",
   "version": "3.6.5"
  }
 },
 "nbformat": 4,
 "nbformat_minor": 2
}
