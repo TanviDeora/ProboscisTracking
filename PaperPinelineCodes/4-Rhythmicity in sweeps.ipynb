{
 "cells": [
  {
   "cell_type": "code",
   "execution_count": 1,
   "metadata": {},
   "outputs": [],
   "source": [
    "import pandas as pd\n",
    "import glob\n",
    "import matplotlib.pyplot as plt\n",
    "import numpy as np\n",
    "import os\n",
    "\n",
    "from scipy import signal\n",
    "from scipy import stats"
   ]
  },
  {
   "cell_type": "code",
   "execution_count": 2,
   "metadata": {},
   "outputs": [],
   "source": [
    "# use fft to pull out frequency\n",
    "def returnFFT(array, Fs):\n",
    "    from scipy.fftpack import fft\n",
    "    \n",
    "    meanx = np.mean(array)\n",
    "    fftr = fft(array - meanx)\n",
    "        \n",
    "    Nsamples = len(r) # number of points\n",
    "    Nf = Nsamples # max Nyquist frequency is Nf/2\n",
    "    \n",
    "    TT = 1/Fs # resolution of frequency\n",
    "\n",
    "    xf = np.linspace(0.0, 1.0/(2.0*TT), round(Nf/(2)))\n",
    "    \n",
    "    return(xf, fftr)"
   ]
  },
  {
   "cell_type": "code",
   "execution_count": 3,
   "metadata": {},
   "outputs": [],
   "source": [
    "visitnum = ['FirstVisit/', 'LaterVisit/', 'LastVisit/']\n",
    "for visit in visitnum[-1:]:\n",
    "    path = os.path.join('../dataFolders/PaperPipelineOutput/RadiusAndAngle_v2/', visit)\n",
    "    Allpath = glob.glob(path + 'c*.csv')\n",
    "    \n",
    "    guidepath = os.path.join(\"../dataFolders/PaperPipelineOutput/FilteredTracks_v2/\", visit)\n",
    "    guide = pd.read_csv(guidepath + \"AllVideoNames.csv\")\n",
    "    # print(guide.head())\n",
    "    filesToRead = guide[guide.AutomatatedTracking != \"TRUE\"]\n",
    "    \n",
    "    outpathfig = os.path.join('../dataFolders/PaperPipelineOutput/Figures/v2/Dynamics-Rythmicity/',visit)"
   ]
  },
  {
   "cell_type": "code",
   "execution_count": 4,
   "metadata": {},
   "outputs": [
    {
     "name": "stderr",
     "output_type": "stream",
     "text": [
      "C:\\Users\\Tanvi\\AppData\\Local\\Continuum\\anaconda3\\lib\\site-packages\\ipykernel_launcher.py:14: RuntimeWarning: invalid value encountered in greater\n",
      "  \n",
      "C:\\Users\\Tanvi\\AppData\\Local\\Continuum\\anaconda3\\lib\\site-packages\\ipykernel_launcher.py:14: RuntimeWarning: invalid value encountered in greater\n",
      "  \n",
      "C:\\Users\\Tanvi\\AppData\\Local\\Continuum\\anaconda3\\lib\\site-packages\\ipykernel_launcher.py:14: RuntimeWarning: invalid value encountered in greater\n",
      "  \n",
      "C:\\Users\\Tanvi\\AppData\\Local\\Continuum\\anaconda3\\lib\\site-packages\\ipykernel_launcher.py:14: RuntimeWarning: invalid value encountered in greater\n",
      "  \n"
     ]
    }
   ],
   "source": [
    "n = []\n",
    "peaks = []\n",
    "freq = []\n",
    "for path in Allpath:\n",
    "    name = os.path.basename(path)[:-19]\n",
    "#     name =  'c-1_m19'\n",
    "#     path = [p for p in Allpath if name in p][0]\n",
    "    if np.any(filesToRead.names.str.contains(name)):\n",
    "        continue\n",
    "#     path = [data for data in Allpath if name in data]\n",
    "    dataExamples = pd.read_csv(path)\n",
    "    \n",
    "    r = dataExamples.radial_distance_normalized.values\n",
    "    r[r > 2.5] = np.nan\n",
    "    \n",
    "    # get the number of peaks\n",
    "    ind, _ = signal.find_peaks(r, prominence=(0.5, ) )\n",
    "    plt.plot(r)\n",
    "    plt.plot(ind, r[ind], 'o')\n",
    "    plt.savefig(outpathfig + name + '_peaks.pdf')\n",
    "    plt.close()\n",
    "    \n",
    "    \n",
    "    # testing the Welch method\n",
    "    s = np.split(r, np.where(np.isnan(r))[0]+1)\n",
    "    nanFreeSeg = max(s, key = len)\n",
    "    f, Pxx = signal.welch(x= nanFreeSeg, \n",
    "                          fs=100.0, \n",
    "                          window='hanning',\n",
    "                          nperseg = round(len(r)/5),\n",
    "                          return_onesided=True, scaling='density')\n",
    "    plt.plot(f, Pxx)\n",
    "    plt.savefig(outpathfig + name + '_welchFFT.pdf')\n",
    "    plt.close()\n",
    "    \n",
    "    max_f = f[np.argmax(Pxx)]\n",
    "\n",
    "#     print('max freq for %s is: %.2f Hz' % (name, f[np.argmax(Pxx)]))\n",
    "        \n",
    "    n.append(name)\n",
    "    peaks.append(len(ind))\n",
    "    freq.append(max_f)"
   ]
  },
  {
   "cell_type": "code",
   "execution_count": 5,
   "metadata": {},
   "outputs": [],
   "source": [
    "# save this data as a csv\n",
    "SweepDynamics = pd.DataFrame([n, peaks, freq]).T\n",
    "SweepDynamics.columns = ['names', 'numPeaks', 'freq']\n",
    "SweepDynamics.to_csv(path + 'SweepDynamics.csv')"
   ]
  },
  {
   "cell_type": "code",
   "execution_count": 6,
   "metadata": {},
   "outputs": [],
   "source": [
    "# plot the results\n",
    "SweepDynamics[['flower', 'mothname']] = SweepDynamics.names.str.split(pat = '_', n = 2, expand = True)\n",
    "SweepDynamics[\"numPeaks\"] = pd.to_numeric(SweepDynamics[\"numPeaks\"])\n",
    "SweepDynamics[\"freq\"] = pd.to_numeric(SweepDynamics[\"freq\"])\n",
    "SweepDynamics.head()\n",
    "SweepDynamics.to_csv(path + 'SweepDynamics.csv')"
   ]
  },
  {
   "cell_type": "code",
   "execution_count": 7,
   "metadata": {},
   "outputs": [
    {
     "data": {
      "text/plain": [
       "(-5, 40)"
      ]
     },
     "execution_count": 7,
     "metadata": {},
     "output_type": "execute_result"
    },
    {
     "data": {
      "image/png": "[encoded data removed]",
      "text/plain": [
       "<Figure size 432x288 with 1 Axes>"
      ]
     },
     "metadata": {
      "needs_background": "light"
     },
     "output_type": "display_data"
    }
   ],
   "source": [
    "import seaborn as sns\n",
    "\n",
    "f = sns.swarmplot(x = 'flower', y = 'numPeaks',\n",
    "                  data = SweepDynamics)\n",
    "sns.pointplot(x=\"flower\", y=\"numPeaks\", estimator = np.median, data=SweepDynamics, \n",
    "#               ci = 'sd',\n",
    "              markers = '_',\n",
    "              linestyles = 'dotted',\n",
    "              color = 'k',\n",
    "             order = [\"c-1\" ,\"c-2\", \"c-3\", \"c-10\"])\n",
    "\n",
    "plt.setp(f.lines,linewidth=1) \n",
    "ax = f.axes\n",
    "ax.set_ylim(-5,40)"
   ]
  },
  {
   "cell_type": "code",
   "execution_count": 8,
   "metadata": {},
   "outputs": [
    {
     "data": {
      "text/plain": [
       "flower\n",
       "c-1     0.0\n",
       "c-10    1.0\n",
       "c-2     1.0\n",
       "c-3     2.0\n",
       "Name: numPeaks, dtype: float64"
      ]
     },
     "execution_count": 8,
     "metadata": {},
     "output_type": "execute_result"
    }
   ],
   "source": [
    "m = SweepDynamics.groupby('flower')['numPeaks'].apply(np.median)\n",
    "m"
   ]
  },
  {
   "cell_type": "code",
   "execution_count": 9,
   "metadata": {},
   "outputs": [
    {
     "data": {
      "text/plain": [
       "<matplotlib.axes._subplots.AxesSubplot at 0x257c01cf6a0>"
      ]
     },
     "execution_count": 9,
     "metadata": {},
     "output_type": "execute_result"
    },
    {
     "data": {
      "image/png": "[encoded data removed]",
      "text/plain": [
       "<Figure size 432x288 with 1 Axes>"
      ]
     },
     "metadata": {
      "needs_background": "light"
     },
     "output_type": "display_data"
    }
   ],
   "source": [
    "sns.swarmplot(x = 'flower', y = 'freq', data = SweepDynamics)\n",
    "sns.pointplot(x=\"flower\", y=\"freq\", estimator = np.median, data=SweepDynamics, \n",
    "#               ci = 'sd',\n",
    "              markers = '_',\n",
    "              linestyles = 'dotted',\n",
    "              color = 'k',\n",
    "             order = [\"c-1\" ,\"c-2\", \"c-3\", \"c-10\"])"
   ]
  },
  {
   "cell_type": "code",
   "execution_count": 10,
   "metadata": {},
   "outputs": [
    {
     "data": {
      "text/plain": [
       "flower\n",
       "c-1     1.754386\n",
       "c-10    1.612903\n",
       "c-2     1.125870\n",
       "c-3     1.587302\n",
       "Name: freq, dtype: float64"
      ]
     },
     "execution_count": 10,
     "metadata": {},
     "output_type": "execute_result"
    }
   ],
   "source": [
    "f = SweepDynamics.groupby('flower')['freq'].apply(np.median)\n",
    "f"
   ]
  },
  {
   "cell_type": "code",
   "execution_count": 13,
   "metadata": {},
   "outputs": [
    {
     "name": "stdout",
     "output_type": "stream",
     "text": [
      "c-1 has 18.30 stats and 0.000106291844724 p value\n",
      "c-1 is not normally distributed\n",
      "c-10 has 3.25 stats and 0.196926570988026 p value\n",
      "c-10 is not normally distributed\n",
      "c-2 has 3.32 stats and 0.190468260766969 p value\n",
      "c-2 is not normally distributed\n",
      "c-3 has 10.46 stats and 0.005357975726364 p value\n",
      "c-3 is not normally distributed\n"
     ]
    }
   ],
   "source": [
    "for name, grp in SweepDynamics.groupby('flower'):\n",
    "    f,p = stats.normaltest(grp['numPeaks'])\n",
    "    print('%s has %.2f stats and %.15f p value' %(name,f,p))\n",
    "    if p < 0.5:\n",
    "        print('%s is not normally distributed' %name)\n",
    "    else:\n",
    "        print('%s is normally distributed' %name)"
   ]
  },
  {
   "cell_type": "code",
   "execution_count": 11,
   "metadata": {},
   "outputs": [
    {
     "data": {
      "text/plain": [
       "KruskalResult(statistic=6.460700074133267, pvalue=0.09122534774722792)"
      ]
     },
     "execution_count": 11,
     "metadata": {},
     "output_type": "execute_result"
    }
   ],
   "source": [
    "c1 = SweepDynamics.loc[SweepDynamics.flower == 'c-1', 'numPeaks'].values\n",
    "c2 = SweepDynamics.loc[SweepDynamics.flower == 'c-2', 'numPeaks'].values\n",
    "c3 = SweepDynamics.loc[SweepDynamics.flower == 'c-3', 'numPeaks'].values\n",
    "c10 = SweepDynamics.loc[SweepDynamics.flower == 'c-10', 'numPeaks'].values\n",
    "stats.kruskal(list(c1), list(c2), list(c3), list(c10))"
   ]
  },
  {
   "cell_type": "code",
   "execution_count": 12,
   "metadata": {},
   "outputs": [
    {
     "name": "stdout",
     "output_type": "stream",
     "text": [
      "c-1 has 2.39 stats and 0.303274671098136 p value\n",
      "c-1 is not normally distributed\n",
      "c-10 has 27.45 stats and 0.000001093904518 p value\n",
      "c-10 is not normally distributed\n",
      "c-2 has 27.26 stats and 0.000001202802618 p value\n",
      "c-2 is not normally distributed\n",
      "c-3 has 19.26 stats and 0.000065632435055 p value\n",
      "c-3 is not normally distributed\n"
     ]
    },
    {
     "name": "stderr",
     "output_type": "stream",
     "text": [
      "C:\\Users\\Tanvi\\AppData\\Local\\Continuum\\anaconda3\\lib\\site-packages\\scipy\\stats\\stats.py:1450: UserWarning: kurtosistest only valid for n>=20 ... continuing anyway, n=9\n",
      "  \"anyway, n=%i\" % int(n))\n",
      "C:\\Users\\Tanvi\\AppData\\Local\\Continuum\\anaconda3\\lib\\site-packages\\scipy\\stats\\stats.py:1450: UserWarning: kurtosistest only valid for n>=20 ... continuing anyway, n=13\n",
      "  \"anyway, n=%i\" % int(n))\n",
      "C:\\Users\\Tanvi\\AppData\\Local\\Continuum\\anaconda3\\lib\\site-packages\\scipy\\stats\\stats.py:1450: UserWarning: kurtosistest only valid for n>=20 ... continuing anyway, n=12\n",
      "  \"anyway, n=%i\" % int(n))\n"
     ]
    }
   ],
   "source": [
    "for name, grp in SweepDynamics.groupby('flower'):\n",
    "    f,p = stats.normaltest(grp['freq'])\n",
    "    print('%s has %.2f stats and %.15f p value' %(name,f,p))\n",
    "    if p < 0.5:\n",
    "        print('%s is not normally distributed' %name)\n",
    "    else:\n",
    "        print('%s is normally distributed' %name)"
   ]
  },
  {
   "cell_type": "code",
   "execution_count": 14,
   "metadata": {},
   "outputs": [
    {
     "data": {
      "text/plain": [
       "KruskalResult(statistic=0.5424982714241503, pvalue=0.9094602991772812)"
      ]
     },
     "execution_count": 14,
     "metadata": {},
     "output_type": "execute_result"
    }
   ],
   "source": [
    "c1 = SweepDynamics.loc[SweepDynamics.flower == 'c-1', 'freq'].values\n",
    "c2 = SweepDynamics.loc[SweepDynamics.flower == 'c-2', 'freq'].values\n",
    "c3 = SweepDynamics.loc[SweepDynamics.flower == 'c-3', 'freq'].values\n",
    "c10 = SweepDynamics.loc[SweepDynamics.flower == 'c-10', 'freq'].values\n",
    "stats.kruskal(list(c1), list(c2), list(c3), list(c10))"
   ]
  },
  {
   "cell_type": "code",
   "execution_count": null,
   "metadata": {},
   "outputs": [],
   "source": []
  }
 ],
 "metadata": {
  "kernelspec": {
   "display_name": "Python 3",
   "language": "python",
   "name": "python3"
  },
  "language_info": {
   "codemirror_mode": {
    "name": "ipython",
    "version": 3
   },
   "file_extension": ".py",
   "mimetype": "text/x-python",
   "name": "python",
   "nbconvert_exporter": "python",
   "pygments_lexer": "ipython3",
   "version": "3.6.5"
  }
 },
 "nbformat": 4,
 "nbformat_minor": 2
}
