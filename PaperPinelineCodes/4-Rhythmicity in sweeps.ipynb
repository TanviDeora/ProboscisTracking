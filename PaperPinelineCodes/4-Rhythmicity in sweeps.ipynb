{
 "cells": [
  {
   "cell_type": "code",
   "execution_count": 1,
   "metadata": {},
   "outputs": [],
   "source": [
    "import pandas as pd\n",
    "import glob\n",
    "import matplotlib.pyplot as plt\n",
    "import numpy as np\n",
    "import os\n",
    "\n",
    "from scipy import signal\n",
    "from scipy import stats"
   ]
  },
  {
   "cell_type": "code",
   "execution_count": 2,
   "metadata": {},
   "outputs": [],
   "source": [
    "# use fft to pull out frequency\n",
    "def returnFFT(array, Fs):\n",
    "    from scipy.fftpack import fft\n",
    "    \n",
    "    meanx = np.mean(array)\n",
    "    fftr = fft(array - meanx)\n",
    "        \n",
    "    Nsamples = len(r) # number of points\n",
    "    Nf = Nsamples # max Nyquist frequency is Nf/2\n",
    "    \n",
    "    TT = 1/Fs # resolution of frequency\n",
    "\n",
    "    xf = np.linspace(0.0, 1.0/(2.0*TT), round(Nf/(2)))\n",
    "    \n",
    "    return(xf, fftr)"
   ]
  },
  {
   "cell_type": "code",
   "execution_count": 4,
   "metadata": {},
   "outputs": [],
   "source": [
    "visitnum = ['FirstVisit/', 'LaterVisit/']\n",
    "for visit in visitnum[-1:]:\n",
    "    path = os.path.join('../dataFolders/PaperPipelineOutput/RadiusAndAngle_v2/', visit)\n",
    "    Allpath = glob.glob(path + 'c*.csv')\n",
    "    \n",
    "    guidepath = os.path.join(\"../dataFolders/PaperPipelineOutput/FilteredTracks_v2/\", visit)\n",
    "    guide = pd.read_csv(guidepath + \"AllVideoNames.csv\")\n",
    "    # print(guide.head())\n",
    "    filesToRead = guide[guide.AutomatatedTracking != \"TRUE\"]\n",
    "    \n",
    "    outpathfig = os.path.join('../dataFolders/PaperPipelineOutput/Figures/v2/Dynamics-Rythmicity/',visit)"
   ]
  },
  {
   "cell_type": "code",
   "execution_count": 5,
   "metadata": {},
   "outputs": [
    {
     "name": "stderr",
     "output_type": "stream",
     "text": [
      "C:\\Users\\Tanvi\\AppData\\Local\\Continuum\\anaconda3\\lib\\site-packages\\ipykernel_launcher.py:14: RuntimeWarning: invalid value encountered in greater\n",
      "  \n",
      "C:\\Users\\Tanvi\\AppData\\Local\\Continuum\\anaconda3\\lib\\site-packages\\ipykernel_launcher.py:14: RuntimeWarning: invalid value encountered in greater\n",
      "  \n"
     ]
    }
   ],
   "source": [
    "n = []\n",
    "peaks = []\n",
    "freq = []\n",
    "for path in Allpath:\n",
    "    name = os.path.basename(path)[:-19]\n",
    "#     name =  'c-1_m19'\n",
    "#     path = [p for p in Allpath if name in p][0]\n",
    "    if np.any(filesToRead.names.str.contains(name)):\n",
    "        continue\n",
    "#     path = [data for data in Allpath if name in data]\n",
    "    dataExamples = pd.read_csv(path)\n",
    "    \n",
    "    r = dataExamples.radial_distance_normalized.values\n",
    "    r[r > 2.5] = np.nan\n",
    "    \n",
    "    # get the number of peaks\n",
    "    ind, _ = signal.find_peaks(r, prominence=(0.5, ) )\n",
    "    plt.plot(r)\n",
    "    plt.plot(ind, r[ind], 'o')\n",
    "    plt.savefig(outpathfig + name + '_peaks.pdf')\n",
    "    plt.close()\n",
    "    \n",
    "    \n",
    "    # testing the Welch method\n",
    "    s = np.split(r, np.where(np.isnan(r))[0]+1)\n",
    "    nanFreeSeg = max(s, key = len)\n",
    "    f, Pxx = signal.welch(x= nanFreeSeg, \n",
    "                          fs=100.0, \n",
    "                          window='hanning',\n",
    "                          nperseg = round(len(r)/5),\n",
    "                          return_onesided=True, scaling='density')\n",
    "    plt.plot(f, Pxx)\n",
    "    plt.savefig(outpathfig + name + '_welchFFT.pdf')\n",
    "    plt.close()\n",
    "    \n",
    "    max_f = f[np.argmax(Pxx)]\n",
    "\n",
    "#     print('max freq for %s is: %.2f Hz' % (name, f[np.argmax(Pxx)]))\n",
    "        \n",
    "    n.append(name)\n",
    "    peaks.append(len(ind))\n",
    "    freq.append(max_f)"
   ]
  },
  {
   "cell_type": "code",
   "execution_count": 6,
   "metadata": {},
   "outputs": [],
   "source": [
    "# save this data as a csv\n",
    "SweepDynamics = pd.DataFrame([n, peaks, freq]).T\n",
    "SweepDynamics.columns = ['names', 'numPeaks', 'freq']\n",
    "SweepDynamics.to_csv(path + 'SweepDynamics.csv')"
   ]
  },
  {
   "cell_type": "code",
   "execution_count": 7,
   "metadata": {},
   "outputs": [],
   "source": [
    "# plot the results\n",
    "SweepDynamics[['flower', 'mothname']] = SweepDynamics.names.str.split(pat = '_', n = 2, expand = True)\n",
    "SweepDynamics[\"numPeaks\"] = pd.to_numeric(SweepDynamics[\"numPeaks\"])\n",
    "SweepDynamics[\"freq\"] = pd.to_numeric(SweepDynamics[\"freq\"])\n",
    "SweepDynamics.head()\n",
    "SweepDynamics.to_csv(path + 'SweepDynamics.csv')"
   ]
  },
  {
   "cell_type": "code",
   "execution_count": 15,
   "metadata": {},
   "outputs": [
    {
     "data": {
      "text/plain": [
       "(-5, 40)"
      ]
     },
     "execution_count": 15,
     "metadata": {},
     "output_type": "execute_result"
    },
    {
     "data": {
      "image/png": "[encoded data removed]",
      "text/plain": [
       "<Figure size 432x288 with 1 Axes>"
      ]
     },
     "metadata": {
      "needs_background": "light"
     },
     "output_type": "display_data"
    }
   ],
   "source": [
    "import seaborn as sns\n",
    "\n",
    "f = sns.swarmplot(x = 'flower', y = 'numPeaks',\n",
    "                  data = SweepDynamics)\n",
    "sns.pointplot(x=\"flower\", y=\"numPeaks\", estimator = np.median, data=SweepDynamics, \n",
    "#               ci = 'sd',\n",
    "              markers = '_',\n",
    "              linestyles = 'dotted',\n",
    "              color = 'k',\n",
    "             order = [\"c-1\" ,\"c-2\", \"c-3\", \"c-10\"])\n",
    "\n",
    "plt.setp(f.lines,linewidth=1) \n",
    "ax = f.axes\n",
    "ax.set_ylim(-5,40)"
   ]
  },
  {
   "cell_type": "code",
   "execution_count": 9,
   "metadata": {},
   "outputs": [
    {
     "data": {
      "text/plain": [
       "flower\n",
       "c-1     0.0\n",
       "c-10    2.0\n",
       "c-2     1.0\n",
       "c-3     1.0\n",
       "Name: numPeaks, dtype: float64"
      ]
     },
     "execution_count": 9,
     "metadata": {},
     "output_type": "execute_result"
    }
   ],
   "source": [
    "m = SweepDynamics.groupby('flower')['numPeaks'].apply(np.median)\n",
    "m"
   ]
  },
  {
   "cell_type": "code",
   "execution_count": 10,
   "metadata": {},
   "outputs": [
    {
     "data": {
      "text/plain": [
       "<matplotlib.axes._subplots.AxesSubplot at 0x21d35de5e10>"
      ]
     },
     "execution_count": 10,
     "metadata": {},
     "output_type": "execute_result"
    },
    {
     "data": {
      "image/png": "[encoded data removed]",
      "text/plain": [
       "<Figure size 432x288 with 1 Axes>"
      ]
     },
     "metadata": {
      "needs_background": "light"
     },
     "output_type": "display_data"
    }
   ],
   "source": [
    "sns.swarmplot(x = 'flower', y = 'freq', data = SweepDynamics)\n",
    "sns.pointplot(x=\"flower\", y=\"freq\", estimator = np.median, data=SweepDynamics, \n",
    "#               ci = 'sd',\n",
    "              markers = '_',\n",
    "              linestyles = 'dotted',\n",
    "              color = 'k',\n",
    "             order = [\"c-1\" ,\"c-2\", \"c-3\", \"c-10\"])"
   ]
  },
  {
   "cell_type": "code",
   "execution_count": 11,
   "metadata": {},
   "outputs": [
    {
     "data": {
      "text/plain": [
       "flower\n",
       "c-1     1.436956\n",
       "c-10    1.785714\n",
       "c-2     2.025368\n",
       "c-3     1.298701\n",
       "Name: freq, dtype: float64"
      ]
     },
     "execution_count": 11,
     "metadata": {},
     "output_type": "execute_result"
    }
   ],
   "source": [
    "f = SweepDynamics.groupby('flower')['freq'].apply(np.median)\n",
    "f"
   ]
  },
  {
   "cell_type": "code",
   "execution_count": 12,
   "metadata": {},
   "outputs": [
    {
     "ename": "ValueError",
     "evalue": "skewtest is not valid with less than 8 samples; 6 samples were given.",
     "output_type": "error",
     "traceback": [
      "\u001b[1;31m---------------------------------------------------------------------------\u001b[0m",
      "\u001b[1;31mValueError\u001b[0m                                Traceback (most recent call last)",
      "\u001b[1;32m<ipython-input-12-1bf38f3e55fe>\u001b[0m in \u001b[0;36m<module>\u001b[1;34m\u001b[0m\n\u001b[0;32m      1\u001b[0m \u001b[1;32mfor\u001b[0m \u001b[0mname\u001b[0m\u001b[1;33m,\u001b[0m \u001b[0mgrp\u001b[0m \u001b[1;32min\u001b[0m \u001b[0mSweepDynamics\u001b[0m\u001b[1;33m.\u001b[0m\u001b[0mgroupby\u001b[0m\u001b[1;33m(\u001b[0m\u001b[1;34m'flower'\u001b[0m\u001b[1;33m)\u001b[0m\u001b[1;33m:\u001b[0m\u001b[1;33m\u001b[0m\u001b[0m\n\u001b[1;32m----> 2\u001b[1;33m     \u001b[0mf\u001b[0m\u001b[1;33m,\u001b[0m\u001b[0mp\u001b[0m \u001b[1;33m=\u001b[0m \u001b[0mstats\u001b[0m\u001b[1;33m.\u001b[0m\u001b[0mnormaltest\u001b[0m\u001b[1;33m(\u001b[0m\u001b[0mgrp\u001b[0m\u001b[1;33m[\u001b[0m\u001b[1;34m'numPeaks'\u001b[0m\u001b[1;33m]\u001b[0m\u001b[1;33m)\u001b[0m\u001b[1;33m\u001b[0m\u001b[0m\n\u001b[0m\u001b[0;32m      3\u001b[0m     \u001b[0mprint\u001b[0m\u001b[1;33m(\u001b[0m\u001b[1;34m'%s has %.2f stats and %.15f p value'\u001b[0m \u001b[1;33m%\u001b[0m\u001b[1;33m(\u001b[0m\u001b[0mname\u001b[0m\u001b[1;33m,\u001b[0m\u001b[0mf\u001b[0m\u001b[1;33m,\u001b[0m\u001b[0mp\u001b[0m\u001b[1;33m)\u001b[0m\u001b[1;33m)\u001b[0m\u001b[1;33m\u001b[0m\u001b[0m\n\u001b[0;32m      4\u001b[0m     \u001b[1;32mif\u001b[0m \u001b[0mp\u001b[0m \u001b[1;33m<\u001b[0m \u001b[1;36m0.5\u001b[0m\u001b[1;33m:\u001b[0m\u001b[1;33m\u001b[0m\u001b[0m\n\u001b[0;32m      5\u001b[0m         \u001b[0mprint\u001b[0m\u001b[1;33m(\u001b[0m\u001b[1;34m'%s is not normally distributed'\u001b[0m \u001b[1;33m%\u001b[0m\u001b[0mname\u001b[0m\u001b[1;33m)\u001b[0m\u001b[1;33m\u001b[0m\u001b[0m\n",
      "\u001b[1;32m~\\AppData\\Local\\Continuum\\anaconda3\\lib\\site-packages\\scipy\\stats\\stats.py\u001b[0m in \u001b[0;36mnormaltest\u001b[1;34m(a, axis, nan_policy)\u001b[0m\n\u001b[0;32m   1543\u001b[0m         \u001b[1;32mreturn\u001b[0m \u001b[0mmstats_basic\u001b[0m\u001b[1;33m.\u001b[0m\u001b[0mnormaltest\u001b[0m\u001b[1;33m(\u001b[0m\u001b[0ma\u001b[0m\u001b[1;33m,\u001b[0m \u001b[0maxis\u001b[0m\u001b[1;33m)\u001b[0m\u001b[1;33m\u001b[0m\u001b[0m\n\u001b[0;32m   1544\u001b[0m \u001b[1;33m\u001b[0m\u001b[0m\n\u001b[1;32m-> 1545\u001b[1;33m     \u001b[0ms\u001b[0m\u001b[1;33m,\u001b[0m \u001b[0m_\u001b[0m \u001b[1;33m=\u001b[0m \u001b[0mskewtest\u001b[0m\u001b[1;33m(\u001b[0m\u001b[0ma\u001b[0m\u001b[1;33m,\u001b[0m \u001b[0maxis\u001b[0m\u001b[1;33m)\u001b[0m\u001b[1;33m\u001b[0m\u001b[0m\n\u001b[0m\u001b[0;32m   1546\u001b[0m     \u001b[0mk\u001b[0m\u001b[1;33m,\u001b[0m \u001b[0m_\u001b[0m \u001b[1;33m=\u001b[0m \u001b[0mkurtosistest\u001b[0m\u001b[1;33m(\u001b[0m\u001b[0ma\u001b[0m\u001b[1;33m,\u001b[0m \u001b[0maxis\u001b[0m\u001b[1;33m)\u001b[0m\u001b[1;33m\u001b[0m\u001b[0m\n\u001b[0;32m   1547\u001b[0m     \u001b[0mk2\u001b[0m \u001b[1;33m=\u001b[0m \u001b[0ms\u001b[0m\u001b[1;33m*\u001b[0m\u001b[0ms\u001b[0m \u001b[1;33m+\u001b[0m \u001b[0mk\u001b[0m\u001b[1;33m*\u001b[0m\u001b[0mk\u001b[0m\u001b[1;33m\u001b[0m\u001b[0m\n",
      "\u001b[1;32m~\\AppData\\Local\\Continuum\\anaconda3\\lib\\site-packages\\scipy\\stats\\stats.py\u001b[0m in \u001b[0;36mskewtest\u001b[1;34m(a, axis, nan_policy)\u001b[0m\n\u001b[0;32m   1370\u001b[0m         raise ValueError(\n\u001b[0;32m   1371\u001b[0m             \u001b[1;34m\"skewtest is not valid with less than 8 samples; %i samples\"\u001b[0m\u001b[1;33m\u001b[0m\u001b[0m\n\u001b[1;32m-> 1372\u001b[1;33m             \" were given.\" % int(n))\n\u001b[0m\u001b[0;32m   1373\u001b[0m     \u001b[0my\u001b[0m \u001b[1;33m=\u001b[0m \u001b[0mb2\u001b[0m \u001b[1;33m*\u001b[0m \u001b[0mmath\u001b[0m\u001b[1;33m.\u001b[0m\u001b[0msqrt\u001b[0m\u001b[1;33m(\u001b[0m\u001b[1;33m(\u001b[0m\u001b[1;33m(\u001b[0m\u001b[0mn\u001b[0m \u001b[1;33m+\u001b[0m \u001b[1;36m1\u001b[0m\u001b[1;33m)\u001b[0m \u001b[1;33m*\u001b[0m \u001b[1;33m(\u001b[0m\u001b[0mn\u001b[0m \u001b[1;33m+\u001b[0m \u001b[1;36m3\u001b[0m\u001b[1;33m)\u001b[0m\u001b[1;33m)\u001b[0m \u001b[1;33m/\u001b[0m \u001b[1;33m(\u001b[0m\u001b[1;36m6.0\u001b[0m \u001b[1;33m*\u001b[0m \u001b[1;33m(\u001b[0m\u001b[0mn\u001b[0m \u001b[1;33m-\u001b[0m \u001b[1;36m2\u001b[0m\u001b[1;33m)\u001b[0m\u001b[1;33m)\u001b[0m\u001b[1;33m)\u001b[0m\u001b[1;33m\u001b[0m\u001b[0m\n\u001b[0;32m   1374\u001b[0m     beta2 = (3.0 * (n**2 + 27*n - 70) * (n+1) * (n+3) /\n",
      "\u001b[1;31mValueError\u001b[0m: skewtest is not valid with less than 8 samples; 6 samples were given."
     ]
    }
   ],
   "source": [
    "for name, grp in SweepDynamics.groupby('flower'):\n",
    "    f,p = stats.normaltest(grp['numPeaks'])\n",
    "    print('%s has %.2f stats and %.15f p value' %(name,f,p))\n",
    "    if p < 0.5:\n",
    "        print('%s is not normally distributed' %name)\n",
    "    else:\n",
    "        print('%s is normally distributed' %name)"
   ]
  },
  {
   "cell_type": "code",
   "execution_count": 13,
   "metadata": {},
   "outputs": [
    {
     "data": {
      "text/plain": [
       "KruskalResult(statistic=5.113671264057764, pvalue=0.1636603129133936)"
      ]
     },
     "execution_count": 13,
     "metadata": {},
     "output_type": "execute_result"
    }
   ],
   "source": [
    "c1 = SweepDynamics.loc[SweepDynamics.flower == 'c-1', 'numPeaks'].values\n",
    "c2 = SweepDynamics.loc[SweepDynamics.flower == 'c-2', 'numPeaks'].values\n",
    "c3 = SweepDynamics.loc[SweepDynamics.flower == 'c-3', 'numPeaks'].values\n",
    "c10 = SweepDynamics.loc[SweepDynamics.flower == 'c-10', 'numPeaks'].values\n",
    "stats.kruskal(list(c1), list(c2), list(c3), list(c10))"
   ]
  },
  {
   "cell_type": "code",
   "execution_count": 14,
   "metadata": {},
   "outputs": [
    {
     "name": "stdout",
     "output_type": "stream",
     "text": [
      "c-1 has 3.98 stats and 0.136845431749035 p value\n",
      "c-1 is not normally distributed\n",
      "c-10 has 2.20 stats and 0.333277248555266 p value\n",
      "c-10 is not normally distributed\n",
      "c-2 has 18.15 stats and 0.000114216761620 p value\n",
      "c-2 is not normally distributed\n",
      "c-3 has 2.70 stats and 0.258709026727708 p value\n",
      "c-3 is not normally distributed\n"
     ]
    }
   ],
   "source": [
    "for name, grp in SweepDynamics.groupby('flower'):\n",
    "    f,p = stats.normaltest(grp['freq'])\n",
    "    print('%s has %.2f stats and %.15f p value' %(name,f,p))\n",
    "    if p < 0.5:\n",
    "        print('%s is not normally distributed' %name)\n",
    "    else:\n",
    "        print('%s is normally distributed' %name)"
   ]
  },
  {
   "cell_type": "code",
   "execution_count": 14,
   "metadata": {},
   "outputs": [
    {
     "data": {
      "text/plain": [
       "KruskalResult(statistic=0.9686090994502261, pvalue=0.8088470021956731)"
      ]
     },
     "execution_count": 14,
     "metadata": {},
     "output_type": "execute_result"
    }
   ],
   "source": [
    "c1 = SweepDynamics.loc[SweepDynamics.flower == 'c-1', 'freq'].values\n",
    "c2 = SweepDynamics.loc[SweepDynamics.flower == 'c-2', 'freq'].values\n",
    "c3 = SweepDynamics.loc[SweepDynamics.flower == 'c-3', 'freq'].values\n",
    "c10 = SweepDynamics.loc[SweepDynamics.flower == 'c-10', 'freq'].values\n",
    "stats.kruskal(list(c1), list(c2), list(c3), list(c10))"
   ]
  },
  {
   "cell_type": "code",
   "execution_count": null,
   "metadata": {},
   "outputs": [],
   "source": []
  }
 ],
 "metadata": {
  "kernelspec": {
   "display_name": "Python 3",
   "language": "python",
   "name": "python3"
  },
  "language_info": {
   "codemirror_mode": {
    "name": "ipython",
    "version": 3
   },
   "file_extension": ".py",
   "mimetype": "text/x-python",
   "name": "python",
   "nbconvert_exporter": "python",
   "pygments_lexer": "ipython3",
   "version": "3.6.5"
  }
 },
 "nbformat": 4,
 "nbformat_minor": 2
}
