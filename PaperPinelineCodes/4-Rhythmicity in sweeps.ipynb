{
 "cells": [
  {
   "cell_type": "code",
   "execution_count": 1,
   "metadata": {},
   "outputs": [],
   "source": [
    "import pandas as pd\n",
    "import glob\n",
    "import matplotlib.pyplot as plt\n",
    "import numpy as np\n",
    "import os\n",
    "\n",
    "from scipy import signal\n",
    "from scipy import stats"
   ]
  },
  {
   "cell_type": "code",
   "execution_count": 2,
   "metadata": {},
   "outputs": [],
   "source": [
    "import matplotlib\n",
    "matplotlib.rcParams['pdf.fonttype'] = 42\n",
    "matplotlib.rcParams['ps.fonttype'] = 42\n",
    "\n",
    "\n",
    "from matplotlib import rc\n",
    "rc('font',**{'family':'sans-serif','sans-serif':['Arial']})\n",
    "matplotlib.rc('pdf', fonttype=42)"
   ]
  },
  {
   "cell_type": "code",
   "execution_count": 3,
   "metadata": {},
   "outputs": [],
   "source": [
    "# use fft to pull out frequency\n",
    "def returnFFT(array, Fs):\n",
    "    from scipy.fftpack import fft\n",
    "    \n",
    "    meanx = np.mean(array)\n",
    "    fftr = fft(array - meanx)\n",
    "        \n",
    "    Nsamples = len(r) # number of points\n",
    "    Nf = Nsamples # max Nyquist frequency is Nf/2\n",
    "    \n",
    "    TT = 1/Fs # resolution of frequency\n",
    "\n",
    "    xf = np.linspace(0.0, 1.0/(2.0*TT), round(Nf/(2)))\n",
    "    \n",
    "    return(xf, fftr)"
   ]
  },
  {
   "cell_type": "code",
   "execution_count": 11,
   "metadata": {},
   "outputs": [
    {
     "name": "stdout",
     "output_type": "stream",
     "text": [
      "FirstVisit/\n"
     ]
    },
    {
     "name": "stderr",
     "output_type": "stream",
     "text": [
      "C:\\Users\\Tanvi\\AppData\\Local\\Continuum\\anaconda3\\lib\\site-packages\\ipykernel_launcher.py:29: RuntimeWarning: invalid value encountered in greater\n",
      "C:\\Users\\Tanvi\\AppData\\Local\\Continuum\\anaconda3\\lib\\site-packages\\scipy\\signal\\spectral.py:1969: UserWarning: nperseg = 2118 is greater than input length  = 560, using nperseg = 560\n",
      "  .format(nperseg, input_length))\n",
      "C:\\Users\\Tanvi\\AppData\\Local\\Continuum\\anaconda3\\lib\\site-packages\\scipy\\signal\\spectral.py:1969: UserWarning: nperseg = 829 is greater than input length  = 737, using nperseg = 737\n",
      "  .format(nperseg, input_length))\n",
      "C:\\Users\\Tanvi\\AppData\\Local\\Continuum\\anaconda3\\lib\\site-packages\\scipy\\signal\\spectral.py:1969: UserWarning: nperseg = 667 is greater than input length  = 145, using nperseg = 145\n",
      "  .format(nperseg, input_length))\n",
      "C:\\Users\\Tanvi\\AppData\\Local\\Continuum\\anaconda3\\lib\\site-packages\\scipy\\signal\\spectral.py:1969: UserWarning: nperseg = 1292 is greater than input length  = 82, using nperseg = 82\n",
      "  .format(nperseg, input_length))\n",
      "C:\\Users\\Tanvi\\AppData\\Local\\Continuum\\anaconda3\\lib\\site-packages\\scipy\\signal\\spectral.py:1969: UserWarning: nperseg = 6614 is greater than input length  = 495, using nperseg = 495\n",
      "  .format(nperseg, input_length))\n",
      "C:\\Users\\Tanvi\\AppData\\Local\\Continuum\\anaconda3\\lib\\site-packages\\scipy\\signal\\spectral.py:1969: UserWarning: nperseg = 678 is greater than input length  = 332, using nperseg = 332\n",
      "  .format(nperseg, input_length))\n",
      "C:\\Users\\Tanvi\\AppData\\Local\\Continuum\\anaconda3\\lib\\site-packages\\scipy\\signal\\spectral.py:1969: UserWarning: nperseg = 4800 is greater than input length  = 618, using nperseg = 618\n",
      "  .format(nperseg, input_length))\n",
      "C:\\Users\\Tanvi\\AppData\\Local\\Continuum\\anaconda3\\lib\\site-packages\\scipy\\signal\\spectral.py:1969: UserWarning: nperseg = 2151 is greater than input length  = 91, using nperseg = 91\n",
      "  .format(nperseg, input_length))\n",
      "C:\\Users\\Tanvi\\AppData\\Local\\Continuum\\anaconda3\\lib\\site-packages\\scipy\\signal\\spectral.py:1969: UserWarning: nperseg = 580 is greater than input length  = 462, using nperseg = 462\n",
      "  .format(nperseg, input_length))\n"
     ]
    },
    {
     "name": "stdout",
     "output_type": "stream",
     "text": [
      "Later7thVisit/\n"
     ]
    },
    {
     "name": "stderr",
     "output_type": "stream",
     "text": [
      "C:\\Users\\Tanvi\\AppData\\Local\\Continuum\\anaconda3\\lib\\site-packages\\scipy\\signal\\spectral.py:1969: UserWarning: nperseg = 502 is greater than input length  = 246, using nperseg = 246\n",
      "  .format(nperseg, input_length))\n",
      "C:\\Users\\Tanvi\\AppData\\Local\\Continuum\\anaconda3\\lib\\site-packages\\scipy\\signal\\spectral.py:1969: UserWarning: nperseg = 1123 is greater than input length  = 896, using nperseg = 896\n",
      "  .format(nperseg, input_length))\n",
      "C:\\Users\\Tanvi\\AppData\\Local\\Continuum\\anaconda3\\lib\\site-packages\\scipy\\signal\\spectral.py:1969: UserWarning: nperseg = 697 is greater than input length  = 332, using nperseg = 332\n",
      "  .format(nperseg, input_length))\n",
      "C:\\Users\\Tanvi\\AppData\\Local\\Continuum\\anaconda3\\lib\\site-packages\\scipy\\signal\\spectral.py:1969: UserWarning: nperseg = 740 is greater than input length  = 295, using nperseg = 295\n",
      "  .format(nperseg, input_length))\n",
      "C:\\Users\\Tanvi\\AppData\\Local\\Continuum\\anaconda3\\lib\\site-packages\\scipy\\signal\\spectral.py:1969: UserWarning: nperseg = 500 is greater than input length  = 295, using nperseg = 295\n",
      "  .format(nperseg, input_length))\n",
      "C:\\Users\\Tanvi\\AppData\\Local\\Continuum\\anaconda3\\lib\\site-packages\\scipy\\signal\\spectral.py:1969: UserWarning: nperseg = 281 is greater than input length  = 81, using nperseg = 81\n",
      "  .format(nperseg, input_length))\n",
      "C:\\Users\\Tanvi\\AppData\\Local\\Continuum\\anaconda3\\lib\\site-packages\\scipy\\signal\\spectral.py:1969: UserWarning: nperseg = 204 is greater than input length  = 119, using nperseg = 119\n",
      "  .format(nperseg, input_length))\n",
      "C:\\Users\\Tanvi\\AppData\\Local\\Continuum\\anaconda3\\lib\\site-packages\\scipy\\signal\\spectral.py:1969: UserWarning: nperseg = 660 is greater than input length  = 265, using nperseg = 265\n",
      "  .format(nperseg, input_length))\n",
      "C:\\Users\\Tanvi\\AppData\\Local\\Continuum\\anaconda3\\lib\\site-packages\\scipy\\signal\\spectral.py:1969: UserWarning: nperseg = 360 is greater than input length  = 84, using nperseg = 84\n",
      "  .format(nperseg, input_length))\n",
      "C:\\Users\\Tanvi\\AppData\\Local\\Continuum\\anaconda3\\lib\\site-packages\\scipy\\signal\\spectral.py:1969: UserWarning: nperseg = 212 is greater than input length  = 78, using nperseg = 78\n",
      "  .format(nperseg, input_length))\n",
      "C:\\Users\\Tanvi\\AppData\\Local\\Continuum\\anaconda3\\lib\\site-packages\\scipy\\signal\\spectral.py:1969: UserWarning: nperseg = 181 is greater than input length  = 74, using nperseg = 74\n",
      "  .format(nperseg, input_length))\n",
      "C:\\Users\\Tanvi\\AppData\\Local\\Continuum\\anaconda3\\lib\\site-packages\\scipy\\signal\\spectral.py:1969: UserWarning: nperseg = 407 is greater than input length  = 208, using nperseg = 208\n",
      "  .format(nperseg, input_length))\n",
      "C:\\Users\\Tanvi\\AppData\\Local\\Continuum\\anaconda3\\lib\\site-packages\\scipy\\signal\\spectral.py:1969: UserWarning: nperseg = 405 is greater than input length  = 332, using nperseg = 332\n",
      "  .format(nperseg, input_length))\n"
     ]
    },
    {
     "name": "stdout",
     "output_type": "stream",
     "text": [
      "Later20thVisit/\n"
     ]
    },
    {
     "name": "stderr",
     "output_type": "stream",
     "text": [
      "C:\\Users\\Tanvi\\AppData\\Local\\Continuum\\anaconda3\\lib\\site-packages\\scipy\\signal\\spectral.py:1969: UserWarning: nperseg = 95 is greater than input length  = 83, using nperseg = 83\n",
      "  .format(nperseg, input_length))\n",
      "C:\\Users\\Tanvi\\AppData\\Local\\Continuum\\anaconda3\\lib\\site-packages\\scipy\\signal\\spectral.py:1969: UserWarning: nperseg = 753 is greater than input length  = 304, using nperseg = 304\n",
      "  .format(nperseg, input_length))\n",
      "C:\\Users\\Tanvi\\AppData\\Local\\Continuum\\anaconda3\\lib\\site-packages\\scipy\\signal\\spectral.py:1969: UserWarning: nperseg = 161 is greater than input length  = 104, using nperseg = 104\n",
      "  .format(nperseg, input_length))\n",
      "C:\\Users\\Tanvi\\AppData\\Local\\Continuum\\anaconda3\\lib\\site-packages\\scipy\\signal\\spectral.py:1969: UserWarning: nperseg = 399 is greater than input length  = 170, using nperseg = 170\n",
      "  .format(nperseg, input_length))\n",
      "C:\\Users\\Tanvi\\AppData\\Local\\Continuum\\anaconda3\\lib\\site-packages\\scipy\\signal\\spectral.py:1969: UserWarning: nperseg = 661 is greater than input length  = 81, using nperseg = 81\n",
      "  .format(nperseg, input_length))\n"
     ]
    }
   ],
   "source": [
    "visitnum = ['FirstVisit/', 'Later7thVisit/' ,'Later20thVisit/']\n",
    "\n",
    "n = []\n",
    "peaks = []\n",
    "freq = []\n",
    "v = []\n",
    "for visit in visitnum:\n",
    "    path = os.path.join('../dataFolders/PaperPipelineOutput/v3/RadiusAndAngle/', visit)\n",
    "    Allpath = glob.glob(path + 'c*.csv')\n",
    "    \n",
    "#     guidepath = os.path.join(\"../dataFolders/PaperPipelineOutput/v3/FilteredTracks/\", visit)\n",
    "#     guide = pd.read_csv(guidepath + \"AllVideoNames.csv\")\n",
    "#     # print(guide.head())\n",
    "#     filesToRead = guide[guide.AutomatatedTracking != \"TRUE\"]\n",
    "    \n",
    "    outpathfig = os.path.join('../dataFolders/PaperPipelineOutput/Figures/v3/Dynamics-Rythmicity/',visit)\n",
    "    print(visit)\n",
    "    \n",
    "\n",
    "    for path in Allpath:\n",
    "        name = os.path.basename(path).split('_')[0] + '_' + os.path.basename(path).split('_')[1] \n",
    "\n",
    "#         if np.any(filesToRead.names.str.contains(name)):\n",
    "#             continue\n",
    "\n",
    "        data = pd.read_csv(path)\n",
    "\n",
    "        r = data.radial_distance_normalized.values\n",
    "        r[r > 2.5] = np.nan\n",
    "\n",
    "        # get the number of peaks\n",
    "        ind, _ = signal.find_peaks(r, prominence=(0.5, ) )\n",
    "        plt.plot(r)\n",
    "        plt.plot(ind, r[ind], 'o')\n",
    "        plt.savefig(outpathfig + name + '_peaks.pdf')\n",
    "        plt.close()\n",
    "\n",
    "\n",
    "        # Welch method for frequency\n",
    "        s = np.split(r, np.where(np.isnan(r))[0]+1)\n",
    "        nanFreeSeg = max(s, key = len)\n",
    "        f, Pxx = signal.welch(x= nanFreeSeg, \n",
    "                              fs=100.0, \n",
    "                              window='hanning',\n",
    "                              nperseg = round(len(r)/5),\n",
    "                              return_onesided=True, scaling='density')\n",
    "        plt.plot(f, Pxx)\n",
    "        plt.savefig(outpathfig + name + '_welchFFT.pdf')\n",
    "        plt.close()\n",
    "\n",
    "        max_f = f[np.argmax(Pxx)]\n",
    "\n",
    "    #     print('max freq for %s is: %.2f Hz' % (name, f[np.argmax(Pxx)]))\n",
    "\n",
    "        n.append(name)\n",
    "        peaks.append(len(ind))\n",
    "        freq.append(max_f)\n",
    "        v.append(visit)"
   ]
  },
  {
   "cell_type": "code",
   "execution_count": 12,
   "metadata": {},
   "outputs": [],
   "source": [
    "# save this data as a csv\n",
    "datapath = r\"../dataFolders/PaperPipelineOutput/v3/\"\n",
    "SweepDynamics = pd.DataFrame([n, peaks, freq, v]).T\n",
    "SweepDynamics.columns = ['names', 'numPeaks', 'freq', 'visitNum']\n",
    "SweepDynamics.to_csv(datapath + 'SweepDynamics.csv')"
   ]
  },
  {
   "cell_type": "code",
   "execution_count": 13,
   "metadata": {},
   "outputs": [],
   "source": [
    "# plot the results\n",
    "SweepDynamics[['flower', 'mothname']] = SweepDynamics.names.str.split(pat = '_', n = 2, expand = True)\n",
    "SweepDynamics[\"numPeaks\"] = pd.to_numeric(SweepDynamics[\"numPeaks\"])\n",
    "SweepDynamics[\"freq\"] = pd.to_numeric(SweepDynamics[\"freq\"])\n",
    "SweepDynamics.head()\n",
    "SweepDynamics.to_csv(datapath + 'SweepDynamics.csv')"
   ]
  },
  {
   "cell_type": "code",
   "execution_count": 14,
   "metadata": {},
   "outputs": [
    {
     "data": {
      "text/plain": [
       "array(['FirstVisit/', 'Later7thVisit/', 'Later20thVisit/'], dtype=object)"
      ]
     },
     "execution_count": 14,
     "metadata": {},
     "output_type": "execute_result"
    }
   ],
   "source": [
    "SweepDynamics.visitNum.unique()"
   ]
  },
  {
   "cell_type": "code",
   "execution_count": 3,
   "metadata": {},
   "outputs": [],
   "source": [
    "# read data saved previously\n",
    "datapath = r\"../dataFolders/PaperPipelineOutput/v3/\"\n",
    "SweepDynamics = pd.read_csv(datapath + 'SweepDynamics.csv')"
   ]
  },
  {
   "cell_type": "code",
   "execution_count": 4,
   "metadata": {},
   "outputs": [
    {
     "data": {
      "text/html": [
       "<div>\n",
       "<style scoped>\n",
       "    .dataframe tbody tr th:only-of-type {\n",
       "        vertical-align: middle;\n",
       "    }\n",
       "\n",
       "    .dataframe tbody tr th {\n",
       "        vertical-align: top;\n",
       "    }\n",
       "\n",
       "    .dataframe thead th {\n",
       "        text-align: right;\n",
       "    }\n",
       "</style>\n",
       "<table border=\"1\" class=\"dataframe\">\n",
       "  <thead>\n",
       "    <tr style=\"text-align: right;\">\n",
       "      <th></th>\n",
       "      <th>Unnamed: 0</th>\n",
       "      <th>names</th>\n",
       "      <th>numPeaks</th>\n",
       "      <th>freq</th>\n",
       "      <th>visitNum</th>\n",
       "      <th>flower</th>\n",
       "      <th>mothname</th>\n",
       "    </tr>\n",
       "  </thead>\n",
       "  <tbody>\n",
       "    <tr>\n",
       "      <td>0</td>\n",
       "      <td>0</td>\n",
       "      <td>c-10_m10</td>\n",
       "      <td>2</td>\n",
       "      <td>1.923077</td>\n",
       "      <td>FirstVisit/</td>\n",
       "      <td>c-10</td>\n",
       "      <td>m10</td>\n",
       "    </tr>\n",
       "    <tr>\n",
       "      <td>1</td>\n",
       "      <td>1</td>\n",
       "      <td>c-10_m11</td>\n",
       "      <td>14</td>\n",
       "      <td>1.438849</td>\n",
       "      <td>FirstVisit/</td>\n",
       "      <td>c-10</td>\n",
       "      <td>m11</td>\n",
       "    </tr>\n",
       "    <tr>\n",
       "      <td>2</td>\n",
       "      <td>2</td>\n",
       "      <td>c-10_m12</td>\n",
       "      <td>40</td>\n",
       "      <td>0.129702</td>\n",
       "      <td>FirstVisit/</td>\n",
       "      <td>c-10</td>\n",
       "      <td>m12</td>\n",
       "    </tr>\n",
       "    <tr>\n",
       "      <td>3</td>\n",
       "      <td>3</td>\n",
       "      <td>c-10_m13</td>\n",
       "      <td>1</td>\n",
       "      <td>2.564103</td>\n",
       "      <td>FirstVisit/</td>\n",
       "      <td>c-10</td>\n",
       "      <td>m13</td>\n",
       "    </tr>\n",
       "    <tr>\n",
       "      <td>4</td>\n",
       "      <td>4</td>\n",
       "      <td>c-10_m15</td>\n",
       "      <td>6</td>\n",
       "      <td>0.000000</td>\n",
       "      <td>FirstVisit/</td>\n",
       "      <td>c-10</td>\n",
       "      <td>m15</td>\n",
       "    </tr>\n",
       "  </tbody>\n",
       "</table>\n",
       "</div>"
      ],
      "text/plain": [
       "   Unnamed: 0     names  numPeaks      freq     visitNum flower mothname\n",
       "0           0  c-10_m10         2  1.923077  FirstVisit/   c-10      m10\n",
       "1           1  c-10_m11        14  1.438849  FirstVisit/   c-10      m11\n",
       "2           2  c-10_m12        40  0.129702  FirstVisit/   c-10      m12\n",
       "3           3  c-10_m13         1  2.564103  FirstVisit/   c-10      m13\n",
       "4           4  c-10_m15         6  0.000000  FirstVisit/   c-10      m15"
      ]
     },
     "execution_count": 4,
     "metadata": {},
     "output_type": "execute_result"
    }
   ],
   "source": [
    "SweepDynamics.head()"
   ]
  },
  {
   "cell_type": "code",
   "execution_count": 5,
   "metadata": {},
   "outputs": [],
   "source": [
    "first = SweepDynamics[SweepDynamics.visitNum == 'FirstVisit/']\n",
    "seven = SweepDynamics[SweepDynamics.visitNum == 'Later7thVisit/']\n",
    "twenty = SweepDynamics[SweepDynamics.visitNum == 'Later20thVisit/']"
   ]
  },
  {
   "cell_type": "code",
   "execution_count": 6,
   "metadata": {},
   "outputs": [],
   "source": [
    "import seaborn as sns"
   ]
  },
  {
   "cell_type": "code",
   "execution_count": 22,
   "metadata": {},
   "outputs": [],
   "source": [
    "# define fig parameters and colors\n",
    "# w = 3.4\n",
    "# h = w*3/4\n",
    "\n",
    "w = 7/4\n",
    "h = w\n",
    "\n",
    "pal = {'FirstVisit/': '#ff9966' , 'Later7thVisit/': '#acc568' , 'Later20thVisit/': '#7bc368'}\n",
    "kwargs = {'palette': pal \n",
    "          ,'hue_order': ['FirstVisit/', 'Later7thVisit/', 'Later20thVisit/']}\n",
    "stripplot_kwargs = dict({'linewidth': 0.3, 'size': 4, 'alpha': 1},\n",
    "                        **kwargs)\n",
    "pointplot_kwargs = dict({'linewidth': 1, 'markers': '_', 'linestyles': ''},\n",
    "                        **kwargs)"
   ]
  },
  {
   "cell_type": "code",
   "execution_count": 23,
   "metadata": {},
   "outputs": [
    {
     "data": {
      "image/png": "[encoded data removed]",
      "text/plain": [
       "<Figure size 126x126 with 1 Axes>"
      ]
     },
     "metadata": {
      "needs_background": "light"
     },
     "output_type": "display_data"
    }
   ],
   "source": [
    "plt.figure(figsize=(w,h))\n",
    "f = sns.stripplot(x = 'flower', y = 'numPeaks',\n",
    "                  data = SweepDynamics,\n",
    "                  hue = 'visitNum',\n",
    "                  jitter=0.25,\n",
    "                  dodge=True,\n",
    "                  order = [\"c-1\" ,\"c-2\", \"c-3\", \"c-10\"],\n",
    "                  **stripplot_kwargs)\n",
    "sns.pointplot(x=\"flower\", y=\"numPeaks\", \n",
    "              estimator = np.median, \n",
    "              data=SweepDynamics,\n",
    "              hue = 'visitNum',\n",
    "              order = [\"c-1\" ,\"c-2\", \"c-3\", \"c-10\"],\n",
    "              **pointplot_kwargs)\n",
    "\n",
    "plt.setp(f.lines,linewidth=1)\n",
    "f.set(ylim=(-2, 50))\n",
    "ax = f.axes\n",
    "\n",
    "plt.savefig(r\"../dataFolders/PaperPipelineOutput/Figures/v3/Paper/\" + 'NumSweeps-v2.pdf')"
   ]
  },
  {
   "cell_type": "code",
   "execution_count": 71,
   "metadata": {},
   "outputs": [
    {
     "data": {
      "text/html": [
       "<div>\n",
       "<style scoped>\n",
       "    .dataframe tbody tr th:only-of-type {\n",
       "        vertical-align: middle;\n",
       "    }\n",
       "\n",
       "    .dataframe tbody tr th {\n",
       "        vertical-align: top;\n",
       "    }\n",
       "\n",
       "    .dataframe thead th {\n",
       "        text-align: right;\n",
       "    }\n",
       "</style>\n",
       "<table border=\"1\" class=\"dataframe\">\n",
       "  <thead>\n",
       "    <tr style=\"text-align: right;\">\n",
       "      <th></th>\n",
       "      <th>names</th>\n",
       "      <th>numPeaks</th>\n",
       "      <th>freq</th>\n",
       "      <th>visitNum</th>\n",
       "      <th>flower</th>\n",
       "      <th>mothname</th>\n",
       "    </tr>\n",
       "  </thead>\n",
       "  <tbody>\n",
       "    <tr>\n",
       "      <td>13</td>\n",
       "      <td>c-10_m23</td>\n",
       "      <td>83</td>\n",
       "      <td>1.681759</td>\n",
       "      <td>FirstVisit/</td>\n",
       "      <td>c-10</td>\n",
       "      <td>m23</td>\n",
       "    </tr>\n",
       "    <tr>\n",
       "      <td>39</td>\n",
       "      <td>c-2_m13</td>\n",
       "      <td>55</td>\n",
       "      <td>0.089606</td>\n",
       "      <td>FirstVisit/</td>\n",
       "      <td>c-2</td>\n",
       "      <td>m13</td>\n",
       "    </tr>\n",
       "  </tbody>\n",
       "</table>\n",
       "</div>"
      ],
      "text/plain": [
       "       names  numPeaks      freq     visitNum flower mothname\n",
       "13  c-10_m23        83  1.681759  FirstVisit/   c-10      m23\n",
       "39   c-2_m13        55  0.089606  FirstVisit/    c-2      m13"
      ]
     },
     "execution_count": 71,
     "metadata": {},
     "output_type": "execute_result"
    }
   ],
   "source": [
    "SweepDynamics[SweepDynamics.numPeaks > 50]"
   ]
  },
  {
   "cell_type": "code",
   "execution_count": 32,
   "metadata": {},
   "outputs": [
    {
     "name": "stdout",
     "output_type": "stream",
     "text": [
      "flower\n",
      "c-1     3.0\n",
      "c-10    6.0\n",
      "c-2     2.0\n",
      "c-3     3.5\n",
      "Name: numPeaks, dtype: float64\n",
      "flower\n",
      "c-1     0.0\n",
      "c-10    4.0\n",
      "c-2     1.0\n",
      "c-3     1.0\n",
      "Name: numPeaks, dtype: float64\n",
      "flower\n",
      "c-1     0.0\n",
      "c-10    2.0\n",
      "c-2     1.0\n",
      "c-3     1.0\n",
      "Name: numPeaks, dtype: float64\n"
     ]
    }
   ],
   "source": [
    "for data in [first, seven, twenty]:\n",
    "    m = data.groupby('flower')['numPeaks'].apply(np.median)\n",
    "    print(m)"
   ]
  },
  {
   "cell_type": "code",
   "execution_count": 33,
   "metadata": {},
   "outputs": [
    {
     "name": "stdout",
     "output_type": "stream",
     "text": [
      "c-1 has 57.64 stats and 0.000000000000305 p value\n",
      "c-1 is not normally distributed\n",
      "c-10 has 64.18 stats and 0.000000000000012 p value\n",
      "c-10 is not normally distributed\n",
      "c-2 has 72.38 stats and 0.000000000000000 p value\n",
      "c-2 is not normally distributed\n",
      "c-3 has 19.93 stats and 0.000046989908259 p value\n",
      "c-3 is not normally distributed\n"
     ]
    }
   ],
   "source": [
    "for name, grp in SweepDynamics.groupby('flower'):\n",
    "    f,p = stats.normaltest(grp['numPeaks'])\n",
    "    print('%s has %.2f stats and %.15f p value' %(name,f,p))\n",
    "    if p < 0.5:\n",
    "        print('%s is not normally distributed' %name)\n",
    "    else:\n",
    "        print('%s is normally distributed' %name)"
   ]
  },
  {
   "cell_type": "code",
   "execution_count": 34,
   "metadata": {},
   "outputs": [
    {
     "name": "stdout",
     "output_type": "stream",
     "text": [
      "KruskalResult(statistic=8.096417129279377, pvalue=0.044060520261371285)\n",
      "KruskalResult(statistic=20.84409944970145, pvalue=0.0001134231053567932)\n",
      "KruskalResult(statistic=8.26493352326687, pvalue=0.04084218813459758)\n"
     ]
    }
   ],
   "source": [
    "c1_first = SweepDynamics.loc[(SweepDynamics.flower == 'c-1') & (SweepDynamics.visitNum == 'FirstVisit/'),\n",
    "                             'numPeaks'].values\n",
    "c2_first = SweepDynamics.loc[(SweepDynamics.flower == 'c-2') & (SweepDynamics.visitNum == 'FirstVisit/'),\n",
    "                             'numPeaks'].values\n",
    "c3_first = SweepDynamics.loc[(SweepDynamics.flower == 'c-3') & (SweepDynamics.visitNum == 'FirstVisit/'),\n",
    "                             'numPeaks'].values\n",
    "c10_first = SweepDynamics.loc[(SweepDynamics.flower == 'c-10') & (SweepDynamics.visitNum == 'FirstVisit/'),\n",
    "                             'numPeaks'].values\n",
    "\n",
    "c1_seven = SweepDynamics.loc[(SweepDynamics.flower == 'c-1') & (SweepDynamics.visitNum == 'Later7thVisit/'),\n",
    "                             'numPeaks'].values\n",
    "c2_seven = SweepDynamics.loc[(SweepDynamics.flower == 'c-2') & (SweepDynamics.visitNum == 'Later7thVisit/'),\n",
    "                             'numPeaks'].values\n",
    "c3_seven = SweepDynamics.loc[(SweepDynamics.flower == 'c-3') & (SweepDynamics.visitNum == 'Later7thVisit/'),\n",
    "                             'numPeaks'].values\n",
    "c10_seven = SweepDynamics.loc[(SweepDynamics.flower == 'c-10') & (SweepDynamics.visitNum == 'Later7thVisit/'),\n",
    "                             'numPeaks'].values\n",
    "\n",
    "c1_20 = SweepDynamics.loc[(SweepDynamics.flower == 'c-1') & (SweepDynamics.visitNum == 'Later20thVisit/'),\n",
    "                             'numPeaks'].values\n",
    "c2_20 = SweepDynamics.loc[(SweepDynamics.flower == 'c-2') & (SweepDynamics.visitNum == 'Later20thVisit/'),\n",
    "                             'numPeaks'].values\n",
    "c3_20 = SweepDynamics.loc[(SweepDynamics.flower == 'c-3') & (SweepDynamics.visitNum == 'Later20thVisit/'),\n",
    "                             'numPeaks'].values\n",
    "c10_20 = SweepDynamics.loc[(SweepDynamics.flower == 'c-10') & (SweepDynamics.visitNum == 'Later20thVisit/'),\n",
    "                             'numPeaks'].values\n",
    "\n",
    "print(stats.kruskal(list(c1_first), list(c2_first), list(c3_first), list(c10_first)))\n",
    "print(stats.kruskal(list(c1_seven), list(c2_seven), list(c3_seven), list(c10_seven)))\n",
    "print(stats.kruskal(list(c1_20), list(c2_20), list(c3_20), list(c10_20)))"
   ]
  },
  {
   "cell_type": "code",
   "execution_count": 32,
   "metadata": {},
   "outputs": [],
   "source": [
    "subset = SweepDynamics[(SweepDynamics.visitNum == 'Later20thVisit/')] \n",
    "# SweepDynamics[(SweepDynamics.visitNum != 'Later20thVisit/') & (SweepDynamics.visitNum != 'FirstVisit/')]\n",
    "# subset['Combined'] = subset['flower'].str.cat(subset['visitNum'],sep=\"_\")"
   ]
  },
  {
   "cell_type": "code",
   "execution_count": 33,
   "metadata": {},
   "outputs": [
    {
     "name": "stdout",
     "output_type": "stream",
     "text": [
      "Multiple Comparison of Means - Tukey HSD, FWER=0.05\n",
      "===================================================\n",
      "group1 group2 meandiff p-adj   lower  upper  reject\n",
      "---------------------------------------------------\n",
      "   c-1   c-10   3.2308 0.2616 -1.4584   7.92  False\n",
      "   c-1    c-2      0.0    0.9  -5.949  5.949  False\n",
      "   c-1    c-3      1.0    0.9 -4.0706 6.0706  False\n",
      "  c-10    c-2  -3.2308 0.3963 -8.7222 2.2606  False\n",
      "  c-10    c-3  -2.2308 0.5421 -6.7558 2.2943  False\n",
      "   c-2    c-3      1.0    0.9 -4.8205 6.8205  False\n",
      "---------------------------------------------------\n",
      "['c-1' 'c-10' 'c-2' 'c-3']\n"
     ]
    }
   ],
   "source": [
    "from statsmodels.stats.multicomp import pairwise_tukeyhsd\n",
    "from statsmodels.stats.multicomp import MultiComparison\n",
    "\n",
    "Subset = subset.dropna()\n",
    "mc = MultiComparison(subset['numPeaks'], subset['flower'])\n",
    "result = mc.tukeyhsd()\n",
    " \n",
    "print(result)\n",
    "print(mc.groupsunique)"
   ]
  },
  {
   "cell_type": "code",
   "execution_count": 27,
   "metadata": {},
   "outputs": [
    {
     "name": "stdout",
     "output_type": "stream",
     "text": [
      "KruskalResult(statistic=26.201007575173932, pvalue=8.656433033489041e-06)\n"
     ]
    }
   ],
   "source": [
    "grp1 = SweepDynamics[SweepDynamics.flower == 'c-1'].numPeaks.values\n",
    "grp2 = SweepDynamics[SweepDynamics.flower == 'c-2'].numPeaks.values\n",
    "grp3 = SweepDynamics[SweepDynamics.flower == 'c-3'].numPeaks.values\n",
    "grp4 = SweepDynamics[SweepDynamics.flower == 'c-10'].numPeaks.values\n",
    "\n",
    "print(stats.kruskal(list(grp1), list(grp2), list(grp3), list(grp4)))"
   ]
  },
  {
   "cell_type": "code",
   "execution_count": 29,
   "metadata": {},
   "outputs": [
    {
     "name": "stdout",
     "output_type": "stream",
     "text": [
      " Multiple Comparison of Means - Tukey HSD, FWER=0.05 \n",
      "=====================================================\n",
      "group1 group2 meandiff p-adj   lower    upper  reject\n",
      "-----------------------------------------------------\n",
      "   c-1   c-10   6.4227 0.0095   1.1762 11.6692   True\n",
      "   c-1    c-2   1.3606    0.9  -4.2271  6.9483  False\n",
      "   c-1    c-3   0.6635    0.9  -4.5611  5.8881  False\n",
      "  c-10    c-2  -5.0621 0.0601 -10.2688  0.1446  False\n",
      "  c-10    c-3  -5.7592 0.0119 -10.5741 -0.9443   True\n",
      "   c-2    c-3  -0.6971    0.9  -5.8817  4.4875  False\n",
      "-----------------------------------------------------\n",
      "['c-1' 'c-10' 'c-2' 'c-3']\n"
     ]
    }
   ],
   "source": [
    "from statsmodels.stats.multicomp import pairwise_tukeyhsd\n",
    "from statsmodels.stats.multicomp import MultiComparison\n",
    "\n",
    "# Subset = subset.dropna()\n",
    "mc = MultiComparison(SweepDynamics['numPeaks'], SweepDynamics['flower'])\n",
    "result = mc.tukeyhsd()\n",
    " \n",
    "print(result)\n",
    "print(mc.groupsunique)"
   ]
  },
  {
   "cell_type": "code",
   "execution_count": 21,
   "metadata": {},
   "outputs": [
    {
     "name": "stdout",
     "output_type": "stream",
     "text": [
      "c-1\n",
      "KruskalResult(statistic=8.883235968246876, pvalue=0.011776868310313892)\n",
      "c-10\n",
      "KruskalResult(statistic=5.073209870388817, pvalue=0.07913461136916566)\n",
      "c-2\n",
      "KruskalResult(statistic=1.616670679785439, pvalue=0.4455992204129404)\n",
      "c-3\n",
      "KruskalResult(statistic=6.812999547418586, pvalue=0.033157054694000994)\n"
     ]
    }
   ],
   "source": [
    "# compare first and later visit\n",
    "\n",
    "for name, df in SweepDynamics.groupby(['flower']):\n",
    "    print(name)\n",
    "    df1 = df[df.visitNum == 'FirstVisit/'].numPeaks.values\n",
    "    df2 = df[df.visitNum == 'Later7thVisit/'].numPeaks.values\n",
    "    df3 = df[df.visitNum == 'Later20thVisit/'].numPeaks.values\n",
    "    print(stats.kruskal(list(df1), list(df2), list(df3)))"
   ]
  },
  {
   "cell_type": "code",
   "execution_count": 34,
   "metadata": {},
   "outputs": [
    {
     "data": {
      "text/plain": [
       "flower  visitNum       \n",
       "c-1     FirstVisit/        3.0\n",
       "        Later20thVisit/    0.0\n",
       "        Later7thVisit/     0.0\n",
       "c-10    FirstVisit/        6.0\n",
       "        Later20thVisit/    2.0\n",
       "        Later7thVisit/     4.0\n",
       "c-2     FirstVisit/        2.0\n",
       "        Later20thVisit/    1.0\n",
       "        Later7thVisit/     1.0\n",
       "c-3     FirstVisit/        3.5\n",
       "        Later20thVisit/    1.0\n",
       "        Later7thVisit/     1.0\n",
       "Name: numPeaks, dtype: float64"
      ]
     },
     "execution_count": 34,
     "metadata": {},
     "output_type": "execute_result"
    }
   ],
   "source": [
    "SweepDynamics.groupby(['flower', 'visitNum']).numPeaks.median()\n",
    "\n"
   ]
  },
  {
   "cell_type": "code",
   "execution_count": 77,
   "metadata": {},
   "outputs": [
    {
     "data": {
      "image/png": "[encoded data removed]",
      "text/plain": [
       "<Figure size 244.8x183.6 with 1 Axes>"
      ]
     },
     "metadata": {
      "needs_background": "light"
     },
     "output_type": "display_data"
    }
   ],
   "source": [
    "w = 3.4\n",
    "h = w*3/4\n",
    "plt.figure(figsize=(w,h))\n",
    "\n",
    "f = sns.stripplot(x = 'flower', y = 'freq',\n",
    "                  data = SweepDynamics,\n",
    "                  hue = 'visitNum',\n",
    "                  jitter=0.25,\n",
    "                  dodge=True,\n",
    "                  order = [\"c-1\" ,\"c-2\", \"c-3\", \"c-10\"],\n",
    "                 **stripplot_kwargs)\n",
    "sns.pointplot(x=\"flower\", y=\"freq\", \n",
    "              estimator = np.median, \n",
    "              data=SweepDynamics,\n",
    "              hue = 'visitNum',\n",
    "             order = [\"c-1\" ,\"c-2\", \"c-3\", \"c-10\"],\n",
    "             **pointplot_kwargs)\n",
    "\n",
    "plt.setp(f.lines,linewidth=1)\n",
    "f.set(ylim = (-1, 12))\n",
    "ax = f.axes\n",
    "\n",
    "plt.savefig(r\"../dataFolders/PaperPipelineOutput/Figures/v3/Paper/\" + 'Freq-v1.pdf')"
   ]
  },
  {
   "cell_type": "code",
   "execution_count": 84,
   "metadata": {},
   "outputs": [
    {
     "data": {
      "text/html": [
       "<div>\n",
       "<style scoped>\n",
       "    .dataframe tbody tr th:only-of-type {\n",
       "        vertical-align: middle;\n",
       "    }\n",
       "\n",
       "    .dataframe tbody tr th {\n",
       "        vertical-align: top;\n",
       "    }\n",
       "\n",
       "    .dataframe thead th {\n",
       "        text-align: right;\n",
       "    }\n",
       "</style>\n",
       "<table border=\"1\" class=\"dataframe\">\n",
       "  <thead>\n",
       "    <tr style=\"text-align: right;\">\n",
       "      <th></th>\n",
       "      <th>names</th>\n",
       "      <th>numPeaks</th>\n",
       "      <th>freq</th>\n",
       "      <th>visitNum</th>\n",
       "      <th>flower</th>\n",
       "      <th>mothname</th>\n",
       "    </tr>\n",
       "  </thead>\n",
       "  <tbody>\n",
       "    <tr>\n",
       "      <td>161</td>\n",
       "      <td>c-1_m8</td>\n",
       "      <td>0</td>\n",
       "      <td>25.0</td>\n",
       "      <td>Later20thVisit/</td>\n",
       "      <td>c-1</td>\n",
       "      <td>m8</td>\n",
       "    </tr>\n",
       "  </tbody>\n",
       "</table>\n",
       "</div>"
      ],
      "text/plain": [
       "      names  numPeaks  freq         visitNum flower mothname\n",
       "161  c-1_m8         0  25.0  Later20thVisit/    c-1       m8"
      ]
     },
     "execution_count": 84,
     "metadata": {},
     "output_type": "execute_result"
    }
   ],
   "source": [
    "SweepDynamics[SweepDynamics.freq > 12]"
   ]
  },
  {
   "cell_type": "code",
   "execution_count": 43,
   "metadata": {},
   "outputs": [
    {
     "data": {
      "text/plain": [
       "flower\n",
       "c-1     1.250000\n",
       "c-10    1.068182\n",
       "c-2     1.507937\n",
       "c-3     0.943396\n",
       "Name: freq, dtype: float64"
      ]
     },
     "execution_count": 43,
     "metadata": {},
     "output_type": "execute_result"
    }
   ],
   "source": [
    "f = SweepDynamics.groupby('flower')['freq'].apply(np.median)\n",
    "f"
   ]
  },
  {
   "cell_type": "code",
   "execution_count": 49,
   "metadata": {},
   "outputs": [
    {
     "data": {
      "text/plain": [
       "1.1299795709908071"
      ]
     },
     "execution_count": 49,
     "metadata": {},
     "output_type": "execute_result"
    }
   ],
   "source": [
    "SweepDynamics['freq'].median()"
   ]
  },
  {
   "cell_type": "code",
   "execution_count": 44,
   "metadata": {},
   "outputs": [
    {
     "name": "stdout",
     "output_type": "stream",
     "text": [
      "c-1 has 63.91 stats and 0.000000000000013 p value\n",
      "c-1 is not normally distributed\n",
      "c-10 has 71.27 stats and 0.000000000000000 p value\n",
      "c-10 is not normally distributed\n",
      "c-2 has 14.31 stats and 0.000782681531611 p value\n",
      "c-2 is not normally distributed\n",
      "c-3 has 15.82 stats and 0.000366242012850 p value\n",
      "c-3 is not normally distributed\n"
     ]
    }
   ],
   "source": [
    "for name, grp in SweepDynamics.groupby('flower'):\n",
    "    f,p = stats.normaltest(grp['freq'])\n",
    "    print('%s has %.2f stats and %.15f p value' %(name,f,p))\n",
    "    if p < 0.5:\n",
    "        print('%s is not normally distributed' %name)\n",
    "    else:\n",
    "        print('%s is normally distributed' %name)"
   ]
  },
  {
   "cell_type": "code",
   "execution_count": 45,
   "metadata": {},
   "outputs": [
    {
     "data": {
      "text/plain": [
       "KruskalResult(statistic=2.4251983131071215, pvalue=0.4889612021277895)"
      ]
     },
     "execution_count": 45,
     "metadata": {},
     "output_type": "execute_result"
    }
   ],
   "source": [
    "c1 = SweepDynamics.loc[SweepDynamics.flower == 'c-1', 'freq'].values\n",
    "c2 = SweepDynamics.loc[SweepDynamics.flower == 'c-2', 'freq'].values\n",
    "c3 = SweepDynamics.loc[SweepDynamics.flower == 'c-3', 'freq'].values\n",
    "c10 = SweepDynamics.loc[SweepDynamics.flower == 'c-10', 'freq'].values\n",
    "stats.kruskal(list(c1), list(c2), list(c3), list(c10))"
   ]
  },
  {
   "cell_type": "code",
   "execution_count": 83,
   "metadata": {},
   "outputs": [
    {
     "data": {
      "text/plain": [
       "visitNum         flower\n",
       "FirstVisit/      c-1       16\n",
       "                 c-10      20\n",
       "                 c-2       17\n",
       "                 c-3       22\n",
       "Later20thVisit/  c-1        8\n",
       "                 c-10      13\n",
       "                 c-2        5\n",
       "                 c-3        9\n",
       "Later7thVisit/   c-1       13\n",
       "                 c-10      17\n",
       "                 c-2       16\n",
       "                 c-3       20\n",
       "dtype: int64"
      ]
     },
     "execution_count": 83,
     "metadata": {},
     "output_type": "execute_result"
    }
   ],
   "source": [
    "SweepDynamics.groupby(['visitNum', 'flower']).size()\n",
    "# df.groupby(['col5', 'col2']).size()"
   ]
  },
  {
   "cell_type": "code",
   "execution_count": 18,
   "metadata": {},
   "outputs": [
    {
     "data": {
      "text/html": [
       "<div>\n",
       "<style scoped>\n",
       "    .dataframe tbody tr th:only-of-type {\n",
       "        vertical-align: middle;\n",
       "    }\n",
       "\n",
       "    .dataframe tbody tr th {\n",
       "        vertical-align: top;\n",
       "    }\n",
       "\n",
       "    .dataframe thead th {\n",
       "        text-align: right;\n",
       "    }\n",
       "</style>\n",
       "<table border=\"1\" class=\"dataframe\">\n",
       "  <thead>\n",
       "    <tr style=\"text-align: right;\">\n",
       "      <th></th>\n",
       "      <th>Unnamed: 0</th>\n",
       "      <th>names</th>\n",
       "      <th>numPeaks</th>\n",
       "      <th>freq</th>\n",
       "      <th>visitNum</th>\n",
       "      <th>flower</th>\n",
       "      <th>mothname</th>\n",
       "    </tr>\n",
       "  </thead>\n",
       "  <tbody>\n",
       "    <tr>\n",
       "      <td>20</td>\n",
       "      <td>20</td>\n",
       "      <td>c-1_m10</td>\n",
       "      <td>0</td>\n",
       "      <td>1.587302</td>\n",
       "      <td>FirstVisit/</td>\n",
       "      <td>c-1</td>\n",
       "      <td>m10</td>\n",
       "    </tr>\n",
       "    <tr>\n",
       "      <td>21</td>\n",
       "      <td>21</td>\n",
       "      <td>c-1_m11</td>\n",
       "      <td>4</td>\n",
       "      <td>0.000000</td>\n",
       "      <td>FirstVisit/</td>\n",
       "      <td>c-1</td>\n",
       "      <td>m11</td>\n",
       "    </tr>\n",
       "    <tr>\n",
       "      <td>22</td>\n",
       "      <td>22</td>\n",
       "      <td>c-1_m13</td>\n",
       "      <td>6</td>\n",
       "      <td>0.000000</td>\n",
       "      <td>FirstVisit/</td>\n",
       "      <td>c-1</td>\n",
       "      <td>m13</td>\n",
       "    </tr>\n",
       "    <tr>\n",
       "      <td>23</td>\n",
       "      <td>23</td>\n",
       "      <td>c-1_m14</td>\n",
       "      <td>0</td>\n",
       "      <td>0.000000</td>\n",
       "      <td>FirstVisit/</td>\n",
       "      <td>c-1</td>\n",
       "      <td>m14</td>\n",
       "    </tr>\n",
       "    <tr>\n",
       "      <td>24</td>\n",
       "      <td>24</td>\n",
       "      <td>c-1_m16</td>\n",
       "      <td>0</td>\n",
       "      <td>1.333333</td>\n",
       "      <td>FirstVisit/</td>\n",
       "      <td>c-1</td>\n",
       "      <td>m16</td>\n",
       "    </tr>\n",
       "    <tr>\n",
       "      <td>25</td>\n",
       "      <td>25</td>\n",
       "      <td>c-1_m17</td>\n",
       "      <td>0</td>\n",
       "      <td>0.000000</td>\n",
       "      <td>FirstVisit/</td>\n",
       "      <td>c-1</td>\n",
       "      <td>m17</td>\n",
       "    </tr>\n",
       "    <tr>\n",
       "      <td>26</td>\n",
       "      <td>26</td>\n",
       "      <td>c-1_m18</td>\n",
       "      <td>3</td>\n",
       "      <td>0.884956</td>\n",
       "      <td>FirstVisit/</td>\n",
       "      <td>c-1</td>\n",
       "      <td>m18</td>\n",
       "    </tr>\n",
       "    <tr>\n",
       "      <td>27</td>\n",
       "      <td>27</td>\n",
       "      <td>c-1_m19</td>\n",
       "      <td>1</td>\n",
       "      <td>1.449275</td>\n",
       "      <td>FirstVisit/</td>\n",
       "      <td>c-1</td>\n",
       "      <td>m19</td>\n",
       "    </tr>\n",
       "    <tr>\n",
       "      <td>28</td>\n",
       "      <td>28</td>\n",
       "      <td>c-1_m1</td>\n",
       "      <td>11</td>\n",
       "      <td>0.265252</td>\n",
       "      <td>FirstVisit/</td>\n",
       "      <td>c-1</td>\n",
       "      <td>m1</td>\n",
       "    </tr>\n",
       "    <tr>\n",
       "      <td>29</td>\n",
       "      <td>29</td>\n",
       "      <td>c-1_m20</td>\n",
       "      <td>7</td>\n",
       "      <td>0.000000</td>\n",
       "      <td>FirstVisit/</td>\n",
       "      <td>c-1</td>\n",
       "      <td>m20</td>\n",
       "    </tr>\n",
       "    <tr>\n",
       "      <td>30</td>\n",
       "      <td>30</td>\n",
       "      <td>c-1_m22</td>\n",
       "      <td>0</td>\n",
       "      <td>2.941176</td>\n",
       "      <td>FirstVisit/</td>\n",
       "      <td>c-1</td>\n",
       "      <td>m22</td>\n",
       "    </tr>\n",
       "    <tr>\n",
       "      <td>31</td>\n",
       "      <td>31</td>\n",
       "      <td>c-1_m23</td>\n",
       "      <td>26</td>\n",
       "      <td>0.311526</td>\n",
       "      <td>FirstVisit/</td>\n",
       "      <td>c-1</td>\n",
       "      <td>m23</td>\n",
       "    </tr>\n",
       "    <tr>\n",
       "      <td>32</td>\n",
       "      <td>32</td>\n",
       "      <td>c-1_m3</td>\n",
       "      <td>5</td>\n",
       "      <td>1.333333</td>\n",
       "      <td>FirstVisit/</td>\n",
       "      <td>c-1</td>\n",
       "      <td>m3</td>\n",
       "    </tr>\n",
       "    <tr>\n",
       "      <td>33</td>\n",
       "      <td>33</td>\n",
       "      <td>c-1_m4</td>\n",
       "      <td>2</td>\n",
       "      <td>0.975610</td>\n",
       "      <td>FirstVisit/</td>\n",
       "      <td>c-1</td>\n",
       "      <td>m4</td>\n",
       "    </tr>\n",
       "    <tr>\n",
       "      <td>34</td>\n",
       "      <td>34</td>\n",
       "      <td>c-1_m6</td>\n",
       "      <td>3</td>\n",
       "      <td>1.123596</td>\n",
       "      <td>FirstVisit/</td>\n",
       "      <td>c-1</td>\n",
       "      <td>m6</td>\n",
       "    </tr>\n",
       "    <tr>\n",
       "      <td>35</td>\n",
       "      <td>35</td>\n",
       "      <td>c-1_m8</td>\n",
       "      <td>3</td>\n",
       "      <td>0.366300</td>\n",
       "      <td>FirstVisit/</td>\n",
       "      <td>c-1</td>\n",
       "      <td>m8</td>\n",
       "    </tr>\n",
       "  </tbody>\n",
       "</table>\n",
       "</div>"
      ],
      "text/plain": [
       "    Unnamed: 0    names  numPeaks      freq     visitNum flower mothname\n",
       "20          20  c-1_m10         0  1.587302  FirstVisit/    c-1      m10\n",
       "21          21  c-1_m11         4  0.000000  FirstVisit/    c-1      m11\n",
       "22          22  c-1_m13         6  0.000000  FirstVisit/    c-1      m13\n",
       "23          23  c-1_m14         0  0.000000  FirstVisit/    c-1      m14\n",
       "24          24  c-1_m16         0  1.333333  FirstVisit/    c-1      m16\n",
       "25          25  c-1_m17         0  0.000000  FirstVisit/    c-1      m17\n",
       "26          26  c-1_m18         3  0.884956  FirstVisit/    c-1      m18\n",
       "27          27  c-1_m19         1  1.449275  FirstVisit/    c-1      m19\n",
       "28          28   c-1_m1        11  0.265252  FirstVisit/    c-1       m1\n",
       "29          29  c-1_m20         7  0.000000  FirstVisit/    c-1      m20\n",
       "30          30  c-1_m22         0  2.941176  FirstVisit/    c-1      m22\n",
       "31          31  c-1_m23        26  0.311526  FirstVisit/    c-1      m23\n",
       "32          32   c-1_m3         5  1.333333  FirstVisit/    c-1       m3\n",
       "33          33   c-1_m4         2  0.975610  FirstVisit/    c-1       m4\n",
       "34          34   c-1_m6         3  1.123596  FirstVisit/    c-1       m6\n",
       "35          35   c-1_m8         3  0.366300  FirstVisit/    c-1       m8"
      ]
     },
     "execution_count": 18,
     "metadata": {},
     "output_type": "execute_result"
    }
   ],
   "source": [
    "df1"
   ]
  },
  {
   "cell_type": "code",
   "execution_count": 25,
   "metadata": {},
   "outputs": [],
   "source": [
    "# Two way ANOVA"
   ]
  },
  {
   "cell_type": "code",
   "execution_count": 22,
   "metadata": {},
   "outputs": [],
   "source": [
    "from statsmodels.formula.api import ols\n",
    "from statsmodels.stats.anova import anova_lm"
   ]
  },
  {
   "cell_type": "code",
   "execution_count": 23,
   "metadata": {},
   "outputs": [],
   "source": [
    "formula = 'numPeaks ~ C(visitNum) + C(flower) + C(visitNum):C(flower)'\n",
    "model = ols(formula, SweepDynamics).fit()\n",
    "aov_table = anova_lm(model, typ=2)"
   ]
  },
  {
   "cell_type": "code",
   "execution_count": 24,
   "metadata": {},
   "outputs": [
    {
     "data": {
      "text/html": [
       "<div>\n",
       "<style scoped>\n",
       "    .dataframe tbody tr th:only-of-type {\n",
       "        vertical-align: middle;\n",
       "    }\n",
       "\n",
       "    .dataframe tbody tr th {\n",
       "        vertical-align: top;\n",
       "    }\n",
       "\n",
       "    .dataframe thead th {\n",
       "        text-align: right;\n",
       "    }\n",
       "</style>\n",
       "<table border=\"1\" class=\"dataframe\">\n",
       "  <thead>\n",
       "    <tr style=\"text-align: right;\">\n",
       "      <th></th>\n",
       "      <th>sum_sq</th>\n",
       "      <th>df</th>\n",
       "      <th>F</th>\n",
       "      <th>PR(&gt;F)</th>\n",
       "    </tr>\n",
       "  </thead>\n",
       "  <tbody>\n",
       "    <tr>\n",
       "      <td>C(visitNum)</td>\n",
       "      <td>1495.774632</td>\n",
       "      <td>2.0</td>\n",
       "      <td>9.437335</td>\n",
       "      <td>0.000132</td>\n",
       "    </tr>\n",
       "    <tr>\n",
       "      <td>C(flower)</td>\n",
       "      <td>1296.307932</td>\n",
       "      <td>3.0</td>\n",
       "      <td>5.452556</td>\n",
       "      <td>0.001344</td>\n",
       "    </tr>\n",
       "    <tr>\n",
       "      <td>C(visitNum):C(flower)</td>\n",
       "      <td>463.882200</td>\n",
       "      <td>6.0</td>\n",
       "      <td>0.975595</td>\n",
       "      <td>0.443517</td>\n",
       "    </tr>\n",
       "    <tr>\n",
       "      <td>Residual</td>\n",
       "      <td>12996.627098</td>\n",
       "      <td>164.0</td>\n",
       "      <td>NaN</td>\n",
       "      <td>NaN</td>\n",
       "    </tr>\n",
       "  </tbody>\n",
       "</table>\n",
       "</div>"
      ],
      "text/plain": [
       "                             sum_sq     df         F    PR(>F)\n",
       "C(visitNum)             1495.774632    2.0  9.437335  0.000132\n",
       "C(flower)               1296.307932    3.0  5.452556  0.001344\n",
       "C(visitNum):C(flower)    463.882200    6.0  0.975595  0.443517\n",
       "Residual               12996.627098  164.0       NaN       NaN"
      ]
     },
     "execution_count": 24,
     "metadata": {},
     "output_type": "execute_result"
    }
   ],
   "source": [
    "aov_table"
   ]
  },
  {
   "cell_type": "code",
   "execution_count": null,
   "metadata": {},
   "outputs": [],
   "source": []
  }
 ],
 "metadata": {
  "kernelspec": {
   "display_name": "Python 3",
   "language": "python",
   "name": "python3"
  },
  "language_info": {
   "codemirror_mode": {
    "name": "ipython",
    "version": 3
   },
   "file_extension": ".py",
   "mimetype": "text/x-python",
   "name": "python",
   "nbconvert_exporter": "python",
   "pygments_lexer": "ipython3",
   "version": "3.6.5"
  }
 },
 "nbformat": 4,
 "nbformat_minor": 2
}
