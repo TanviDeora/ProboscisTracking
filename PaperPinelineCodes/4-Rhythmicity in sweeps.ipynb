{
 "cells": [
  {
   "cell_type": "code",
   "execution_count": 1,
   "metadata": {},
   "outputs": [],
   "source": [
    "import pandas as pd\n",
    "import glob\n",
    "import matplotlib.pyplot as plt\n",
    "import numpy as np\n",
    "import os\n",
    "\n",
    "from scipy import signal\n",
    "from scipy import stats"
   ]
  },
  {
   "cell_type": "code",
   "execution_count": 2,
   "metadata": {},
   "outputs": [],
   "source": [
    "# use fft to pull out frequency\n",
    "def returnFFT(array, Fs):\n",
    "    from scipy.fftpack import fft\n",
    "    \n",
    "    meanx = np.mean(array)\n",
    "    fftr = fft(array - meanx)\n",
    "        \n",
    "    Nsamples = len(r) # number of points\n",
    "    Nf = Nsamples # max Nyquist frequency is Nf/2\n",
    "    \n",
    "    TT = 1/Fs # resolution of frequency\n",
    "\n",
    "    xf = np.linspace(0.0, 1.0/(2.0*TT), round(Nf/(2)))\n",
    "    \n",
    "    return(xf, fftr)"
   ]
  },
  {
   "cell_type": "code",
   "execution_count": 18,
   "metadata": {},
   "outputs": [
    {
     "name": "stdout",
     "output_type": "stream",
     "text": [
      "FirstVisit/\n"
     ]
    },
    {
     "name": "stderr",
     "output_type": "stream",
     "text": [
      "C:\\Users\\Tanvi\\AppData\\Local\\Continuum\\anaconda3\\lib\\site-packages\\ipykernel_launcher.py:31: RuntimeWarning: invalid value encountered in greater\n",
      "C:\\Users\\Tanvi\\AppData\\Local\\Continuum\\anaconda3\\lib\\site-packages\\ipykernel_launcher.py:31: RuntimeWarning: invalid value encountered in greater\n",
      "C:\\Users\\Tanvi\\AppData\\Local\\Continuum\\anaconda3\\lib\\site-packages\\ipykernel_launcher.py:31: RuntimeWarning: invalid value encountered in greater\n",
      "C:\\Users\\Tanvi\\AppData\\Local\\Continuum\\anaconda3\\lib\\site-packages\\ipykernel_launcher.py:31: RuntimeWarning: invalid value encountered in greater\n",
      "C:\\Users\\Tanvi\\AppData\\Local\\Continuum\\anaconda3\\lib\\site-packages\\ipykernel_launcher.py:31: RuntimeWarning: invalid value encountered in greater\n",
      "C:\\Users\\Tanvi\\AppData\\Local\\Continuum\\anaconda3\\lib\\site-packages\\ipykernel_launcher.py:31: RuntimeWarning: invalid value encountered in greater\n",
      "C:\\Users\\Tanvi\\AppData\\Local\\Continuum\\anaconda3\\lib\\site-packages\\ipykernel_launcher.py:31: RuntimeWarning: invalid value encountered in greater\n",
      "C:\\Users\\Tanvi\\AppData\\Local\\Continuum\\anaconda3\\lib\\site-packages\\ipykernel_launcher.py:31: RuntimeWarning: invalid value encountered in greater\n",
      "C:\\Users\\Tanvi\\AppData\\Local\\Continuum\\anaconda3\\lib\\site-packages\\ipykernel_launcher.py:31: RuntimeWarning: invalid value encountered in greater\n",
      "C:\\Users\\Tanvi\\AppData\\Local\\Continuum\\anaconda3\\lib\\site-packages\\ipykernel_launcher.py:31: RuntimeWarning: invalid value encountered in greater\n"
     ]
    },
    {
     "name": "stdout",
     "output_type": "stream",
     "text": [
      "Later7thVisit/\n"
     ]
    },
    {
     "name": "stderr",
     "output_type": "stream",
     "text": [
      "C:\\Users\\Tanvi\\AppData\\Local\\Continuum\\anaconda3\\lib\\site-packages\\ipykernel_launcher.py:31: RuntimeWarning: invalid value encountered in greater\n"
     ]
    },
    {
     "name": "stdout",
     "output_type": "stream",
     "text": [
      "LaterVisit/\n"
     ]
    },
    {
     "name": "stderr",
     "output_type": "stream",
     "text": [
      "C:\\Users\\Tanvi\\AppData\\Local\\Continuum\\anaconda3\\lib\\site-packages\\ipykernel_launcher.py:31: RuntimeWarning: invalid value encountered in greater\n",
      "C:\\Users\\Tanvi\\AppData\\Local\\Continuum\\anaconda3\\lib\\site-packages\\ipykernel_launcher.py:31: RuntimeWarning: invalid value encountered in greater\n"
     ]
    }
   ],
   "source": [
    "visitnum = ['FirstVisit/', 'Later7thVisit/' ,'LaterVisit/', 'LastVisit/']\n",
    "\n",
    "n = []\n",
    "peaks = []\n",
    "freq = []\n",
    "v = []\n",
    "for visit in visitnum[:-1]:\n",
    "    path = os.path.join('../dataFolders/PaperPipelineOutput/RadiusAndAngle_v2/', visit)\n",
    "    Allpath = glob.glob(path + 'c*.csv')\n",
    "    \n",
    "    guidepath = os.path.join(\"../dataFolders/PaperPipelineOutput/FilteredTracks_v2/\", visit)\n",
    "    guide = pd.read_csv(guidepath + \"AllVideoNames.csv\")\n",
    "    # print(guide.head())\n",
    "    filesToRead = guide[guide.AutomatatedTracking != \"TRUE\"]\n",
    "    \n",
    "    outpathfig = os.path.join('../dataFolders/PaperPipelineOutput/Figures/v2/Dynamics-Rythmicity/',visit)\n",
    "    \n",
    "    print(visit)\n",
    "    \n",
    "\n",
    "    for path in Allpath:\n",
    "        name = os.path.basename(path)[:-19]\n",
    "    #     name =  'c-1_m19'\n",
    "    #     path = [p for p in Allpath if name in p][0]\n",
    "        if np.any(filesToRead.names.str.contains(name)):\n",
    "            continue\n",
    "    #     path = [data for data in Allpath if name in data]\n",
    "        dataExamples = pd.read_csv(path)\n",
    "\n",
    "        r = dataExamples.radial_distance_normalized.values\n",
    "        r[r > 2.5] = np.nan\n",
    "\n",
    "        # get the number of peaks\n",
    "        ind, _ = signal.find_peaks(r, prominence=(0.5, ) )\n",
    "        plt.plot(r)\n",
    "        plt.plot(ind, r[ind], 'o')\n",
    "        plt.savefig(outpathfig + name + '_peaks.pdf')\n",
    "        plt.close()\n",
    "\n",
    "\n",
    "        # testing the Welch method\n",
    "        s = np.split(r, np.where(np.isnan(r))[0]+1)\n",
    "        nanFreeSeg = max(s, key = len)\n",
    "        f, Pxx = signal.welch(x= nanFreeSeg, \n",
    "                              fs=100.0, \n",
    "                              window='hanning',\n",
    "                              nperseg = round(len(r)/5),\n",
    "                              return_onesided=True, scaling='density')\n",
    "        plt.plot(f, Pxx)\n",
    "        plt.savefig(outpathfig + name + '_welchFFT.pdf')\n",
    "        plt.close()\n",
    "\n",
    "        max_f = f[np.argmax(Pxx)]\n",
    "\n",
    "    #     print('max freq for %s is: %.2f Hz' % (name, f[np.argmax(Pxx)]))\n",
    "\n",
    "        n.append(name)\n",
    "        peaks.append(len(ind))\n",
    "        freq.append(max_f)\n",
    "        v.append(visit)"
   ]
  },
  {
   "cell_type": "code",
   "execution_count": 19,
   "metadata": {},
   "outputs": [],
   "source": [
    "# save this data as a csv\n",
    "datapath = r\"../dataFolders/PaperPipelineOutput/Figures/v2/Paper/\"\n",
    "SweepDynamics = pd.DataFrame([n, peaks, freq, v]).T\n",
    "SweepDynamics.columns = ['names', 'numPeaks', 'freq', 'visitNum']\n",
    "SweepDynamics.to_csv(datapath + 'SweepDynamics.csv')"
   ]
  },
  {
   "cell_type": "code",
   "execution_count": 20,
   "metadata": {},
   "outputs": [],
   "source": [
    "# plot the results\n",
    "SweepDynamics[['flower', 'mothname']] = SweepDynamics.names.str.split(pat = '_', n = 2, expand = True)\n",
    "SweepDynamics[\"numPeaks\"] = pd.to_numeric(SweepDynamics[\"numPeaks\"])\n",
    "SweepDynamics[\"freq\"] = pd.to_numeric(SweepDynamics[\"freq\"])\n",
    "SweepDynamics.head()\n",
    "SweepDynamics.to_csv(datapath + 'SweepDynamics.csv')"
   ]
  },
  {
   "cell_type": "code",
   "execution_count": 21,
   "metadata": {},
   "outputs": [
    {
     "data": {
      "text/plain": [
       "array(['FirstVisit/', 'Later7thVisit/', 'LaterVisit/'], dtype=object)"
      ]
     },
     "execution_count": 21,
     "metadata": {},
     "output_type": "execute_result"
    }
   ],
   "source": [
    "SweepDynamics.visitNum.unique()"
   ]
  },
  {
   "cell_type": "code",
   "execution_count": 24,
   "metadata": {},
   "outputs": [],
   "source": [
    "first = SweepDynamics[SweepDynamics.visitNum == 'FirstVisit/']\n",
    "seven = SweepDynamics[SweepDynamics.visitNum == 'Later7thVisit/']\n",
    "twenty = SweepDynamics[SweepDynamics.visitNum == 'LaterVisit/']"
   ]
  },
  {
   "cell_type": "code",
   "execution_count": 26,
   "metadata": {},
   "outputs": [
    {
     "data": {
      "image/png": "[encoded data removed]",
      "text/plain": [
       "<Figure size 432x288 with 1 Axes>"
      ]
     },
     "metadata": {
      "needs_background": "light"
     },
     "output_type": "display_data"
    }
   ],
   "source": [
    "import seaborn as sns\n",
    "\n",
    "f = sns.swarmlot(x = 'flower', y = 'numPeaks',\n",
    "                  data = first,\n",
    "                 order = [\"c-1\" ,\"c-2\", \"c-3\", \"c-10\"])\n",
    "sns.pointplot(x=\"flower\", y=\"numPeaks\", \n",
    "              estimator = np.median, \n",
    "              data=SweepDynamics, \n",
    "#               ci = 'sd',\n",
    "              markers = '_',\n",
    "              linestyles = 'dotted',\n",
    "              color = 'k',\n",
    "             order = [\"c-1\" ,\"c-2\", \"c-3\", \"c-10\"])\n",
    "\n",
    "plt.setp(f.lines,linewidth=1) \n",
    "ax = f.axes\n",
    "# ax.set_ylim(-5,40)"
   ]
  },
  {
   "cell_type": "code",
   "execution_count": 30,
   "metadata": {},
   "outputs": [
    {
     "data": {
      "text/plain": [
       "(-0.5, 27)"
      ]
     },
     "execution_count": 30,
     "metadata": {},
     "output_type": "execute_result"
    },
    {
     "data": {
      "image/png": "[encoded data removed]",
      "text/plain": [
       "<Figure size 432x288 with 1 Axes>"
      ]
     },
     "metadata": {
      "needs_background": "light"
     },
     "output_type": "display_data"
    }
   ],
   "source": [
    "import seaborn as sns\n",
    "\n",
    "f = sns.swarmplot(x = 'flower', y = 'numPeaks',\n",
    "                  data = seven,\n",
    "                 order = [\"c-1\" ,\"c-2\", \"c-3\", \"c-10\"])\n",
    "sns.pointplot(x=\"flower\", y=\"numPeaks\", \n",
    "              estimator = np.median, \n",
    "              data=SweepDynamics, \n",
    "#               ci = 'sd',\n",
    "              markers = '_',\n",
    "              linestyles = 'dotted',\n",
    "              color = 'k',\n",
    "             order = [\"c-1\" ,\"c-2\", \"c-3\", \"c-10\"])\n",
    "\n",
    "plt.setp(f.lines,linewidth=1) \n",
    "ax = f.axes\n",
    "ax.set_ylim(-0.5,27)"
   ]
  },
  {
   "cell_type": "code",
   "execution_count": 53,
   "metadata": {},
   "outputs": [
    {
     "data": {
      "image/png": "[encoded data removed]",
      "text/plain": [
       "<Figure size 432x288 with 1 Axes>"
      ]
     },
     "metadata": {
      "needs_background": "light"
     },
     "output_type": "display_data"
    }
   ],
   "source": [
    "f = sns.stripplot(x = 'flower', y = 'numPeaks',\n",
    "                  data = SweepDynamics[SweepDynamics.visitNum != 'LaterVisit/'],\n",
    "                 hue = 'visitNum',\n",
    "                 jitter=0.25,\n",
    "                  dodge=True,\n",
    "                 order = [\"c-1\" ,\"c-2\", \"c-3\", \"c-10\"])\n",
    "sns.pointplot(x=\"flower\", y=\"numPeaks\", \n",
    "              estimator = np.median, \n",
    "              data=SweepDynamics[SweepDynamics.visitNum != 'LaterVisit/'],\n",
    "              hue = 'visitNum',\n",
    "              dodge = True,\n",
    "#               ci = 'sd',\n",
    "              markers = '_',\n",
    "              linestyles = '',\n",
    "              color = 'k',\n",
    "             order = [\"c-1\" ,\"c-2\", \"c-3\", \"c-10\"])\n",
    "\n",
    "plt.setp(f.lines,linewidth=1) \n",
    "ax = f.axes\n",
    "\n",
    "plt.savefig(r\"../dataFolders/PaperPipelineOutput/Figures/v2/Paper/\" + 'NumSweeps.pdf')"
   ]
  },
  {
   "cell_type": "code",
   "execution_count": 54,
   "metadata": {},
   "outputs": [
    {
     "name": "stdout",
     "output_type": "stream",
     "text": [
      "flower\n",
      "c-1     1.0\n",
      "c-10    4.5\n",
      "c-2     2.0\n",
      "c-3     5.0\n",
      "Name: numPeaks, dtype: float64\n",
      "flower\n",
      "c-1     0.0\n",
      "c-10    4.0\n",
      "c-2     1.0\n",
      "c-3     1.0\n",
      "Name: numPeaks, dtype: float64\n",
      "flower\n",
      "c-1     0.0\n",
      "c-10    2.0\n",
      "c-2     1.0\n",
      "c-3     1.0\n",
      "Name: numPeaks, dtype: float64\n"
     ]
    }
   ],
   "source": [
    "for data in [first, seven, twenty]:\n",
    "    m = data.groupby('flower')['numPeaks'].apply(np.median)\n",
    "    print(m)"
   ]
  },
  {
   "cell_type": "code",
   "execution_count": 10,
   "metadata": {},
   "outputs": [
    {
     "data": {
      "text/plain": [
       "<matplotlib.axes._subplots.AxesSubplot at 0x2827f7c5940>"
      ]
     },
     "execution_count": 10,
     "metadata": {},
     "output_type": "execute_result"
    },
    {
     "data": {
      "image/png": "[encoded data removed]",
      "text/plain": [
       "<Figure size 432x288 with 1 Axes>"
      ]
     },
     "metadata": {
      "needs_background": "light"
     },
     "output_type": "display_data"
    }
   ],
   "source": [
    "sns.swarmplot(x = 'flower', y = 'freq', data = SweepDynamics)\n",
    "sns.pointplot(x=\"flower\", y=\"freq\", estimator = np.median, data=SweepDynamics, \n",
    "#               ci = 'sd',\n",
    "              markers = '_',\n",
    "              linestyles = 'dotted',\n",
    "              color = 'k',\n",
    "             order = [\"c-1\" ,\"c-2\", \"c-3\", \"c-10\"])"
   ]
  },
  {
   "cell_type": "code",
   "execution_count": 10,
   "metadata": {},
   "outputs": [
    {
     "data": {
      "text/plain": [
       "flower\n",
       "c-1     1.754386\n",
       "c-10    1.612903\n",
       "c-2     1.125870\n",
       "c-3     1.587302\n",
       "Name: freq, dtype: float64"
      ]
     },
     "execution_count": 10,
     "metadata": {},
     "output_type": "execute_result"
    }
   ],
   "source": [
    "f = SweepDynamics.groupby('flower')['freq'].apply(np.median)\n",
    "f"
   ]
  },
  {
   "cell_type": "code",
   "execution_count": 11,
   "metadata": {},
   "outputs": [
    {
     "name": "stdout",
     "output_type": "stream",
     "text": [
      "c-1 has 31.15 stats and 0.000000172071952 p value\n",
      "c-1 is not normally distributed\n",
      "c-10 has 1.22 stats and 0.542521393422492 p value\n",
      "c-10 is normally distributed\n",
      "c-2 has 6.73 stats and 0.034583054539235 p value\n",
      "c-2 is not normally distributed\n",
      "c-3 has 0.84 stats and 0.657089618142994 p value\n",
      "c-3 is normally distributed\n"
     ]
    },
    {
     "name": "stderr",
     "output_type": "stream",
     "text": [
      "C:\\Users\\Tanvi\\AppData\\Local\\Continuum\\anaconda3\\lib\\site-packages\\scipy\\stats\\stats.py:1450: UserWarning: kurtosistest only valid for n>=20 ... continuing anyway, n=11\n",
      "  \"anyway, n=%i\" % int(n))\n",
      "C:\\Users\\Tanvi\\AppData\\Local\\Continuum\\anaconda3\\lib\\site-packages\\scipy\\stats\\stats.py:1450: UserWarning: kurtosistest only valid for n>=20 ... continuing anyway, n=13\n",
      "  \"anyway, n=%i\" % int(n))\n"
     ]
    }
   ],
   "source": [
    "for name, grp in SweepDynamics.groupby('flower'):\n",
    "    f,p = stats.normaltest(grp['numPeaks'])\n",
    "    print('%s has %.2f stats and %.15f p value' %(name,f,p))\n",
    "    if p < 0.5:\n",
    "        print('%s is not normally distributed' %name)\n",
    "    else:\n",
    "        print('%s is normally distributed' %name)"
   ]
  },
  {
   "cell_type": "code",
   "execution_count": 50,
   "metadata": {},
   "outputs": [
    {
     "data": {
      "text/plain": [
       "KruskalResult(statistic=21.273990774170947, pvalue=9.234512330674461e-05)"
      ]
     },
     "execution_count": 50,
     "metadata": {},
     "output_type": "execute_result"
    }
   ],
   "source": [
    "c1_first = first.loc[first.flower == 'c-1', 'numPeaks'].values\n",
    "c2_first = first.loc[first.flower == 'c-2', 'numPeaks'].values\n",
    "c3_first = first.loc[first.flower == 'c-3', 'numPeaks'].values\n",
    "c10_first = first.loc[first.flower == 'c-10', 'numPeaks'].values\n",
    "\n",
    "c1_seven = seven.loc[seven.flower == 'c-1', 'numPeaks'].values\n",
    "c2_seven = seven.loc[seven.flower == 'c-2', 'numPeaks'].values\n",
    "c3_seven = seven.loc[seven.flower == 'c-3', 'numPeaks'].values\n",
    "c10_seven = seven.loc[seven.flower == 'c-10', 'numPeaks'].values\n",
    "\n",
    "# stats.kruskal(list(c1_first), list(c2_first), list(c3_first), list(c10_first), \n",
    "#               list(c1_seven), list(c2_seven), list(c3_seven), list(c10_seven))\n",
    "\n",
    "stats.kruskal(list(c1_first), list(c2_first), list(c3_first), list(c10_first))\n",
    "\n",
    "stats.kruskal(list(c1_seven), list(c2_seven), list(c3_seven), list(c10_seven))"
   ]
  },
  {
   "cell_type": "code",
   "execution_count": 51,
   "metadata": {},
   "outputs": [
    {
     "name": "stderr",
     "output_type": "stream",
     "text": [
      "C:\\Users\\Tanvi\\AppData\\Local\\Continuum\\anaconda3\\lib\\site-packages\\ipykernel_launcher.py:2: SettingWithCopyWarning: \n",
      "A value is trying to be set on a copy of a slice from a DataFrame.\n",
      "Try using .loc[row_indexer,col_indexer] = value instead\n",
      "\n",
      "See the caveats in the documentation: http://pandas.pydata.org/pandas-docs/stable/user_guide/indexing.html#returning-a-view-versus-a-copy\n",
      "  \n"
     ]
    }
   ],
   "source": [
    "subset = SweepDynamics[(SweepDynamics.visitNum != 'LaterVisit/') & (SweepDynamics.visitNum != 'FirstVisit/')]\n",
    "subset['Combined'] = subset['flower'].str.cat(subset['visitNum'],sep=\"_\")"
   ]
  },
  {
   "cell_type": "code",
   "execution_count": 52,
   "metadata": {},
   "outputs": [
    {
     "name": "stdout",
     "output_type": "stream",
     "text": [
      "             Multiple Comparison of Means - Tukey HSD, FWER=0.05             \n",
      "=============================================================================\n",
      "       group1             group2       meandiff p-adj   lower   upper  reject\n",
      "-----------------------------------------------------------------------------\n",
      "c-10_Later7thVisit/ c-1_Later7thVisit/  -4.1399  0.001 -6.0945 -2.1852   True\n",
      "c-10_Later7thVisit/ c-2_Later7thVisit/  -2.8462 0.0011 -4.7176 -0.9747   True\n",
      "c-10_Later7thVisit/ c-3_Later7thVisit/  -2.8462 0.0011 -4.7176 -0.9747   True\n",
      " c-1_Later7thVisit/ c-2_Later7thVisit/   1.2937 0.3036  -0.661  3.2484  False\n",
      " c-1_Later7thVisit/ c-3_Later7thVisit/   1.2937 0.3036  -0.661  3.2484  False\n",
      " c-2_Later7thVisit/ c-3_Later7thVisit/      0.0    0.9 -1.8714  1.8714  False\n",
      "-----------------------------------------------------------------------------\n",
      "['c-10_Later7thVisit/' 'c-1_Later7thVisit/' 'c-2_Later7thVisit/'\n",
      " 'c-3_Later7thVisit/']\n"
     ]
    }
   ],
   "source": [
    "from statsmodels.stats.multicomp import pairwise_tukeyhsd\n",
    "from statsmodels.stats.multicomp import MultiComparison\n",
    "\n",
    "Subset = subset.dropna()\n",
    "mc = MultiComparison(subset['numPeaks'], subset['Combined'])\n",
    "result = mc.tukeyhsd()\n",
    " \n",
    "print(result)\n",
    "print(mc.groupsunique)"
   ]
  },
  {
   "cell_type": "code",
   "execution_count": 13,
   "metadata": {},
   "outputs": [
    {
     "name": "stdout",
     "output_type": "stream",
     "text": [
      "c-1 has 5.44 stats and 0.065813023100548 p value\n",
      "c-1 is not normally distributed\n",
      "c-10 has 32.11 stats and 0.000000106376921 p value\n",
      "c-10 is not normally distributed\n",
      "c-2 has 0.37 stats and 0.832903878882945 p value\n",
      "c-2 is normally distributed\n",
      "c-3 has 1.63 stats and 0.442071921589624 p value\n",
      "c-3 is not normally distributed\n"
     ]
    }
   ],
   "source": [
    "for name, grp in SweepDynamics.groupby('flower'):\n",
    "    f,p = stats.normaltest(grp['freq'])\n",
    "    print('%s has %.2f stats and %.15f p value' %(name,f,p))\n",
    "    if p < 0.5:\n",
    "        print('%s is not normally distributed' %name)\n",
    "    else:\n",
    "        print('%s is normally distributed' %name)"
   ]
  },
  {
   "cell_type": "code",
   "execution_count": 14,
   "metadata": {},
   "outputs": [
    {
     "data": {
      "text/plain": [
       "KruskalResult(statistic=7.558426155236775, pvalue=0.05607608616161377)"
      ]
     },
     "execution_count": 14,
     "metadata": {},
     "output_type": "execute_result"
    }
   ],
   "source": [
    "c1 = SweepDynamics.loc[SweepDynamics.flower == 'c-1', 'freq'].values\n",
    "c2 = SweepDynamics.loc[SweepDynamics.flower == 'c-2', 'freq'].values\n",
    "c3 = SweepDynamics.loc[SweepDynamics.flower == 'c-3', 'freq'].values\n",
    "c10 = SweepDynamics.loc[SweepDynamics.flower == 'c-10', 'freq'].values\n",
    "stats.kruskal(list(c1), list(c2), list(c3), list(c10))"
   ]
  },
  {
   "cell_type": "code",
   "execution_count": null,
   "metadata": {},
   "outputs": [],
   "source": []
  }
 ],
 "metadata": {
  "kernelspec": {
   "display_name": "Python 3",
   "language": "python",
   "name": "python3"
  },
  "language_info": {
   "codemirror_mode": {
    "name": "ipython",
    "version": 3
   },
   "file_extension": ".py",
   "mimetype": "text/x-python",
   "name": "python",
   "nbconvert_exporter": "python",
   "pygments_lexer": "ipython3",
   "version": "3.6.5"
  }
 },
 "nbformat": 4,
 "nbformat_minor": 2
}
