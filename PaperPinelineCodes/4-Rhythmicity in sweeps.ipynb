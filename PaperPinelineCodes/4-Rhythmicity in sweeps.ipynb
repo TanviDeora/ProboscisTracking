{
 "cells": [
  {
   "cell_type": "code",
   "execution_count": 1,
   "metadata": {},
   "outputs": [],
   "source": [
    "import pandas as pd\n",
    "import glob\n",
    "import matplotlib.pyplot as plt\n",
    "import numpy as np\n",
    "import os\n",
    "\n",
    "from scipy import signal\n",
    "from scipy import stats"
   ]
  },
  {
   "cell_type": "code",
   "execution_count": 8,
   "metadata": {},
   "outputs": [],
   "source": [
    "import matplotlib\n",
    "matplotlib.rcParams['pdf.fonttype'] = 42\n",
    "matplotlib.rcParams['ps.fonttype'] = 42\n",
    "\n",
    "\n",
    "from matplotlib import rc\n",
    "rc('font',**{'family':'sans-serif','sans-serif':['Arial']})\n",
    "matplotlib.rc('pdf', fonttype=42)"
   ]
  },
  {
   "cell_type": "code",
   "execution_count": 2,
   "metadata": {},
   "outputs": [],
   "source": [
    "# use fft to pull out frequency\n",
    "def returnFFT(array, Fs):\n",
    "    from scipy.fftpack import fft\n",
    "    \n",
    "    meanx = np.mean(array)\n",
    "    fftr = fft(array - meanx)\n",
    "        \n",
    "    Nsamples = len(r) # number of points\n",
    "    Nf = Nsamples # max Nyquist frequency is Nf/2\n",
    "    \n",
    "    TT = 1/Fs # resolution of frequency\n",
    "\n",
    "    xf = np.linspace(0.0, 1.0/(2.0*TT), round(Nf/(2)))\n",
    "    \n",
    "    return(xf, fftr)"
   ]
  },
  {
   "cell_type": "code",
   "execution_count": 18,
   "metadata": {},
   "outputs": [
    {
     "name": "stdout",
     "output_type": "stream",
     "text": [
      "FirstVisit/\n"
     ]
    },
    {
     "name": "stderr",
     "output_type": "stream",
     "text": [
      "C:\\Users\\Tanvi\\AppData\\Local\\Continuum\\anaconda3\\lib\\site-packages\\ipykernel_launcher.py:31: RuntimeWarning: invalid value encountered in greater\n",
      "C:\\Users\\Tanvi\\AppData\\Local\\Continuum\\anaconda3\\lib\\site-packages\\ipykernel_launcher.py:31: RuntimeWarning: invalid value encountered in greater\n",
      "C:\\Users\\Tanvi\\AppData\\Local\\Continuum\\anaconda3\\lib\\site-packages\\ipykernel_launcher.py:31: RuntimeWarning: invalid value encountered in greater\n",
      "C:\\Users\\Tanvi\\AppData\\Local\\Continuum\\anaconda3\\lib\\site-packages\\ipykernel_launcher.py:31: RuntimeWarning: invalid value encountered in greater\n",
      "C:\\Users\\Tanvi\\AppData\\Local\\Continuum\\anaconda3\\lib\\site-packages\\ipykernel_launcher.py:31: RuntimeWarning: invalid value encountered in greater\n",
      "C:\\Users\\Tanvi\\AppData\\Local\\Continuum\\anaconda3\\lib\\site-packages\\ipykernel_launcher.py:31: RuntimeWarning: invalid value encountered in greater\n",
      "C:\\Users\\Tanvi\\AppData\\Local\\Continuum\\anaconda3\\lib\\site-packages\\ipykernel_launcher.py:31: RuntimeWarning: invalid value encountered in greater\n",
      "C:\\Users\\Tanvi\\AppData\\Local\\Continuum\\anaconda3\\lib\\site-packages\\ipykernel_launcher.py:31: RuntimeWarning: invalid value encountered in greater\n",
      "C:\\Users\\Tanvi\\AppData\\Local\\Continuum\\anaconda3\\lib\\site-packages\\ipykernel_launcher.py:31: RuntimeWarning: invalid value encountered in greater\n",
      "C:\\Users\\Tanvi\\AppData\\Local\\Continuum\\anaconda3\\lib\\site-packages\\ipykernel_launcher.py:31: RuntimeWarning: invalid value encountered in greater\n"
     ]
    },
    {
     "name": "stdout",
     "output_type": "stream",
     "text": [
      "Later7thVisit/\n"
     ]
    },
    {
     "name": "stderr",
     "output_type": "stream",
     "text": [
      "C:\\Users\\Tanvi\\AppData\\Local\\Continuum\\anaconda3\\lib\\site-packages\\ipykernel_launcher.py:31: RuntimeWarning: invalid value encountered in greater\n"
     ]
    },
    {
     "name": "stdout",
     "output_type": "stream",
     "text": [
      "LaterVisit/\n"
     ]
    },
    {
     "name": "stderr",
     "output_type": "stream",
     "text": [
      "C:\\Users\\Tanvi\\AppData\\Local\\Continuum\\anaconda3\\lib\\site-packages\\ipykernel_launcher.py:31: RuntimeWarning: invalid value encountered in greater\n",
      "C:\\Users\\Tanvi\\AppData\\Local\\Continuum\\anaconda3\\lib\\site-packages\\ipykernel_launcher.py:31: RuntimeWarning: invalid value encountered in greater\n"
     ]
    }
   ],
   "source": [
    "visitnum = ['FirstVisit/', 'Later7thVisit/' ,'LaterVisit/', 'LastVisit/']\n",
    "\n",
    "n = []\n",
    "peaks = []\n",
    "freq = []\n",
    "v = []\n",
    "for visit in visitnum[:-1]:\n",
    "    path = os.path.join('../dataFolders/PaperPipelineOutput/RadiusAndAngle_v2/', visit)\n",
    "    Allpath = glob.glob(path + 'c*.csv')\n",
    "    \n",
    "    guidepath = os.path.join(\"../dataFolders/PaperPipelineOutput/FilteredTracks_v2/\", visit)\n",
    "    guide = pd.read_csv(guidepath + \"AllVideoNames.csv\")\n",
    "    # print(guide.head())\n",
    "    filesToRead = guide[guide.AutomatatedTracking != \"TRUE\"]\n",
    "    \n",
    "    outpathfig = os.path.join('../dataFolders/PaperPipelineOutput/Figures/v2/Dynamics-Rythmicity/',visit)\n",
    "    \n",
    "    print(visit)\n",
    "    \n",
    "\n",
    "    for path in Allpath:\n",
    "        name = os.path.basename(path)[:-19]\n",
    "    #     name =  'c-1_m19'\n",
    "    #     path = [p for p in Allpath if name in p][0]\n",
    "        if np.any(filesToRead.names.str.contains(name)):\n",
    "            continue\n",
    "    #     path = [data for data in Allpath if name in data]\n",
    "        dataExamples = pd.read_csv(path)\n",
    "\n",
    "        r = dataExamples.radial_distance_normalized.values\n",
    "        r[r > 2.5] = np.nan\n",
    "\n",
    "        # get the number of peaks\n",
    "        ind, _ = signal.find_peaks(r, prominence=(0.5, ) )\n",
    "        plt.plot(r)\n",
    "        plt.plot(ind, r[ind], 'o')\n",
    "        plt.savefig(outpathfig + name + '_peaks.pdf')\n",
    "        plt.close()\n",
    "\n",
    "\n",
    "        # testing the Welch method\n",
    "        s = np.split(r, np.where(np.isnan(r))[0]+1)\n",
    "        nanFreeSeg = max(s, key = len)\n",
    "        f, Pxx = signal.welch(x= nanFreeSeg, \n",
    "                              fs=100.0, \n",
    "                              window='hanning',\n",
    "                              nperseg = round(len(r)/5),\n",
    "                              return_onesided=True, scaling='density')\n",
    "        plt.plot(f, Pxx)\n",
    "        plt.savefig(outpathfig + name + '_welchFFT.pdf')\n",
    "        plt.close()\n",
    "\n",
    "        max_f = f[np.argmax(Pxx)]\n",
    "\n",
    "    #     print('max freq for %s is: %.2f Hz' % (name, f[np.argmax(Pxx)]))\n",
    "\n",
    "        n.append(name)\n",
    "        peaks.append(len(ind))\n",
    "        freq.append(max_f)\n",
    "        v.append(visit)"
   ]
  },
  {
   "cell_type": "code",
   "execution_count": 19,
   "metadata": {},
   "outputs": [],
   "source": [
    "# save this data as a csv\n",
    "datapath = r\"../dataFolders/PaperPipelineOutput/Figures/v2/Paper/\"\n",
    "SweepDynamics = pd.DataFrame([n, peaks, freq, v]).T\n",
    "SweepDynamics.columns = ['names', 'numPeaks', 'freq', 'visitNum']\n",
    "SweepDynamics.to_csv(datapath + 'SweepDynamics.csv')"
   ]
  },
  {
   "cell_type": "code",
   "execution_count": 20,
   "metadata": {},
   "outputs": [],
   "source": [
    "# plot the results\n",
    "SweepDynamics[['flower', 'mothname']] = SweepDynamics.names.str.split(pat = '_', n = 2, expand = True)\n",
    "SweepDynamics[\"numPeaks\"] = pd.to_numeric(SweepDynamics[\"numPeaks\"])\n",
    "SweepDynamics[\"freq\"] = pd.to_numeric(SweepDynamics[\"freq\"])\n",
    "SweepDynamics.head()\n",
    "SweepDynamics.to_csv(datapath + 'SweepDynamics.csv')"
   ]
  },
  {
   "cell_type": "code",
   "execution_count": 21,
   "metadata": {},
   "outputs": [
    {
     "data": {
      "text/plain": [
       "array(['FirstVisit/', 'Later7thVisit/', 'LaterVisit/'], dtype=object)"
      ]
     },
     "execution_count": 21,
     "metadata": {},
     "output_type": "execute_result"
    }
   ],
   "source": [
    "SweepDynamics.visitNum.unique()"
   ]
  },
  {
   "cell_type": "code",
   "execution_count": 3,
   "metadata": {},
   "outputs": [],
   "source": [
    "# read data saved previously\n",
    "datapath = r\"../dataFolders/PaperPipelineOutput/Figures/v2/Paper/\"\n",
    "SweepDynamics = pd.read_csv(datapath + 'SweepDynamics.csv')"
   ]
  },
  {
   "cell_type": "code",
   "execution_count": 4,
   "metadata": {},
   "outputs": [
    {
     "data": {
      "text/html": [
       "<div>\n",
       "<style scoped>\n",
       "    .dataframe tbody tr th:only-of-type {\n",
       "        vertical-align: middle;\n",
       "    }\n",
       "\n",
       "    .dataframe tbody tr th {\n",
       "        vertical-align: top;\n",
       "    }\n",
       "\n",
       "    .dataframe thead th {\n",
       "        text-align: right;\n",
       "    }\n",
       "</style>\n",
       "<table border=\"1\" class=\"dataframe\">\n",
       "  <thead>\n",
       "    <tr style=\"text-align: right;\">\n",
       "      <th></th>\n",
       "      <th>Unnamed: 0</th>\n",
       "      <th>names</th>\n",
       "      <th>numPeaks</th>\n",
       "      <th>freq</th>\n",
       "      <th>visitNum</th>\n",
       "      <th>flower</th>\n",
       "      <th>mothname</th>\n",
       "    </tr>\n",
       "  </thead>\n",
       "  <tbody>\n",
       "    <tr>\n",
       "      <td>0</td>\n",
       "      <td>0</td>\n",
       "      <td>c-10_m10</td>\n",
       "      <td>2</td>\n",
       "      <td>1.923077</td>\n",
       "      <td>FirstVisit/</td>\n",
       "      <td>c-10</td>\n",
       "      <td>m10</td>\n",
       "    </tr>\n",
       "    <tr>\n",
       "      <td>1</td>\n",
       "      <td>1</td>\n",
       "      <td>c-10_m11</td>\n",
       "      <td>14</td>\n",
       "      <td>1.438849</td>\n",
       "      <td>FirstVisit/</td>\n",
       "      <td>c-10</td>\n",
       "      <td>m11</td>\n",
       "    </tr>\n",
       "    <tr>\n",
       "      <td>2</td>\n",
       "      <td>2</td>\n",
       "      <td>c-10_m16</td>\n",
       "      <td>1</td>\n",
       "      <td>2.857143</td>\n",
       "      <td>FirstVisit/</td>\n",
       "      <td>c-10</td>\n",
       "      <td>m16</td>\n",
       "    </tr>\n",
       "    <tr>\n",
       "      <td>3</td>\n",
       "      <td>3</td>\n",
       "      <td>c-10_m17</td>\n",
       "      <td>3</td>\n",
       "      <td>1.000000</td>\n",
       "      <td>FirstVisit/</td>\n",
       "      <td>c-10</td>\n",
       "      <td>m17</td>\n",
       "    </tr>\n",
       "    <tr>\n",
       "      <td>4</td>\n",
       "      <td>4</td>\n",
       "      <td>c-10_m19</td>\n",
       "      <td>5</td>\n",
       "      <td>0.549451</td>\n",
       "      <td>FirstVisit/</td>\n",
       "      <td>c-10</td>\n",
       "      <td>m19</td>\n",
       "    </tr>\n",
       "  </tbody>\n",
       "</table>\n",
       "</div>"
      ],
      "text/plain": [
       "   Unnamed: 0     names  numPeaks      freq     visitNum flower mothname\n",
       "0           0  c-10_m10         2  1.923077  FirstVisit/   c-10      m10\n",
       "1           1  c-10_m11        14  1.438849  FirstVisit/   c-10      m11\n",
       "2           2  c-10_m16         1  2.857143  FirstVisit/   c-10      m16\n",
       "3           3  c-10_m17         3  1.000000  FirstVisit/   c-10      m17\n",
       "4           4  c-10_m19         5  0.549451  FirstVisit/   c-10      m19"
      ]
     },
     "execution_count": 4,
     "metadata": {},
     "output_type": "execute_result"
    }
   ],
   "source": [
    "SweepDynamics.head()"
   ]
  },
  {
   "cell_type": "code",
   "execution_count": 5,
   "metadata": {},
   "outputs": [],
   "source": [
    "first = SweepDynamics[SweepDynamics.visitNum == 'FirstVisit/']\n",
    "seven = SweepDynamics[SweepDynamics.visitNum == 'Later7thVisit/']\n",
    "twenty = SweepDynamics[SweepDynamics.visitNum == 'LaterVisit/']"
   ]
  },
  {
   "cell_type": "code",
   "execution_count": 6,
   "metadata": {},
   "outputs": [],
   "source": [
    "import seaborn as sns"
   ]
  },
  {
   "cell_type": "code",
   "execution_count": 24,
   "metadata": {},
   "outputs": [],
   "source": [
    "# define fig parameters and colors\n",
    "w = 3.4\n",
    "h = w*3/4\n",
    "\n",
    "pal = {'FirstVisit/': '#ff9966' , 'Later7thVisit/': '#acc568' , 'LaterVisit/': '#7bc368'}\n",
    "kwargs = {'palette': pal \n",
    "          ,'hue_order': ['FirstVisit/', 'Later7thVisit/', 'LaterVisit/']}\n",
    "stripplot_kwargs = dict({'linewidth': 0.6, 'size': 6, 'alpha': 1},\n",
    "                        **kwargs)\n",
    "pointplot_kwargs = dict({'linewidth': 1, 'markers': '_', 'linestyles': ''},\n",
    "                        **kwargs)"
   ]
  },
  {
   "cell_type": "code",
   "execution_count": 25,
   "metadata": {},
   "outputs": [
    {
     "data": {
      "image/png": "[encoded data removed]",
      "text/plain": [
       "<Figure size 244.8x183.6 with 1 Axes>"
      ]
     },
     "metadata": {
      "needs_background": "light"
     },
     "output_type": "display_data"
    }
   ],
   "source": [
    "plt.figure(figsize=(w,h))\n",
    "f = sns.stripplot(x = 'flower', y = 'numPeaks',\n",
    "                  data = SweepDynamics,\n",
    "                  hue = 'visitNum',\n",
    "                  jitter=0.25,\n",
    "                  dodge=True,\n",
    "                  order = [\"c-1\" ,\"c-2\", \"c-3\", \"c-10\"],\n",
    "                  **stripplot_kwargs)\n",
    "sns.pointplot(x=\"flower\", y=\"numPeaks\", \n",
    "              estimator = np.median, \n",
    "              data=SweepDynamics,\n",
    "              hue = 'visitNum',\n",
    "              order = [\"c-1\" ,\"c-2\", \"c-3\", \"c-10\"],\n",
    "              **pointplot_kwargs)\n",
    "\n",
    "plt.setp(f.lines,linewidth=1) \n",
    "ax = f.axes\n",
    "\n",
    "plt.savefig(r\"../dataFolders/PaperPipelineOutput/Figures/v2/Paper/\" + 'NumSweeps-v1.pdf')"
   ]
  },
  {
   "cell_type": "code",
   "execution_count": 54,
   "metadata": {},
   "outputs": [
    {
     "name": "stdout",
     "output_type": "stream",
     "text": [
      "flower\n",
      "c-1     1.0\n",
      "c-10    4.5\n",
      "c-2     2.0\n",
      "c-3     5.0\n",
      "Name: numPeaks, dtype: float64\n",
      "flower\n",
      "c-1     0.0\n",
      "c-10    4.0\n",
      "c-2     1.0\n",
      "c-3     1.0\n",
      "Name: numPeaks, dtype: float64\n",
      "flower\n",
      "c-1     0.0\n",
      "c-10    2.0\n",
      "c-2     1.0\n",
      "c-3     1.0\n",
      "Name: numPeaks, dtype: float64\n"
     ]
    }
   ],
   "source": [
    "for data in [first, seven, twenty]:\n",
    "    m = data.groupby('flower')['numPeaks'].apply(np.median)\n",
    "    print(m)"
   ]
  },
  {
   "cell_type": "code",
   "execution_count": 11,
   "metadata": {},
   "outputs": [
    {
     "name": "stdout",
     "output_type": "stream",
     "text": [
      "c-1 has 31.15 stats and 0.000000172071952 p value\n",
      "c-1 is not normally distributed\n",
      "c-10 has 1.22 stats and 0.542521393422492 p value\n",
      "c-10 is normally distributed\n",
      "c-2 has 6.73 stats and 0.034583054539235 p value\n",
      "c-2 is not normally distributed\n",
      "c-3 has 0.84 stats and 0.657089618142994 p value\n",
      "c-3 is normally distributed\n"
     ]
    },
    {
     "name": "stderr",
     "output_type": "stream",
     "text": [
      "C:\\Users\\Tanvi\\AppData\\Local\\Continuum\\anaconda3\\lib\\site-packages\\scipy\\stats\\stats.py:1450: UserWarning: kurtosistest only valid for n>=20 ... continuing anyway, n=11\n",
      "  \"anyway, n=%i\" % int(n))\n",
      "C:\\Users\\Tanvi\\AppData\\Local\\Continuum\\anaconda3\\lib\\site-packages\\scipy\\stats\\stats.py:1450: UserWarning: kurtosistest only valid for n>=20 ... continuing anyway, n=13\n",
      "  \"anyway, n=%i\" % int(n))\n"
     ]
    }
   ],
   "source": [
    "for name, grp in SweepDynamics.groupby('flower'):\n",
    "    f,p = stats.normaltest(grp['numPeaks'])\n",
    "    print('%s has %.2f stats and %.15f p value' %(name,f,p))\n",
    "    if p < 0.5:\n",
    "        print('%s is not normally distributed' %name)\n",
    "    else:\n",
    "        print('%s is normally distributed' %name)"
   ]
  },
  {
   "cell_type": "code",
   "execution_count": 34,
   "metadata": {},
   "outputs": [
    {
     "name": "stdout",
     "output_type": "stream",
     "text": [
      "KruskalResult(statistic=5.37215653500768, pvalue=0.14648819490727744)\n",
      "KruskalResult(statistic=21.273990774170947, pvalue=9.234512330674461e-05)\n",
      "KruskalResult(statistic=5.113671264057764, pvalue=0.1636603129133936)\n"
     ]
    }
   ],
   "source": [
    "c1_first = SweepDynamics.loc[(SweepDynamics.flower == 'c-1') & (SweepDynamics.visitNum == 'FirstVisit/'),\n",
    "                             'numPeaks'].values\n",
    "c2_first = SweepDynamics.loc[(SweepDynamics.flower == 'c-2') & (SweepDynamics.visitNum == 'FirstVisit/'),\n",
    "                             'numPeaks'].values\n",
    "c3_first = SweepDynamics.loc[(SweepDynamics.flower == 'c-3') & (SweepDynamics.visitNum == 'FirstVisit/'),\n",
    "                             'numPeaks'].values\n",
    "c10_first = SweepDynamics.loc[(SweepDynamics.flower == 'c-10') & (SweepDynamics.visitNum == 'FirstVisit/'),\n",
    "                             'numPeaks'].values\n",
    "\n",
    "c1_seven = SweepDynamics.loc[(SweepDynamics.flower == 'c-1') & (SweepDynamics.visitNum == 'Later7thVisit/'),\n",
    "                             'numPeaks'].values\n",
    "c2_seven = SweepDynamics.loc[(SweepDynamics.flower == 'c-2') & (SweepDynamics.visitNum == 'Later7thVisit/'),\n",
    "                             'numPeaks'].values\n",
    "c3_seven = SweepDynamics.loc[(SweepDynamics.flower == 'c-3') & (SweepDynamics.visitNum == 'Later7thVisit/'),\n",
    "                             'numPeaks'].values\n",
    "c10_seven = SweepDynamics.loc[(SweepDynamics.flower == 'c-10') & (SweepDynamics.visitNum == 'Later7thVisit/'),\n",
    "                             'numPeaks'].values\n",
    "\n",
    "c1_20 = SweepDynamics.loc[(SweepDynamics.flower == 'c-1') & (SweepDynamics.visitNum == 'LaterVisit/'),\n",
    "                             'numPeaks'].values\n",
    "c2_20 = SweepDynamics.loc[(SweepDynamics.flower == 'c-2') & (SweepDynamics.visitNum == 'LaterVisit/'),\n",
    "                             'numPeaks'].values\n",
    "c3_20 = SweepDynamics.loc[(SweepDynamics.flower == 'c-3') & (SweepDynamics.visitNum == 'LaterVisit/'),\n",
    "                             'numPeaks'].values\n",
    "c10_20 = SweepDynamics.loc[(SweepDynamics.flower == 'c-10') & (SweepDynamics.visitNum == 'LaterVisit/'),\n",
    "                             'numPeaks'].values\n",
    "\n",
    "print(stats.kruskal(list(c1_first), list(c2_first), list(c3_first), list(c10_first)))\n",
    "print(stats.kruskal(list(c1_seven), list(c2_seven), list(c3_seven), list(c10_seven)))\n",
    "print(stats.kruskal(list(c1_20), list(c2_20), list(c3_20), list(c10_20)))"
   ]
  },
  {
   "cell_type": "code",
   "execution_count": 36,
   "metadata": {},
   "outputs": [],
   "source": [
    "subset = SweepDynamics[(SweepDynamics.visitNum != 'LaterVisit/') & (SweepDynamics.visitNum != 'FirstVisit/')]\n",
    "# subset['Combined'] = subset['flower'].str.cat(subset['visitNum'],sep=\"_\")"
   ]
  },
  {
   "cell_type": "code",
   "execution_count": 37,
   "metadata": {},
   "outputs": [
    {
     "name": "stdout",
     "output_type": "stream",
     "text": [
      "Multiple Comparison of Means - Tukey HSD, FWER=0.05 \n",
      "====================================================\n",
      "group1 group2 meandiff p-adj   lower   upper  reject\n",
      "----------------------------------------------------\n",
      "   c-1   c-10   4.1399  0.001  2.1852  6.0945   True\n",
      "   c-1    c-2   1.2937 0.3036  -0.661  3.2484  False\n",
      "   c-1    c-3   1.2937 0.3036  -0.661  3.2484  False\n",
      "  c-10    c-2  -2.8462 0.0011 -4.7176 -0.9747   True\n",
      "  c-10    c-3  -2.8462 0.0011 -4.7176 -0.9747   True\n",
      "   c-2    c-3      0.0    0.9 -1.8714  1.8714  False\n",
      "----------------------------------------------------\n",
      "['c-1' 'c-10' 'c-2' 'c-3']\n"
     ]
    }
   ],
   "source": [
    "from statsmodels.stats.multicomp import pairwise_tukeyhsd\n",
    "from statsmodels.stats.multicomp import MultComparison\n",
    "\n",
    "Subset = subset.dropna()\n",
    "mc = MultiComparison(subset['numPeaks'], subset['flower'])\n",
    "result = mc.tukeyhsd()\n",
    " \n",
    "print(result)\n",
    "print(mc.groupsunique)"
   ]
  },
  {
   "cell_type": "code",
   "execution_count": 28,
   "metadata": {},
   "outputs": [
    {
     "data": {
      "image/png": "[encoded data removed]",
      "text/plain": [
       "<Figure size 244.8x183.6 with 1 Axes>"
      ]
     },
     "metadata": {
      "needs_background": "light"
     },
     "output_type": "display_data"
    }
   ],
   "source": [
    "w = 3.4\n",
    "h = w*3/4\n",
    "plt.figure(figsize=(w,h))\n",
    "\n",
    "f = sns.stripplot(x = 'flower', y = 'freq',\n",
    "                  data = SweepDynamics,\n",
    "                  hue = 'visitNum',\n",
    "                  jitter=0.25,\n",
    "                  dodge=True,\n",
    "                  order = [\"c-1\" ,\"c-2\", \"c-3\", \"c-10\"],\n",
    "                 **stripplot_kwargs)\n",
    "sns.pointplot(x=\"flower\", y=\"freq\", \n",
    "              estimator = np.median, \n",
    "              data=SweepDynamics,\n",
    "              hue = 'visitNum',\n",
    "             order = [\"c-1\" ,\"c-2\", \"c-3\", \"c-10\"],\n",
    "             **pointplot_kwargs)\n",
    "\n",
    "plt.setp(f.lines,linewidth=1) \n",
    "ax = f.axes\n",
    "\n",
    "plt.savefig(r\"../dataFolders/PaperPipelineOutput/Figures/v2/Paper/\" + 'Freq-v1.pdf')"
   ]
  },
  {
   "cell_type": "code",
   "execution_count": 27,
   "metadata": {},
   "outputs": [
    {
     "data": {
      "text/plain": [
       "flower\n",
       "c-1     1.639344\n",
       "c-10    1.314663\n",
       "c-2     1.737047\n",
       "c-3     1.282051\n",
       "Name: freq, dtype: float64"
      ]
     },
     "execution_count": 27,
     "metadata": {},
     "output_type": "execute_result"
    }
   ],
   "source": [
    "f = SweepDynamics.groupby('flower')['freq'].apply(np.median)\n",
    "f"
   ]
  },
  {
   "cell_type": "code",
   "execution_count": 13,
   "metadata": {},
   "outputs": [
    {
     "name": "stdout",
     "output_type": "stream",
     "text": [
      "c-1 has 5.44 stats and 0.065813023100548 p value\n",
      "c-1 is not normally distributed\n",
      "c-10 has 32.11 stats and 0.000000106376921 p value\n",
      "c-10 is not normally distributed\n",
      "c-2 has 0.37 stats and 0.832903878882945 p value\n",
      "c-2 is normally distributed\n",
      "c-3 has 1.63 stats and 0.442071921589624 p value\n",
      "c-3 is not normally distributed\n"
     ]
    }
   ],
   "source": [
    "for name, grp in SweepDynamics.groupby('flower'):\n",
    "    f,p = stats.normaltest(grp['freq'])\n",
    "    print('%s has %.2f stats and %.15f p value' %(name,f,p))\n",
    "    if p < 0.5:\n",
    "        print('%s is not normally distributed' %name)\n",
    "    else:\n",
    "        print('%s is normally distributed' %name)"
   ]
  },
  {
   "cell_type": "code",
   "execution_count": 14,
   "metadata": {},
   "outputs": [
    {
     "data": {
      "text/plain": [
       "KruskalResult(statistic=7.558426155236775, pvalue=0.05607608616161377)"
      ]
     },
     "execution_count": 14,
     "metadata": {},
     "output_type": "execute_result"
    }
   ],
   "source": [
    "c1 = SweepDynamics.loc[SweepDynamics.flower == 'c-1', 'freq'].values\n",
    "c2 = SweepDynamics.loc[SweepDynamics.flower == 'c-2', 'freq'].values\n",
    "c3 = SweepDynamics.loc[SweepDynamics.flower == 'c-3', 'freq'].values\n",
    "c10 = SweepDynamics.loc[SweepDynamics.flower == 'c-10', 'freq'].values\n",
    "stats.kruskal(list(c1), list(c2), list(c3), list(c10))"
   ]
  },
  {
   "cell_type": "code",
   "execution_count": null,
   "metadata": {},
   "outputs": [],
   "source": []
  }
 ],
 "metadata": {
  "kernelspec": {
   "display_name": "Python 3",
   "language": "python",
   "name": "python3"
  },
  "language_info": {
   "codemirror_mode": {
    "name": "ipython",
    "version": 3
   },
   "file_extension": ".py",
   "mimetype": "text/x-python",
   "name": "python",
   "nbconvert_exporter": "python",
   "pygments_lexer": "ipython3",
   "version": "3.6.5"
  }
 },
 "nbformat": 4,
 "nbformat_minor": 2
}
