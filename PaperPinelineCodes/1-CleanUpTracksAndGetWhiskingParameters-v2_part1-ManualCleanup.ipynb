{
 "cells": [
  {
   "cell_type": "code",
   "execution_count": 1,
   "metadata": {},
   "outputs": [],
   "source": [
    "import numpy as np\n",
    "import pandas as pd\n",
    "import glob\n",
    "import os\n",
    "import matplotlib.pyplot as plt\n",
    "from scipy import signal\n",
    "import sys"
   ]
  },
  {
   "cell_type": "code",
   "execution_count": 2,
   "metadata": {},
   "outputs": [],
   "source": [
    "def GetRMSE(x2, y2, x1, y1):\n",
    "    from scipy.spatial.distance import pdist\n",
    "\n",
    "    er = []\n",
    "    for idx in range(len(x2)):\n",
    "        X = np.asarray([[x1[idx], y1[idx]], \n",
    "                         [x2[idx], y2[idx]]])\n",
    "        temp_er = pdist(X,metric = 'euclidean')\n",
    "        er.append(temp_er[0])\n",
    "    er = np.asarray(er)\n",
    "    return(er)"
   ]
  },
  {
   "cell_type": "code",
   "execution_count": 3,
   "metadata": {},
   "outputs": [],
   "source": [
    "# parameters used to filter data\n",
    "\n",
    "cutoff = 24\n",
    "\n",
    "interpol_order = 3 # order for polynomial interpolation\n",
    "\n",
    "# win_gauss = signal.gaussian(10,3) # gaussian kernal for smoothening interpolated data\n",
    "\n",
    "# parameters for the savitzky-golay filter\n",
    "savgol_win = 11\n",
    "savgol_polyorder = 3\n",
    "\n",
    "# window_length=7, polyorder=2,\n",
    "\n",
    "# ROLLING_WINDOW = [11, 21, 31][0]"
   ]
  },
  {
   "cell_type": "markdown",
   "metadata": {},
   "source": [
    "### remove x y points based on threshold ( of rmse distance from previous frame ) "
   ]
  },
  {
   "cell_type": "code",
   "execution_count": 4,
   "metadata": {},
   "outputs": [],
   "source": [
    "circ_parameters_path = glob.glob('../dataFolders/PaperPipelineOutput/CircleParameters/' + '*.csv')\n",
    "circ_parameters = pd.read_csv(circ_parameters_path[0])"
   ]
  },
  {
   "cell_type": "code",
   "execution_count": 26,
   "metadata": {},
   "outputs": [
    {
     "name": "stdout",
     "output_type": "stream",
     "text": [
      "../dataFolders/PaperPipelineOutput/FilteredTracks_v2/ManualCleanup/Later7thVisit/\n"
     ]
    }
   ],
   "source": [
    "direc = r\"../dataFolders/PaperPipelineOutput/RawTracks/\"\n",
    "visitnum = ['FirstVisit/', 'Later7thVisit/' ,'LaterVisit/', 'LastVisit/']\n",
    "\n",
    "for visit in visitnum[1:2]:\n",
    "    path = os.path.join(direc, visit)\n",
    "    trackslist = glob.glob(path + '*.csv')\n",
    "    \n",
    "    outpath = os.path.join('../dataFolders/PaperPipelineOutput/FilteredTracks_v2/ManualCleanup/', visit )\n",
    "    print(outpath)"
   ]
  },
  {
   "cell_type": "code",
   "execution_count": 27,
   "metadata": {
    "scrolled": true
   },
   "outputs": [
    {
     "name": "stdout",
     "output_type": "stream",
     "text": [
      "working on c-10_m11_visit_6\n",
      "(372, 3)\n"
     ]
    },
    {
     "name": "stderr",
     "output_type": "stream",
     "text": [
      "C:\\Users\\Tanvi\\AppData\\Local\\Continuum\\anaconda3\\lib\\site-packages\\ipykernel_launcher.py:39: RuntimeWarning: invalid value encountered in greater\n",
      "C:\\Users\\Tanvi\\AppData\\Local\\Continuum\\anaconda3\\lib\\site-packages\\ipykernel_launcher.py:40: RuntimeWarning: invalid value encountered in greater\n"
     ]
    },
    {
     "name": "stdout",
     "output_type": "stream",
     "text": [
      "working on c-10_m12_visit_6\n",
      "(1396, 3)\n",
      "working on c-10_m13_visit_6\n",
      "(463, 3)\n",
      "working on c-10_m15_visit_6\n",
      "(1172, 3)\n",
      "working on c-10_m16_cropped_visit_6\n",
      "(1973, 3)\n",
      "working on c-10_m17_cropped_visit_6\n",
      "(5616, 3)\n",
      "working on c-10_m19_cropped_visit_6\n",
      "(926, 3)\n",
      "working on c-10_m20_cropped_visit_6\n",
      "(412, 3)\n",
      "working on c-10_m21_cropped_visit_6\n",
      "(544, 3)\n",
      "working on c-10_m22_cropped_visit_6\n",
      "(509, 3)\n",
      "working on c-10_m23_cropped_visit_6\n",
      "(494, 3)\n",
      "working on c-10_m24_cropped_visit_6\n",
      "(597, 3)\n",
      "working on c-10_m25_visit_6\n",
      "(604, 3)\n",
      "working on c-10_m2_visit_6\n",
      "(412, 3)\n",
      "did not filter for %s c-10_m2\n",
      "working on c-10_m3_visit_6\n",
      "(1735, 3)\n",
      "working on c-10_m6_visit_6\n",
      "(625, 3)\n",
      "working on c-10_m8_visit_6\n",
      "(568, 3)\n",
      "working on c-10_m9_visit_6\n",
      "(371, 3)\n",
      "working on c-1_m10_visit_6\n",
      "(122, 3)\n",
      "working on c-1_m11_visit_6\n",
      "(1928, 3)\n",
      "working on c-1_m13_visit_6\n",
      "(365, 3)\n",
      "working on c-1_m14_visit_6\n",
      "(233, 3)\n",
      "working on c-1_m17_visit_6\n",
      "(411, 3)\n",
      "working on c-1_m18_cropped_visit_6\n",
      "(247, 3)\n",
      "working on c-1_m19_visit_6\n",
      "(196, 3)\n",
      "working on c-1_m1_visit_6\n",
      "(122, 3)\n",
      "did not filter for %s c-1_m1\n",
      "working on c-1_m21_visit_6\n",
      "(182, 3)\n",
      "working on c-1_m23_visit_6\n",
      "(258, 3)\n",
      "working on c-1_m24_cropped_visit_6\n",
      "(501, 3)\n",
      "working on c-1_m3_visit_6\n",
      "(227, 3)\n",
      "working on c-1_m4_visit_6\n",
      "(1325, 3)\n",
      "working on c-1_m6_visit_6\n",
      "(208, 3)\n",
      "working on c-1_m8_visit_6\n",
      "(161, 3)\n",
      "working on c-2_m10_visit_6\n",
      "(213, 3)\n",
      "working on c-2_m11_visit_6\n",
      "(215, 3)\n",
      "working on c-2_m12_visit_6\n",
      "(189, 3)\n",
      "working on c-2_m13_cropped_visit_6\n",
      "(678, 3)\n",
      "working on c-2_m15_visit_6\n",
      "(208, 3)\n",
      "working on c-2_m16_cropped_visit_6\n",
      "(223, 3)\n",
      "working on c-2_m1_visit_6\n",
      "(213, 3)\n",
      "working on c-2_m20_visit_6\n",
      "(950, 3)\n",
      "working on c-2_m21_cropped_visit_6\n",
      "(151, 3)\n",
      "working on c-2_m22_visit_6\n",
      "(998, 3)\n",
      "working on c-2_m23_visit_6\n",
      "(26, 3)\n",
      "working on c-2_m2_visit_6\n",
      "(950, 3)\n",
      "working on c-2_m3_visit_6\n",
      "(315, 3)\n",
      "working on c-2_m4_visit_6\n",
      "(546, 3)\n",
      "working on c-2_m6_visit_6\n",
      "(445, 3)\n",
      "working on c-2_m7_visit_6\n",
      "(264, 3)\n",
      "working on c-2_m9_visit_6\n",
      "(1221, 3)\n",
      "working on c-3_m10_visit_6\n",
      "(592, 3)\n",
      "working on c-3_m11_visit_6\n",
      "(385, 3)\n",
      "working on c-3_m13_visit_6\n",
      "(192, 3)\n",
      "working on c-3_m16_visit_6\n",
      "(1059, 3)\n",
      "working on c-3_m17_visit_6\n",
      "(1020, 3)\n",
      "working on c-3_m18_visit_6\n",
      "(3294, 3)\n",
      "working on c-3_m1_visit_6\n",
      "(592, 3)\n",
      "working on c-3_m21_cropped_visit_6\n",
      "(581, 3)\n",
      "working on c-3_m22_visit_6\n",
      "(821, 3)\n",
      "working on c-3_m23_cropped_visit_6\n",
      "(178, 3)\n",
      "working on c-3_m24_visit_6\n",
      "(878, 3)\n",
      "working on c-3_m25_visit_6\n",
      "(1059, 3)\n",
      "working on c-3_m3_visit_6\n",
      "(139, 3)\n",
      "working on c-3_m4_visit_6\n",
      "(2677, 3)\n",
      "working on c-3_m5_visit_6\n",
      "(1123, 3)\n",
      "working on c-3_m6_visit_6\n",
      "(264, 3)\n",
      "working on c-3_m7_visit_6\n",
      "(205, 3)\n",
      "working on c-3_m8_visit_6\n",
      "(347, 3)\n",
      "working on c-3_m9_visit_6\n",
      "(1117, 3)\n"
     ]
    }
   ],
   "source": [
    "for data in trackslist:\n",
    "#     data = trackslist[0]\n",
    "    name = os.path.basename(data)[:-4]\n",
    "    print('working on ' + name)\n",
    "        \n",
    "    file = pd.read_csv(data)\n",
    "    x = file.x.values\n",
    "    y = file.y.values\n",
    "    p = file.likelihood\n",
    "\n",
    "    x_notinView = x <=5\n",
    "    y_notinView = y <=5\n",
    "\n",
    "    x[x_notinView & y_notinView]=np.nan\n",
    "    y[x_notinView & y_notinView]=np.nan\n",
    "\n",
    "\n",
    "    # add filter for DLC likelihood\n",
    "    med = file['likelihood'].rolling(11).median()\n",
    "    x[med < 0.6] = np.nan\n",
    "    y[med < 0.6] = np.nan\n",
    "\n",
    "    if x.size == 0 or y.size == 0:\n",
    "        print(name + 'has emtpy x y tracks')\n",
    "        continue\n",
    "    \n",
    "    name = [n for n in circ_parameters.name if n + '_' in data][0]\n",
    "\n",
    "    circ_x = circ_parameters.loc[circ_parameters.name == name, 'circ_x'].values\n",
    "    circ_y = circ_parameters.loc[circ_parameters.name == name, 'circ_y'].values\n",
    "    circ_radii = circ_parameters.loc[circ_parameters.name == name, 'circ_radii'].values\n",
    "    \n",
    "    # get rmse values for subsequent frames\n",
    "    rmse = GetRMSE(x[1:], y[1:], x[:-1], y[:-1])\n",
    "\n",
    "    filtered_x = np.copy(x[1:])\n",
    "    filtered_y = np.copy(y[1:])\n",
    "\n",
    "    filtered_x[(rmse > cutoff) | (rmse == np.nan)] = np.nan\n",
    "    filtered_y[(rmse > cutoff) | (rmse == np.nan)] = np.nan\n",
    "\n",
    "    filtered_r = np.linalg.norm([filtered_x - circ_x, filtered_y - circ_y], axis = 0)\n",
    "    filtered_r = filtered_r/circ_radii\n",
    "    filt_trajectory = pd.DataFrame([filtered_x, filtered_y, filtered_r]).T\n",
    "    filt_trajectory.columns = ['x', 'y', 'r']\n",
    "    \n",
    "    # Apply filters\n",
    "\n",
    "    trajectory = filt_trajectory.copy()\n",
    "    print(trajectory.shape)\n",
    "    \n",
    "    # for problem cases - can't do polynomial interpolation, send the raw tracks\n",
    "    \n",
    "    # first visit\n",
    "#     if name in ['c-1_m2', 'c-2_m2']:\n",
    "#         print('did not filter for %s', name)\n",
    "    \n",
    "#     for 7th visit\n",
    "    if name in ['c-10_m2', 'c-1_m1']:\n",
    "        print('did not filter for %s', name)\n",
    "        \n",
    "    # for LaterVisit/\n",
    "#     if name in ['c-1_m1', 'c-2_m2']:\n",
    "#         print('did not filter for %s', name)\n",
    "        \n",
    "# #     for LastVisit/\n",
    "#     if name in ['c-10_m1', 'c-1_m2', 'c-2_m2', 'c-3_m21_cropped']:\n",
    "#         print('did not filter for %s', name)\n",
    "        \n",
    "    else:\n",
    "        \n",
    "        for colname in trajectory.columns:\n",
    "    #         print(colname)\n",
    "            trajectory.loc[:, colname] = signal.medfilt(trajectory.loc[:, colname], kernel_size=11)\n",
    "            trajectory.loc[:, colname] = trajectory.loc[:, colname].interpolate(method = 'polynomial', order = 3, limit = 40)\n",
    "\n",
    "            nans = trajectory.loc[:,colname].isnull()\n",
    "            trajectory.loc[:,colname] = trajectory.loc[:,colname].interpolate(method = 'pad')\n",
    "            trajectory.loc[:, colname] = signal.savgol_filter(trajectory.loc[:, colname],\n",
    "                                                              window_length=savgol_win,\n",
    "                                                              polyorder=savgol_polyorder,\n",
    "                                                              axis=0)\n",
    "            trajectory.loc[nans, colname]= np.nan\n",
    "        \n",
    "    trajectory_r = np.linalg.norm([trajectory.loc[:,'x'].values - circ_x, trajectory.loc[:,'y'].values - circ_y], axis = 0)\n",
    "    trajectory['r'] = trajectory_r/circ_radii\n",
    "    \n",
    "# #     fig = plt.figure()\n",
    "#     axes = pd.concat([filt_trajectory, trajectory], axis = 1).plot(subplots = True, figsize = (15,8))\n",
    "#     fig = plt.gcf()\n",
    "# #     .get_figure()\n",
    "#     fig.savefig(outpathfig + name + '_' + visit[:-1] + '.pdf')\n",
    "#     plt.close() \n",
    "        \n",
    "    trajectory.to_csv(outpath + name + '_' + visit[:-1] + '.csv')"
   ]
  },
  {
   "cell_type": "markdown",
   "metadata": {},
   "source": [
    "## Get frame start and stop for all moths"
   ]
  },
  {
   "cell_type": "code",
   "execution_count": 28,
   "metadata": {},
   "outputs": [],
   "source": [
    "# use step 5 in moth learning to read frame IN and OUT for moths tracks\n",
    "\n",
    "direc = r\"../../MothLearning/dataFolders/Output/Step5_FilesWith_TrueTrialAnd_ProboscisDetect_v2/\"\n",
    "mothlist = glob.glob(direc + '*.csv')"
   ]
  },
  {
   "cell_type": "code",
   "execution_count": 29,
   "metadata": {},
   "outputs": [],
   "source": [
    "pathlist = glob.glob(outpath + \"c*.csv\")"
   ]
  },
  {
   "cell_type": "code",
   "execution_count": 30,
   "metadata": {},
   "outputs": [
    {
     "ename": "IndexError",
     "evalue": "single positional indexer is out-of-bounds",
     "output_type": "error",
     "traceback": [
      "\u001b[1;31m---------------------------------------------------------------------------\u001b[0m",
      "\u001b[1;31mIndexError\u001b[0m                                Traceback (most recent call last)",
      "\u001b[1;32m<ipython-input-30-afb029cd3643>\u001b[0m in \u001b[0;36m<module>\u001b[1;34m\u001b[0m\n\u001b[0;32m     13\u001b[0m         \u001b[0mframeInfo\u001b[0m \u001b[1;33m=\u001b[0m \u001b[0mpd\u001b[0m\u001b[1;33m.\u001b[0m\u001b[0mread_csv\u001b[0m\u001b[1;33m(\u001b[0m\u001b[0mm\u001b[0m\u001b[1;33m)\u001b[0m\u001b[1;33m\u001b[0m\u001b[0m\n\u001b[0;32m     14\u001b[0m \u001b[1;33m\u001b[0m\u001b[0m\n\u001b[1;32m---> 15\u001b[1;33m         \u001b[0mstart\u001b[0m \u001b[1;33m=\u001b[0m \u001b[0mframeInfo\u001b[0m\u001b[1;33m.\u001b[0m\u001b[0mMothIN\u001b[0m\u001b[1;33m.\u001b[0m\u001b[0miloc\u001b[0m\u001b[1;33m[\u001b[0m\u001b[0mvnum\u001b[0m\u001b[1;33m[\u001b[0m\u001b[1;36m1\u001b[0m\u001b[1;33m]\u001b[0m\u001b[1;33m]\u001b[0m \u001b[1;33m+\u001b[0m\u001b[1;36m1\u001b[0m\u001b[1;33m\u001b[0m\u001b[0m\n\u001b[0m\u001b[0;32m     16\u001b[0m         \u001b[0mstop\u001b[0m \u001b[1;33m=\u001b[0m \u001b[0mframeInfo\u001b[0m\u001b[1;33m.\u001b[0m\u001b[0mMothOut\u001b[0m\u001b[1;33m.\u001b[0m\u001b[0miloc\u001b[0m\u001b[1;33m[\u001b[0m\u001b[0mvnum\u001b[0m\u001b[1;33m[\u001b[0m\u001b[1;36m1\u001b[0m\u001b[1;33m]\u001b[0m\u001b[1;33m]\u001b[0m\u001b[1;33m\u001b[0m\u001b[0m\n\u001b[0;32m     17\u001b[0m \u001b[1;33m\u001b[0m\u001b[0m\n",
      "\u001b[1;32m~\\AppData\\Local\\Continuum\\anaconda3\\lib\\site-packages\\pandas\\core\\indexing.py\u001b[0m in \u001b[0;36m__getitem__\u001b[1;34m(self, key)\u001b[0m\n\u001b[0;32m   1422\u001b[0m \u001b[1;33m\u001b[0m\u001b[0m\n\u001b[0;32m   1423\u001b[0m             \u001b[0mmaybe_callable\u001b[0m \u001b[1;33m=\u001b[0m \u001b[0mcom\u001b[0m\u001b[1;33m.\u001b[0m\u001b[0mapply_if_callable\u001b[0m\u001b[1;33m(\u001b[0m\u001b[0mkey\u001b[0m\u001b[1;33m,\u001b[0m \u001b[0mself\u001b[0m\u001b[1;33m.\u001b[0m\u001b[0mobj\u001b[0m\u001b[1;33m)\u001b[0m\u001b[1;33m\u001b[0m\u001b[0m\n\u001b[1;32m-> 1424\u001b[1;33m             \u001b[1;32mreturn\u001b[0m \u001b[0mself\u001b[0m\u001b[1;33m.\u001b[0m\u001b[0m_getitem_axis\u001b[0m\u001b[1;33m(\u001b[0m\u001b[0mmaybe_callable\u001b[0m\u001b[1;33m,\u001b[0m \u001b[0maxis\u001b[0m\u001b[1;33m=\u001b[0m\u001b[0maxis\u001b[0m\u001b[1;33m)\u001b[0m\u001b[1;33m\u001b[0m\u001b[0m\n\u001b[0m\u001b[0;32m   1425\u001b[0m \u001b[1;33m\u001b[0m\u001b[0m\n\u001b[0;32m   1426\u001b[0m     \u001b[1;32mdef\u001b[0m \u001b[0m_is_scalar_access\u001b[0m\u001b[1;33m(\u001b[0m\u001b[0mself\u001b[0m\u001b[1;33m,\u001b[0m \u001b[0mkey\u001b[0m\u001b[1;33m:\u001b[0m \u001b[0mTuple\u001b[0m\u001b[1;33m)\u001b[0m\u001b[1;33m:\u001b[0m\u001b[1;33m\u001b[0m\u001b[0m\n",
      "\u001b[1;32m~\\AppData\\Local\\Continuum\\anaconda3\\lib\\site-packages\\pandas\\core\\indexing.py\u001b[0m in \u001b[0;36m_getitem_axis\u001b[1;34m(self, key, axis)\u001b[0m\n\u001b[0;32m   2155\u001b[0m \u001b[1;33m\u001b[0m\u001b[0m\n\u001b[0;32m   2156\u001b[0m             \u001b[1;31m# validate the location\u001b[0m\u001b[1;33m\u001b[0m\u001b[1;33m\u001b[0m\u001b[0m\n\u001b[1;32m-> 2157\u001b[1;33m             \u001b[0mself\u001b[0m\u001b[1;33m.\u001b[0m\u001b[0m_validate_integer\u001b[0m\u001b[1;33m(\u001b[0m\u001b[0mkey\u001b[0m\u001b[1;33m,\u001b[0m \u001b[0maxis\u001b[0m\u001b[1;33m)\u001b[0m\u001b[1;33m\u001b[0m\u001b[0m\n\u001b[0m\u001b[0;32m   2158\u001b[0m \u001b[1;33m\u001b[0m\u001b[0m\n\u001b[0;32m   2159\u001b[0m             \u001b[1;32mreturn\u001b[0m \u001b[0mself\u001b[0m\u001b[1;33m.\u001b[0m\u001b[0m_get_loc\u001b[0m\u001b[1;33m(\u001b[0m\u001b[0mkey\u001b[0m\u001b[1;33m,\u001b[0m \u001b[0maxis\u001b[0m\u001b[1;33m=\u001b[0m\u001b[0maxis\u001b[0m\u001b[1;33m)\u001b[0m\u001b[1;33m\u001b[0m\u001b[0m\n",
      "\u001b[1;32m~\\AppData\\Local\\Continuum\\anaconda3\\lib\\site-packages\\pandas\\core\\indexing.py\u001b[0m in \u001b[0;36m_validate_integer\u001b[1;34m(self, key, axis)\u001b[0m\n\u001b[0;32m   2086\u001b[0m         \u001b[0mlen_axis\u001b[0m \u001b[1;33m=\u001b[0m \u001b[0mlen\u001b[0m\u001b[1;33m(\u001b[0m\u001b[0mself\u001b[0m\u001b[1;33m.\u001b[0m\u001b[0mobj\u001b[0m\u001b[1;33m.\u001b[0m\u001b[0m_get_axis\u001b[0m\u001b[1;33m(\u001b[0m\u001b[0maxis\u001b[0m\u001b[1;33m)\u001b[0m\u001b[1;33m)\u001b[0m\u001b[1;33m\u001b[0m\u001b[0m\n\u001b[0;32m   2087\u001b[0m         \u001b[1;32mif\u001b[0m \u001b[0mkey\u001b[0m \u001b[1;33m>=\u001b[0m \u001b[0mlen_axis\u001b[0m \u001b[1;32mor\u001b[0m \u001b[0mkey\u001b[0m \u001b[1;33m<\u001b[0m \u001b[1;33m-\u001b[0m\u001b[0mlen_axis\u001b[0m\u001b[1;33m:\u001b[0m\u001b[1;33m\u001b[0m\u001b[0m\n\u001b[1;32m-> 2088\u001b[1;33m             \u001b[1;32mraise\u001b[0m \u001b[0mIndexError\u001b[0m\u001b[1;33m(\u001b[0m\u001b[1;34m\"single positional indexer is out-of-bounds\"\u001b[0m\u001b[1;33m)\u001b[0m\u001b[1;33m\u001b[0m\u001b[0m\n\u001b[0m\u001b[0;32m   2089\u001b[0m \u001b[1;33m\u001b[0m\u001b[0m\n\u001b[0;32m   2090\u001b[0m     \u001b[1;32mdef\u001b[0m \u001b[0m_getitem_tuple\u001b[0m\u001b[1;33m(\u001b[0m\u001b[0mself\u001b[0m\u001b[1;33m,\u001b[0m \u001b[0mtup\u001b[0m\u001b[1;33m)\u001b[0m\u001b[1;33m:\u001b[0m\u001b[1;33m\u001b[0m\u001b[0m\n",
      "\u001b[1;31mIndexError\u001b[0m: single positional indexer is out-of-bounds"
     ]
    }
   ],
   "source": [
    "vnum = [0, 6, 19, -1]\n",
    "\n",
    "mothID = []\n",
    "startF = []\n",
    "stopF= []\n",
    "\n",
    "for file in pathlist:\n",
    "\n",
    "        name = os.path.basename(file)\n",
    "        name = name.split('_')[0] + \"_\" + name.split('_')[1]\n",
    "        #     # insert our annotations at the right location in the dltdv files\n",
    "        m = [f for f in mothlist if (name + '_') in f][0]\n",
    "        frameInfo = pd.read_csv(m)\n",
    "\n",
    "        start = frameInfo.MothIN.iloc[vnum[1]] +1\n",
    "        stop = frameInfo.MothOut.iloc[vnum[1]]\n",
    "\n",
    "        mothID.append(name)\n",
    "        startF.append(start)\n",
    "        stopF.append(stop)\n",
    "\n",
    "bla = pd.DataFrame([mothID, startF, stopF]).T\n",
    "bla.columns = ['mothID', 'startFrame', 'StopFrame']\n",
    "bla.to_csv(outpath + 'frameNumberReference.csv', index = False)"
   ]
  },
  {
   "cell_type": "code",
   "execution_count": 22,
   "metadata": {},
   "outputs": [
    {
     "data": {
      "text/plain": [
       "35709"
      ]
     },
     "execution_count": 22,
     "metadata": {},
     "output_type": "execute_result"
    }
   ],
   "source": [
    "frameInfo.MothIN.iloc[0] +1"
   ]
  },
  {
   "cell_type": "code",
   "execution_count": 31,
   "metadata": {},
   "outputs": [
    {
     "data": {
      "text/plain": [
       "'c-2_m2'"
      ]
     },
     "execution_count": 31,
     "metadata": {},
     "output_type": "execute_result"
    }
   ],
   "source": [
    "name"
   ]
  },
  {
   "cell_type": "code",
   "execution_count": 25,
   "metadata": {},
   "outputs": [
    {
     "data": {
      "text/plain": [
       "'../../MothLearning/dataFolders/Output/Step5_FilesWith_TrueTrialAnd_ProboscisDetect_v2\\\\c-2_m2_RawDataForExplorationTime.csv'"
      ]
     },
     "execution_count": 25,
     "metadata": {},
     "output_type": "execute_result"
    }
   ],
   "source": [
    "m"
   ]
  },
  {
   "cell_type": "code",
   "execution_count": 32,
   "metadata": {},
   "outputs": [
    {
     "data": {
      "text/html": [
       "<div>\n",
       "<style scoped>\n",
       "    .dataframe tbody tr th:only-of-type {\n",
       "        vertical-align: middle;\n",
       "    }\n",
       "\n",
       "    .dataframe tbody tr th {\n",
       "        vertical-align: top;\n",
       "    }\n",
       "\n",
       "    .dataframe thead th {\n",
       "        text-align: right;\n",
       "    }\n",
       "</style>\n",
       "<table border=\"1\" class=\"dataframe\">\n",
       "  <thead>\n",
       "    <tr style=\"text-align: right;\">\n",
       "      <th></th>\n",
       "      <th>Unnamed: 0</th>\n",
       "      <th>MothIN</th>\n",
       "      <th>MothOut</th>\n",
       "      <th>ProboscisDetect</th>\n",
       "      <th>DiscoveryTime</th>\n",
       "    </tr>\n",
       "  </thead>\n",
       "  <tbody>\n",
       "    <tr>\n",
       "      <td>0</td>\n",
       "      <td>0</td>\n",
       "      <td>35708</td>\n",
       "      <td>35866</td>\n",
       "      <td>NaN</td>\n",
       "      <td>NaN</td>\n",
       "    </tr>\n",
       "    <tr>\n",
       "      <td>1</td>\n",
       "      <td>1</td>\n",
       "      <td>37375</td>\n",
       "      <td>40347</td>\n",
       "      <td>38499.0</td>\n",
       "      <td>1124.0</td>\n",
       "    </tr>\n",
       "    <tr>\n",
       "      <td>2</td>\n",
       "      <td>2</td>\n",
       "      <td>41071</td>\n",
       "      <td>42629</td>\n",
       "      <td>41748.0</td>\n",
       "      <td>677.0</td>\n",
       "    </tr>\n",
       "    <tr>\n",
       "      <td>3</td>\n",
       "      <td>3</td>\n",
       "      <td>47090</td>\n",
       "      <td>48850</td>\n",
       "      <td>47639.0</td>\n",
       "      <td>549.0</td>\n",
       "    </tr>\n",
       "    <tr>\n",
       "      <td>4</td>\n",
       "      <td>4</td>\n",
       "      <td>52625</td>\n",
       "      <td>52832</td>\n",
       "      <td>NaN</td>\n",
       "      <td>NaN</td>\n",
       "    </tr>\n",
       "  </tbody>\n",
       "</table>\n",
       "</div>"
      ],
      "text/plain": [
       "   Unnamed: 0  MothIN  MothOut  ProboscisDetect  DiscoveryTime\n",
       "0           0   35708    35866              NaN            NaN\n",
       "1           1   37375    40347          38499.0         1124.0\n",
       "2           2   41071    42629          41748.0          677.0\n",
       "3           3   47090    48850          47639.0          549.0\n",
       "4           4   52625    52832              NaN            NaN"
      ]
     },
     "execution_count": 32,
     "metadata": {},
     "output_type": "execute_result"
    }
   ],
   "source": [
    "frameInfo"
   ]
  },
  {
   "cell_type": "code",
   "execution_count": null,
   "metadata": {},
   "outputs": [],
   "source": []
  }
 ],
 "metadata": {
  "kernelspec": {
   "display_name": "Python 3",
   "language": "python",
   "name": "python3"
  },
  "language_info": {
   "codemirror_mode": {
    "name": "ipython",
    "version": 3
   },
   "file_extension": ".py",
   "mimetype": "text/x-python",
   "name": "python",
   "nbconvert_exporter": "python",
   "pygments_lexer": "ipython3",
   "version": "3.6.5"
  }
 },
 "nbformat": 4,
 "nbformat_minor": 2
}
