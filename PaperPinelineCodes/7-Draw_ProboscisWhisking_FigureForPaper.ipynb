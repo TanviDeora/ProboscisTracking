{
 "cells": [
  {
   "cell_type": "code",
   "execution_count": 1,
   "metadata": {},
   "outputs": [],
   "source": [
    "import pandas as pd\n",
    "import glob, os\n",
    "import numpy as np\n",
    "\n",
    "from scipy import signal\n",
    "import matplotlib.pyplot as plt\n",
    "import matplotlib as mpl"
   ]
  },
  {
   "cell_type": "code",
   "execution_count": 2,
   "metadata": {},
   "outputs": [],
   "source": [
    "import matplotlib.pyplot as plt\n",
    "import matplotlib.gridspec as gridspec\n",
    "from matplotlib import style\n",
    "style.use('default')\n",
    "%matplotlib inline"
   ]
  },
  {
   "cell_type": "code",
   "execution_count": 3,
   "metadata": {},
   "outputs": [],
   "source": [
    "mpl.rcParams['axes.linewidth'] = 0.5 #set the value globally\n",
    "mpl.rcParams['xtick.major.width'] = 0.5\n",
    "mpl.rcParams['ytick.major.width'] = 0.5\n",
    "mpl.rcParams['axes.titlesize'] = 10\n",
    "mpl.rcParams['axes.labelsize'] = 8\n",
    "\n",
    "mpl.rc('font',**{'family':'sans-serif','serif':['Arial']})\n",
    "mpl.rcParams['pdf.fonttype'] = 42"
   ]
  },
  {
   "cell_type": "code",
   "execution_count": 4,
   "metadata": {},
   "outputs": [],
   "source": [
    "circ_parameters_path = glob.glob('../dataFolders/PaperPipelineOutput/CircleParameters/' + '*.csv')\n",
    "circ_parameters = pd.read_csv(circ_parameters_path[0])\n",
    "full_name = circ_parameters.name.str.split('_', expand = True)\n",
    "circ_parameters['mothID'] = full_name[0] + '_' + full_name[1]"
   ]
  },
  {
   "cell_type": "markdown",
   "metadata": {},
   "source": [
    "## draw Fig3 in its entirity"
   ]
  },
  {
   "cell_type": "code",
   "execution_count": null,
   "metadata": {},
   "outputs": [],
   "source": [
    "def CorloredTrajectory(ax, x_gauss, y_gauss, circ_r, color_vector, colormap):\n",
    "    \n",
    "    plt.style.use('default')\n",
    "    ax = ax\n",
    "    ax.set_facecolor('black')\n",
    "\n",
    "    c1 = plt.Circle((0, 0), circ_r, facecolor='linen', alpha = 0.7, \n",
    "                    edgecolor='none', zorder = -3)\n",
    "    ax.add_artist(c1)\n",
    "\n",
    "    ax.scatter(x_gauss, y_gauss, s=0.5,\n",
    "                c = color_vector, \n",
    "                cmap = colormap, \n",
    "               zorder = 1)\n",
    "    ax.set_xlim(-circ_r*2.5, circ_r*2.5)\n",
    "    ax.set_ylim(-circ_r*2.5, circ_r*2.5)\n",
    "    ax.set_aspect('equal', adjustable = 'datalim')\n",
    "    ax.tick_params(axis = 'both',\n",
    "                which = 'both',\n",
    "                bottom = False,\n",
    "                left = False,\n",
    "                labelbottom = False,\n",
    "                  labelleft = False)\n",
    "    \n",
    "#     cbar = plt.colorbar()\n",
    "#     return(fig, cbar)"
   ]
  },
  {
   "cell_type": "code",
   "execution_count": null,
   "metadata": {},
   "outputs": [],
   "source": [
    "\n",
    "shapes = ['c-1', 'c-2','c-3', 'c-10']\n",
    "w = 7 # full width \n",
    "h = 7 # square-ish figure\n",
    "\n",
    "# gridspec inside gridspec\n",
    "f = plt.figure(figsize = (w,h))\n",
    "\n",
    "gs0 = plt.GridSpec(4, 4, figure=f, hspace = 0.03, wspace=0.03)\n",
    "\n",
    "ax00 = f.add_subplot(gs0[0,0])\n",
    "ax10 = f.add_subplot(gs0[1,0])\n",
    "ax20 = f.add_subplot(gs0[2,0])\n",
    "ax30 = f.add_subplot(gs0[3,0])\n",
    "\n",
    "ax01 = f.add_subplot(gs0[0,1])\n",
    "ax11 = f.add_subplot(gs0[1,1])\n",
    "ax21 = f.add_subplot(gs0[2,1])\n",
    "ax31 = f.add_subplot(gs0[3,1])\n",
    "\n",
    "ax02 = f.add_subplot(gs0[0,2])\n",
    "ax12 = f.add_subplot(gs0[1,2], sharex = ax02, sharey = ax02)\n",
    "ax22 = f.add_subplot(gs0[2,2], sharex = ax02, sharey = ax02)\n",
    "ax32 = f.add_subplot(gs0[3,2], sharex = ax02, sharey = ax02)\n",
    "\n",
    "ax03 = f.add_subplot(gs0[0,3])\n",
    "ax13 = f.add_subplot(gs0[1,3], sharex = ax03, sharey = ax03)\n",
    "ax23 = f.add_subplot(gs0[2,3], sharex = ax03, sharey = ax03)\n",
    "ax33 = f.add_subplot(gs0[3,3], sharex = ax03, sharey = ax03)"
   ]
  },
  {
   "cell_type": "code",
   "execution_count": null,
   "metadata": {},
   "outputs": [],
   "source": [
    "from mpl_toolkits.axes_grid1.inset_locator import inset_axes"
   ]
  },
  {
   "cell_type": "code",
   "execution_count": null,
   "metadata": {},
   "outputs": [],
   "source": [
    "time_axes = [ax00, ax10, ax20, ax30]\n",
    "angle_axes = [ax01, ax11, ax21, ax31]\n",
    "\n",
    "x_strt = 0.1\n",
    "y_strt = 0.1\n",
    "ratio = 0.8\n",
    "x_elong = 0.2\n",
    "\n",
    "r_first0 = ax02.inset_axes([x_strt, y_strt, ratio+x_elong, ratio])\n",
    "r_first1 = ax12.inset_axes([x_strt, y_strt, ratio+x_elong, ratio], sharex = r_first0, sharey = r_first0)\n",
    "r_first2 = ax22.inset_axes([x_strt, y_strt, ratio+x_elong, ratio], sharex = r_first0, sharey = r_first0)\n",
    "r_first3 = ax32.inset_axes([x_strt, y_strt, ratio+x_elong, ratio], sharex = r_first0, sharey = r_first0)\n",
    "radial_sweep_first = [r_first0, r_first1, r_first2, r_first3]\n",
    "\n",
    "r_later0 = ax03.inset_axes([x_strt, y_strt, ratio+x_elong, ratio], sharex = r_first0, sharey = r_first0)\n",
    "r_later1 = ax13.inset_axes([x_strt, y_strt, ratio+x_elong, ratio], sharex = r_first0, sharey = r_first0)\n",
    "r_later2 = ax23.inset_axes([x_strt, y_strt, ratio+x_elong, ratio], sharex = r_first0, sharey = r_first0)\n",
    "r_later3 = ax33.inset_axes([x_strt, y_strt, ratio+x_elong, ratio], sharex = r_first0, sharey = r_first0)\n",
    "radial_sweep_later = [r_later0, r_later1, r_later2, r_later3]"
   ]
  },
  {
   "cell_type": "markdown",
   "metadata": {},
   "source": [
    "### draw first three columns - colored trajectories"
   ]
  },
  {
   "cell_type": "code",
   "execution_count": null,
   "metadata": {},
   "outputs": [],
   "source": [
    "direc = r\"../dataFolders/PaperPipelineOutput/RadiusAndAngle_v2/FirstVisit/\"\n",
    "datalist = glob.glob(direc + '*.csv')\n",
    "\n",
    "names_first = ['c-1_m17', 'c-2_m23', 'c-3_m10', 'c-10_m11']\n",
    "\n",
    "ii = 0\n",
    "for n in names_first:\n",
    "    \n",
    "    data = [f for f in datalist if n in f][0]\n",
    "    df = pd.read_csv(data)\n",
    "\n",
    "    circ_r = circ_parameters.loc[circ_parameters.mothID == n, 'circ_radii'].values\n",
    "\n",
    "    x = df.loc[:, 'x_centered'].values\n",
    "    y = df.loc[:, 'y_centered'].values\n",
    "    r = df.loc[:,'radial_distance_normalized']\n",
    "    angle = df.loc[:,'angle'].values\n",
    "    time = np.arange(len(x))*1/100\n",
    "\n",
    "    CorloredTrajectory(time_axes[ii], x, y, circ_r, time, plt.cm.hot)\n",
    "    CorloredTrajectory(angle_axes[ii], x, y, circ_r, angle, plt.cm.cool)\n",
    "        \n",
    "    radial_sweep_first[ii].plot(time, r, color = 'k', linewidth = 1)\n",
    "\n",
    "    ii+=1"
   ]
  },
  {
   "cell_type": "markdown",
   "metadata": {},
   "source": [
    "### draw the last column - Later Visits"
   ]
  },
  {
   "cell_type": "code",
   "execution_count": null,
   "metadata": {},
   "outputs": [],
   "source": [
    "direc = r\"../dataFolders/PaperPipelineOutput/RadiusAndAngle_v2/LaterVisit/\"\n",
    "datalist = glob.glob(direc + '*.csv')\n",
    "\n",
    "names_last = ['c-1_m14', 'c-2_m12', 'c-3_m10', 'c-10_m11']\n",
    "\n",
    "ii = 0\n",
    "for n in names_last:\n",
    "    \n",
    "    data = [f for f in datalist if n in f][0]\n",
    "    df = pd.read_csv(data)\n",
    "\n",
    "    r = df.loc[:,'radial_distance_normalized']\n",
    "    time = np.arange(len(r))*1/100\n",
    "    radial_sweep_later[ii].plot(time, r, color = 'k', linewidth = 1)\n",
    "    ii+=1"
   ]
  },
  {
   "cell_type": "code",
   "execution_count": null,
   "metadata": {},
   "outputs": [],
   "source": [
    "# remove the outer spines for the last two columns\n",
    "for r in radial_sweep_first + radial_sweep_later:\n",
    "    r.set_yticks([0,2])\n",
    "    r.tick_params(direction = 'out', axis='both')\n",
    "    r.spines['top'].set_visible(False)\n",
    "    r.spines['right'].set_visible(False)\n",
    "    r.spines['left'].set_smart_bounds(True)\n",
    "    r.spines['bottom'].set_smart_bounds(True)\n",
    "    r.set_ylim(0,2)\n",
    "    \n",
    "# remove the redundant tick labels from the subplots\n",
    "for r in radial_sweep_first[:-1] + radial_sweep_later[:-1]:\n",
    "    r.tick_params(labelbottom = False)\n",
    "\n",
    "for r in radial_sweep_later:\n",
    "    r.tick_params(labelleft = False)\n",
    "    \n",
    "#remove the outside plot for sweeps plot    \n",
    "for r in [ax02, ax12, ax22, ax32] + [ax03, ax13, ax23, ax33]:\n",
    "    r.spines['top'].set_visible(False)\n",
    "    r.spines['bottom'].set_visible(False)\n",
    "    r.spines['left'].set_visible(False)\n",
    "    r.spines['right'].set_visible(False)\n",
    "    r.tick_params(axis = 'both',\n",
    "                which = 'both',\n",
    "                bottom = False,\n",
    "                left = False,\n",
    "                labelbottom = False,\n",
    "                  labelleft = False)\n",
    "\n",
    "r_first3.set_ylabel('Radial Distance')\n",
    "r_first3.set_xlabel('Time')\n",
    "# ax22.text(0.1, 1.25, 'Radial Distance',\n",
    "#         horizontalalignment='left',\n",
    "#         verticalalignment='center',\n",
    "#         rotation='vertical',\n",
    "#         transform=ax22.transAxes,\n",
    "#          fontsize = 14)\n",
    "\n",
    "# ax33.text(-0.3, 0, 'Time (second)',\n",
    "#         horizontalalignment='left',\n",
    "#         verticalalignment='top',\n",
    "#         rotation='horizontal',\n",
    "#         transform=ax33.transAxes,\n",
    "#          fontsize = 14)"
   ]
  },
  {
   "cell_type": "code",
   "execution_count": null,
   "metadata": {},
   "outputs": [],
   "source": [
    "f"
   ]
  },
  {
   "cell_type": "code",
   "execution_count": null,
   "metadata": {},
   "outputs": [],
   "source": [
    "f.savefig('../dataFolders/PaperPipelineOutput/Figures/v2/Figure3.pdf')"
   ]
  },
  {
   "cell_type": "markdown",
   "metadata": {},
   "source": [
    "## create separate plots for subplots"
   ]
  },
  {
   "cell_type": "code",
   "execution_count": 5,
   "metadata": {},
   "outputs": [],
   "source": [
    "from mpl_toolkits.axes_grid1.inset_locator import inset_axes"
   ]
  },
  {
   "cell_type": "code",
   "execution_count": 43,
   "metadata": {},
   "outputs": [
    {
     "data": {
      "image/png": "[encoded data removed]",
      "text/plain": [
       "<Figure size 175x175 with 1 Axes>"
      ]
     },
     "metadata": {},
     "output_type": "display_data"
    },
    {
     "data": {
      "image/png": "[encoded data removed]",
      "text/plain": [
       "<Figure size 175x175 with 1 Axes>"
      ]
     },
     "metadata": {},
     "output_type": "display_data"
    },
    {
     "data": {
      "image/png": "[encoded data removed]",
      "text/plain": [
       "<Figure size 350x175 with 1 Axes>"
      ]
     },
     "metadata": {},
     "output_type": "display_data"
    },
    {
     "data": {
      "image/png": "[encoded data removed]",
      "text/plain": [
       "<Figure size 350x175 with 1 Axes>"
      ]
     },
     "metadata": {},
     "output_type": "display_data"
    }
   ],
   "source": [
    "shapes = ['c-1', 'c-2','c-3', 'c-10']\n",
    "w = 7/4 # full width \n",
    "h = w # square-ish figure\n",
    "\n",
    "\n",
    "f1, ax1 = plt.subplots(1,1,figsize = (w,h))\n",
    "f2, ax2 = plt.subplots(1,1,figsize = (w,h))\n",
    "f3, ax3 = plt.subplots(1,1,figsize = (w*2,h))\n",
    "f4, ax4 = plt.subplots(1,1, figsize = (w*2,h))\n",
    "\n",
    "# # Create inset of width 30% and height 40% of the parent axes' bounding box\n",
    "# # at the lower right corner (loc=4)\n",
    "# axin1 = inset_axes(ax1, width=\"10%\", height=\"30%\", loc=4)\n",
    "# axin2 = inset_axes(ax2, width=\"10%\", height=\"30%\", loc=4)\n",
    "# axin3 = inset_axes(ax3, width=\"10%\", height=\"30%\", loc=4)\n",
    "\n",
    "# for axin in [axin1, axin2, axin3]:\n",
    "#     axin.tick_params(labelleft=False, labelbottom=False)"
   ]
  },
  {
   "cell_type": "code",
   "execution_count": 7,
   "metadata": {},
   "outputs": [],
   "source": [
    "def CorloredTrajectory(ax, x_gauss, y_gauss, circ_r, color_vector, colormap):\n",
    "    \n",
    "#     f, ax = plt.subplots(1,1,figsize = (w,h))\n",
    "    \n",
    "    plt.style.use('default')\n",
    "    ax.set_facecolor('black')\n",
    "    \n",
    "#     axin = inset_axes(ax, \n",
    "#                        width=\"5%\", \n",
    "#                        height=\"30%\", \n",
    "#                        loc=4)\n",
    "\n",
    "    c1 = plt.Circle((0, 0), circ_r, facecolor='linen', alpha = 0.7, \n",
    "                    edgecolor='none', zorder = -3)\n",
    "    ax.add_artist(c1)\n",
    "\n",
    "    im = ax.scatter(x_gauss, y_gauss, s=0.5,\n",
    "                c = color_vector, \n",
    "                cmap = colormap, \n",
    "               zorder = 1)\n",
    "    ax.set_xlim(-circ_r*2, circ_r*2)\n",
    "    ax.set_ylim(-circ_r*2, circ_r*2)\n",
    "    ax.set_aspect('equal', adjustable = 'datalim')\n",
    "    ax.tick_params(axis = 'both',\n",
    "                which = 'both',\n",
    "                bottom = False,\n",
    "                left = False,\n",
    "                labelbottom = False,\n",
    "                  labelleft = False)\n",
    "    \n",
    "#     cbar = plt.colorbar(im, axin)\n",
    "#     axin.tick_params(labelsize=6)\n",
    "#                       labelcolor='white')\n",
    "#     return(cbar)"
   ]
  },
  {
   "cell_type": "code",
   "execution_count": 8,
   "metadata": {},
   "outputs": [],
   "source": [
    "# draw all 3 plots for first visit"
   ]
  },
  {
   "cell_type": "code",
   "execution_count": 9,
   "metadata": {},
   "outputs": [],
   "source": [
    "first = ['c-1_m13', 'c-2_m20','c-3_m10', 'c-10_m11']\n",
    "last = ['c-1_m14', 'c-2_m23', 'c-3_m9', 'c-10_m11']"
   ]
  },
  {
   "cell_type": "code",
   "execution_count": 10,
   "metadata": {},
   "outputs": [],
   "source": [
    "output = r\"..\\dataFolders\\PaperPipelineOutput\\Figures\\v2\\Paper/\""
   ]
  },
  {
   "cell_type": "code",
   "execution_count": 11,
   "metadata": {},
   "outputs": [
    {
     "name": "stdout",
     "output_type": "stream",
     "text": [
      "first_ c-1_m13\n",
      "first_ c-2_m20\n",
      "first_ c-3_m10\n",
      "first_ c-10_m11\n",
      "last_ c-1_m14\n",
      "last_ c-2_m23\n",
      "last_ c-3_m9\n",
      "last_ c-10_m11\n"
     ]
    }
   ],
   "source": [
    "direc1 = r\"../dataFolders/PaperPipelineOutput/RadiusAndAngle_v2/FirstVisit/\"\n",
    "datalist1 = glob.glob(direc1 + '*.csv')\n",
    "direc2 = r\"../dataFolders/PaperPipelineOutput/RadiusAndAngle_v2/LastVisit/\"\n",
    "datalist2 = glob.glob(direc2 + '*.csv')\n",
    "\n",
    "v = ['first_', 'last_']\n",
    "jj = 0\n",
    "for names, datalist in zip([first, last], [datalist1, datalist2]):\n",
    "    \n",
    "    visit = v[jj]\n",
    "    for n in names:\n",
    "        print(visit, n)\n",
    "        data = [f for f in datalist if n in f][0]\n",
    "        df = pd.read_csv(data)\n",
    "\n",
    "        circ_r = circ_parameters.loc[circ_parameters.mothID == n, 'circ_radii'].values\n",
    "\n",
    "        x = df.loc[:, 'x_centered'].values\n",
    "        y = df.loc[:, 'y_centered'].values\n",
    "        r = df.loc[:,'radial_distance_normalized']\n",
    "        angle = df.loc[:,'angle'].values\n",
    "        time = np.arange(len(x))*1/100\n",
    "        time1 = time/np.max(time)\n",
    "\n",
    "        CorloredTrajectory(ax1, x, y, circ_r, time1, plt.cm.hot)\n",
    "#         cb1.set_ticks([0,1])\n",
    "        f1.savefig(r\"../dataFolders/PaperPipelineOutput/Figures/v2/Paper/\" + visit + n + '_time_v1.pdf')\n",
    "        ax1.clear()\n",
    "#         cb1.remove()\n",
    "    \n",
    "        CorloredTrajectory(ax2, x, y, circ_r, angle, plt.cm.cool)\n",
    "#         cb2.set_ticks([0, 45, 90])\n",
    "        f2.savefig(r\"../dataFolders/PaperPipelineOutput/Figures/v2/Paper/\" + visit + n + '_angle_v1.pdf')\n",
    "        ax2.clear()\n",
    "#         cb2.remove()\n",
    "        \n",
    "#         ax1.clear()\n",
    "#         ax2.clear()\n",
    "    jj+=1"
   ]
  },
  {
   "cell_type": "code",
   "execution_count": 23,
   "metadata": {},
   "outputs": [
    {
     "data": {
      "text/plain": [
       "array([0.90625   , 0.53125   , 0.33203125])"
      ]
     },
     "execution_count": 23,
     "metadata": {},
     "output_type": "execute_result"
    }
   ],
   "source": [
    "brown = np.asarray([232, 136, 85])/256\n",
    "green = np.asarray([123, 195, 104])/256\n",
    "colors = [brown, green]\n",
    "colors[0]\n",
    "\n",
    "# plt.plot(np.linspace(0,10), color = colors[1])"
   ]
  },
  {
   "cell_type": "code",
   "execution_count": 44,
   "metadata": {},
   "outputs": [],
   "source": [
    "shape = ['c-1_', 'c-2_', 'c-3_', 'c-10_']\n",
    "brown = np.asarray([232, 136, 85])/256\n",
    "green = np.asarray([123, 195, 104])/256\n",
    "colors = [brown, green]\n",
    "\n",
    "for f in shapes:\n",
    "    \n",
    "        n_first = [n for n in first if f in n][0]\n",
    "        path_first = [f for f in datalist1 if n_first in f][0]\n",
    "        df_first = pd.read_csv(path_first)\n",
    "        \n",
    "        n_last = [n for n in last if f in n][0]\n",
    "        path_last = [f for f in datalist2 if n_last in f][0]\n",
    "        df_last = pd.read_csv(path_last)\n",
    "        \n",
    "        for df, cc in zip([df_first, df_last], colors):\n",
    "            \n",
    "            r = df.loc[:,'radial_distance_normalized']\n",
    "            angle = df.loc[:,'angle'].values\n",
    "            time = np.arange(len(r))*1/100\n",
    "            \n",
    "            ax3.plot(time, r, color = cc, linewidth = 1)\n",
    "            ax3.set_xlim([0, 14.5])\n",
    "            ax3.set_ylim([0, 2])\n",
    "\n",
    "            ax4.scatter(time, r, s= 0.5,\n",
    "                    c = angle, \n",
    "                    cmap = plt.cm.cool)\n",
    "            ax4.set_xlim([0, 14.5])\n",
    "            ax4.set_ylim([0, 2])\n",
    "\n",
    "        f3.savefig(r\"../dataFolders/PaperPipelineOutput/Figures/v2/Paper/\"+ f + '_sweep_v1.pdf')\n",
    "        ax3.clear()\n",
    "        \n",
    "        f4.savefig(r\"../dataFolders/PaperPipelineOutput/Figures/v2/Paper/\" + f + '_AnglecoloredSweep_v1.pdf')\n",
    "        ax4.clear()"
   ]
  }
 ],
 "metadata": {
  "kernelspec": {
   "display_name": "Python 3",
   "language": "python",
   "name": "python3"
  },
  "language_info": {
   "codemirror_mode": {
    "name": "ipython",
    "version": 3
   },
   "file_extension": ".py",
   "mimetype": "text/x-python",
   "name": "python",
   "nbconvert_exporter": "python",
   "pygments_lexer": "ipython3",
   "version": "3.6.5"
  }
 },
 "nbformat": 4,
 "nbformat_minor": 2
}
