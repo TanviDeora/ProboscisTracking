{
 "cells": [
  {
   "cell_type": "code",
   "execution_count": 1,
   "metadata": {},
   "outputs": [],
   "source": [
    "import numpy as np\n",
    "import pandas as pd\n",
    "import glob\n",
    "import os\n",
    "import matplotlib.pyplot as plt\n",
    "from scipy import signal\n",
    "import sys"
   ]
  },
  {
   "cell_type": "code",
   "execution_count": 2,
   "metadata": {},
   "outputs": [],
   "source": [
    "visitnum = ['FirstVisit/', 'LaterVisit/', 'LastVisit/']"
   ]
  },
  {
   "cell_type": "code",
   "execution_count": 13,
   "metadata": {},
   "outputs": [],
   "source": [
    "for visit in visitnum[-1:]:\n",
    "    direc = os.path.join(r\"../dataFolders/PaperPipelineOutput/FilteredTracks_v2/\", visit)\n",
    "\n",
    "    videoGuide = pd.read_csv(glob.glob(direc + \"AllVideoNames.csv\")[0])\n",
    "\n",
    "    trackslist = glob.glob(direc + 'c*.csv')"
   ]
  },
  {
   "cell_type": "code",
   "execution_count": 4,
   "metadata": {},
   "outputs": [],
   "source": [
    "newpath = os.path.join(r\"../dataFolders/PaperPipelineOutput/RadiusAndAngle_v2/\", visit)"
   ]
  },
  {
   "cell_type": "code",
   "execution_count": 5,
   "metadata": {},
   "outputs": [],
   "source": [
    "circ_parameters_path = glob.glob('../dataFolders/PaperPipelineOutput/CircleParameters/' + '*.csv')\n",
    "circ_parameters = pd.read_csv(circ_parameters_path[0])"
   ]
  },
  {
   "cell_type": "markdown",
   "metadata": {},
   "source": [
    "## get angle and magnitude"
   ]
  },
  {
   "cell_type": "code",
   "execution_count": 6,
   "metadata": {},
   "outputs": [],
   "source": [
    "def Unitvector(x_gauss, y_gauss):\n",
    "    from sklearn import preprocessing\n",
    "    \n",
    "    # get the slope of the tangent\n",
    "    trajectory = np.asarray([x_gauss, y_gauss])\n",
    "    m = np.gradient(trajectory, axis = 1)\n",
    "    m_atx = m[1]/m[0]\n",
    "    \n",
    "    # get the tangent vector at x = x0 + 1\n",
    "    tangent_x = x_gauss+1\n",
    "    tangent_y = m_atx + y_gauss\n",
    "    \n",
    "    # get the unit tangent vector\n",
    "    u_x = []\n",
    "    u_y = []\n",
    "\n",
    "    for x,y,x0,y0 in zip(tangent_x, tangent_y, x_gauss, y_gauss):\n",
    "        if np.any(np.isnan([x, y])) or np.any(np.isinf([x, y])):\n",
    "            unit_x = np.nan\n",
    "            unit_y = np.nan\n",
    "        else:\n",
    "            vector = np.asarray([x-x0, y-y0]).reshape(1,-1)\n",
    "            [unit_x, unit_y] = preprocessing.normalize(vector, norm = 'l2')[0]\n",
    "        u_x.append(unit_x)\n",
    "        u_y.append(unit_y)\n",
    "    u_x = np.asarray(u_x)\n",
    "    u_y = np.asarray(u_y)\n",
    "    return(u_x, u_y)\n",
    "\n",
    "def getAngle(loc, tangent):\n",
    "    cross = np.cross(tangent, loc)\n",
    "    dot = np.dot(tangent, loc)\n",
    "    angle = np.arctan2(cross, dot)*180/np.pi\n",
    "    return(angle)\n",
    "\n",
    "def wrapAngle(angle):\n",
    "    angle = np.absolute(angle)\n",
    "    for i,a in enumerate(angle):\n",
    "        if a > 90:\n",
    "            a = 180 - a\n",
    "            angle[i] = a\n",
    "    return(angle)"
   ]
  },
  {
   "cell_type": "code",
   "execution_count": 14,
   "metadata": {},
   "outputs": [],
   "source": [
    "for data in trackslist:\n",
    "#     data = trackslist[0]\n",
    "    moth = os.path.basename(data)[:-4]\n",
    "    \n",
    "    segments = moth.split(\"_\")\n",
    "    moth = segments[0] + '_' + segments[1]\n",
    "    \n",
    "    selected = videoGuide.loc[videoGuide.AutomatatedTracking == 'TRUE', 'names'].values\n",
    "    \n",
    "    if moth not in selected:\n",
    "        continue\n",
    "    \n",
    "    file = pd.read_csv(data)\n",
    "    x = file.x. values\n",
    "    y = file.y.values\n",
    "    r = file.r.values\n",
    "    \n",
    "    name = [n for n in circ_parameters.name if n + '_' in data][0]\n",
    "\n",
    "    circ_x = circ_parameters.loc[circ_parameters.name == name, 'circ_x'].values\n",
    "    circ_y = circ_parameters.loc[circ_parameters.name == name, 'circ_y'].values\n",
    "    circ_radii = circ_parameters.loc[circ_parameters.name == name, 'circ_radii'].values\n",
    "    \n",
    "    x = x - circ_x\n",
    "    y = y - circ_y\n",
    "    \n",
    "    # save all usable variables as series\n",
    "\n",
    "    df1 = pd.Series(data = x, name = 'x_centered')\n",
    "    df2 = pd.Series(data = y, name = 'y_centered')\n",
    "    df3 = pd.Series(data = r, name = 'radial_distance_normalized')\n",
    "\n",
    "\n",
    "    #calculate the unit tangent vectors - savitzky-golay vector\n",
    "    u_x, u_y = Unitvector(x, y)\n",
    "\n",
    "    angle = []\n",
    "    for x0, y0, x, y in zip(x, y, u_x, u_y):\n",
    "        loc = [x0, y0]\n",
    "        tangent = [x, y]\n",
    "        a = getAngle(loc, tangent)\n",
    "        angle.append(a)\n",
    "\n",
    "    angle = wrapAngle(angle)\n",
    "\n",
    "    df4 = pd.Series(data = angle, name = 'angle')\n",
    "\n",
    "    new_file = pd.concat([df1, df2, df3, df4], axis = 1)\n",
    "    new_file.to_csv(newpath + moth + '_RadiusAndAngle.csv', index_label = False)"
   ]
  },
  {
   "cell_type": "code",
   "execution_count": null,
   "metadata": {},
   "outputs": [],
   "source": []
  }
 ],
 "metadata": {
  "kernelspec": {
   "display_name": "Python 3",
   "language": "python",
   "name": "python3"
  },
  "language_info": {
   "codemirror_mode": {
    "name": "ipython",
    "version": 3
   },
   "file_extension": ".py",
   "mimetype": "text/x-python",
   "name": "python",
   "nbconvert_exporter": "python",
   "pygments_lexer": "ipython3",
   "version": "3.6.5"
  }
 },
 "nbformat": 4,
 "nbformat_minor": 2
}
