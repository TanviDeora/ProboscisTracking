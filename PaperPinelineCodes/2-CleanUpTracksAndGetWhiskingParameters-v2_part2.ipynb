{
 "cells": [
  {
   "cell_type": "code",
   "execution_count": 1,
   "metadata": {},
   "outputs": [],
   "source": [
    "import numpy as np\n",
    "import pandas as pd\n",
    "import glob\n",
    "import os\n",
    "import matplotlib.pyplot as plt\n",
    "from scipy import signal\n",
    "import sys"
   ]
  },
  {
   "cell_type": "code",
   "execution_count": 3,
   "metadata": {},
   "outputs": [],
   "source": [
    "visitnum = ['FirstVisit/', 'Later7thVisit/','LaterVisit/', 'LastVisit/']"
   ]
  },
  {
   "cell_type": "code",
   "execution_count": 4,
   "metadata": {},
   "outputs": [],
   "source": [
    "for visit in visitnum[0:1]:\n",
    "    direc = os.path.join(r\"../dataFolders/PaperPipelineOutput/FilteredTracks_v2/ManualCleanup/CleanedUp/\",\n",
    "                         visit)\n",
    "\n",
    "#     videoGuide = pd.read_csv(glob.glob(direc + \"AllVideoNames.csv\")[0])\n",
    "\n",
    "    trackslist = glob.glob(direc + 'c*.csv')\n",
    "    \n",
    "#     Manual_direc = os.path.join(r\"../dataFolders/PaperPipelineOutput/FilteredTracks_v2/ManualCleanup/CleanedUp/\",\n",
    "#                                visit)\n",
    "#     cleaneduplist = glob.glob(Manual_direc + 'c*.csv')"
   ]
  },
  {
   "cell_type": "code",
   "execution_count": 5,
   "metadata": {},
   "outputs": [],
   "source": [
    "newpath = os.path.join(r\"../dataFolders/PaperPipelineOutput/RadiusAndAngle_v2/CleanedUp\", visit)\n",
    "if not os.path.exists(newpath):\n",
    "    os.mkdir(newpath)"
   ]
  },
  {
   "cell_type": "code",
   "execution_count": 6,
   "metadata": {},
   "outputs": [],
   "source": [
    "circ_parameters_path = glob.glob('../dataFolders/PaperPipelineOutput/CircleParameters/' + '*.csv')\n",
    "circ_parameters = pd.read_csv(circ_parameters_path[0])"
   ]
  },
  {
   "cell_type": "markdown",
   "metadata": {},
   "source": [
    "## get angle and magnitude"
   ]
  },
  {
   "cell_type": "code",
   "execution_count": 7,
   "metadata": {},
   "outputs": [],
   "source": [
    "def Unitvector(x_gauss, y_gauss):\n",
    "    from sklearn import preprocessing\n",
    "    \n",
    "    # get the slope of the tangent\n",
    "    trajectory = np.asarray([x_gauss, y_gauss])\n",
    "    m = np.gradient(trajectory, axis = 1)\n",
    "    m_atx = m[1]/m[0]\n",
    "    \n",
    "    # get the tangent vector at x = x0 + 1\n",
    "    tangent_x = x_gauss+1\n",
    "    tangent_y = m_atx + y_gauss\n",
    "    \n",
    "    # get the unit tangent vector\n",
    "    u_x = []\n",
    "    u_y = []\n",
    "\n",
    "    for x,y,x0,y0 in zip(tangent_x, tangent_y, x_gauss, y_gauss):\n",
    "        if np.any(np.isnan([x, y])) or np.any(np.isinf([x, y])):\n",
    "            unit_x = np.nan\n",
    "            unit_y = np.nan\n",
    "        else:\n",
    "            vector = np.asarray([x-x0, y-y0]).reshape(1,-1)\n",
    "            [unit_x, unit_y] = preprocessing.normalize(vector, norm = 'l2')[0]\n",
    "        u_x.append(unit_x)\n",
    "        u_y.append(unit_y)\n",
    "    u_x = np.asarray(u_x)\n",
    "    u_y = np.asarray(u_y)\n",
    "    return(u_x, u_y)\n",
    "\n",
    "def getAngle(loc, tangent):\n",
    "    cross = np.cross(tangent, loc)\n",
    "    dot = np.dot(tangent, loc)\n",
    "    angle = np.arctan2(cross, dot)*180/np.pi\n",
    "    return(angle)\n",
    "\n",
    "def wrapAngle(angle):\n",
    "    angle = np.absolute(angle)\n",
    "    for i,a in enumerate(angle):\n",
    "        if a > 90:\n",
    "            a = 180 - a\n",
    "            angle[i] = a\n",
    "    return(angle)"
   ]
  },
  {
   "cell_type": "code",
   "execution_count": 15,
   "metadata": {},
   "outputs": [
    {
     "data": {
      "text/html": [
       "<div>\n",
       "<style scoped>\n",
       "    .dataframe tbody tr th:only-of-type {\n",
       "        vertical-align: middle;\n",
       "    }\n",
       "\n",
       "    .dataframe tbody tr th {\n",
       "        vertical-align: top;\n",
       "    }\n",
       "\n",
       "    .dataframe thead th {\n",
       "        text-align: right;\n",
       "    }\n",
       "</style>\n",
       "<table border=\"1\" class=\"dataframe\">\n",
       "  <thead>\n",
       "    <tr style=\"text-align: right;\">\n",
       "      <th></th>\n",
       "      <th>x</th>\n",
       "      <th>y</th>\n",
       "    </tr>\n",
       "  </thead>\n",
       "  <tbody>\n",
       "    <tr>\n",
       "      <td>9915</td>\n",
       "      <td>329.140028</td>\n",
       "      <td>303.905828</td>\n",
       "    </tr>\n",
       "    <tr>\n",
       "      <td>9916</td>\n",
       "      <td>327.291653</td>\n",
       "      <td>287.410417</td>\n",
       "    </tr>\n",
       "    <tr>\n",
       "      <td>9917</td>\n",
       "      <td>316.201400</td>\n",
       "      <td>293.080714</td>\n",
       "    </tr>\n",
       "    <tr>\n",
       "      <td>9918</td>\n",
       "      <td>307.382181</td>\n",
       "      <td>299.138978</td>\n",
       "    </tr>\n",
       "    <tr>\n",
       "      <td>9919</td>\n",
       "      <td>310.788768</td>\n",
       "      <td>313.268657</td>\n",
       "    </tr>\n",
       "  </tbody>\n",
       "</table>\n",
       "</div>"
      ],
      "text/plain": [
       "               x           y\n",
       "9915  329.140028  303.905828\n",
       "9916  327.291653  287.410417\n",
       "9917  316.201400  293.080714\n",
       "9918  307.382181  299.138978\n",
       "9919  310.788768  313.268657"
      ]
     },
     "execution_count": 15,
     "metadata": {},
     "output_type": "execute_result"
    }
   ],
   "source": [
    "file = pd.read_csv(trackslist[0])\n",
    "test = file.dropna()\n",
    "test.columns = ['x','y']\n",
    "test.head()"
   ]
  },
  {
   "cell_type": "code",
   "execution_count": 16,
   "metadata": {},
   "outputs": [
    {
     "ename": "AttributeError",
     "evalue": "'DataFrame' object has no attribute 'r'",
     "output_type": "error",
     "traceback": [
      "\u001b[1;31m---------------------------------------------------------------------------\u001b[0m",
      "\u001b[1;31mAttributeError\u001b[0m                            Traceback (most recent call last)",
      "\u001b[1;32m<ipython-input-16-4c906f23d0c3>\u001b[0m in \u001b[0;36m<module>\u001b[1;34m\u001b[0m\n\u001b[0;32m     21\u001b[0m     \u001b[0mx\u001b[0m \u001b[1;33m=\u001b[0m \u001b[0mfile\u001b[0m\u001b[1;33m.\u001b[0m\u001b[0mx\u001b[0m\u001b[1;33m.\u001b[0m\u001b[0mvalues\u001b[0m\u001b[1;33m\u001b[0m\u001b[0m\n\u001b[0;32m     22\u001b[0m     \u001b[0my\u001b[0m \u001b[1;33m=\u001b[0m \u001b[0mfile\u001b[0m\u001b[1;33m.\u001b[0m\u001b[0my\u001b[0m\u001b[1;33m.\u001b[0m\u001b[0mvalues\u001b[0m\u001b[1;33m\u001b[0m\u001b[0m\n\u001b[1;32m---> 23\u001b[1;33m     \u001b[0mr\u001b[0m \u001b[1;33m=\u001b[0m \u001b[0mfile\u001b[0m\u001b[1;33m.\u001b[0m\u001b[0mr\u001b[0m\u001b[1;33m.\u001b[0m\u001b[0mvalues\u001b[0m\u001b[1;33m\u001b[0m\u001b[0m\n\u001b[0m\u001b[0;32m     24\u001b[0m \u001b[1;33m\u001b[0m\u001b[0m\n\u001b[0;32m     25\u001b[0m     \u001b[0mname\u001b[0m \u001b[1;33m=\u001b[0m \u001b[1;33m[\u001b[0m\u001b[0mn\u001b[0m \u001b[1;32mfor\u001b[0m \u001b[0mn\u001b[0m \u001b[1;32min\u001b[0m \u001b[0mcirc_parameters\u001b[0m\u001b[1;33m.\u001b[0m\u001b[0mname\u001b[0m \u001b[1;32mif\u001b[0m \u001b[0mn\u001b[0m \u001b[1;33m+\u001b[0m \u001b[1;34m'_'\u001b[0m \u001b[1;32min\u001b[0m \u001b[0mdata\u001b[0m\u001b[1;33m]\u001b[0m\u001b[1;33m[\u001b[0m\u001b[1;36m0\u001b[0m\u001b[1;33m]\u001b[0m\u001b[1;33m\u001b[0m\u001b[0m\n",
      "\u001b[1;32m~\\AppData\\Local\\Continuum\\anaconda3\\lib\\site-packages\\pandas\\core\\generic.py\u001b[0m in \u001b[0;36m__getattr__\u001b[1;34m(self, name)\u001b[0m\n\u001b[0;32m   5177\u001b[0m             \u001b[1;32mif\u001b[0m \u001b[0mself\u001b[0m\u001b[1;33m.\u001b[0m\u001b[0m_info_axis\u001b[0m\u001b[1;33m.\u001b[0m\u001b[0m_can_hold_identifiers_and_holds_name\u001b[0m\u001b[1;33m(\u001b[0m\u001b[0mname\u001b[0m\u001b[1;33m)\u001b[0m\u001b[1;33m:\u001b[0m\u001b[1;33m\u001b[0m\u001b[0m\n\u001b[0;32m   5178\u001b[0m                 \u001b[1;32mreturn\u001b[0m \u001b[0mself\u001b[0m\u001b[1;33m[\u001b[0m\u001b[0mname\u001b[0m\u001b[1;33m]\u001b[0m\u001b[1;33m\u001b[0m\u001b[0m\n\u001b[1;32m-> 5179\u001b[1;33m             \u001b[1;32mreturn\u001b[0m \u001b[0mobject\u001b[0m\u001b[1;33m.\u001b[0m\u001b[0m__getattribute__\u001b[0m\u001b[1;33m(\u001b[0m\u001b[0mself\u001b[0m\u001b[1;33m,\u001b[0m \u001b[0mname\u001b[0m\u001b[1;33m)\u001b[0m\u001b[1;33m\u001b[0m\u001b[0m\n\u001b[0m\u001b[0;32m   5180\u001b[0m \u001b[1;33m\u001b[0m\u001b[0m\n\u001b[0;32m   5181\u001b[0m     \u001b[1;32mdef\u001b[0m \u001b[0m__setattr__\u001b[0m\u001b[1;33m(\u001b[0m\u001b[0mself\u001b[0m\u001b[1;33m,\u001b[0m \u001b[0mname\u001b[0m\u001b[1;33m,\u001b[0m \u001b[0mvalue\u001b[0m\u001b[1;33m)\u001b[0m\u001b[1;33m:\u001b[0m\u001b[1;33m\u001b[0m\u001b[0m\n",
      "\u001b[1;31mAttributeError\u001b[0m: 'DataFrame' object has no attribute 'r'"
     ]
    }
   ],
   "source": [
    "for data in trackslist:\n",
    "#     data = trackslist[0]\n",
    "    moth = os.path.basename(data)[:-4]\n",
    "    \n",
    "    segments = moth.split(\"_\")\n",
    "    moth = segments[0] + '_' + segments[1]\n",
    "    \n",
    "#     selected = videoGuide.loc[videoGuide.AutomatatedTracking == 'TRUE', 'names'].values\n",
    "    \n",
    "#     if moth not in selected:\n",
    "#         continue\n",
    "#     if not [test for test in cleaneduplist if moth in test]:\n",
    "#         continue\n",
    "            \n",
    "    file = pd.read_csv(data)\n",
    "    # for manually edited tracks - add the next few lines\n",
    "    \n",
    "    file = file.dropna()\n",
    "    file.columns = ['x', 'y']\n",
    "    \n",
    "    x = file.x.values\n",
    "    y = file.y.values\n",
    "    r = file.r.values\n",
    "    \n",
    "    name = [n for n in circ_parameters.name if n + '_' in data][0]\n",
    "\n",
    "    circ_x = circ_parameters.loc[circ_parameters.name == name, 'circ_x'].values\n",
    "    circ_y = circ_parameters.loc[circ_parameters.name == name, 'circ_y'].values\n",
    "    circ_radii = circ_parameters.loc[circ_parameters.name == name, 'circ_radii'].values\n",
    "    \n",
    "    x = x - circ_x\n",
    "    y = y - circ_y\n",
    "    \n",
    "    # save all usable variables as series\n",
    "\n",
    "    df1 = pd.Series(data = x, name = 'x_centered')\n",
    "    df2 = pd.Series(data = y, name = 'y_centered')\n",
    "    df3 = pd.Series(data = r, name = 'radial_distance_normalized')\n",
    "\n",
    "\n",
    "    #calculate the unit tangent vectors - savitzky-golay vector\n",
    "    u_x, u_y = Unitvector(x, y)\n",
    "\n",
    "    angle = []\n",
    "    for x0, y0, x, y in zip(x, y, u_x, u_y):\n",
    "        loc = [x0, y0]\n",
    "        tangent = [x, y]\n",
    "        a = getAngle(loc, tangent)\n",
    "        angle.append(a)\n",
    "\n",
    "    angle = wrapAngle(angle)\n",
    "\n",
    "    df4 = pd.Series(data = angle, name = 'angle')\n",
    "\n",
    "    new_file = pd.concat([df1, df2, df3, df4], axis = 1)\n",
    "    new_file.to_csv(newpath + moth + '_RadiusAndAngle.csv', index_label = False)"
   ]
  },
  {
   "cell_type": "code",
   "execution_count": null,
   "metadata": {},
   "outputs": [],
   "source": []
  }
 ],
 "metadata": {
  "kernelspec": {
   "display_name": "Python 3",
   "language": "python",
   "name": "python3"
  },
  "language_info": {
   "codemirror_mode": {
    "name": "ipython",
    "version": 3
   },
   "file_extension": ".py",
   "mimetype": "text/x-python",
   "name": "python",
   "nbconvert_exporter": "python",
   "pygments_lexer": "ipython3",
   "version": "3.6.5"
  }
 },
 "nbformat": 4,
 "nbformat_minor": 2
}
