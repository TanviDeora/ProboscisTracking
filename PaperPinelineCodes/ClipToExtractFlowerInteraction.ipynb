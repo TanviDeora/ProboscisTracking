{
 "cells": [
  {
   "cell_type": "code",
   "execution_count": 1,
   "metadata": {},
   "outputs": [],
   "source": [
    "import os\n",
    "import pandas as pd\n",
    "import glob\n",
    "import numpy as np\n",
    "import matplotlib.pyplot as plt"
   ]
  },
  {
   "cell_type": "code",
   "execution_count": null,
   "metadata": {},
   "outputs": [],
   "source": [
    "# define function to a window size N and output consequetive True\n",
    "\n",
    "#  run it along a test dataset and see what N works - try for different size across the 8 test cases we have"
   ]
  },
  {
   "cell_type": "code",
   "execution_count": 2,
   "metadata": {},
   "outputs": [],
   "source": [
    "# read the files that we have manual annotations for \n",
    "\n",
    "manuallist = glob.glob('../dataFolders/ManuallyAnnotatedVideos/' + '*.mp4')\n",
    "names = []\n",
    "for m in manuallist:\n",
    "    n = os.path.basename(m)\n",
    "    names.append(n)\n",
    "    \n",
    "uniquenames = [n for n in names if \"first\" in n]\n",
    "\n",
    "moths = []\n",
    "for bla in uniquenames:\n",
    "    n = bla.split('_')[0] + '_' + bla.split('_')[1]\n",
    "    moths.append(n)"
   ]
  },
  {
   "cell_type": "code",
   "execution_count": null,
   "metadata": {},
   "outputs": [],
   "source": [
    "# find the same files in the automated pipeline"
   ]
  },
  {
   "cell_type": "code",
   "execution_count": 148,
   "metadata": {},
   "outputs": [],
   "source": [
    "fileloc = '../dataFolders/PaperPipelineOutput/RawTracks/'\n",
    "\n",
    "files = glob.glob(fileloc + '*/*.csv')\n",
    "\n",
    "finallist = []\n",
    "for m in moths:\n",
    "    f = [f for f in files if m in f]\n",
    "    finallist.extend(f)    "
   ]
  },
  {
   "cell_type": "code",
   "execution_count": 4,
   "metadata": {},
   "outputs": [],
   "source": [
    "def find_consecutive(array, win_size):\n",
    "    l = []\n",
    "    count = 0\n",
    "    for index, item in enumerate(test):\n",
    "        if item:\n",
    "            count = count + 1\n",
    "        else:\n",
    "            count = 0\n",
    "#         print(index, count)\n",
    "        if count == win_size:\n",
    "            our_index = index - win_size + 1 \n",
    "            l.append(our_index)\n",
    "    return l    "
   ]
  },
  {
   "cell_type": "code",
   "execution_count": 46,
   "metadata": {},
   "outputs": [],
   "source": [
    "def window(size, sequence):\n",
    "    win = np.array([1]*size)\n",
    "    slider = segment * win\n",
    "    if sum(slider) == size:\n",
    "        return 1\n",
    "    else:\n",
    "        return 0"
   ]
  },
  {
   "cell_type": "code",
   "execution_count": 13,
   "metadata": {},
   "outputs": [
    {
     "data": {
      "text/plain": [
       "2"
      ]
     },
     "execution_count": 13,
     "metadata": {},
     "output_type": "execute_result"
    }
   ],
   "source": [
    "sum(np.array([1, 1, 0]) * np.array([1, 1, 1]) )"
   ]
  },
  {
   "cell_type": "code",
   "execution_count": 91,
   "metadata": {},
   "outputs": [
    {
     "data": {
      "text/plain": [
       "[False,\n",
       " False,\n",
       " True,\n",
       " True,\n",
       " True,\n",
       " True,\n",
       " False,\n",
       " True,\n",
       " True,\n",
       " True,\n",
       " True,\n",
       " False,\n",
       " False]"
      ]
     },
     "execution_count": 91,
     "metadata": {},
     "output_type": "execute_result"
    }
   ],
   "source": [
    "# try it on a made up array\n",
    "\n",
    "n = 3\n",
    "test = np.zeros(11)\n",
    "test = [False] * 11\n",
    "test[2:5] = [True, True, True, True]\n",
    "test[7:10] = [True, True, True, True]\n",
    "test\n"
   ]
  },
  {
   "cell_type": "code",
   "execution_count": 92,
   "metadata": {},
   "outputs": [
    {
     "data": {
      "text/plain": [
       "[2, 7]"
      ]
     },
     "execution_count": 92,
     "metadata": {},
     "output_type": "execute_result"
    }
   ],
   "source": [
    "win_size = n\n",
    "array = test\n",
    "find_consecutive(test,n)"
   ]
  },
  {
   "cell_type": "code",
   "execution_count": 109,
   "metadata": {},
   "outputs": [],
   "source": [
    "# def slidingWindow(x, n):\n",
    "#     l = []\n",
    "#     for index,_ in enumerate(x):\n",
    "#         print(index)\n",
    "#         if index > len(x)-n:\n",
    "#             break\n",
    "#         segment = x[index:index + n]\n",
    "#         print(segment)\n",
    "#         print(n)\n",
    "#         ans = []\n",
    "#         ans = window(n, np.array(segment))\n",
    "#         print(ans)\n",
    "#         l.append(ans)\n",
    "#     return(l)"
   ]
  },
  {
   "cell_type": "code",
   "execution_count": 111,
   "metadata": {},
   "outputs": [
    {
     "name": "stdout",
     "output_type": "stream",
     "text": [
      "0\n",
      "[False, False, True]\n",
      "3\n",
      "0\n",
      "1\n",
      "[False, True, True]\n",
      "3\n",
      "0\n",
      "2\n",
      "[True, True, True]\n",
      "3\n",
      "0\n",
      "3\n",
      "[True, True, True]\n",
      "3\n",
      "0\n",
      "4\n",
      "[True, True, False]\n",
      "3\n",
      "0\n",
      "5\n",
      "[True, False, True]\n",
      "3\n",
      "0\n",
      "6\n",
      "[False, True, True]\n",
      "3\n",
      "0\n",
      "7\n",
      "[True, True, True]\n",
      "3\n",
      "0\n",
      "8\n",
      "[True, True, True]\n",
      "3\n",
      "0\n",
      "9\n",
      "[True, True, False]\n",
      "3\n",
      "0\n",
      "10\n",
      "[True, False, False]\n",
      "3\n",
      "0\n",
      "11\n"
     ]
    },
    {
     "data": {
      "text/plain": [
       "[0, 0, 0, 0, 0, 0, 0, 0, 0, 0, 0]"
      ]
     },
     "execution_count": 111,
     "metadata": {},
     "output_type": "execute_result"
    }
   ],
   "source": [
    "slidingWindow(test, 3)"
   ]
  },
  {
   "cell_type": "markdown",
   "metadata": {},
   "source": [
    "# start reading x y coordinates to find chuncks of true values "
   ]
  },
  {
   "cell_type": "code",
   "execution_count": 152,
   "metadata": {},
   "outputs": [
    {
     "name": "stdout",
     "output_type": "stream",
     "text": [
      "c-10_m11_visit_0.csv\n"
     ]
    }
   ],
   "source": [
    "# invisble boundary = 5\n",
    "# any x y coordinates less than 5 to be replaced by NaN\n",
    "\n",
    "# f = [ff for ff in f if \"c-1_m11\" in ff]\n",
    "# f\n",
    "f = finallist[0]\n",
    "readfile = pd.read_csv(f)\n",
    "print(os.path.basename(f))"
   ]
  },
  {
   "cell_type": "code",
   "execution_count": 64,
   "metadata": {},
   "outputs": [],
   "source": [
    "x = readfile.loc[:,'x'].copy()\n",
    "y = readfile.loc[:, 'y'].copy()"
   ]
  },
  {
   "cell_type": "code",
   "execution_count": 65,
   "metadata": {},
   "outputs": [
    {
     "name": "stdout",
     "output_type": "stream",
     "text": [
      "655\n",
      "658\n"
     ]
    }
   ],
   "source": [
    "print(x[x<=5].count())\n",
    "print(y[y<=5].count())"
   ]
  },
  {
   "cell_type": "code",
   "execution_count": 123,
   "metadata": {},
   "outputs": [
    {
     "data": {
      "text/plain": [
       "(260, 280)"
      ]
     },
     "execution_count": 123,
     "metadata": {},
     "output_type": "execute_result"
    },
    {
     "data": {
      "image/png": "[encoded data removed]",
      "text/plain": [
       "<Figure size 432x288 with 1 Axes>"
      ]
     },
     "metadata": {
      "needs_background": "light"
     },
     "output_type": "display_data"
    }
   ],
   "source": [
    "x[x<=5] = np.nan\n",
    "y[y<=5] = np.nan\n",
    "\n",
    "plt.plot(x, y)\n",
    "plt.xlim(300,310)\n",
    "plt.ylim(260,280)"
   ]
  },
  {
   "cell_type": "code",
   "execution_count": 67,
   "metadata": {},
   "outputs": [
    {
     "data": {
      "text/plain": [
       "array([ True,  True,  True, ...,  True,  True,  True])"
      ]
     },
     "execution_count": 67,
     "metadata": {},
     "output_type": "execute_result"
    }
   ],
   "source": [
    "bla = np.isfinite(x).values\n",
    "bla"
   ]
  },
  {
   "cell_type": "code",
   "execution_count": 76,
   "metadata": {},
   "outputs": [
    {
     "data": {
      "text/plain": [
       "array([ True,  True,  True, ...,  True,  True,  True])"
      ]
     },
     "execution_count": 76,
     "metadata": {},
     "output_type": "execute_result"
    }
   ],
   "source": [
    "convert_bla = np.zeros_like(bla)\n",
    "# convert_bla[bla == False] = 0\n",
    "convert_bla[bla == True] = 1\n",
    "convert_bla"
   ]
  },
  {
   "cell_type": "code",
   "execution_count": 82,
   "metadata": {},
   "outputs": [
    {
     "data": {
      "text/plain": [
       "[]"
      ]
     },
     "execution_count": 82,
     "metadata": {},
     "output_type": "execute_result"
    }
   ],
   "source": [
    "x_true = find_consecutive(bla, 6)\n",
    "x_true\n",
    "# y_true = find_consecutive(y, win_size=4)"
   ]
  },
  {
   "cell_type": "code",
   "execution_count": 116,
   "metadata": {},
   "outputs": [],
   "source": [
    "n = 8\n",
    "l = []\n",
    "for index,_ in enumerate(convert_bla):\n",
    "#     print(index)\n",
    "    if index > len(convert_bla)-n:\n",
    "        break\n",
    "    segment = convert_bla[index:index + n]\n",
    "#     print(segment)\n",
    "    ans = window(n, np.array(segment))\n",
    "    l.append(ans)"
   ]
  },
  {
   "cell_type": "code",
   "execution_count": 117,
   "metadata": {},
   "outputs": [
    {
     "data": {
      "text/plain": [
       "[<matplotlib.lines.Line2D at 0x19e7c87fbe0>]"
      ]
     },
     "execution_count": 117,
     "metadata": {},
     "output_type": "execute_result"
    },
    {
     "data": {
      "image/png": "[encoded data removed]",
      "text/plain": [
       "<Figure size 432x288 with 1 Axes>"
      ]
     },
     "metadata": {
      "needs_background": "light"
     },
     "output_type": "display_data"
    }
   ],
   "source": [
    "plt.plot(l)"
   ]
  },
  {
   "cell_type": "code",
   "execution_count": null,
   "metadata": {},
   "outputs": [],
   "source": []
  }
 ],
 "metadata": {
  "kernelspec": {
   "display_name": "Python 3",
   "language": "python",
   "name": "python3"
  },
  "language_info": {
   "codemirror_mode": {
    "name": "ipython",
    "version": 3
   },
   "file_extension": ".py",
   "mimetype": "text/x-python",
   "name": "python",
   "nbconvert_exporter": "python",
   "pygments_lexer": "ipython3",
   "version": "3.6.5"
  }
 },
 "nbformat": 4,
 "nbformat_minor": 2
}
